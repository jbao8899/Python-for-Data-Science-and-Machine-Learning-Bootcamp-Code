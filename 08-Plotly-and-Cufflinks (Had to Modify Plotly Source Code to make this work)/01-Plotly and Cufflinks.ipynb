{
 "cells": [
  {
   "cell_type": "markdown",
   "metadata": {},
   "source": [
    "___\n",
    "\n",
    "<a href='http://www.pieriandata.com'> <img src='../Pierian_Data_Logo.png' /></a>\n",
    "___\n",
    "# Plotly and Cufflinks"
   ]
  },
  {
   "cell_type": "markdown",
   "metadata": {},
   "source": [
    "Plotly is a library that allows you to create interactive plots that you can use in dashboards or websites (you can save them as html files or static images).\n",
    "\n",
    "## Installation\n",
    "\n",
    "In order for this all to work, you'll need to install plotly and cufflinks to call plots directly off of a pandas dataframe. These libraries are not currently available through **conda** but are available through **pip**. Install the libraries at your command line/terminal using:\n",
    "\n",
    "    pip install plotly\n",
    "    pip install cufflinks\n",
    "\n",
    "    install chart-studio as well?? still doesn't work\n",
    "\n",
    "** NOTE: Make sure you only have one installation of Python on your computer when you do this, otherwise the installation may not work. **\n",
    "\n",
    "## Imports and Set-up"
   ]
  },
  {
   "cell_type": "code",
   "execution_count": 1,
   "metadata": {
    "collapsed": true
   },
   "outputs": [],
   "source": [
    "import pandas as pd\n",
    "import numpy as np\n",
    "%matplotlib inline"
   ]
  },
  {
   "cell_type": "code",
   "execution_count": 2,
   "metadata": {
    "collapsed": false
   },
   "outputs": [
    {
     "name": "stdout",
     "output_type": "stream",
     "text": [
      "5.17.0\n"
     ]
    }
   ],
   "source": [
    "# Must do changes here:\n",
    "# https://stackoverflow.com/questions/76459499/attributeerror-module-pandas-has-no-attribute-np-cufflinks-spread-graph\n",
    "# to library source code\n",
    "\n",
    "from plotly import __version__\n",
    "from plotly.offline import download_plotlyjs, init_notebook_mode, plot, iplot\n",
    "\n",
    "print(__version__) # requires version >= 1.9.0"
   ]
  },
  {
   "cell_type": "code",
   "execution_count": 3,
   "metadata": {
    "collapsed": true
   },
   "outputs": [],
   "source": [
    "import cufflinks as cf"
   ]
  },
  {
   "cell_type": "code",
   "execution_count": 4,
   "metadata": {
    "collapsed": false
   },
   "outputs": [
    {
     "data": {
      "text/html": [
       "        <script type=\"text/javascript\">\n",
       "        window.PlotlyConfig = {MathJaxConfig: 'local'};\n",
       "        if (window.MathJax && window.MathJax.Hub && window.MathJax.Hub.Config) {window.MathJax.Hub.Config({SVG: {font: \"STIX-Web\"}});}\n",
       "        if (typeof require !== 'undefined') {\n",
       "        require.undef(\"plotly\");\n",
       "        requirejs.config({\n",
       "            paths: {\n",
       "                'plotly': ['https://cdn.plot.ly/plotly-2.26.0.min']\n",
       "            }\n",
       "        });\n",
       "        require(['plotly'], function(Plotly) {\n",
       "            window._Plotly = Plotly;\n",
       "        });\n",
       "        }\n",
       "        </script>\n",
       "        "
      ]
     },
     "metadata": {},
     "output_type": "display_data"
    }
   ],
   "source": [
    "# For Notebooks\n",
    "init_notebook_mode(connected=True)"
   ]
  },
  {
   "cell_type": "code",
   "execution_count": 5,
   "metadata": {
    "collapsed": false
   },
   "outputs": [
    {
     "data": {
      "text/html": [
       "        <script type=\"text/javascript\">\n",
       "        window.PlotlyConfig = {MathJaxConfig: 'local'};\n",
       "        if (window.MathJax && window.MathJax.Hub && window.MathJax.Hub.Config) {window.MathJax.Hub.Config({SVG: {font: \"STIX-Web\"}});}\n",
       "        if (typeof require !== 'undefined') {\n",
       "        require.undef(\"plotly\");\n",
       "        requirejs.config({\n",
       "            paths: {\n",
       "                'plotly': ['https://cdn.plot.ly/plotly-2.26.0.min']\n",
       "            }\n",
       "        });\n",
       "        require(['plotly'], function(Plotly) {\n",
       "            window._Plotly = Plotly;\n",
       "        });\n",
       "        }\n",
       "        </script>\n",
       "        "
      ]
     },
     "metadata": {},
     "output_type": "display_data"
    }
   ],
   "source": [
    "# For offline use\n",
    "cf.go_offline()"
   ]
  },
  {
   "cell_type": "markdown",
   "metadata": {},
   "source": [
    "### Fake Data"
   ]
  },
  {
   "cell_type": "code",
   "execution_count": 6,
   "metadata": {
    "collapsed": false
   },
   "outputs": [],
   "source": [
    "df = pd.DataFrame(np.random.randn(100,4),columns='A B C D'.split())"
   ]
  },
  {
   "cell_type": "code",
   "execution_count": 7,
   "metadata": {
    "collapsed": false
   },
   "outputs": [
    {
     "data": {
      "text/html": [
       "<div>\n",
       "<style scoped>\n",
       "    .dataframe tbody tr th:only-of-type {\n",
       "        vertical-align: middle;\n",
       "    }\n",
       "\n",
       "    .dataframe tbody tr th {\n",
       "        vertical-align: top;\n",
       "    }\n",
       "\n",
       "    .dataframe thead th {\n",
       "        text-align: right;\n",
       "    }\n",
       "</style>\n",
       "<table border=\"1\" class=\"dataframe\">\n",
       "  <thead>\n",
       "    <tr style=\"text-align: right;\">\n",
       "      <th></th>\n",
       "      <th>A</th>\n",
       "      <th>B</th>\n",
       "      <th>C</th>\n",
       "      <th>D</th>\n",
       "    </tr>\n",
       "  </thead>\n",
       "  <tbody>\n",
       "    <tr>\n",
       "      <th>0</th>\n",
       "      <td>1.130846</td>\n",
       "      <td>0.236528</td>\n",
       "      <td>-0.213112</td>\n",
       "      <td>-0.926342</td>\n",
       "    </tr>\n",
       "    <tr>\n",
       "      <th>1</th>\n",
       "      <td>0.290909</td>\n",
       "      <td>0.978625</td>\n",
       "      <td>-1.529561</td>\n",
       "      <td>1.008961</td>\n",
       "    </tr>\n",
       "    <tr>\n",
       "      <th>2</th>\n",
       "      <td>0.544342</td>\n",
       "      <td>-0.056641</td>\n",
       "      <td>-0.043823</td>\n",
       "      <td>-1.412629</td>\n",
       "    </tr>\n",
       "    <tr>\n",
       "      <th>3</th>\n",
       "      <td>1.735861</td>\n",
       "      <td>-0.434961</td>\n",
       "      <td>1.712003</td>\n",
       "      <td>-0.312818</td>\n",
       "    </tr>\n",
       "    <tr>\n",
       "      <th>4</th>\n",
       "      <td>1.785867</td>\n",
       "      <td>-1.174375</td>\n",
       "      <td>-0.505287</td>\n",
       "      <td>0.575981</td>\n",
       "    </tr>\n",
       "  </tbody>\n",
       "</table>\n",
       "</div>"
      ],
      "text/plain": [
       "          A         B         C         D\n",
       "0  1.130846  0.236528 -0.213112 -0.926342\n",
       "1  0.290909  0.978625 -1.529561  1.008961\n",
       "2  0.544342 -0.056641 -0.043823 -1.412629\n",
       "3  1.735861 -0.434961  1.712003 -0.312818\n",
       "4  1.785867 -1.174375 -0.505287  0.575981"
      ]
     },
     "execution_count": 7,
     "metadata": {},
     "output_type": "execute_result"
    }
   ],
   "source": [
    "df.head()"
   ]
  },
  {
   "cell_type": "code",
   "execution_count": 8,
   "metadata": {
    "collapsed": true
   },
   "outputs": [],
   "source": [
    "df2 = pd.DataFrame({'Category':['A','B','C'],'Values':[32,43,50]})"
   ]
  },
  {
   "cell_type": "code",
   "execution_count": 9,
   "metadata": {
    "collapsed": false
   },
   "outputs": [
    {
     "data": {
      "text/html": [
       "<div>\n",
       "<style scoped>\n",
       "    .dataframe tbody tr th:only-of-type {\n",
       "        vertical-align: middle;\n",
       "    }\n",
       "\n",
       "    .dataframe tbody tr th {\n",
       "        vertical-align: top;\n",
       "    }\n",
       "\n",
       "    .dataframe thead th {\n",
       "        text-align: right;\n",
       "    }\n",
       "</style>\n",
       "<table border=\"1\" class=\"dataframe\">\n",
       "  <thead>\n",
       "    <tr style=\"text-align: right;\">\n",
       "      <th></th>\n",
       "      <th>Category</th>\n",
       "      <th>Values</th>\n",
       "    </tr>\n",
       "  </thead>\n",
       "  <tbody>\n",
       "    <tr>\n",
       "      <th>0</th>\n",
       "      <td>A</td>\n",
       "      <td>32</td>\n",
       "    </tr>\n",
       "    <tr>\n",
       "      <th>1</th>\n",
       "      <td>B</td>\n",
       "      <td>43</td>\n",
       "    </tr>\n",
       "    <tr>\n",
       "      <th>2</th>\n",
       "      <td>C</td>\n",
       "      <td>50</td>\n",
       "    </tr>\n",
       "  </tbody>\n",
       "</table>\n",
       "</div>"
      ],
      "text/plain": [
       "  Category  Values\n",
       "0        A      32\n",
       "1        B      43\n",
       "2        C      50"
      ]
     },
     "execution_count": 9,
     "metadata": {},
     "output_type": "execute_result"
    }
   ],
   "source": [
    "df2.head()"
   ]
  },
  {
   "cell_type": "markdown",
   "metadata": {},
   "source": [
    "## Using Cufflinks and iplot()\n",
    "\n",
    "* scatter\n",
    "* bar\n",
    "* box\n",
    "* spread\n",
    "* ratio\n",
    "* heatmap\n",
    "* surface\n",
    "* histogram\n",
    "* bubble"
   ]
  },
  {
   "cell_type": "markdown",
   "metadata": {},
   "source": [
    "## Scatter"
   ]
  },
  {
   "cell_type": "code",
   "execution_count": 10,
   "metadata": {
    "collapsed": false
   },
   "outputs": [
    {
     "data": {
      "application/vnd.plotly.v1+json": {
       "config": {
        "linkText": "Export to plot.ly",
        "plotlyServerURL": "https://plot.ly",
        "showLink": true
       },
       "data": [
        {
         "line": {
          "color": "rgba(255, 153, 51, 1.0)",
          "dash": "solid",
          "shape": "linear",
          "width": 1.3
         },
         "marker": {
          "size": 10,
          "symbol": "circle"
         },
         "mode": "markers",
         "name": "B",
         "text": "",
         "type": "scatter",
         "x": [
          1.130845712492262,
          0.29090858090579896,
          0.5443418728942426,
          1.7358613670957141,
          1.7858674247097013,
          2.239975091911653,
          -0.7258104422253708,
          -1.0083890734141534,
          1.5671072793927034,
          0.44368330163022857,
          1.4279437217482005,
          -0.19542847134855418,
          0.6495783250837226,
          -1.8525564479053875,
          -1.8317013210206905,
          0.2688055302097464,
          0.2241950646506555,
          -1.8512490625481963,
          -1.1789628154054355,
          -0.08447607823617174,
          1.8018710662549284,
          1.8638550192237273,
          -1.457619281449165,
          1.5023701046244833,
          0.15875083642391546,
          -1.2825745413625762,
          -0.36700370220642653,
          2.009438965755136,
          -0.35082956816632654,
          -2.5264442806015586,
          0.4520506026011699,
          1.053349796415361,
          -1.337921393086797,
          -1.703217926693494,
          -0.5638501489270755,
          -0.5954567092321331,
          -1.1099136610575517,
          -0.19191541317466335,
          0.7134426170015831,
          0.32410150358419915,
          -0.8094846242122693,
          -0.435180360760021,
          -1.114638346861693,
          0.44571517085451096,
          0.30105291567425035,
          1.126243453943223,
          -0.9854677281986305,
          -1.0740181122904842,
          0.8642449490267092,
          -0.6725524001753558,
          0.12937375046529564,
          -0.17861160381311486,
          0.6961674848289248,
          1.316540903055389,
          -1.642167714865581,
          0.021768851197594506,
          1.7564636931586772,
          -0.15510375128640047,
          0.37343207162224173,
          0.7067302336508653,
          -0.485082071234198,
          1.0057499990835328,
          -0.2815905462716364,
          -1.0211374845105965,
          1.4231487770717495,
          -0.418150530680779,
          -0.7941733598799346,
          0.6000971931560366,
          -1.486031394891415,
          0.6780356295432848,
          -0.850647084609868,
          -0.7909191763481986,
          -0.23213141692519007,
          0.30254579507114543,
          -0.25774803703821814,
          -0.864806103269127,
          0.9779307982259109,
          1.4997270271887482,
          0.38576071910364457,
          -0.15343101110894364,
          -0.17807514552491768,
          0.16753974472337407,
          2.7810643074164694,
          -0.2545877505673127,
          -2.06568839120565,
          0.0793872328286146,
          0.9840975443541982,
          0.010028484286677585,
          1.3588599556571423,
          0.9033906035503909,
          1.7397538308092018,
          -1.6505904365544575,
          -0.9104665692355621,
          -0.5842429898924218,
          -0.6052634377101391,
          -1.4601558788592213,
          0.4803915127520965,
          1.5593320695837987,
          -1.4698367553340614,
          1.4330013471054899
         ],
         "y": [
          0.23652795715850095,
          0.9786252446269585,
          -0.056640727346602984,
          -0.4349614120408051,
          -1.1743745916427208,
          -1.7620572065461984,
          0.7325959124175713,
          0.1436936439226743,
          -0.27555908546868524,
          -0.6004006655887814,
          2.2159144648890776,
          0.08608978276712356,
          0.787950574108897,
          1.8106167453268054,
          2.4071514142948183,
          2.33367917977407,
          -0.17043217921907472,
          -0.559544769568131,
          -0.3178320644256901,
          2.509342474661557,
          1.6186307486022546,
          0.8786467053313886,
          -2.4577734110446294,
          -1.723113261937718,
          1.0630824675324746,
          1.0158760542547436,
          1.0189349600993107,
          -0.3817479819618662,
          0.41427726947199267,
          0.8214587697950845,
          1.0961179004626964,
          -0.02395423145642322,
          2.453520862724082,
          -0.7487812489224189,
          0.3484817423218347,
          1.338685675875985,
          0.609700505772461,
          0.23042070231077016,
          0.16547523004146747,
          -0.007048318221612886,
          0.04377525645156575,
          -1.2254831762534104,
          -1.2716014700390135,
          1.1854902788751958,
          1.0204780867900345,
          -0.2797897504487051,
          0.5751999998812791,
          1.6316023675903262,
          0.241498202612012,
          -1.2747224650227431,
          1.2306792456818112,
          0.04918728639549364,
          -0.6267357295715503,
          -1.0328247251819862,
          -0.21390591230657377,
          -2.1024897464833634,
          0.7228779583486531,
          0.5302717891134512,
          -1.5775394290688414,
          -0.415429850639412,
          0.5300885926311383,
          2.3249698282209206,
          -0.5302853090578974,
          -0.1607185484274797,
          -1.8503104351340782,
          0.10131805939089251,
          -0.7016834707334093,
          -0.3825560695099959,
          0.7376388884807465,
          -2.0494397850365798,
          -0.19660738375712236,
          -0.8254237463636193,
          1.7437396924983983,
          -1.5808309939799807,
          -1.0801497191966087,
          -1.004795523337831,
          0.19520188171432185,
          -2.1505906126573042,
          -1.1388250512228844,
          0.30377275412624555,
          0.9654030967031015,
          -0.6904492808008851,
          -1.2394975127933738,
          1.688538507633855,
          -0.36937543766446557,
          0.10375780520719564,
          -1.3632005282097133,
          0.6048151613707982,
          1.4876719169952275,
          0.40539115031188144,
          0.44834205032416385,
          1.2619773103140894,
          0.04662622163307223,
          1.4178646602998692,
          -0.34837797827909456,
          -0.5825818391151043,
          -0.6417193383973584,
          0.5770926164852495,
          -0.2713554315778967,
          0.9846044901362248
         ]
        }
       ],
       "layout": {
        "legend": {
         "bgcolor": "#F5F6F9",
         "font": {
          "color": "#4D5663"
         }
        },
        "paper_bgcolor": "#F5F6F9",
        "plot_bgcolor": "#F5F6F9",
        "template": {
         "data": {
          "bar": [
           {
            "error_x": {
             "color": "#2a3f5f"
            },
            "error_y": {
             "color": "#2a3f5f"
            },
            "marker": {
             "line": {
              "color": "#E5ECF6",
              "width": 0.5
             },
             "pattern": {
              "fillmode": "overlay",
              "size": 10,
              "solidity": 0.2
             }
            },
            "type": "bar"
           }
          ],
          "barpolar": [
           {
            "marker": {
             "line": {
              "color": "#E5ECF6",
              "width": 0.5
             },
             "pattern": {
              "fillmode": "overlay",
              "size": 10,
              "solidity": 0.2
             }
            },
            "type": "barpolar"
           }
          ],
          "carpet": [
           {
            "aaxis": {
             "endlinecolor": "#2a3f5f",
             "gridcolor": "white",
             "linecolor": "white",
             "minorgridcolor": "white",
             "startlinecolor": "#2a3f5f"
            },
            "baxis": {
             "endlinecolor": "#2a3f5f",
             "gridcolor": "white",
             "linecolor": "white",
             "minorgridcolor": "white",
             "startlinecolor": "#2a3f5f"
            },
            "type": "carpet"
           }
          ],
          "choropleth": [
           {
            "colorbar": {
             "outlinewidth": 0,
             "ticks": ""
            },
            "type": "choropleth"
           }
          ],
          "contour": [
           {
            "colorbar": {
             "outlinewidth": 0,
             "ticks": ""
            },
            "colorscale": [
             [
              0,
              "#0d0887"
             ],
             [
              0.1111111111111111,
              "#46039f"
             ],
             [
              0.2222222222222222,
              "#7201a8"
             ],
             [
              0.3333333333333333,
              "#9c179e"
             ],
             [
              0.4444444444444444,
              "#bd3786"
             ],
             [
              0.5555555555555556,
              "#d8576b"
             ],
             [
              0.6666666666666666,
              "#ed7953"
             ],
             [
              0.7777777777777778,
              "#fb9f3a"
             ],
             [
              0.8888888888888888,
              "#fdca26"
             ],
             [
              1,
              "#f0f921"
             ]
            ],
            "type": "contour"
           }
          ],
          "contourcarpet": [
           {
            "colorbar": {
             "outlinewidth": 0,
             "ticks": ""
            },
            "type": "contourcarpet"
           }
          ],
          "heatmap": [
           {
            "colorbar": {
             "outlinewidth": 0,
             "ticks": ""
            },
            "colorscale": [
             [
              0,
              "#0d0887"
             ],
             [
              0.1111111111111111,
              "#46039f"
             ],
             [
              0.2222222222222222,
              "#7201a8"
             ],
             [
              0.3333333333333333,
              "#9c179e"
             ],
             [
              0.4444444444444444,
              "#bd3786"
             ],
             [
              0.5555555555555556,
              "#d8576b"
             ],
             [
              0.6666666666666666,
              "#ed7953"
             ],
             [
              0.7777777777777778,
              "#fb9f3a"
             ],
             [
              0.8888888888888888,
              "#fdca26"
             ],
             [
              1,
              "#f0f921"
             ]
            ],
            "type": "heatmap"
           }
          ],
          "heatmapgl": [
           {
            "colorbar": {
             "outlinewidth": 0,
             "ticks": ""
            },
            "colorscale": [
             [
              0,
              "#0d0887"
             ],
             [
              0.1111111111111111,
              "#46039f"
             ],
             [
              0.2222222222222222,
              "#7201a8"
             ],
             [
              0.3333333333333333,
              "#9c179e"
             ],
             [
              0.4444444444444444,
              "#bd3786"
             ],
             [
              0.5555555555555556,
              "#d8576b"
             ],
             [
              0.6666666666666666,
              "#ed7953"
             ],
             [
              0.7777777777777778,
              "#fb9f3a"
             ],
             [
              0.8888888888888888,
              "#fdca26"
             ],
             [
              1,
              "#f0f921"
             ]
            ],
            "type": "heatmapgl"
           }
          ],
          "histogram": [
           {
            "marker": {
             "pattern": {
              "fillmode": "overlay",
              "size": 10,
              "solidity": 0.2
             }
            },
            "type": "histogram"
           }
          ],
          "histogram2d": [
           {
            "colorbar": {
             "outlinewidth": 0,
             "ticks": ""
            },
            "colorscale": [
             [
              0,
              "#0d0887"
             ],
             [
              0.1111111111111111,
              "#46039f"
             ],
             [
              0.2222222222222222,
              "#7201a8"
             ],
             [
              0.3333333333333333,
              "#9c179e"
             ],
             [
              0.4444444444444444,
              "#bd3786"
             ],
             [
              0.5555555555555556,
              "#d8576b"
             ],
             [
              0.6666666666666666,
              "#ed7953"
             ],
             [
              0.7777777777777778,
              "#fb9f3a"
             ],
             [
              0.8888888888888888,
              "#fdca26"
             ],
             [
              1,
              "#f0f921"
             ]
            ],
            "type": "histogram2d"
           }
          ],
          "histogram2dcontour": [
           {
            "colorbar": {
             "outlinewidth": 0,
             "ticks": ""
            },
            "colorscale": [
             [
              0,
              "#0d0887"
             ],
             [
              0.1111111111111111,
              "#46039f"
             ],
             [
              0.2222222222222222,
              "#7201a8"
             ],
             [
              0.3333333333333333,
              "#9c179e"
             ],
             [
              0.4444444444444444,
              "#bd3786"
             ],
             [
              0.5555555555555556,
              "#d8576b"
             ],
             [
              0.6666666666666666,
              "#ed7953"
             ],
             [
              0.7777777777777778,
              "#fb9f3a"
             ],
             [
              0.8888888888888888,
              "#fdca26"
             ],
             [
              1,
              "#f0f921"
             ]
            ],
            "type": "histogram2dcontour"
           }
          ],
          "mesh3d": [
           {
            "colorbar": {
             "outlinewidth": 0,
             "ticks": ""
            },
            "type": "mesh3d"
           }
          ],
          "parcoords": [
           {
            "line": {
             "colorbar": {
              "outlinewidth": 0,
              "ticks": ""
             }
            },
            "type": "parcoords"
           }
          ],
          "pie": [
           {
            "automargin": true,
            "type": "pie"
           }
          ],
          "scatter": [
           {
            "fillpattern": {
             "fillmode": "overlay",
             "size": 10,
             "solidity": 0.2
            },
            "type": "scatter"
           }
          ],
          "scatter3d": [
           {
            "line": {
             "colorbar": {
              "outlinewidth": 0,
              "ticks": ""
             }
            },
            "marker": {
             "colorbar": {
              "outlinewidth": 0,
              "ticks": ""
             }
            },
            "type": "scatter3d"
           }
          ],
          "scattercarpet": [
           {
            "marker": {
             "colorbar": {
              "outlinewidth": 0,
              "ticks": ""
             }
            },
            "type": "scattercarpet"
           }
          ],
          "scattergeo": [
           {
            "marker": {
             "colorbar": {
              "outlinewidth": 0,
              "ticks": ""
             }
            },
            "type": "scattergeo"
           }
          ],
          "scattergl": [
           {
            "marker": {
             "colorbar": {
              "outlinewidth": 0,
              "ticks": ""
             }
            },
            "type": "scattergl"
           }
          ],
          "scattermapbox": [
           {
            "marker": {
             "colorbar": {
              "outlinewidth": 0,
              "ticks": ""
             }
            },
            "type": "scattermapbox"
           }
          ],
          "scatterpolar": [
           {
            "marker": {
             "colorbar": {
              "outlinewidth": 0,
              "ticks": ""
             }
            },
            "type": "scatterpolar"
           }
          ],
          "scatterpolargl": [
           {
            "marker": {
             "colorbar": {
              "outlinewidth": 0,
              "ticks": ""
             }
            },
            "type": "scatterpolargl"
           }
          ],
          "scatterternary": [
           {
            "marker": {
             "colorbar": {
              "outlinewidth": 0,
              "ticks": ""
             }
            },
            "type": "scatterternary"
           }
          ],
          "surface": [
           {
            "colorbar": {
             "outlinewidth": 0,
             "ticks": ""
            },
            "colorscale": [
             [
              0,
              "#0d0887"
             ],
             [
              0.1111111111111111,
              "#46039f"
             ],
             [
              0.2222222222222222,
              "#7201a8"
             ],
             [
              0.3333333333333333,
              "#9c179e"
             ],
             [
              0.4444444444444444,
              "#bd3786"
             ],
             [
              0.5555555555555556,
              "#d8576b"
             ],
             [
              0.6666666666666666,
              "#ed7953"
             ],
             [
              0.7777777777777778,
              "#fb9f3a"
             ],
             [
              0.8888888888888888,
              "#fdca26"
             ],
             [
              1,
              "#f0f921"
             ]
            ],
            "type": "surface"
           }
          ],
          "table": [
           {
            "cells": {
             "fill": {
              "color": "#EBF0F8"
             },
             "line": {
              "color": "white"
             }
            },
            "header": {
             "fill": {
              "color": "#C8D4E3"
             },
             "line": {
              "color": "white"
             }
            },
            "type": "table"
           }
          ]
         },
         "layout": {
          "annotationdefaults": {
           "arrowcolor": "#2a3f5f",
           "arrowhead": 0,
           "arrowwidth": 1
          },
          "autotypenumbers": "strict",
          "coloraxis": {
           "colorbar": {
            "outlinewidth": 0,
            "ticks": ""
           }
          },
          "colorscale": {
           "diverging": [
            [
             0,
             "#8e0152"
            ],
            [
             0.1,
             "#c51b7d"
            ],
            [
             0.2,
             "#de77ae"
            ],
            [
             0.3,
             "#f1b6da"
            ],
            [
             0.4,
             "#fde0ef"
            ],
            [
             0.5,
             "#f7f7f7"
            ],
            [
             0.6,
             "#e6f5d0"
            ],
            [
             0.7,
             "#b8e186"
            ],
            [
             0.8,
             "#7fbc41"
            ],
            [
             0.9,
             "#4d9221"
            ],
            [
             1,
             "#276419"
            ]
           ],
           "sequential": [
            [
             0,
             "#0d0887"
            ],
            [
             0.1111111111111111,
             "#46039f"
            ],
            [
             0.2222222222222222,
             "#7201a8"
            ],
            [
             0.3333333333333333,
             "#9c179e"
            ],
            [
             0.4444444444444444,
             "#bd3786"
            ],
            [
             0.5555555555555556,
             "#d8576b"
            ],
            [
             0.6666666666666666,
             "#ed7953"
            ],
            [
             0.7777777777777778,
             "#fb9f3a"
            ],
            [
             0.8888888888888888,
             "#fdca26"
            ],
            [
             1,
             "#f0f921"
            ]
           ],
           "sequentialminus": [
            [
             0,
             "#0d0887"
            ],
            [
             0.1111111111111111,
             "#46039f"
            ],
            [
             0.2222222222222222,
             "#7201a8"
            ],
            [
             0.3333333333333333,
             "#9c179e"
            ],
            [
             0.4444444444444444,
             "#bd3786"
            ],
            [
             0.5555555555555556,
             "#d8576b"
            ],
            [
             0.6666666666666666,
             "#ed7953"
            ],
            [
             0.7777777777777778,
             "#fb9f3a"
            ],
            [
             0.8888888888888888,
             "#fdca26"
            ],
            [
             1,
             "#f0f921"
            ]
           ]
          },
          "colorway": [
           "#636efa",
           "#EF553B",
           "#00cc96",
           "#ab63fa",
           "#FFA15A",
           "#19d3f3",
           "#FF6692",
           "#B6E880",
           "#FF97FF",
           "#FECB52"
          ],
          "font": {
           "color": "#2a3f5f"
          },
          "geo": {
           "bgcolor": "white",
           "lakecolor": "white",
           "landcolor": "#E5ECF6",
           "showlakes": true,
           "showland": true,
           "subunitcolor": "white"
          },
          "hoverlabel": {
           "align": "left"
          },
          "hovermode": "closest",
          "mapbox": {
           "style": "light"
          },
          "paper_bgcolor": "white",
          "plot_bgcolor": "#E5ECF6",
          "polar": {
           "angularaxis": {
            "gridcolor": "white",
            "linecolor": "white",
            "ticks": ""
           },
           "bgcolor": "#E5ECF6",
           "radialaxis": {
            "gridcolor": "white",
            "linecolor": "white",
            "ticks": ""
           }
          },
          "scene": {
           "xaxis": {
            "backgroundcolor": "#E5ECF6",
            "gridcolor": "white",
            "gridwidth": 2,
            "linecolor": "white",
            "showbackground": true,
            "ticks": "",
            "zerolinecolor": "white"
           },
           "yaxis": {
            "backgroundcolor": "#E5ECF6",
            "gridcolor": "white",
            "gridwidth": 2,
            "linecolor": "white",
            "showbackground": true,
            "ticks": "",
            "zerolinecolor": "white"
           },
           "zaxis": {
            "backgroundcolor": "#E5ECF6",
            "gridcolor": "white",
            "gridwidth": 2,
            "linecolor": "white",
            "showbackground": true,
            "ticks": "",
            "zerolinecolor": "white"
           }
          },
          "shapedefaults": {
           "line": {
            "color": "#2a3f5f"
           }
          },
          "ternary": {
           "aaxis": {
            "gridcolor": "white",
            "linecolor": "white",
            "ticks": ""
           },
           "baxis": {
            "gridcolor": "white",
            "linecolor": "white",
            "ticks": ""
           },
           "bgcolor": "#E5ECF6",
           "caxis": {
            "gridcolor": "white",
            "linecolor": "white",
            "ticks": ""
           }
          },
          "title": {
           "x": 0.05
          },
          "xaxis": {
           "automargin": true,
           "gridcolor": "white",
           "linecolor": "white",
           "ticks": "",
           "title": {
            "standoff": 15
           },
           "zerolinecolor": "white",
           "zerolinewidth": 2
          },
          "yaxis": {
           "automargin": true,
           "gridcolor": "white",
           "linecolor": "white",
           "ticks": "",
           "title": {
            "standoff": 15
           },
           "zerolinecolor": "white",
           "zerolinewidth": 2
          }
         }
        },
        "title": {
         "font": {
          "color": "#4D5663"
         }
        },
        "xaxis": {
         "gridcolor": "#E1E5ED",
         "showgrid": true,
         "tickfont": {
          "color": "#4D5663"
         },
         "title": {
          "font": {
           "color": "#4D5663"
          },
          "text": ""
         },
         "zerolinecolor": "#E1E5ED"
        },
        "yaxis": {
         "gridcolor": "#E1E5ED",
         "showgrid": true,
         "tickfont": {
          "color": "#4D5663"
         },
         "title": {
          "font": {
           "color": "#4D5663"
          },
          "text": ""
         },
         "zerolinecolor": "#E1E5ED"
        }
       }
      },
      "text/html": [
       "<div>                            <div id=\"f5b7a8ac-a467-422d-bc8e-9bf31aef6ea9\" class=\"plotly-graph-div\" style=\"height:525px; width:100%;\"></div>            <script type=\"text/javascript\">                require([\"plotly\"], function(Plotly) {                    window.PLOTLYENV=window.PLOTLYENV || {};\n",
       "                    window.PLOTLYENV.BASE_URL='https://plot.ly';                                    if (document.getElementById(\"f5b7a8ac-a467-422d-bc8e-9bf31aef6ea9\")) {                    Plotly.newPlot(                        \"f5b7a8ac-a467-422d-bc8e-9bf31aef6ea9\",                        [{\"line\":{\"color\":\"rgba(255, 153, 51, 1.0)\",\"dash\":\"solid\",\"shape\":\"linear\",\"width\":1.3},\"marker\":{\"size\":10,\"symbol\":\"circle\"},\"mode\":\"markers\",\"name\":\"B\",\"text\":\"\",\"x\":[1.130845712492262,0.29090858090579896,0.5443418728942426,1.7358613670957141,1.7858674247097013,2.239975091911653,-0.7258104422253708,-1.0083890734141534,1.5671072793927034,0.44368330163022857,1.4279437217482005,-0.19542847134855418,0.6495783250837226,-1.8525564479053875,-1.8317013210206905,0.2688055302097464,0.2241950646506555,-1.8512490625481963,-1.1789628154054355,-0.08447607823617174,1.8018710662549284,1.8638550192237273,-1.457619281449165,1.5023701046244833,0.15875083642391546,-1.2825745413625762,-0.36700370220642653,2.009438965755136,-0.35082956816632654,-2.5264442806015586,0.4520506026011699,1.053349796415361,-1.337921393086797,-1.703217926693494,-0.5638501489270755,-0.5954567092321331,-1.1099136610575517,-0.19191541317466335,0.7134426170015831,0.32410150358419915,-0.8094846242122693,-0.435180360760021,-1.114638346861693,0.44571517085451096,0.30105291567425035,1.126243453943223,-0.9854677281986305,-1.0740181122904842,0.8642449490267092,-0.6725524001753558,0.12937375046529564,-0.17861160381311486,0.6961674848289248,1.316540903055389,-1.642167714865581,0.021768851197594506,1.7564636931586772,-0.15510375128640047,0.37343207162224173,0.7067302336508653,-0.485082071234198,1.0057499990835328,-0.2815905462716364,-1.0211374845105965,1.4231487770717495,-0.418150530680779,-0.7941733598799346,0.6000971931560366,-1.486031394891415,0.6780356295432848,-0.850647084609868,-0.7909191763481986,-0.23213141692519007,0.30254579507114543,-0.25774803703821814,-0.864806103269127,0.9779307982259109,1.4997270271887482,0.38576071910364457,-0.15343101110894364,-0.17807514552491768,0.16753974472337407,2.7810643074164694,-0.2545877505673127,-2.06568839120565,0.0793872328286146,0.9840975443541982,0.010028484286677585,1.3588599556571423,0.9033906035503909,1.7397538308092018,-1.6505904365544575,-0.9104665692355621,-0.5842429898924218,-0.6052634377101391,-1.4601558788592213,0.4803915127520965,1.5593320695837987,-1.4698367553340614,1.4330013471054899],\"y\":[0.23652795715850095,0.9786252446269585,-0.056640727346602984,-0.4349614120408051,-1.1743745916427208,-1.7620572065461984,0.7325959124175713,0.1436936439226743,-0.27555908546868524,-0.6004006655887814,2.2159144648890776,0.08608978276712356,0.787950574108897,1.8106167453268054,2.4071514142948183,2.33367917977407,-0.17043217921907472,-0.559544769568131,-0.3178320644256901,2.509342474661557,1.6186307486022546,0.8786467053313886,-2.4577734110446294,-1.723113261937718,1.0630824675324746,1.0158760542547436,1.0189349600993107,-0.3817479819618662,0.41427726947199267,0.8214587697950845,1.0961179004626964,-0.02395423145642322,2.453520862724082,-0.7487812489224189,0.3484817423218347,1.338685675875985,0.609700505772461,0.23042070231077016,0.16547523004146747,-0.007048318221612886,0.04377525645156575,-1.2254831762534104,-1.2716014700390135,1.1854902788751958,1.0204780867900345,-0.2797897504487051,0.5751999998812791,1.6316023675903262,0.241498202612012,-1.2747224650227431,1.2306792456818112,0.04918728639549364,-0.6267357295715503,-1.0328247251819862,-0.21390591230657377,-2.1024897464833634,0.7228779583486531,0.5302717891134512,-1.5775394290688414,-0.415429850639412,0.5300885926311383,2.3249698282209206,-0.5302853090578974,-0.1607185484274797,-1.8503104351340782,0.10131805939089251,-0.7016834707334093,-0.3825560695099959,0.7376388884807465,-2.0494397850365798,-0.19660738375712236,-0.8254237463636193,1.7437396924983983,-1.5808309939799807,-1.0801497191966087,-1.004795523337831,0.19520188171432185,-2.1505906126573042,-1.1388250512228844,0.30377275412624555,0.9654030967031015,-0.6904492808008851,-1.2394975127933738,1.688538507633855,-0.36937543766446557,0.10375780520719564,-1.3632005282097133,0.6048151613707982,1.4876719169952275,0.40539115031188144,0.44834205032416385,1.2619773103140894,0.04662622163307223,1.4178646602998692,-0.34837797827909456,-0.5825818391151043,-0.6417193383973584,0.5770926164852495,-0.2713554315778967,0.9846044901362248],\"type\":\"scatter\"}],                        {\"legend\":{\"bgcolor\":\"#F5F6F9\",\"font\":{\"color\":\"#4D5663\"}},\"paper_bgcolor\":\"#F5F6F9\",\"plot_bgcolor\":\"#F5F6F9\",\"template\":{\"data\":{\"barpolar\":[{\"marker\":{\"line\":{\"color\":\"#E5ECF6\",\"width\":0.5},\"pattern\":{\"fillmode\":\"overlay\",\"size\":10,\"solidity\":0.2}},\"type\":\"barpolar\"}],\"bar\":[{\"error_x\":{\"color\":\"#2a3f5f\"},\"error_y\":{\"color\":\"#2a3f5f\"},\"marker\":{\"line\":{\"color\":\"#E5ECF6\",\"width\":0.5},\"pattern\":{\"fillmode\":\"overlay\",\"size\":10,\"solidity\":0.2}},\"type\":\"bar\"}],\"carpet\":[{\"aaxis\":{\"endlinecolor\":\"#2a3f5f\",\"gridcolor\":\"white\",\"linecolor\":\"white\",\"minorgridcolor\":\"white\",\"startlinecolor\":\"#2a3f5f\"},\"baxis\":{\"endlinecolor\":\"#2a3f5f\",\"gridcolor\":\"white\",\"linecolor\":\"white\",\"minorgridcolor\":\"white\",\"startlinecolor\":\"#2a3f5f\"},\"type\":\"carpet\"}],\"choropleth\":[{\"colorbar\":{\"outlinewidth\":0,\"ticks\":\"\"},\"type\":\"choropleth\"}],\"contourcarpet\":[{\"colorbar\":{\"outlinewidth\":0,\"ticks\":\"\"},\"type\":\"contourcarpet\"}],\"contour\":[{\"colorbar\":{\"outlinewidth\":0,\"ticks\":\"\"},\"colorscale\":[[0.0,\"#0d0887\"],[0.1111111111111111,\"#46039f\"],[0.2222222222222222,\"#7201a8\"],[0.3333333333333333,\"#9c179e\"],[0.4444444444444444,\"#bd3786\"],[0.5555555555555556,\"#d8576b\"],[0.6666666666666666,\"#ed7953\"],[0.7777777777777778,\"#fb9f3a\"],[0.8888888888888888,\"#fdca26\"],[1.0,\"#f0f921\"]],\"type\":\"contour\"}],\"heatmapgl\":[{\"colorbar\":{\"outlinewidth\":0,\"ticks\":\"\"},\"colorscale\":[[0.0,\"#0d0887\"],[0.1111111111111111,\"#46039f\"],[0.2222222222222222,\"#7201a8\"],[0.3333333333333333,\"#9c179e\"],[0.4444444444444444,\"#bd3786\"],[0.5555555555555556,\"#d8576b\"],[0.6666666666666666,\"#ed7953\"],[0.7777777777777778,\"#fb9f3a\"],[0.8888888888888888,\"#fdca26\"],[1.0,\"#f0f921\"]],\"type\":\"heatmapgl\"}],\"heatmap\":[{\"colorbar\":{\"outlinewidth\":0,\"ticks\":\"\"},\"colorscale\":[[0.0,\"#0d0887\"],[0.1111111111111111,\"#46039f\"],[0.2222222222222222,\"#7201a8\"],[0.3333333333333333,\"#9c179e\"],[0.4444444444444444,\"#bd3786\"],[0.5555555555555556,\"#d8576b\"],[0.6666666666666666,\"#ed7953\"],[0.7777777777777778,\"#fb9f3a\"],[0.8888888888888888,\"#fdca26\"],[1.0,\"#f0f921\"]],\"type\":\"heatmap\"}],\"histogram2dcontour\":[{\"colorbar\":{\"outlinewidth\":0,\"ticks\":\"\"},\"colorscale\":[[0.0,\"#0d0887\"],[0.1111111111111111,\"#46039f\"],[0.2222222222222222,\"#7201a8\"],[0.3333333333333333,\"#9c179e\"],[0.4444444444444444,\"#bd3786\"],[0.5555555555555556,\"#d8576b\"],[0.6666666666666666,\"#ed7953\"],[0.7777777777777778,\"#fb9f3a\"],[0.8888888888888888,\"#fdca26\"],[1.0,\"#f0f921\"]],\"type\":\"histogram2dcontour\"}],\"histogram2d\":[{\"colorbar\":{\"outlinewidth\":0,\"ticks\":\"\"},\"colorscale\":[[0.0,\"#0d0887\"],[0.1111111111111111,\"#46039f\"],[0.2222222222222222,\"#7201a8\"],[0.3333333333333333,\"#9c179e\"],[0.4444444444444444,\"#bd3786\"],[0.5555555555555556,\"#d8576b\"],[0.6666666666666666,\"#ed7953\"],[0.7777777777777778,\"#fb9f3a\"],[0.8888888888888888,\"#fdca26\"],[1.0,\"#f0f921\"]],\"type\":\"histogram2d\"}],\"histogram\":[{\"marker\":{\"pattern\":{\"fillmode\":\"overlay\",\"size\":10,\"solidity\":0.2}},\"type\":\"histogram\"}],\"mesh3d\":[{\"colorbar\":{\"outlinewidth\":0,\"ticks\":\"\"},\"type\":\"mesh3d\"}],\"parcoords\":[{\"line\":{\"colorbar\":{\"outlinewidth\":0,\"ticks\":\"\"}},\"type\":\"parcoords\"}],\"pie\":[{\"automargin\":true,\"type\":\"pie\"}],\"scatter3d\":[{\"line\":{\"colorbar\":{\"outlinewidth\":0,\"ticks\":\"\"}},\"marker\":{\"colorbar\":{\"outlinewidth\":0,\"ticks\":\"\"}},\"type\":\"scatter3d\"}],\"scattercarpet\":[{\"marker\":{\"colorbar\":{\"outlinewidth\":0,\"ticks\":\"\"}},\"type\":\"scattercarpet\"}],\"scattergeo\":[{\"marker\":{\"colorbar\":{\"outlinewidth\":0,\"ticks\":\"\"}},\"type\":\"scattergeo\"}],\"scattergl\":[{\"marker\":{\"colorbar\":{\"outlinewidth\":0,\"ticks\":\"\"}},\"type\":\"scattergl\"}],\"scattermapbox\":[{\"marker\":{\"colorbar\":{\"outlinewidth\":0,\"ticks\":\"\"}},\"type\":\"scattermapbox\"}],\"scatterpolargl\":[{\"marker\":{\"colorbar\":{\"outlinewidth\":0,\"ticks\":\"\"}},\"type\":\"scatterpolargl\"}],\"scatterpolar\":[{\"marker\":{\"colorbar\":{\"outlinewidth\":0,\"ticks\":\"\"}},\"type\":\"scatterpolar\"}],\"scatter\":[{\"fillpattern\":{\"fillmode\":\"overlay\",\"size\":10,\"solidity\":0.2},\"type\":\"scatter\"}],\"scatterternary\":[{\"marker\":{\"colorbar\":{\"outlinewidth\":0,\"ticks\":\"\"}},\"type\":\"scatterternary\"}],\"surface\":[{\"colorbar\":{\"outlinewidth\":0,\"ticks\":\"\"},\"colorscale\":[[0.0,\"#0d0887\"],[0.1111111111111111,\"#46039f\"],[0.2222222222222222,\"#7201a8\"],[0.3333333333333333,\"#9c179e\"],[0.4444444444444444,\"#bd3786\"],[0.5555555555555556,\"#d8576b\"],[0.6666666666666666,\"#ed7953\"],[0.7777777777777778,\"#fb9f3a\"],[0.8888888888888888,\"#fdca26\"],[1.0,\"#f0f921\"]],\"type\":\"surface\"}],\"table\":[{\"cells\":{\"fill\":{\"color\":\"#EBF0F8\"},\"line\":{\"color\":\"white\"}},\"header\":{\"fill\":{\"color\":\"#C8D4E3\"},\"line\":{\"color\":\"white\"}},\"type\":\"table\"}]},\"layout\":{\"annotationdefaults\":{\"arrowcolor\":\"#2a3f5f\",\"arrowhead\":0,\"arrowwidth\":1},\"autotypenumbers\":\"strict\",\"coloraxis\":{\"colorbar\":{\"outlinewidth\":0,\"ticks\":\"\"}},\"colorscale\":{\"diverging\":[[0,\"#8e0152\"],[0.1,\"#c51b7d\"],[0.2,\"#de77ae\"],[0.3,\"#f1b6da\"],[0.4,\"#fde0ef\"],[0.5,\"#f7f7f7\"],[0.6,\"#e6f5d0\"],[0.7,\"#b8e186\"],[0.8,\"#7fbc41\"],[0.9,\"#4d9221\"],[1,\"#276419\"]],\"sequential\":[[0.0,\"#0d0887\"],[0.1111111111111111,\"#46039f\"],[0.2222222222222222,\"#7201a8\"],[0.3333333333333333,\"#9c179e\"],[0.4444444444444444,\"#bd3786\"],[0.5555555555555556,\"#d8576b\"],[0.6666666666666666,\"#ed7953\"],[0.7777777777777778,\"#fb9f3a\"],[0.8888888888888888,\"#fdca26\"],[1.0,\"#f0f921\"]],\"sequentialminus\":[[0.0,\"#0d0887\"],[0.1111111111111111,\"#46039f\"],[0.2222222222222222,\"#7201a8\"],[0.3333333333333333,\"#9c179e\"],[0.4444444444444444,\"#bd3786\"],[0.5555555555555556,\"#d8576b\"],[0.6666666666666666,\"#ed7953\"],[0.7777777777777778,\"#fb9f3a\"],[0.8888888888888888,\"#fdca26\"],[1.0,\"#f0f921\"]]},\"colorway\":[\"#636efa\",\"#EF553B\",\"#00cc96\",\"#ab63fa\",\"#FFA15A\",\"#19d3f3\",\"#FF6692\",\"#B6E880\",\"#FF97FF\",\"#FECB52\"],\"font\":{\"color\":\"#2a3f5f\"},\"geo\":{\"bgcolor\":\"white\",\"lakecolor\":\"white\",\"landcolor\":\"#E5ECF6\",\"showlakes\":true,\"showland\":true,\"subunitcolor\":\"white\"},\"hoverlabel\":{\"align\":\"left\"},\"hovermode\":\"closest\",\"mapbox\":{\"style\":\"light\"},\"paper_bgcolor\":\"white\",\"plot_bgcolor\":\"#E5ECF6\",\"polar\":{\"angularaxis\":{\"gridcolor\":\"white\",\"linecolor\":\"white\",\"ticks\":\"\"},\"bgcolor\":\"#E5ECF6\",\"radialaxis\":{\"gridcolor\":\"white\",\"linecolor\":\"white\",\"ticks\":\"\"}},\"scene\":{\"xaxis\":{\"backgroundcolor\":\"#E5ECF6\",\"gridcolor\":\"white\",\"gridwidth\":2,\"linecolor\":\"white\",\"showbackground\":true,\"ticks\":\"\",\"zerolinecolor\":\"white\"},\"yaxis\":{\"backgroundcolor\":\"#E5ECF6\",\"gridcolor\":\"white\",\"gridwidth\":2,\"linecolor\":\"white\",\"showbackground\":true,\"ticks\":\"\",\"zerolinecolor\":\"white\"},\"zaxis\":{\"backgroundcolor\":\"#E5ECF6\",\"gridcolor\":\"white\",\"gridwidth\":2,\"linecolor\":\"white\",\"showbackground\":true,\"ticks\":\"\",\"zerolinecolor\":\"white\"}},\"shapedefaults\":{\"line\":{\"color\":\"#2a3f5f\"}},\"ternary\":{\"aaxis\":{\"gridcolor\":\"white\",\"linecolor\":\"white\",\"ticks\":\"\"},\"baxis\":{\"gridcolor\":\"white\",\"linecolor\":\"white\",\"ticks\":\"\"},\"bgcolor\":\"#E5ECF6\",\"caxis\":{\"gridcolor\":\"white\",\"linecolor\":\"white\",\"ticks\":\"\"}},\"title\":{\"x\":0.05},\"xaxis\":{\"automargin\":true,\"gridcolor\":\"white\",\"linecolor\":\"white\",\"ticks\":\"\",\"title\":{\"standoff\":15},\"zerolinecolor\":\"white\",\"zerolinewidth\":2},\"yaxis\":{\"automargin\":true,\"gridcolor\":\"white\",\"linecolor\":\"white\",\"ticks\":\"\",\"title\":{\"standoff\":15},\"zerolinecolor\":\"white\",\"zerolinewidth\":2}}},\"title\":{\"font\":{\"color\":\"#4D5663\"}},\"xaxis\":{\"gridcolor\":\"#E1E5ED\",\"showgrid\":true,\"tickfont\":{\"color\":\"#4D5663\"},\"title\":{\"font\":{\"color\":\"#4D5663\"},\"text\":\"\"},\"zerolinecolor\":\"#E1E5ED\"},\"yaxis\":{\"gridcolor\":\"#E1E5ED\",\"showgrid\":true,\"tickfont\":{\"color\":\"#4D5663\"},\"title\":{\"font\":{\"color\":\"#4D5663\"},\"text\":\"\"},\"zerolinecolor\":\"#E1E5ED\"}},                        {\"showLink\": true, \"linkText\": \"Export to plot.ly\", \"plotlyServerURL\": \"https://plot.ly\", \"responsive\": true}                    ).then(function(){\n",
       "                            \n",
       "var gd = document.getElementById('f5b7a8ac-a467-422d-bc8e-9bf31aef6ea9');\n",
       "var x = new MutationObserver(function (mutations, observer) {{\n",
       "        var display = window.getComputedStyle(gd).display;\n",
       "        if (!display || display === 'none') {{\n",
       "            console.log([gd, 'removed!']);\n",
       "            Plotly.purge(gd);\n",
       "            observer.disconnect();\n",
       "        }}\n",
       "}});\n",
       "\n",
       "// Listen for the removal of the full notebook cells\n",
       "var notebookContainer = gd.closest('#notebook-container');\n",
       "if (notebookContainer) {{\n",
       "    x.observe(notebookContainer, {childList: true});\n",
       "}}\n",
       "\n",
       "// Listen for the clearing of the current output cell\n",
       "var outputEl = gd.closest('.output');\n",
       "if (outputEl) {{\n",
       "    x.observe(outputEl, {childList: true});\n",
       "}}\n",
       "\n",
       "                        })                };                });            </script>        </div>"
      ]
     },
     "metadata": {},
     "output_type": "display_data"
    }
   ],
   "source": [
    "df.iplot(kind='scatter',x='A',y='B',mode='markers',size=10)"
   ]
  },
  {
   "cell_type": "markdown",
   "metadata": {},
   "source": [
    "## Bar Plots"
   ]
  },
  {
   "cell_type": "code",
   "execution_count": 11,
   "metadata": {
    "collapsed": false
   },
   "outputs": [
    {
     "data": {
      "application/vnd.plotly.v1+json": {
       "config": {
        "linkText": "Export to plot.ly",
        "plotlyServerURL": "https://plot.ly",
        "showLink": true
       },
       "data": [
        {
         "marker": {
          "color": "rgba(255, 153, 51, 0.6)",
          "line": {
           "color": "rgba(255, 153, 51, 1.0)",
           "width": 1
          }
         },
         "name": "Values",
         "orientation": "v",
         "text": "",
         "type": "bar",
         "x": [
          "A",
          "B",
          "C"
         ],
         "y": [
          32,
          43,
          50
         ]
        }
       ],
       "layout": {
        "legend": {
         "bgcolor": "#F5F6F9",
         "font": {
          "color": "#4D5663"
         }
        },
        "paper_bgcolor": "#F5F6F9",
        "plot_bgcolor": "#F5F6F9",
        "template": {
         "data": {
          "bar": [
           {
            "error_x": {
             "color": "#2a3f5f"
            },
            "error_y": {
             "color": "#2a3f5f"
            },
            "marker": {
             "line": {
              "color": "#E5ECF6",
              "width": 0.5
             },
             "pattern": {
              "fillmode": "overlay",
              "size": 10,
              "solidity": 0.2
             }
            },
            "type": "bar"
           }
          ],
          "barpolar": [
           {
            "marker": {
             "line": {
              "color": "#E5ECF6",
              "width": 0.5
             },
             "pattern": {
              "fillmode": "overlay",
              "size": 10,
              "solidity": 0.2
             }
            },
            "type": "barpolar"
           }
          ],
          "carpet": [
           {
            "aaxis": {
             "endlinecolor": "#2a3f5f",
             "gridcolor": "white",
             "linecolor": "white",
             "minorgridcolor": "white",
             "startlinecolor": "#2a3f5f"
            },
            "baxis": {
             "endlinecolor": "#2a3f5f",
             "gridcolor": "white",
             "linecolor": "white",
             "minorgridcolor": "white",
             "startlinecolor": "#2a3f5f"
            },
            "type": "carpet"
           }
          ],
          "choropleth": [
           {
            "colorbar": {
             "outlinewidth": 0,
             "ticks": ""
            },
            "type": "choropleth"
           }
          ],
          "contour": [
           {
            "colorbar": {
             "outlinewidth": 0,
             "ticks": ""
            },
            "colorscale": [
             [
              0,
              "#0d0887"
             ],
             [
              0.1111111111111111,
              "#46039f"
             ],
             [
              0.2222222222222222,
              "#7201a8"
             ],
             [
              0.3333333333333333,
              "#9c179e"
             ],
             [
              0.4444444444444444,
              "#bd3786"
             ],
             [
              0.5555555555555556,
              "#d8576b"
             ],
             [
              0.6666666666666666,
              "#ed7953"
             ],
             [
              0.7777777777777778,
              "#fb9f3a"
             ],
             [
              0.8888888888888888,
              "#fdca26"
             ],
             [
              1,
              "#f0f921"
             ]
            ],
            "type": "contour"
           }
          ],
          "contourcarpet": [
           {
            "colorbar": {
             "outlinewidth": 0,
             "ticks": ""
            },
            "type": "contourcarpet"
           }
          ],
          "heatmap": [
           {
            "colorbar": {
             "outlinewidth": 0,
             "ticks": ""
            },
            "colorscale": [
             [
              0,
              "#0d0887"
             ],
             [
              0.1111111111111111,
              "#46039f"
             ],
             [
              0.2222222222222222,
              "#7201a8"
             ],
             [
              0.3333333333333333,
              "#9c179e"
             ],
             [
              0.4444444444444444,
              "#bd3786"
             ],
             [
              0.5555555555555556,
              "#d8576b"
             ],
             [
              0.6666666666666666,
              "#ed7953"
             ],
             [
              0.7777777777777778,
              "#fb9f3a"
             ],
             [
              0.8888888888888888,
              "#fdca26"
             ],
             [
              1,
              "#f0f921"
             ]
            ],
            "type": "heatmap"
           }
          ],
          "heatmapgl": [
           {
            "colorbar": {
             "outlinewidth": 0,
             "ticks": ""
            },
            "colorscale": [
             [
              0,
              "#0d0887"
             ],
             [
              0.1111111111111111,
              "#46039f"
             ],
             [
              0.2222222222222222,
              "#7201a8"
             ],
             [
              0.3333333333333333,
              "#9c179e"
             ],
             [
              0.4444444444444444,
              "#bd3786"
             ],
             [
              0.5555555555555556,
              "#d8576b"
             ],
             [
              0.6666666666666666,
              "#ed7953"
             ],
             [
              0.7777777777777778,
              "#fb9f3a"
             ],
             [
              0.8888888888888888,
              "#fdca26"
             ],
             [
              1,
              "#f0f921"
             ]
            ],
            "type": "heatmapgl"
           }
          ],
          "histogram": [
           {
            "marker": {
             "pattern": {
              "fillmode": "overlay",
              "size": 10,
              "solidity": 0.2
             }
            },
            "type": "histogram"
           }
          ],
          "histogram2d": [
           {
            "colorbar": {
             "outlinewidth": 0,
             "ticks": ""
            },
            "colorscale": [
             [
              0,
              "#0d0887"
             ],
             [
              0.1111111111111111,
              "#46039f"
             ],
             [
              0.2222222222222222,
              "#7201a8"
             ],
             [
              0.3333333333333333,
              "#9c179e"
             ],
             [
              0.4444444444444444,
              "#bd3786"
             ],
             [
              0.5555555555555556,
              "#d8576b"
             ],
             [
              0.6666666666666666,
              "#ed7953"
             ],
             [
              0.7777777777777778,
              "#fb9f3a"
             ],
             [
              0.8888888888888888,
              "#fdca26"
             ],
             [
              1,
              "#f0f921"
             ]
            ],
            "type": "histogram2d"
           }
          ],
          "histogram2dcontour": [
           {
            "colorbar": {
             "outlinewidth": 0,
             "ticks": ""
            },
            "colorscale": [
             [
              0,
              "#0d0887"
             ],
             [
              0.1111111111111111,
              "#46039f"
             ],
             [
              0.2222222222222222,
              "#7201a8"
             ],
             [
              0.3333333333333333,
              "#9c179e"
             ],
             [
              0.4444444444444444,
              "#bd3786"
             ],
             [
              0.5555555555555556,
              "#d8576b"
             ],
             [
              0.6666666666666666,
              "#ed7953"
             ],
             [
              0.7777777777777778,
              "#fb9f3a"
             ],
             [
              0.8888888888888888,
              "#fdca26"
             ],
             [
              1,
              "#f0f921"
             ]
            ],
            "type": "histogram2dcontour"
           }
          ],
          "mesh3d": [
           {
            "colorbar": {
             "outlinewidth": 0,
             "ticks": ""
            },
            "type": "mesh3d"
           }
          ],
          "parcoords": [
           {
            "line": {
             "colorbar": {
              "outlinewidth": 0,
              "ticks": ""
             }
            },
            "type": "parcoords"
           }
          ],
          "pie": [
           {
            "automargin": true,
            "type": "pie"
           }
          ],
          "scatter": [
           {
            "fillpattern": {
             "fillmode": "overlay",
             "size": 10,
             "solidity": 0.2
            },
            "type": "scatter"
           }
          ],
          "scatter3d": [
           {
            "line": {
             "colorbar": {
              "outlinewidth": 0,
              "ticks": ""
             }
            },
            "marker": {
             "colorbar": {
              "outlinewidth": 0,
              "ticks": ""
             }
            },
            "type": "scatter3d"
           }
          ],
          "scattercarpet": [
           {
            "marker": {
             "colorbar": {
              "outlinewidth": 0,
              "ticks": ""
             }
            },
            "type": "scattercarpet"
           }
          ],
          "scattergeo": [
           {
            "marker": {
             "colorbar": {
              "outlinewidth": 0,
              "ticks": ""
             }
            },
            "type": "scattergeo"
           }
          ],
          "scattergl": [
           {
            "marker": {
             "colorbar": {
              "outlinewidth": 0,
              "ticks": ""
             }
            },
            "type": "scattergl"
           }
          ],
          "scattermapbox": [
           {
            "marker": {
             "colorbar": {
              "outlinewidth": 0,
              "ticks": ""
             }
            },
            "type": "scattermapbox"
           }
          ],
          "scatterpolar": [
           {
            "marker": {
             "colorbar": {
              "outlinewidth": 0,
              "ticks": ""
             }
            },
            "type": "scatterpolar"
           }
          ],
          "scatterpolargl": [
           {
            "marker": {
             "colorbar": {
              "outlinewidth": 0,
              "ticks": ""
             }
            },
            "type": "scatterpolargl"
           }
          ],
          "scatterternary": [
           {
            "marker": {
             "colorbar": {
              "outlinewidth": 0,
              "ticks": ""
             }
            },
            "type": "scatterternary"
           }
          ],
          "surface": [
           {
            "colorbar": {
             "outlinewidth": 0,
             "ticks": ""
            },
            "colorscale": [
             [
              0,
              "#0d0887"
             ],
             [
              0.1111111111111111,
              "#46039f"
             ],
             [
              0.2222222222222222,
              "#7201a8"
             ],
             [
              0.3333333333333333,
              "#9c179e"
             ],
             [
              0.4444444444444444,
              "#bd3786"
             ],
             [
              0.5555555555555556,
              "#d8576b"
             ],
             [
              0.6666666666666666,
              "#ed7953"
             ],
             [
              0.7777777777777778,
              "#fb9f3a"
             ],
             [
              0.8888888888888888,
              "#fdca26"
             ],
             [
              1,
              "#f0f921"
             ]
            ],
            "type": "surface"
           }
          ],
          "table": [
           {
            "cells": {
             "fill": {
              "color": "#EBF0F8"
             },
             "line": {
              "color": "white"
             }
            },
            "header": {
             "fill": {
              "color": "#C8D4E3"
             },
             "line": {
              "color": "white"
             }
            },
            "type": "table"
           }
          ]
         },
         "layout": {
          "annotationdefaults": {
           "arrowcolor": "#2a3f5f",
           "arrowhead": 0,
           "arrowwidth": 1
          },
          "autotypenumbers": "strict",
          "coloraxis": {
           "colorbar": {
            "outlinewidth": 0,
            "ticks": ""
           }
          },
          "colorscale": {
           "diverging": [
            [
             0,
             "#8e0152"
            ],
            [
             0.1,
             "#c51b7d"
            ],
            [
             0.2,
             "#de77ae"
            ],
            [
             0.3,
             "#f1b6da"
            ],
            [
             0.4,
             "#fde0ef"
            ],
            [
             0.5,
             "#f7f7f7"
            ],
            [
             0.6,
             "#e6f5d0"
            ],
            [
             0.7,
             "#b8e186"
            ],
            [
             0.8,
             "#7fbc41"
            ],
            [
             0.9,
             "#4d9221"
            ],
            [
             1,
             "#276419"
            ]
           ],
           "sequential": [
            [
             0,
             "#0d0887"
            ],
            [
             0.1111111111111111,
             "#46039f"
            ],
            [
             0.2222222222222222,
             "#7201a8"
            ],
            [
             0.3333333333333333,
             "#9c179e"
            ],
            [
             0.4444444444444444,
             "#bd3786"
            ],
            [
             0.5555555555555556,
             "#d8576b"
            ],
            [
             0.6666666666666666,
             "#ed7953"
            ],
            [
             0.7777777777777778,
             "#fb9f3a"
            ],
            [
             0.8888888888888888,
             "#fdca26"
            ],
            [
             1,
             "#f0f921"
            ]
           ],
           "sequentialminus": [
            [
             0,
             "#0d0887"
            ],
            [
             0.1111111111111111,
             "#46039f"
            ],
            [
             0.2222222222222222,
             "#7201a8"
            ],
            [
             0.3333333333333333,
             "#9c179e"
            ],
            [
             0.4444444444444444,
             "#bd3786"
            ],
            [
             0.5555555555555556,
             "#d8576b"
            ],
            [
             0.6666666666666666,
             "#ed7953"
            ],
            [
             0.7777777777777778,
             "#fb9f3a"
            ],
            [
             0.8888888888888888,
             "#fdca26"
            ],
            [
             1,
             "#f0f921"
            ]
           ]
          },
          "colorway": [
           "#636efa",
           "#EF553B",
           "#00cc96",
           "#ab63fa",
           "#FFA15A",
           "#19d3f3",
           "#FF6692",
           "#B6E880",
           "#FF97FF",
           "#FECB52"
          ],
          "font": {
           "color": "#2a3f5f"
          },
          "geo": {
           "bgcolor": "white",
           "lakecolor": "white",
           "landcolor": "#E5ECF6",
           "showlakes": true,
           "showland": true,
           "subunitcolor": "white"
          },
          "hoverlabel": {
           "align": "left"
          },
          "hovermode": "closest",
          "mapbox": {
           "style": "light"
          },
          "paper_bgcolor": "white",
          "plot_bgcolor": "#E5ECF6",
          "polar": {
           "angularaxis": {
            "gridcolor": "white",
            "linecolor": "white",
            "ticks": ""
           },
           "bgcolor": "#E5ECF6",
           "radialaxis": {
            "gridcolor": "white",
            "linecolor": "white",
            "ticks": ""
           }
          },
          "scene": {
           "xaxis": {
            "backgroundcolor": "#E5ECF6",
            "gridcolor": "white",
            "gridwidth": 2,
            "linecolor": "white",
            "showbackground": true,
            "ticks": "",
            "zerolinecolor": "white"
           },
           "yaxis": {
            "backgroundcolor": "#E5ECF6",
            "gridcolor": "white",
            "gridwidth": 2,
            "linecolor": "white",
            "showbackground": true,
            "ticks": "",
            "zerolinecolor": "white"
           },
           "zaxis": {
            "backgroundcolor": "#E5ECF6",
            "gridcolor": "white",
            "gridwidth": 2,
            "linecolor": "white",
            "showbackground": true,
            "ticks": "",
            "zerolinecolor": "white"
           }
          },
          "shapedefaults": {
           "line": {
            "color": "#2a3f5f"
           }
          },
          "ternary": {
           "aaxis": {
            "gridcolor": "white",
            "linecolor": "white",
            "ticks": ""
           },
           "baxis": {
            "gridcolor": "white",
            "linecolor": "white",
            "ticks": ""
           },
           "bgcolor": "#E5ECF6",
           "caxis": {
            "gridcolor": "white",
            "linecolor": "white",
            "ticks": ""
           }
          },
          "title": {
           "x": 0.05
          },
          "xaxis": {
           "automargin": true,
           "gridcolor": "white",
           "linecolor": "white",
           "ticks": "",
           "title": {
            "standoff": 15
           },
           "zerolinecolor": "white",
           "zerolinewidth": 2
          },
          "yaxis": {
           "automargin": true,
           "gridcolor": "white",
           "linecolor": "white",
           "ticks": "",
           "title": {
            "standoff": 15
           },
           "zerolinecolor": "white",
           "zerolinewidth": 2
          }
         }
        },
        "title": {
         "font": {
          "color": "#4D5663"
         }
        },
        "xaxis": {
         "gridcolor": "#E1E5ED",
         "showgrid": true,
         "tickfont": {
          "color": "#4D5663"
         },
         "title": {
          "font": {
           "color": "#4D5663"
          },
          "text": ""
         },
         "zerolinecolor": "#E1E5ED"
        },
        "yaxis": {
         "gridcolor": "#E1E5ED",
         "showgrid": true,
         "tickfont": {
          "color": "#4D5663"
         },
         "title": {
          "font": {
           "color": "#4D5663"
          },
          "text": ""
         },
         "zerolinecolor": "#E1E5ED"
        }
       }
      },
      "text/html": [
       "<div>                            <div id=\"9fc197f5-bc03-43e5-a312-c0e2d1b44aac\" class=\"plotly-graph-div\" style=\"height:525px; width:100%;\"></div>            <script type=\"text/javascript\">                require([\"plotly\"], function(Plotly) {                    window.PLOTLYENV=window.PLOTLYENV || {};\n",
       "                    window.PLOTLYENV.BASE_URL='https://plot.ly';                                    if (document.getElementById(\"9fc197f5-bc03-43e5-a312-c0e2d1b44aac\")) {                    Plotly.newPlot(                        \"9fc197f5-bc03-43e5-a312-c0e2d1b44aac\",                        [{\"marker\":{\"color\":\"rgba(255, 153, 51, 0.6)\",\"line\":{\"color\":\"rgba(255, 153, 51, 1.0)\",\"width\":1}},\"name\":\"Values\",\"orientation\":\"v\",\"text\":\"\",\"x\":[\"A\",\"B\",\"C\"],\"y\":[32,43,50],\"type\":\"bar\"}],                        {\"legend\":{\"bgcolor\":\"#F5F6F9\",\"font\":{\"color\":\"#4D5663\"}},\"paper_bgcolor\":\"#F5F6F9\",\"plot_bgcolor\":\"#F5F6F9\",\"template\":{\"data\":{\"barpolar\":[{\"marker\":{\"line\":{\"color\":\"#E5ECF6\",\"width\":0.5},\"pattern\":{\"fillmode\":\"overlay\",\"size\":10,\"solidity\":0.2}},\"type\":\"barpolar\"}],\"bar\":[{\"error_x\":{\"color\":\"#2a3f5f\"},\"error_y\":{\"color\":\"#2a3f5f\"},\"marker\":{\"line\":{\"color\":\"#E5ECF6\",\"width\":0.5},\"pattern\":{\"fillmode\":\"overlay\",\"size\":10,\"solidity\":0.2}},\"type\":\"bar\"}],\"carpet\":[{\"aaxis\":{\"endlinecolor\":\"#2a3f5f\",\"gridcolor\":\"white\",\"linecolor\":\"white\",\"minorgridcolor\":\"white\",\"startlinecolor\":\"#2a3f5f\"},\"baxis\":{\"endlinecolor\":\"#2a3f5f\",\"gridcolor\":\"white\",\"linecolor\":\"white\",\"minorgridcolor\":\"white\",\"startlinecolor\":\"#2a3f5f\"},\"type\":\"carpet\"}],\"choropleth\":[{\"colorbar\":{\"outlinewidth\":0,\"ticks\":\"\"},\"type\":\"choropleth\"}],\"contourcarpet\":[{\"colorbar\":{\"outlinewidth\":0,\"ticks\":\"\"},\"type\":\"contourcarpet\"}],\"contour\":[{\"colorbar\":{\"outlinewidth\":0,\"ticks\":\"\"},\"colorscale\":[[0.0,\"#0d0887\"],[0.1111111111111111,\"#46039f\"],[0.2222222222222222,\"#7201a8\"],[0.3333333333333333,\"#9c179e\"],[0.4444444444444444,\"#bd3786\"],[0.5555555555555556,\"#d8576b\"],[0.6666666666666666,\"#ed7953\"],[0.7777777777777778,\"#fb9f3a\"],[0.8888888888888888,\"#fdca26\"],[1.0,\"#f0f921\"]],\"type\":\"contour\"}],\"heatmapgl\":[{\"colorbar\":{\"outlinewidth\":0,\"ticks\":\"\"},\"colorscale\":[[0.0,\"#0d0887\"],[0.1111111111111111,\"#46039f\"],[0.2222222222222222,\"#7201a8\"],[0.3333333333333333,\"#9c179e\"],[0.4444444444444444,\"#bd3786\"],[0.5555555555555556,\"#d8576b\"],[0.6666666666666666,\"#ed7953\"],[0.7777777777777778,\"#fb9f3a\"],[0.8888888888888888,\"#fdca26\"],[1.0,\"#f0f921\"]],\"type\":\"heatmapgl\"}],\"heatmap\":[{\"colorbar\":{\"outlinewidth\":0,\"ticks\":\"\"},\"colorscale\":[[0.0,\"#0d0887\"],[0.1111111111111111,\"#46039f\"],[0.2222222222222222,\"#7201a8\"],[0.3333333333333333,\"#9c179e\"],[0.4444444444444444,\"#bd3786\"],[0.5555555555555556,\"#d8576b\"],[0.6666666666666666,\"#ed7953\"],[0.7777777777777778,\"#fb9f3a\"],[0.8888888888888888,\"#fdca26\"],[1.0,\"#f0f921\"]],\"type\":\"heatmap\"}],\"histogram2dcontour\":[{\"colorbar\":{\"outlinewidth\":0,\"ticks\":\"\"},\"colorscale\":[[0.0,\"#0d0887\"],[0.1111111111111111,\"#46039f\"],[0.2222222222222222,\"#7201a8\"],[0.3333333333333333,\"#9c179e\"],[0.4444444444444444,\"#bd3786\"],[0.5555555555555556,\"#d8576b\"],[0.6666666666666666,\"#ed7953\"],[0.7777777777777778,\"#fb9f3a\"],[0.8888888888888888,\"#fdca26\"],[1.0,\"#f0f921\"]],\"type\":\"histogram2dcontour\"}],\"histogram2d\":[{\"colorbar\":{\"outlinewidth\":0,\"ticks\":\"\"},\"colorscale\":[[0.0,\"#0d0887\"],[0.1111111111111111,\"#46039f\"],[0.2222222222222222,\"#7201a8\"],[0.3333333333333333,\"#9c179e\"],[0.4444444444444444,\"#bd3786\"],[0.5555555555555556,\"#d8576b\"],[0.6666666666666666,\"#ed7953\"],[0.7777777777777778,\"#fb9f3a\"],[0.8888888888888888,\"#fdca26\"],[1.0,\"#f0f921\"]],\"type\":\"histogram2d\"}],\"histogram\":[{\"marker\":{\"pattern\":{\"fillmode\":\"overlay\",\"size\":10,\"solidity\":0.2}},\"type\":\"histogram\"}],\"mesh3d\":[{\"colorbar\":{\"outlinewidth\":0,\"ticks\":\"\"},\"type\":\"mesh3d\"}],\"parcoords\":[{\"line\":{\"colorbar\":{\"outlinewidth\":0,\"ticks\":\"\"}},\"type\":\"parcoords\"}],\"pie\":[{\"automargin\":true,\"type\":\"pie\"}],\"scatter3d\":[{\"line\":{\"colorbar\":{\"outlinewidth\":0,\"ticks\":\"\"}},\"marker\":{\"colorbar\":{\"outlinewidth\":0,\"ticks\":\"\"}},\"type\":\"scatter3d\"}],\"scattercarpet\":[{\"marker\":{\"colorbar\":{\"outlinewidth\":0,\"ticks\":\"\"}},\"type\":\"scattercarpet\"}],\"scattergeo\":[{\"marker\":{\"colorbar\":{\"outlinewidth\":0,\"ticks\":\"\"}},\"type\":\"scattergeo\"}],\"scattergl\":[{\"marker\":{\"colorbar\":{\"outlinewidth\":0,\"ticks\":\"\"}},\"type\":\"scattergl\"}],\"scattermapbox\":[{\"marker\":{\"colorbar\":{\"outlinewidth\":0,\"ticks\":\"\"}},\"type\":\"scattermapbox\"}],\"scatterpolargl\":[{\"marker\":{\"colorbar\":{\"outlinewidth\":0,\"ticks\":\"\"}},\"type\":\"scatterpolargl\"}],\"scatterpolar\":[{\"marker\":{\"colorbar\":{\"outlinewidth\":0,\"ticks\":\"\"}},\"type\":\"scatterpolar\"}],\"scatter\":[{\"fillpattern\":{\"fillmode\":\"overlay\",\"size\":10,\"solidity\":0.2},\"type\":\"scatter\"}],\"scatterternary\":[{\"marker\":{\"colorbar\":{\"outlinewidth\":0,\"ticks\":\"\"}},\"type\":\"scatterternary\"}],\"surface\":[{\"colorbar\":{\"outlinewidth\":0,\"ticks\":\"\"},\"colorscale\":[[0.0,\"#0d0887\"],[0.1111111111111111,\"#46039f\"],[0.2222222222222222,\"#7201a8\"],[0.3333333333333333,\"#9c179e\"],[0.4444444444444444,\"#bd3786\"],[0.5555555555555556,\"#d8576b\"],[0.6666666666666666,\"#ed7953\"],[0.7777777777777778,\"#fb9f3a\"],[0.8888888888888888,\"#fdca26\"],[1.0,\"#f0f921\"]],\"type\":\"surface\"}],\"table\":[{\"cells\":{\"fill\":{\"color\":\"#EBF0F8\"},\"line\":{\"color\":\"white\"}},\"header\":{\"fill\":{\"color\":\"#C8D4E3\"},\"line\":{\"color\":\"white\"}},\"type\":\"table\"}]},\"layout\":{\"annotationdefaults\":{\"arrowcolor\":\"#2a3f5f\",\"arrowhead\":0,\"arrowwidth\":1},\"autotypenumbers\":\"strict\",\"coloraxis\":{\"colorbar\":{\"outlinewidth\":0,\"ticks\":\"\"}},\"colorscale\":{\"diverging\":[[0,\"#8e0152\"],[0.1,\"#c51b7d\"],[0.2,\"#de77ae\"],[0.3,\"#f1b6da\"],[0.4,\"#fde0ef\"],[0.5,\"#f7f7f7\"],[0.6,\"#e6f5d0\"],[0.7,\"#b8e186\"],[0.8,\"#7fbc41\"],[0.9,\"#4d9221\"],[1,\"#276419\"]],\"sequential\":[[0.0,\"#0d0887\"],[0.1111111111111111,\"#46039f\"],[0.2222222222222222,\"#7201a8\"],[0.3333333333333333,\"#9c179e\"],[0.4444444444444444,\"#bd3786\"],[0.5555555555555556,\"#d8576b\"],[0.6666666666666666,\"#ed7953\"],[0.7777777777777778,\"#fb9f3a\"],[0.8888888888888888,\"#fdca26\"],[1.0,\"#f0f921\"]],\"sequentialminus\":[[0.0,\"#0d0887\"],[0.1111111111111111,\"#46039f\"],[0.2222222222222222,\"#7201a8\"],[0.3333333333333333,\"#9c179e\"],[0.4444444444444444,\"#bd3786\"],[0.5555555555555556,\"#d8576b\"],[0.6666666666666666,\"#ed7953\"],[0.7777777777777778,\"#fb9f3a\"],[0.8888888888888888,\"#fdca26\"],[1.0,\"#f0f921\"]]},\"colorway\":[\"#636efa\",\"#EF553B\",\"#00cc96\",\"#ab63fa\",\"#FFA15A\",\"#19d3f3\",\"#FF6692\",\"#B6E880\",\"#FF97FF\",\"#FECB52\"],\"font\":{\"color\":\"#2a3f5f\"},\"geo\":{\"bgcolor\":\"white\",\"lakecolor\":\"white\",\"landcolor\":\"#E5ECF6\",\"showlakes\":true,\"showland\":true,\"subunitcolor\":\"white\"},\"hoverlabel\":{\"align\":\"left\"},\"hovermode\":\"closest\",\"mapbox\":{\"style\":\"light\"},\"paper_bgcolor\":\"white\",\"plot_bgcolor\":\"#E5ECF6\",\"polar\":{\"angularaxis\":{\"gridcolor\":\"white\",\"linecolor\":\"white\",\"ticks\":\"\"},\"bgcolor\":\"#E5ECF6\",\"radialaxis\":{\"gridcolor\":\"white\",\"linecolor\":\"white\",\"ticks\":\"\"}},\"scene\":{\"xaxis\":{\"backgroundcolor\":\"#E5ECF6\",\"gridcolor\":\"white\",\"gridwidth\":2,\"linecolor\":\"white\",\"showbackground\":true,\"ticks\":\"\",\"zerolinecolor\":\"white\"},\"yaxis\":{\"backgroundcolor\":\"#E5ECF6\",\"gridcolor\":\"white\",\"gridwidth\":2,\"linecolor\":\"white\",\"showbackground\":true,\"ticks\":\"\",\"zerolinecolor\":\"white\"},\"zaxis\":{\"backgroundcolor\":\"#E5ECF6\",\"gridcolor\":\"white\",\"gridwidth\":2,\"linecolor\":\"white\",\"showbackground\":true,\"ticks\":\"\",\"zerolinecolor\":\"white\"}},\"shapedefaults\":{\"line\":{\"color\":\"#2a3f5f\"}},\"ternary\":{\"aaxis\":{\"gridcolor\":\"white\",\"linecolor\":\"white\",\"ticks\":\"\"},\"baxis\":{\"gridcolor\":\"white\",\"linecolor\":\"white\",\"ticks\":\"\"},\"bgcolor\":\"#E5ECF6\",\"caxis\":{\"gridcolor\":\"white\",\"linecolor\":\"white\",\"ticks\":\"\"}},\"title\":{\"x\":0.05},\"xaxis\":{\"automargin\":true,\"gridcolor\":\"white\",\"linecolor\":\"white\",\"ticks\":\"\",\"title\":{\"standoff\":15},\"zerolinecolor\":\"white\",\"zerolinewidth\":2},\"yaxis\":{\"automargin\":true,\"gridcolor\":\"white\",\"linecolor\":\"white\",\"ticks\":\"\",\"title\":{\"standoff\":15},\"zerolinecolor\":\"white\",\"zerolinewidth\":2}}},\"title\":{\"font\":{\"color\":\"#4D5663\"}},\"xaxis\":{\"gridcolor\":\"#E1E5ED\",\"showgrid\":true,\"tickfont\":{\"color\":\"#4D5663\"},\"title\":{\"font\":{\"color\":\"#4D5663\"},\"text\":\"\"},\"zerolinecolor\":\"#E1E5ED\"},\"yaxis\":{\"gridcolor\":\"#E1E5ED\",\"showgrid\":true,\"tickfont\":{\"color\":\"#4D5663\"},\"title\":{\"font\":{\"color\":\"#4D5663\"},\"text\":\"\"},\"zerolinecolor\":\"#E1E5ED\"}},                        {\"showLink\": true, \"linkText\": \"Export to plot.ly\", \"plotlyServerURL\": \"https://plot.ly\", \"responsive\": true}                    ).then(function(){\n",
       "                            \n",
       "var gd = document.getElementById('9fc197f5-bc03-43e5-a312-c0e2d1b44aac');\n",
       "var x = new MutationObserver(function (mutations, observer) {{\n",
       "        var display = window.getComputedStyle(gd).display;\n",
       "        if (!display || display === 'none') {{\n",
       "            console.log([gd, 'removed!']);\n",
       "            Plotly.purge(gd);\n",
       "            observer.disconnect();\n",
       "        }}\n",
       "}});\n",
       "\n",
       "// Listen for the removal of the full notebook cells\n",
       "var notebookContainer = gd.closest('#notebook-container');\n",
       "if (notebookContainer) {{\n",
       "    x.observe(notebookContainer, {childList: true});\n",
       "}}\n",
       "\n",
       "// Listen for the clearing of the current output cell\n",
       "var outputEl = gd.closest('.output');\n",
       "if (outputEl) {{\n",
       "    x.observe(outputEl, {childList: true});\n",
       "}}\n",
       "\n",
       "                        })                };                });            </script>        </div>"
      ]
     },
     "metadata": {},
     "output_type": "display_data"
    }
   ],
   "source": [
    "df2.iplot(kind='bar',x='Category',y='Values')"
   ]
  },
  {
   "cell_type": "code",
   "execution_count": 12,
   "metadata": {
    "collapsed": false
   },
   "outputs": [
    {
     "data": {
      "application/vnd.plotly.v1+json": {
       "config": {
        "linkText": "Export to plot.ly",
        "plotlyServerURL": "https://plot.ly",
        "showLink": true
       },
       "data": [
        {
         "marker": {
          "color": "rgba(255, 153, 51, 0.6)",
          "line": {
           "color": "rgba(255, 153, 51, 1.0)",
           "width": 1
          }
         },
         "name": "None",
         "orientation": "v",
         "text": "",
         "type": "bar",
         "x": [
          "A",
          "B",
          "C",
          "D"
         ],
         "y": [
          100,
          100,
          100,
          100
         ]
        }
       ],
       "layout": {
        "legend": {
         "bgcolor": "#F5F6F9",
         "font": {
          "color": "#4D5663"
         }
        },
        "paper_bgcolor": "#F5F6F9",
        "plot_bgcolor": "#F5F6F9",
        "template": {
         "data": {
          "bar": [
           {
            "error_x": {
             "color": "#2a3f5f"
            },
            "error_y": {
             "color": "#2a3f5f"
            },
            "marker": {
             "line": {
              "color": "#E5ECF6",
              "width": 0.5
             },
             "pattern": {
              "fillmode": "overlay",
              "size": 10,
              "solidity": 0.2
             }
            },
            "type": "bar"
           }
          ],
          "barpolar": [
           {
            "marker": {
             "line": {
              "color": "#E5ECF6",
              "width": 0.5
             },
             "pattern": {
              "fillmode": "overlay",
              "size": 10,
              "solidity": 0.2
             }
            },
            "type": "barpolar"
           }
          ],
          "carpet": [
           {
            "aaxis": {
             "endlinecolor": "#2a3f5f",
             "gridcolor": "white",
             "linecolor": "white",
             "minorgridcolor": "white",
             "startlinecolor": "#2a3f5f"
            },
            "baxis": {
             "endlinecolor": "#2a3f5f",
             "gridcolor": "white",
             "linecolor": "white",
             "minorgridcolor": "white",
             "startlinecolor": "#2a3f5f"
            },
            "type": "carpet"
           }
          ],
          "choropleth": [
           {
            "colorbar": {
             "outlinewidth": 0,
             "ticks": ""
            },
            "type": "choropleth"
           }
          ],
          "contour": [
           {
            "colorbar": {
             "outlinewidth": 0,
             "ticks": ""
            },
            "colorscale": [
             [
              0,
              "#0d0887"
             ],
             [
              0.1111111111111111,
              "#46039f"
             ],
             [
              0.2222222222222222,
              "#7201a8"
             ],
             [
              0.3333333333333333,
              "#9c179e"
             ],
             [
              0.4444444444444444,
              "#bd3786"
             ],
             [
              0.5555555555555556,
              "#d8576b"
             ],
             [
              0.6666666666666666,
              "#ed7953"
             ],
             [
              0.7777777777777778,
              "#fb9f3a"
             ],
             [
              0.8888888888888888,
              "#fdca26"
             ],
             [
              1,
              "#f0f921"
             ]
            ],
            "type": "contour"
           }
          ],
          "contourcarpet": [
           {
            "colorbar": {
             "outlinewidth": 0,
             "ticks": ""
            },
            "type": "contourcarpet"
           }
          ],
          "heatmap": [
           {
            "colorbar": {
             "outlinewidth": 0,
             "ticks": ""
            },
            "colorscale": [
             [
              0,
              "#0d0887"
             ],
             [
              0.1111111111111111,
              "#46039f"
             ],
             [
              0.2222222222222222,
              "#7201a8"
             ],
             [
              0.3333333333333333,
              "#9c179e"
             ],
             [
              0.4444444444444444,
              "#bd3786"
             ],
             [
              0.5555555555555556,
              "#d8576b"
             ],
             [
              0.6666666666666666,
              "#ed7953"
             ],
             [
              0.7777777777777778,
              "#fb9f3a"
             ],
             [
              0.8888888888888888,
              "#fdca26"
             ],
             [
              1,
              "#f0f921"
             ]
            ],
            "type": "heatmap"
           }
          ],
          "heatmapgl": [
           {
            "colorbar": {
             "outlinewidth": 0,
             "ticks": ""
            },
            "colorscale": [
             [
              0,
              "#0d0887"
             ],
             [
              0.1111111111111111,
              "#46039f"
             ],
             [
              0.2222222222222222,
              "#7201a8"
             ],
             [
              0.3333333333333333,
              "#9c179e"
             ],
             [
              0.4444444444444444,
              "#bd3786"
             ],
             [
              0.5555555555555556,
              "#d8576b"
             ],
             [
              0.6666666666666666,
              "#ed7953"
             ],
             [
              0.7777777777777778,
              "#fb9f3a"
             ],
             [
              0.8888888888888888,
              "#fdca26"
             ],
             [
              1,
              "#f0f921"
             ]
            ],
            "type": "heatmapgl"
           }
          ],
          "histogram": [
           {
            "marker": {
             "pattern": {
              "fillmode": "overlay",
              "size": 10,
              "solidity": 0.2
             }
            },
            "type": "histogram"
           }
          ],
          "histogram2d": [
           {
            "colorbar": {
             "outlinewidth": 0,
             "ticks": ""
            },
            "colorscale": [
             [
              0,
              "#0d0887"
             ],
             [
              0.1111111111111111,
              "#46039f"
             ],
             [
              0.2222222222222222,
              "#7201a8"
             ],
             [
              0.3333333333333333,
              "#9c179e"
             ],
             [
              0.4444444444444444,
              "#bd3786"
             ],
             [
              0.5555555555555556,
              "#d8576b"
             ],
             [
              0.6666666666666666,
              "#ed7953"
             ],
             [
              0.7777777777777778,
              "#fb9f3a"
             ],
             [
              0.8888888888888888,
              "#fdca26"
             ],
             [
              1,
              "#f0f921"
             ]
            ],
            "type": "histogram2d"
           }
          ],
          "histogram2dcontour": [
           {
            "colorbar": {
             "outlinewidth": 0,
             "ticks": ""
            },
            "colorscale": [
             [
              0,
              "#0d0887"
             ],
             [
              0.1111111111111111,
              "#46039f"
             ],
             [
              0.2222222222222222,
              "#7201a8"
             ],
             [
              0.3333333333333333,
              "#9c179e"
             ],
             [
              0.4444444444444444,
              "#bd3786"
             ],
             [
              0.5555555555555556,
              "#d8576b"
             ],
             [
              0.6666666666666666,
              "#ed7953"
             ],
             [
              0.7777777777777778,
              "#fb9f3a"
             ],
             [
              0.8888888888888888,
              "#fdca26"
             ],
             [
              1,
              "#f0f921"
             ]
            ],
            "type": "histogram2dcontour"
           }
          ],
          "mesh3d": [
           {
            "colorbar": {
             "outlinewidth": 0,
             "ticks": ""
            },
            "type": "mesh3d"
           }
          ],
          "parcoords": [
           {
            "line": {
             "colorbar": {
              "outlinewidth": 0,
              "ticks": ""
             }
            },
            "type": "parcoords"
           }
          ],
          "pie": [
           {
            "automargin": true,
            "type": "pie"
           }
          ],
          "scatter": [
           {
            "fillpattern": {
             "fillmode": "overlay",
             "size": 10,
             "solidity": 0.2
            },
            "type": "scatter"
           }
          ],
          "scatter3d": [
           {
            "line": {
             "colorbar": {
              "outlinewidth": 0,
              "ticks": ""
             }
            },
            "marker": {
             "colorbar": {
              "outlinewidth": 0,
              "ticks": ""
             }
            },
            "type": "scatter3d"
           }
          ],
          "scattercarpet": [
           {
            "marker": {
             "colorbar": {
              "outlinewidth": 0,
              "ticks": ""
             }
            },
            "type": "scattercarpet"
           }
          ],
          "scattergeo": [
           {
            "marker": {
             "colorbar": {
              "outlinewidth": 0,
              "ticks": ""
             }
            },
            "type": "scattergeo"
           }
          ],
          "scattergl": [
           {
            "marker": {
             "colorbar": {
              "outlinewidth": 0,
              "ticks": ""
             }
            },
            "type": "scattergl"
           }
          ],
          "scattermapbox": [
           {
            "marker": {
             "colorbar": {
              "outlinewidth": 0,
              "ticks": ""
             }
            },
            "type": "scattermapbox"
           }
          ],
          "scatterpolar": [
           {
            "marker": {
             "colorbar": {
              "outlinewidth": 0,
              "ticks": ""
             }
            },
            "type": "scatterpolar"
           }
          ],
          "scatterpolargl": [
           {
            "marker": {
             "colorbar": {
              "outlinewidth": 0,
              "ticks": ""
             }
            },
            "type": "scatterpolargl"
           }
          ],
          "scatterternary": [
           {
            "marker": {
             "colorbar": {
              "outlinewidth": 0,
              "ticks": ""
             }
            },
            "type": "scatterternary"
           }
          ],
          "surface": [
           {
            "colorbar": {
             "outlinewidth": 0,
             "ticks": ""
            },
            "colorscale": [
             [
              0,
              "#0d0887"
             ],
             [
              0.1111111111111111,
              "#46039f"
             ],
             [
              0.2222222222222222,
              "#7201a8"
             ],
             [
              0.3333333333333333,
              "#9c179e"
             ],
             [
              0.4444444444444444,
              "#bd3786"
             ],
             [
              0.5555555555555556,
              "#d8576b"
             ],
             [
              0.6666666666666666,
              "#ed7953"
             ],
             [
              0.7777777777777778,
              "#fb9f3a"
             ],
             [
              0.8888888888888888,
              "#fdca26"
             ],
             [
              1,
              "#f0f921"
             ]
            ],
            "type": "surface"
           }
          ],
          "table": [
           {
            "cells": {
             "fill": {
              "color": "#EBF0F8"
             },
             "line": {
              "color": "white"
             }
            },
            "header": {
             "fill": {
              "color": "#C8D4E3"
             },
             "line": {
              "color": "white"
             }
            },
            "type": "table"
           }
          ]
         },
         "layout": {
          "annotationdefaults": {
           "arrowcolor": "#2a3f5f",
           "arrowhead": 0,
           "arrowwidth": 1
          },
          "autotypenumbers": "strict",
          "coloraxis": {
           "colorbar": {
            "outlinewidth": 0,
            "ticks": ""
           }
          },
          "colorscale": {
           "diverging": [
            [
             0,
             "#8e0152"
            ],
            [
             0.1,
             "#c51b7d"
            ],
            [
             0.2,
             "#de77ae"
            ],
            [
             0.3,
             "#f1b6da"
            ],
            [
             0.4,
             "#fde0ef"
            ],
            [
             0.5,
             "#f7f7f7"
            ],
            [
             0.6,
             "#e6f5d0"
            ],
            [
             0.7,
             "#b8e186"
            ],
            [
             0.8,
             "#7fbc41"
            ],
            [
             0.9,
             "#4d9221"
            ],
            [
             1,
             "#276419"
            ]
           ],
           "sequential": [
            [
             0,
             "#0d0887"
            ],
            [
             0.1111111111111111,
             "#46039f"
            ],
            [
             0.2222222222222222,
             "#7201a8"
            ],
            [
             0.3333333333333333,
             "#9c179e"
            ],
            [
             0.4444444444444444,
             "#bd3786"
            ],
            [
             0.5555555555555556,
             "#d8576b"
            ],
            [
             0.6666666666666666,
             "#ed7953"
            ],
            [
             0.7777777777777778,
             "#fb9f3a"
            ],
            [
             0.8888888888888888,
             "#fdca26"
            ],
            [
             1,
             "#f0f921"
            ]
           ],
           "sequentialminus": [
            [
             0,
             "#0d0887"
            ],
            [
             0.1111111111111111,
             "#46039f"
            ],
            [
             0.2222222222222222,
             "#7201a8"
            ],
            [
             0.3333333333333333,
             "#9c179e"
            ],
            [
             0.4444444444444444,
             "#bd3786"
            ],
            [
             0.5555555555555556,
             "#d8576b"
            ],
            [
             0.6666666666666666,
             "#ed7953"
            ],
            [
             0.7777777777777778,
             "#fb9f3a"
            ],
            [
             0.8888888888888888,
             "#fdca26"
            ],
            [
             1,
             "#f0f921"
            ]
           ]
          },
          "colorway": [
           "#636efa",
           "#EF553B",
           "#00cc96",
           "#ab63fa",
           "#FFA15A",
           "#19d3f3",
           "#FF6692",
           "#B6E880",
           "#FF97FF",
           "#FECB52"
          ],
          "font": {
           "color": "#2a3f5f"
          },
          "geo": {
           "bgcolor": "white",
           "lakecolor": "white",
           "landcolor": "#E5ECF6",
           "showlakes": true,
           "showland": true,
           "subunitcolor": "white"
          },
          "hoverlabel": {
           "align": "left"
          },
          "hovermode": "closest",
          "mapbox": {
           "style": "light"
          },
          "paper_bgcolor": "white",
          "plot_bgcolor": "#E5ECF6",
          "polar": {
           "angularaxis": {
            "gridcolor": "white",
            "linecolor": "white",
            "ticks": ""
           },
           "bgcolor": "#E5ECF6",
           "radialaxis": {
            "gridcolor": "white",
            "linecolor": "white",
            "ticks": ""
           }
          },
          "scene": {
           "xaxis": {
            "backgroundcolor": "#E5ECF6",
            "gridcolor": "white",
            "gridwidth": 2,
            "linecolor": "white",
            "showbackground": true,
            "ticks": "",
            "zerolinecolor": "white"
           },
           "yaxis": {
            "backgroundcolor": "#E5ECF6",
            "gridcolor": "white",
            "gridwidth": 2,
            "linecolor": "white",
            "showbackground": true,
            "ticks": "",
            "zerolinecolor": "white"
           },
           "zaxis": {
            "backgroundcolor": "#E5ECF6",
            "gridcolor": "white",
            "gridwidth": 2,
            "linecolor": "white",
            "showbackground": true,
            "ticks": "",
            "zerolinecolor": "white"
           }
          },
          "shapedefaults": {
           "line": {
            "color": "#2a3f5f"
           }
          },
          "ternary": {
           "aaxis": {
            "gridcolor": "white",
            "linecolor": "white",
            "ticks": ""
           },
           "baxis": {
            "gridcolor": "white",
            "linecolor": "white",
            "ticks": ""
           },
           "bgcolor": "#E5ECF6",
           "caxis": {
            "gridcolor": "white",
            "linecolor": "white",
            "ticks": ""
           }
          },
          "title": {
           "x": 0.05
          },
          "xaxis": {
           "automargin": true,
           "gridcolor": "white",
           "linecolor": "white",
           "ticks": "",
           "title": {
            "standoff": 15
           },
           "zerolinecolor": "white",
           "zerolinewidth": 2
          },
          "yaxis": {
           "automargin": true,
           "gridcolor": "white",
           "linecolor": "white",
           "ticks": "",
           "title": {
            "standoff": 15
           },
           "zerolinecolor": "white",
           "zerolinewidth": 2
          }
         }
        },
        "title": {
         "font": {
          "color": "#4D5663"
         }
        },
        "xaxis": {
         "gridcolor": "#E1E5ED",
         "showgrid": true,
         "tickfont": {
          "color": "#4D5663"
         },
         "title": {
          "font": {
           "color": "#4D5663"
          },
          "text": ""
         },
         "zerolinecolor": "#E1E5ED"
        },
        "yaxis": {
         "gridcolor": "#E1E5ED",
         "showgrid": true,
         "tickfont": {
          "color": "#4D5663"
         },
         "title": {
          "font": {
           "color": "#4D5663"
          },
          "text": ""
         },
         "zerolinecolor": "#E1E5ED"
        }
       }
      },
      "text/html": [
       "<div>                            <div id=\"0438c309-c449-4c43-b85c-45e8e6b65bff\" class=\"plotly-graph-div\" style=\"height:525px; width:100%;\"></div>            <script type=\"text/javascript\">                require([\"plotly\"], function(Plotly) {                    window.PLOTLYENV=window.PLOTLYENV || {};\n",
       "                    window.PLOTLYENV.BASE_URL='https://plot.ly';                                    if (document.getElementById(\"0438c309-c449-4c43-b85c-45e8e6b65bff\")) {                    Plotly.newPlot(                        \"0438c309-c449-4c43-b85c-45e8e6b65bff\",                        [{\"marker\":{\"color\":\"rgba(255, 153, 51, 0.6)\",\"line\":{\"color\":\"rgba(255, 153, 51, 1.0)\",\"width\":1}},\"name\":\"None\",\"orientation\":\"v\",\"text\":\"\",\"x\":[\"A\",\"B\",\"C\",\"D\"],\"y\":[100,100,100,100],\"type\":\"bar\"}],                        {\"legend\":{\"bgcolor\":\"#F5F6F9\",\"font\":{\"color\":\"#4D5663\"}},\"paper_bgcolor\":\"#F5F6F9\",\"plot_bgcolor\":\"#F5F6F9\",\"template\":{\"data\":{\"barpolar\":[{\"marker\":{\"line\":{\"color\":\"#E5ECF6\",\"width\":0.5},\"pattern\":{\"fillmode\":\"overlay\",\"size\":10,\"solidity\":0.2}},\"type\":\"barpolar\"}],\"bar\":[{\"error_x\":{\"color\":\"#2a3f5f\"},\"error_y\":{\"color\":\"#2a3f5f\"},\"marker\":{\"line\":{\"color\":\"#E5ECF6\",\"width\":0.5},\"pattern\":{\"fillmode\":\"overlay\",\"size\":10,\"solidity\":0.2}},\"type\":\"bar\"}],\"carpet\":[{\"aaxis\":{\"endlinecolor\":\"#2a3f5f\",\"gridcolor\":\"white\",\"linecolor\":\"white\",\"minorgridcolor\":\"white\",\"startlinecolor\":\"#2a3f5f\"},\"baxis\":{\"endlinecolor\":\"#2a3f5f\",\"gridcolor\":\"white\",\"linecolor\":\"white\",\"minorgridcolor\":\"white\",\"startlinecolor\":\"#2a3f5f\"},\"type\":\"carpet\"}],\"choropleth\":[{\"colorbar\":{\"outlinewidth\":0,\"ticks\":\"\"},\"type\":\"choropleth\"}],\"contourcarpet\":[{\"colorbar\":{\"outlinewidth\":0,\"ticks\":\"\"},\"type\":\"contourcarpet\"}],\"contour\":[{\"colorbar\":{\"outlinewidth\":0,\"ticks\":\"\"},\"colorscale\":[[0.0,\"#0d0887\"],[0.1111111111111111,\"#46039f\"],[0.2222222222222222,\"#7201a8\"],[0.3333333333333333,\"#9c179e\"],[0.4444444444444444,\"#bd3786\"],[0.5555555555555556,\"#d8576b\"],[0.6666666666666666,\"#ed7953\"],[0.7777777777777778,\"#fb9f3a\"],[0.8888888888888888,\"#fdca26\"],[1.0,\"#f0f921\"]],\"type\":\"contour\"}],\"heatmapgl\":[{\"colorbar\":{\"outlinewidth\":0,\"ticks\":\"\"},\"colorscale\":[[0.0,\"#0d0887\"],[0.1111111111111111,\"#46039f\"],[0.2222222222222222,\"#7201a8\"],[0.3333333333333333,\"#9c179e\"],[0.4444444444444444,\"#bd3786\"],[0.5555555555555556,\"#d8576b\"],[0.6666666666666666,\"#ed7953\"],[0.7777777777777778,\"#fb9f3a\"],[0.8888888888888888,\"#fdca26\"],[1.0,\"#f0f921\"]],\"type\":\"heatmapgl\"}],\"heatmap\":[{\"colorbar\":{\"outlinewidth\":0,\"ticks\":\"\"},\"colorscale\":[[0.0,\"#0d0887\"],[0.1111111111111111,\"#46039f\"],[0.2222222222222222,\"#7201a8\"],[0.3333333333333333,\"#9c179e\"],[0.4444444444444444,\"#bd3786\"],[0.5555555555555556,\"#d8576b\"],[0.6666666666666666,\"#ed7953\"],[0.7777777777777778,\"#fb9f3a\"],[0.8888888888888888,\"#fdca26\"],[1.0,\"#f0f921\"]],\"type\":\"heatmap\"}],\"histogram2dcontour\":[{\"colorbar\":{\"outlinewidth\":0,\"ticks\":\"\"},\"colorscale\":[[0.0,\"#0d0887\"],[0.1111111111111111,\"#46039f\"],[0.2222222222222222,\"#7201a8\"],[0.3333333333333333,\"#9c179e\"],[0.4444444444444444,\"#bd3786\"],[0.5555555555555556,\"#d8576b\"],[0.6666666666666666,\"#ed7953\"],[0.7777777777777778,\"#fb9f3a\"],[0.8888888888888888,\"#fdca26\"],[1.0,\"#f0f921\"]],\"type\":\"histogram2dcontour\"}],\"histogram2d\":[{\"colorbar\":{\"outlinewidth\":0,\"ticks\":\"\"},\"colorscale\":[[0.0,\"#0d0887\"],[0.1111111111111111,\"#46039f\"],[0.2222222222222222,\"#7201a8\"],[0.3333333333333333,\"#9c179e\"],[0.4444444444444444,\"#bd3786\"],[0.5555555555555556,\"#d8576b\"],[0.6666666666666666,\"#ed7953\"],[0.7777777777777778,\"#fb9f3a\"],[0.8888888888888888,\"#fdca26\"],[1.0,\"#f0f921\"]],\"type\":\"histogram2d\"}],\"histogram\":[{\"marker\":{\"pattern\":{\"fillmode\":\"overlay\",\"size\":10,\"solidity\":0.2}},\"type\":\"histogram\"}],\"mesh3d\":[{\"colorbar\":{\"outlinewidth\":0,\"ticks\":\"\"},\"type\":\"mesh3d\"}],\"parcoords\":[{\"line\":{\"colorbar\":{\"outlinewidth\":0,\"ticks\":\"\"}},\"type\":\"parcoords\"}],\"pie\":[{\"automargin\":true,\"type\":\"pie\"}],\"scatter3d\":[{\"line\":{\"colorbar\":{\"outlinewidth\":0,\"ticks\":\"\"}},\"marker\":{\"colorbar\":{\"outlinewidth\":0,\"ticks\":\"\"}},\"type\":\"scatter3d\"}],\"scattercarpet\":[{\"marker\":{\"colorbar\":{\"outlinewidth\":0,\"ticks\":\"\"}},\"type\":\"scattercarpet\"}],\"scattergeo\":[{\"marker\":{\"colorbar\":{\"outlinewidth\":0,\"ticks\":\"\"}},\"type\":\"scattergeo\"}],\"scattergl\":[{\"marker\":{\"colorbar\":{\"outlinewidth\":0,\"ticks\":\"\"}},\"type\":\"scattergl\"}],\"scattermapbox\":[{\"marker\":{\"colorbar\":{\"outlinewidth\":0,\"ticks\":\"\"}},\"type\":\"scattermapbox\"}],\"scatterpolargl\":[{\"marker\":{\"colorbar\":{\"outlinewidth\":0,\"ticks\":\"\"}},\"type\":\"scatterpolargl\"}],\"scatterpolar\":[{\"marker\":{\"colorbar\":{\"outlinewidth\":0,\"ticks\":\"\"}},\"type\":\"scatterpolar\"}],\"scatter\":[{\"fillpattern\":{\"fillmode\":\"overlay\",\"size\":10,\"solidity\":0.2},\"type\":\"scatter\"}],\"scatterternary\":[{\"marker\":{\"colorbar\":{\"outlinewidth\":0,\"ticks\":\"\"}},\"type\":\"scatterternary\"}],\"surface\":[{\"colorbar\":{\"outlinewidth\":0,\"ticks\":\"\"},\"colorscale\":[[0.0,\"#0d0887\"],[0.1111111111111111,\"#46039f\"],[0.2222222222222222,\"#7201a8\"],[0.3333333333333333,\"#9c179e\"],[0.4444444444444444,\"#bd3786\"],[0.5555555555555556,\"#d8576b\"],[0.6666666666666666,\"#ed7953\"],[0.7777777777777778,\"#fb9f3a\"],[0.8888888888888888,\"#fdca26\"],[1.0,\"#f0f921\"]],\"type\":\"surface\"}],\"table\":[{\"cells\":{\"fill\":{\"color\":\"#EBF0F8\"},\"line\":{\"color\":\"white\"}},\"header\":{\"fill\":{\"color\":\"#C8D4E3\"},\"line\":{\"color\":\"white\"}},\"type\":\"table\"}]},\"layout\":{\"annotationdefaults\":{\"arrowcolor\":\"#2a3f5f\",\"arrowhead\":0,\"arrowwidth\":1},\"autotypenumbers\":\"strict\",\"coloraxis\":{\"colorbar\":{\"outlinewidth\":0,\"ticks\":\"\"}},\"colorscale\":{\"diverging\":[[0,\"#8e0152\"],[0.1,\"#c51b7d\"],[0.2,\"#de77ae\"],[0.3,\"#f1b6da\"],[0.4,\"#fde0ef\"],[0.5,\"#f7f7f7\"],[0.6,\"#e6f5d0\"],[0.7,\"#b8e186\"],[0.8,\"#7fbc41\"],[0.9,\"#4d9221\"],[1,\"#276419\"]],\"sequential\":[[0.0,\"#0d0887\"],[0.1111111111111111,\"#46039f\"],[0.2222222222222222,\"#7201a8\"],[0.3333333333333333,\"#9c179e\"],[0.4444444444444444,\"#bd3786\"],[0.5555555555555556,\"#d8576b\"],[0.6666666666666666,\"#ed7953\"],[0.7777777777777778,\"#fb9f3a\"],[0.8888888888888888,\"#fdca26\"],[1.0,\"#f0f921\"]],\"sequentialminus\":[[0.0,\"#0d0887\"],[0.1111111111111111,\"#46039f\"],[0.2222222222222222,\"#7201a8\"],[0.3333333333333333,\"#9c179e\"],[0.4444444444444444,\"#bd3786\"],[0.5555555555555556,\"#d8576b\"],[0.6666666666666666,\"#ed7953\"],[0.7777777777777778,\"#fb9f3a\"],[0.8888888888888888,\"#fdca26\"],[1.0,\"#f0f921\"]]},\"colorway\":[\"#636efa\",\"#EF553B\",\"#00cc96\",\"#ab63fa\",\"#FFA15A\",\"#19d3f3\",\"#FF6692\",\"#B6E880\",\"#FF97FF\",\"#FECB52\"],\"font\":{\"color\":\"#2a3f5f\"},\"geo\":{\"bgcolor\":\"white\",\"lakecolor\":\"white\",\"landcolor\":\"#E5ECF6\",\"showlakes\":true,\"showland\":true,\"subunitcolor\":\"white\"},\"hoverlabel\":{\"align\":\"left\"},\"hovermode\":\"closest\",\"mapbox\":{\"style\":\"light\"},\"paper_bgcolor\":\"white\",\"plot_bgcolor\":\"#E5ECF6\",\"polar\":{\"angularaxis\":{\"gridcolor\":\"white\",\"linecolor\":\"white\",\"ticks\":\"\"},\"bgcolor\":\"#E5ECF6\",\"radialaxis\":{\"gridcolor\":\"white\",\"linecolor\":\"white\",\"ticks\":\"\"}},\"scene\":{\"xaxis\":{\"backgroundcolor\":\"#E5ECF6\",\"gridcolor\":\"white\",\"gridwidth\":2,\"linecolor\":\"white\",\"showbackground\":true,\"ticks\":\"\",\"zerolinecolor\":\"white\"},\"yaxis\":{\"backgroundcolor\":\"#E5ECF6\",\"gridcolor\":\"white\",\"gridwidth\":2,\"linecolor\":\"white\",\"showbackground\":true,\"ticks\":\"\",\"zerolinecolor\":\"white\"},\"zaxis\":{\"backgroundcolor\":\"#E5ECF6\",\"gridcolor\":\"white\",\"gridwidth\":2,\"linecolor\":\"white\",\"showbackground\":true,\"ticks\":\"\",\"zerolinecolor\":\"white\"}},\"shapedefaults\":{\"line\":{\"color\":\"#2a3f5f\"}},\"ternary\":{\"aaxis\":{\"gridcolor\":\"white\",\"linecolor\":\"white\",\"ticks\":\"\"},\"baxis\":{\"gridcolor\":\"white\",\"linecolor\":\"white\",\"ticks\":\"\"},\"bgcolor\":\"#E5ECF6\",\"caxis\":{\"gridcolor\":\"white\",\"linecolor\":\"white\",\"ticks\":\"\"}},\"title\":{\"x\":0.05},\"xaxis\":{\"automargin\":true,\"gridcolor\":\"white\",\"linecolor\":\"white\",\"ticks\":\"\",\"title\":{\"standoff\":15},\"zerolinecolor\":\"white\",\"zerolinewidth\":2},\"yaxis\":{\"automargin\":true,\"gridcolor\":\"white\",\"linecolor\":\"white\",\"ticks\":\"\",\"title\":{\"standoff\":15},\"zerolinecolor\":\"white\",\"zerolinewidth\":2}}},\"title\":{\"font\":{\"color\":\"#4D5663\"}},\"xaxis\":{\"gridcolor\":\"#E1E5ED\",\"showgrid\":true,\"tickfont\":{\"color\":\"#4D5663\"},\"title\":{\"font\":{\"color\":\"#4D5663\"},\"text\":\"\"},\"zerolinecolor\":\"#E1E5ED\"},\"yaxis\":{\"gridcolor\":\"#E1E5ED\",\"showgrid\":true,\"tickfont\":{\"color\":\"#4D5663\"},\"title\":{\"font\":{\"color\":\"#4D5663\"},\"text\":\"\"},\"zerolinecolor\":\"#E1E5ED\"}},                        {\"showLink\": true, \"linkText\": \"Export to plot.ly\", \"plotlyServerURL\": \"https://plot.ly\", \"responsive\": true}                    ).then(function(){\n",
       "                            \n",
       "var gd = document.getElementById('0438c309-c449-4c43-b85c-45e8e6b65bff');\n",
       "var x = new MutationObserver(function (mutations, observer) {{\n",
       "        var display = window.getComputedStyle(gd).display;\n",
       "        if (!display || display === 'none') {{\n",
       "            console.log([gd, 'removed!']);\n",
       "            Plotly.purge(gd);\n",
       "            observer.disconnect();\n",
       "        }}\n",
       "}});\n",
       "\n",
       "// Listen for the removal of the full notebook cells\n",
       "var notebookContainer = gd.closest('#notebook-container');\n",
       "if (notebookContainer) {{\n",
       "    x.observe(notebookContainer, {childList: true});\n",
       "}}\n",
       "\n",
       "// Listen for the clearing of the current output cell\n",
       "var outputEl = gd.closest('.output');\n",
       "if (outputEl) {{\n",
       "    x.observe(outputEl, {childList: true});\n",
       "}}\n",
       "\n",
       "                        })                };                });            </script>        </div>"
      ]
     },
     "metadata": {},
     "output_type": "display_data"
    }
   ],
   "source": [
    "df.count().iplot(kind='bar')"
   ]
  },
  {
   "cell_type": "code",
   "execution_count": 13,
   "metadata": {},
   "outputs": [
    {
     "data": {
      "application/vnd.plotly.v1+json": {
       "config": {
        "linkText": "Export to plot.ly",
        "plotlyServerURL": "https://plot.ly",
        "showLink": true
       },
       "data": [
        {
         "marker": {
          "color": "rgba(255, 153, 51, 0.6)",
          "line": {
           "color": "rgba(255, 153, 51, 1.0)",
           "width": 1
          }
         },
         "name": "None",
         "orientation": "v",
         "text": "",
         "type": "bar",
         "x": [
          "A",
          "B",
          "C",
          "D"
         ],
         "y": [
          0.04198619281421194,
          0.10601854739102161,
          0.05017417880131307,
          0.10942572816410029
         ]
        }
       ],
       "layout": {
        "legend": {
         "bgcolor": "#F5F6F9",
         "font": {
          "color": "#4D5663"
         }
        },
        "paper_bgcolor": "#F5F6F9",
        "plot_bgcolor": "#F5F6F9",
        "template": {
         "data": {
          "bar": [
           {
            "error_x": {
             "color": "#2a3f5f"
            },
            "error_y": {
             "color": "#2a3f5f"
            },
            "marker": {
             "line": {
              "color": "#E5ECF6",
              "width": 0.5
             },
             "pattern": {
              "fillmode": "overlay",
              "size": 10,
              "solidity": 0.2
             }
            },
            "type": "bar"
           }
          ],
          "barpolar": [
           {
            "marker": {
             "line": {
              "color": "#E5ECF6",
              "width": 0.5
             },
             "pattern": {
              "fillmode": "overlay",
              "size": 10,
              "solidity": 0.2
             }
            },
            "type": "barpolar"
           }
          ],
          "carpet": [
           {
            "aaxis": {
             "endlinecolor": "#2a3f5f",
             "gridcolor": "white",
             "linecolor": "white",
             "minorgridcolor": "white",
             "startlinecolor": "#2a3f5f"
            },
            "baxis": {
             "endlinecolor": "#2a3f5f",
             "gridcolor": "white",
             "linecolor": "white",
             "minorgridcolor": "white",
             "startlinecolor": "#2a3f5f"
            },
            "type": "carpet"
           }
          ],
          "choropleth": [
           {
            "colorbar": {
             "outlinewidth": 0,
             "ticks": ""
            },
            "type": "choropleth"
           }
          ],
          "contour": [
           {
            "colorbar": {
             "outlinewidth": 0,
             "ticks": ""
            },
            "colorscale": [
             [
              0,
              "#0d0887"
             ],
             [
              0.1111111111111111,
              "#46039f"
             ],
             [
              0.2222222222222222,
              "#7201a8"
             ],
             [
              0.3333333333333333,
              "#9c179e"
             ],
             [
              0.4444444444444444,
              "#bd3786"
             ],
             [
              0.5555555555555556,
              "#d8576b"
             ],
             [
              0.6666666666666666,
              "#ed7953"
             ],
             [
              0.7777777777777778,
              "#fb9f3a"
             ],
             [
              0.8888888888888888,
              "#fdca26"
             ],
             [
              1,
              "#f0f921"
             ]
            ],
            "type": "contour"
           }
          ],
          "contourcarpet": [
           {
            "colorbar": {
             "outlinewidth": 0,
             "ticks": ""
            },
            "type": "contourcarpet"
           }
          ],
          "heatmap": [
           {
            "colorbar": {
             "outlinewidth": 0,
             "ticks": ""
            },
            "colorscale": [
             [
              0,
              "#0d0887"
             ],
             [
              0.1111111111111111,
              "#46039f"
             ],
             [
              0.2222222222222222,
              "#7201a8"
             ],
             [
              0.3333333333333333,
              "#9c179e"
             ],
             [
              0.4444444444444444,
              "#bd3786"
             ],
             [
              0.5555555555555556,
              "#d8576b"
             ],
             [
              0.6666666666666666,
              "#ed7953"
             ],
             [
              0.7777777777777778,
              "#fb9f3a"
             ],
             [
              0.8888888888888888,
              "#fdca26"
             ],
             [
              1,
              "#f0f921"
             ]
            ],
            "type": "heatmap"
           }
          ],
          "heatmapgl": [
           {
            "colorbar": {
             "outlinewidth": 0,
             "ticks": ""
            },
            "colorscale": [
             [
              0,
              "#0d0887"
             ],
             [
              0.1111111111111111,
              "#46039f"
             ],
             [
              0.2222222222222222,
              "#7201a8"
             ],
             [
              0.3333333333333333,
              "#9c179e"
             ],
             [
              0.4444444444444444,
              "#bd3786"
             ],
             [
              0.5555555555555556,
              "#d8576b"
             ],
             [
              0.6666666666666666,
              "#ed7953"
             ],
             [
              0.7777777777777778,
              "#fb9f3a"
             ],
             [
              0.8888888888888888,
              "#fdca26"
             ],
             [
              1,
              "#f0f921"
             ]
            ],
            "type": "heatmapgl"
           }
          ],
          "histogram": [
           {
            "marker": {
             "pattern": {
              "fillmode": "overlay",
              "size": 10,
              "solidity": 0.2
             }
            },
            "type": "histogram"
           }
          ],
          "histogram2d": [
           {
            "colorbar": {
             "outlinewidth": 0,
             "ticks": ""
            },
            "colorscale": [
             [
              0,
              "#0d0887"
             ],
             [
              0.1111111111111111,
              "#46039f"
             ],
             [
              0.2222222222222222,
              "#7201a8"
             ],
             [
              0.3333333333333333,
              "#9c179e"
             ],
             [
              0.4444444444444444,
              "#bd3786"
             ],
             [
              0.5555555555555556,
              "#d8576b"
             ],
             [
              0.6666666666666666,
              "#ed7953"
             ],
             [
              0.7777777777777778,
              "#fb9f3a"
             ],
             [
              0.8888888888888888,
              "#fdca26"
             ],
             [
              1,
              "#f0f921"
             ]
            ],
            "type": "histogram2d"
           }
          ],
          "histogram2dcontour": [
           {
            "colorbar": {
             "outlinewidth": 0,
             "ticks": ""
            },
            "colorscale": [
             [
              0,
              "#0d0887"
             ],
             [
              0.1111111111111111,
              "#46039f"
             ],
             [
              0.2222222222222222,
              "#7201a8"
             ],
             [
              0.3333333333333333,
              "#9c179e"
             ],
             [
              0.4444444444444444,
              "#bd3786"
             ],
             [
              0.5555555555555556,
              "#d8576b"
             ],
             [
              0.6666666666666666,
              "#ed7953"
             ],
             [
              0.7777777777777778,
              "#fb9f3a"
             ],
             [
              0.8888888888888888,
              "#fdca26"
             ],
             [
              1,
              "#f0f921"
             ]
            ],
            "type": "histogram2dcontour"
           }
          ],
          "mesh3d": [
           {
            "colorbar": {
             "outlinewidth": 0,
             "ticks": ""
            },
            "type": "mesh3d"
           }
          ],
          "parcoords": [
           {
            "line": {
             "colorbar": {
              "outlinewidth": 0,
              "ticks": ""
             }
            },
            "type": "parcoords"
           }
          ],
          "pie": [
           {
            "automargin": true,
            "type": "pie"
           }
          ],
          "scatter": [
           {
            "fillpattern": {
             "fillmode": "overlay",
             "size": 10,
             "solidity": 0.2
            },
            "type": "scatter"
           }
          ],
          "scatter3d": [
           {
            "line": {
             "colorbar": {
              "outlinewidth": 0,
              "ticks": ""
             }
            },
            "marker": {
             "colorbar": {
              "outlinewidth": 0,
              "ticks": ""
             }
            },
            "type": "scatter3d"
           }
          ],
          "scattercarpet": [
           {
            "marker": {
             "colorbar": {
              "outlinewidth": 0,
              "ticks": ""
             }
            },
            "type": "scattercarpet"
           }
          ],
          "scattergeo": [
           {
            "marker": {
             "colorbar": {
              "outlinewidth": 0,
              "ticks": ""
             }
            },
            "type": "scattergeo"
           }
          ],
          "scattergl": [
           {
            "marker": {
             "colorbar": {
              "outlinewidth": 0,
              "ticks": ""
             }
            },
            "type": "scattergl"
           }
          ],
          "scattermapbox": [
           {
            "marker": {
             "colorbar": {
              "outlinewidth": 0,
              "ticks": ""
             }
            },
            "type": "scattermapbox"
           }
          ],
          "scatterpolar": [
           {
            "marker": {
             "colorbar": {
              "outlinewidth": 0,
              "ticks": ""
             }
            },
            "type": "scatterpolar"
           }
          ],
          "scatterpolargl": [
           {
            "marker": {
             "colorbar": {
              "outlinewidth": 0,
              "ticks": ""
             }
            },
            "type": "scatterpolargl"
           }
          ],
          "scatterternary": [
           {
            "marker": {
             "colorbar": {
              "outlinewidth": 0,
              "ticks": ""
             }
            },
            "type": "scatterternary"
           }
          ],
          "surface": [
           {
            "colorbar": {
             "outlinewidth": 0,
             "ticks": ""
            },
            "colorscale": [
             [
              0,
              "#0d0887"
             ],
             [
              0.1111111111111111,
              "#46039f"
             ],
             [
              0.2222222222222222,
              "#7201a8"
             ],
             [
              0.3333333333333333,
              "#9c179e"
             ],
             [
              0.4444444444444444,
              "#bd3786"
             ],
             [
              0.5555555555555556,
              "#d8576b"
             ],
             [
              0.6666666666666666,
              "#ed7953"
             ],
             [
              0.7777777777777778,
              "#fb9f3a"
             ],
             [
              0.8888888888888888,
              "#fdca26"
             ],
             [
              1,
              "#f0f921"
             ]
            ],
            "type": "surface"
           }
          ],
          "table": [
           {
            "cells": {
             "fill": {
              "color": "#EBF0F8"
             },
             "line": {
              "color": "white"
             }
            },
            "header": {
             "fill": {
              "color": "#C8D4E3"
             },
             "line": {
              "color": "white"
             }
            },
            "type": "table"
           }
          ]
         },
         "layout": {
          "annotationdefaults": {
           "arrowcolor": "#2a3f5f",
           "arrowhead": 0,
           "arrowwidth": 1
          },
          "autotypenumbers": "strict",
          "coloraxis": {
           "colorbar": {
            "outlinewidth": 0,
            "ticks": ""
           }
          },
          "colorscale": {
           "diverging": [
            [
             0,
             "#8e0152"
            ],
            [
             0.1,
             "#c51b7d"
            ],
            [
             0.2,
             "#de77ae"
            ],
            [
             0.3,
             "#f1b6da"
            ],
            [
             0.4,
             "#fde0ef"
            ],
            [
             0.5,
             "#f7f7f7"
            ],
            [
             0.6,
             "#e6f5d0"
            ],
            [
             0.7,
             "#b8e186"
            ],
            [
             0.8,
             "#7fbc41"
            ],
            [
             0.9,
             "#4d9221"
            ],
            [
             1,
             "#276419"
            ]
           ],
           "sequential": [
            [
             0,
             "#0d0887"
            ],
            [
             0.1111111111111111,
             "#46039f"
            ],
            [
             0.2222222222222222,
             "#7201a8"
            ],
            [
             0.3333333333333333,
             "#9c179e"
            ],
            [
             0.4444444444444444,
             "#bd3786"
            ],
            [
             0.5555555555555556,
             "#d8576b"
            ],
            [
             0.6666666666666666,
             "#ed7953"
            ],
            [
             0.7777777777777778,
             "#fb9f3a"
            ],
            [
             0.8888888888888888,
             "#fdca26"
            ],
            [
             1,
             "#f0f921"
            ]
           ],
           "sequentialminus": [
            [
             0,
             "#0d0887"
            ],
            [
             0.1111111111111111,
             "#46039f"
            ],
            [
             0.2222222222222222,
             "#7201a8"
            ],
            [
             0.3333333333333333,
             "#9c179e"
            ],
            [
             0.4444444444444444,
             "#bd3786"
            ],
            [
             0.5555555555555556,
             "#d8576b"
            ],
            [
             0.6666666666666666,
             "#ed7953"
            ],
            [
             0.7777777777777778,
             "#fb9f3a"
            ],
            [
             0.8888888888888888,
             "#fdca26"
            ],
            [
             1,
             "#f0f921"
            ]
           ]
          },
          "colorway": [
           "#636efa",
           "#EF553B",
           "#00cc96",
           "#ab63fa",
           "#FFA15A",
           "#19d3f3",
           "#FF6692",
           "#B6E880",
           "#FF97FF",
           "#FECB52"
          ],
          "font": {
           "color": "#2a3f5f"
          },
          "geo": {
           "bgcolor": "white",
           "lakecolor": "white",
           "landcolor": "#E5ECF6",
           "showlakes": true,
           "showland": true,
           "subunitcolor": "white"
          },
          "hoverlabel": {
           "align": "left"
          },
          "hovermode": "closest",
          "mapbox": {
           "style": "light"
          },
          "paper_bgcolor": "white",
          "plot_bgcolor": "#E5ECF6",
          "polar": {
           "angularaxis": {
            "gridcolor": "white",
            "linecolor": "white",
            "ticks": ""
           },
           "bgcolor": "#E5ECF6",
           "radialaxis": {
            "gridcolor": "white",
            "linecolor": "white",
            "ticks": ""
           }
          },
          "scene": {
           "xaxis": {
            "backgroundcolor": "#E5ECF6",
            "gridcolor": "white",
            "gridwidth": 2,
            "linecolor": "white",
            "showbackground": true,
            "ticks": "",
            "zerolinecolor": "white"
           },
           "yaxis": {
            "backgroundcolor": "#E5ECF6",
            "gridcolor": "white",
            "gridwidth": 2,
            "linecolor": "white",
            "showbackground": true,
            "ticks": "",
            "zerolinecolor": "white"
           },
           "zaxis": {
            "backgroundcolor": "#E5ECF6",
            "gridcolor": "white",
            "gridwidth": 2,
            "linecolor": "white",
            "showbackground": true,
            "ticks": "",
            "zerolinecolor": "white"
           }
          },
          "shapedefaults": {
           "line": {
            "color": "#2a3f5f"
           }
          },
          "ternary": {
           "aaxis": {
            "gridcolor": "white",
            "linecolor": "white",
            "ticks": ""
           },
           "baxis": {
            "gridcolor": "white",
            "linecolor": "white",
            "ticks": ""
           },
           "bgcolor": "#E5ECF6",
           "caxis": {
            "gridcolor": "white",
            "linecolor": "white",
            "ticks": ""
           }
          },
          "title": {
           "x": 0.05
          },
          "xaxis": {
           "automargin": true,
           "gridcolor": "white",
           "linecolor": "white",
           "ticks": "",
           "title": {
            "standoff": 15
           },
           "zerolinecolor": "white",
           "zerolinewidth": 2
          },
          "yaxis": {
           "automargin": true,
           "gridcolor": "white",
           "linecolor": "white",
           "ticks": "",
           "title": {
            "standoff": 15
           },
           "zerolinecolor": "white",
           "zerolinewidth": 2
          }
         }
        },
        "title": {
         "font": {
          "color": "#4D5663"
         }
        },
        "xaxis": {
         "gridcolor": "#E1E5ED",
         "showgrid": true,
         "tickfont": {
          "color": "#4D5663"
         },
         "title": {
          "font": {
           "color": "#4D5663"
          },
          "text": ""
         },
         "zerolinecolor": "#E1E5ED"
        },
        "yaxis": {
         "gridcolor": "#E1E5ED",
         "showgrid": true,
         "tickfont": {
          "color": "#4D5663"
         },
         "title": {
          "font": {
           "color": "#4D5663"
          },
          "text": ""
         },
         "zerolinecolor": "#E1E5ED"
        }
       }
      },
      "text/html": [
       "<div>                            <div id=\"356eef27-ea6a-495b-b77d-56ca0ea534d7\" class=\"plotly-graph-div\" style=\"height:525px; width:100%;\"></div>            <script type=\"text/javascript\">                require([\"plotly\"], function(Plotly) {                    window.PLOTLYENV=window.PLOTLYENV || {};\n",
       "                    window.PLOTLYENV.BASE_URL='https://plot.ly';                                    if (document.getElementById(\"356eef27-ea6a-495b-b77d-56ca0ea534d7\")) {                    Plotly.newPlot(                        \"356eef27-ea6a-495b-b77d-56ca0ea534d7\",                        [{\"marker\":{\"color\":\"rgba(255, 153, 51, 0.6)\",\"line\":{\"color\":\"rgba(255, 153, 51, 1.0)\",\"width\":1}},\"name\":\"None\",\"orientation\":\"v\",\"text\":\"\",\"x\":[\"A\",\"B\",\"C\",\"D\"],\"y\":[0.04198619281421194,0.10601854739102161,0.05017417880131307,0.10942572816410029],\"type\":\"bar\"}],                        {\"legend\":{\"bgcolor\":\"#F5F6F9\",\"font\":{\"color\":\"#4D5663\"}},\"paper_bgcolor\":\"#F5F6F9\",\"plot_bgcolor\":\"#F5F6F9\",\"template\":{\"data\":{\"barpolar\":[{\"marker\":{\"line\":{\"color\":\"#E5ECF6\",\"width\":0.5},\"pattern\":{\"fillmode\":\"overlay\",\"size\":10,\"solidity\":0.2}},\"type\":\"barpolar\"}],\"bar\":[{\"error_x\":{\"color\":\"#2a3f5f\"},\"error_y\":{\"color\":\"#2a3f5f\"},\"marker\":{\"line\":{\"color\":\"#E5ECF6\",\"width\":0.5},\"pattern\":{\"fillmode\":\"overlay\",\"size\":10,\"solidity\":0.2}},\"type\":\"bar\"}],\"carpet\":[{\"aaxis\":{\"endlinecolor\":\"#2a3f5f\",\"gridcolor\":\"white\",\"linecolor\":\"white\",\"minorgridcolor\":\"white\",\"startlinecolor\":\"#2a3f5f\"},\"baxis\":{\"endlinecolor\":\"#2a3f5f\",\"gridcolor\":\"white\",\"linecolor\":\"white\",\"minorgridcolor\":\"white\",\"startlinecolor\":\"#2a3f5f\"},\"type\":\"carpet\"}],\"choropleth\":[{\"colorbar\":{\"outlinewidth\":0,\"ticks\":\"\"},\"type\":\"choropleth\"}],\"contourcarpet\":[{\"colorbar\":{\"outlinewidth\":0,\"ticks\":\"\"},\"type\":\"contourcarpet\"}],\"contour\":[{\"colorbar\":{\"outlinewidth\":0,\"ticks\":\"\"},\"colorscale\":[[0.0,\"#0d0887\"],[0.1111111111111111,\"#46039f\"],[0.2222222222222222,\"#7201a8\"],[0.3333333333333333,\"#9c179e\"],[0.4444444444444444,\"#bd3786\"],[0.5555555555555556,\"#d8576b\"],[0.6666666666666666,\"#ed7953\"],[0.7777777777777778,\"#fb9f3a\"],[0.8888888888888888,\"#fdca26\"],[1.0,\"#f0f921\"]],\"type\":\"contour\"}],\"heatmapgl\":[{\"colorbar\":{\"outlinewidth\":0,\"ticks\":\"\"},\"colorscale\":[[0.0,\"#0d0887\"],[0.1111111111111111,\"#46039f\"],[0.2222222222222222,\"#7201a8\"],[0.3333333333333333,\"#9c179e\"],[0.4444444444444444,\"#bd3786\"],[0.5555555555555556,\"#d8576b\"],[0.6666666666666666,\"#ed7953\"],[0.7777777777777778,\"#fb9f3a\"],[0.8888888888888888,\"#fdca26\"],[1.0,\"#f0f921\"]],\"type\":\"heatmapgl\"}],\"heatmap\":[{\"colorbar\":{\"outlinewidth\":0,\"ticks\":\"\"},\"colorscale\":[[0.0,\"#0d0887\"],[0.1111111111111111,\"#46039f\"],[0.2222222222222222,\"#7201a8\"],[0.3333333333333333,\"#9c179e\"],[0.4444444444444444,\"#bd3786\"],[0.5555555555555556,\"#d8576b\"],[0.6666666666666666,\"#ed7953\"],[0.7777777777777778,\"#fb9f3a\"],[0.8888888888888888,\"#fdca26\"],[1.0,\"#f0f921\"]],\"type\":\"heatmap\"}],\"histogram2dcontour\":[{\"colorbar\":{\"outlinewidth\":0,\"ticks\":\"\"},\"colorscale\":[[0.0,\"#0d0887\"],[0.1111111111111111,\"#46039f\"],[0.2222222222222222,\"#7201a8\"],[0.3333333333333333,\"#9c179e\"],[0.4444444444444444,\"#bd3786\"],[0.5555555555555556,\"#d8576b\"],[0.6666666666666666,\"#ed7953\"],[0.7777777777777778,\"#fb9f3a\"],[0.8888888888888888,\"#fdca26\"],[1.0,\"#f0f921\"]],\"type\":\"histogram2dcontour\"}],\"histogram2d\":[{\"colorbar\":{\"outlinewidth\":0,\"ticks\":\"\"},\"colorscale\":[[0.0,\"#0d0887\"],[0.1111111111111111,\"#46039f\"],[0.2222222222222222,\"#7201a8\"],[0.3333333333333333,\"#9c179e\"],[0.4444444444444444,\"#bd3786\"],[0.5555555555555556,\"#d8576b\"],[0.6666666666666666,\"#ed7953\"],[0.7777777777777778,\"#fb9f3a\"],[0.8888888888888888,\"#fdca26\"],[1.0,\"#f0f921\"]],\"type\":\"histogram2d\"}],\"histogram\":[{\"marker\":{\"pattern\":{\"fillmode\":\"overlay\",\"size\":10,\"solidity\":0.2}},\"type\":\"histogram\"}],\"mesh3d\":[{\"colorbar\":{\"outlinewidth\":0,\"ticks\":\"\"},\"type\":\"mesh3d\"}],\"parcoords\":[{\"line\":{\"colorbar\":{\"outlinewidth\":0,\"ticks\":\"\"}},\"type\":\"parcoords\"}],\"pie\":[{\"automargin\":true,\"type\":\"pie\"}],\"scatter3d\":[{\"line\":{\"colorbar\":{\"outlinewidth\":0,\"ticks\":\"\"}},\"marker\":{\"colorbar\":{\"outlinewidth\":0,\"ticks\":\"\"}},\"type\":\"scatter3d\"}],\"scattercarpet\":[{\"marker\":{\"colorbar\":{\"outlinewidth\":0,\"ticks\":\"\"}},\"type\":\"scattercarpet\"}],\"scattergeo\":[{\"marker\":{\"colorbar\":{\"outlinewidth\":0,\"ticks\":\"\"}},\"type\":\"scattergeo\"}],\"scattergl\":[{\"marker\":{\"colorbar\":{\"outlinewidth\":0,\"ticks\":\"\"}},\"type\":\"scattergl\"}],\"scattermapbox\":[{\"marker\":{\"colorbar\":{\"outlinewidth\":0,\"ticks\":\"\"}},\"type\":\"scattermapbox\"}],\"scatterpolargl\":[{\"marker\":{\"colorbar\":{\"outlinewidth\":0,\"ticks\":\"\"}},\"type\":\"scatterpolargl\"}],\"scatterpolar\":[{\"marker\":{\"colorbar\":{\"outlinewidth\":0,\"ticks\":\"\"}},\"type\":\"scatterpolar\"}],\"scatter\":[{\"fillpattern\":{\"fillmode\":\"overlay\",\"size\":10,\"solidity\":0.2},\"type\":\"scatter\"}],\"scatterternary\":[{\"marker\":{\"colorbar\":{\"outlinewidth\":0,\"ticks\":\"\"}},\"type\":\"scatterternary\"}],\"surface\":[{\"colorbar\":{\"outlinewidth\":0,\"ticks\":\"\"},\"colorscale\":[[0.0,\"#0d0887\"],[0.1111111111111111,\"#46039f\"],[0.2222222222222222,\"#7201a8\"],[0.3333333333333333,\"#9c179e\"],[0.4444444444444444,\"#bd3786\"],[0.5555555555555556,\"#d8576b\"],[0.6666666666666666,\"#ed7953\"],[0.7777777777777778,\"#fb9f3a\"],[0.8888888888888888,\"#fdca26\"],[1.0,\"#f0f921\"]],\"type\":\"surface\"}],\"table\":[{\"cells\":{\"fill\":{\"color\":\"#EBF0F8\"},\"line\":{\"color\":\"white\"}},\"header\":{\"fill\":{\"color\":\"#C8D4E3\"},\"line\":{\"color\":\"white\"}},\"type\":\"table\"}]},\"layout\":{\"annotationdefaults\":{\"arrowcolor\":\"#2a3f5f\",\"arrowhead\":0,\"arrowwidth\":1},\"autotypenumbers\":\"strict\",\"coloraxis\":{\"colorbar\":{\"outlinewidth\":0,\"ticks\":\"\"}},\"colorscale\":{\"diverging\":[[0,\"#8e0152\"],[0.1,\"#c51b7d\"],[0.2,\"#de77ae\"],[0.3,\"#f1b6da\"],[0.4,\"#fde0ef\"],[0.5,\"#f7f7f7\"],[0.6,\"#e6f5d0\"],[0.7,\"#b8e186\"],[0.8,\"#7fbc41\"],[0.9,\"#4d9221\"],[1,\"#276419\"]],\"sequential\":[[0.0,\"#0d0887\"],[0.1111111111111111,\"#46039f\"],[0.2222222222222222,\"#7201a8\"],[0.3333333333333333,\"#9c179e\"],[0.4444444444444444,\"#bd3786\"],[0.5555555555555556,\"#d8576b\"],[0.6666666666666666,\"#ed7953\"],[0.7777777777777778,\"#fb9f3a\"],[0.8888888888888888,\"#fdca26\"],[1.0,\"#f0f921\"]],\"sequentialminus\":[[0.0,\"#0d0887\"],[0.1111111111111111,\"#46039f\"],[0.2222222222222222,\"#7201a8\"],[0.3333333333333333,\"#9c179e\"],[0.4444444444444444,\"#bd3786\"],[0.5555555555555556,\"#d8576b\"],[0.6666666666666666,\"#ed7953\"],[0.7777777777777778,\"#fb9f3a\"],[0.8888888888888888,\"#fdca26\"],[1.0,\"#f0f921\"]]},\"colorway\":[\"#636efa\",\"#EF553B\",\"#00cc96\",\"#ab63fa\",\"#FFA15A\",\"#19d3f3\",\"#FF6692\",\"#B6E880\",\"#FF97FF\",\"#FECB52\"],\"font\":{\"color\":\"#2a3f5f\"},\"geo\":{\"bgcolor\":\"white\",\"lakecolor\":\"white\",\"landcolor\":\"#E5ECF6\",\"showlakes\":true,\"showland\":true,\"subunitcolor\":\"white\"},\"hoverlabel\":{\"align\":\"left\"},\"hovermode\":\"closest\",\"mapbox\":{\"style\":\"light\"},\"paper_bgcolor\":\"white\",\"plot_bgcolor\":\"#E5ECF6\",\"polar\":{\"angularaxis\":{\"gridcolor\":\"white\",\"linecolor\":\"white\",\"ticks\":\"\"},\"bgcolor\":\"#E5ECF6\",\"radialaxis\":{\"gridcolor\":\"white\",\"linecolor\":\"white\",\"ticks\":\"\"}},\"scene\":{\"xaxis\":{\"backgroundcolor\":\"#E5ECF6\",\"gridcolor\":\"white\",\"gridwidth\":2,\"linecolor\":\"white\",\"showbackground\":true,\"ticks\":\"\",\"zerolinecolor\":\"white\"},\"yaxis\":{\"backgroundcolor\":\"#E5ECF6\",\"gridcolor\":\"white\",\"gridwidth\":2,\"linecolor\":\"white\",\"showbackground\":true,\"ticks\":\"\",\"zerolinecolor\":\"white\"},\"zaxis\":{\"backgroundcolor\":\"#E5ECF6\",\"gridcolor\":\"white\",\"gridwidth\":2,\"linecolor\":\"white\",\"showbackground\":true,\"ticks\":\"\",\"zerolinecolor\":\"white\"}},\"shapedefaults\":{\"line\":{\"color\":\"#2a3f5f\"}},\"ternary\":{\"aaxis\":{\"gridcolor\":\"white\",\"linecolor\":\"white\",\"ticks\":\"\"},\"baxis\":{\"gridcolor\":\"white\",\"linecolor\":\"white\",\"ticks\":\"\"},\"bgcolor\":\"#E5ECF6\",\"caxis\":{\"gridcolor\":\"white\",\"linecolor\":\"white\",\"ticks\":\"\"}},\"title\":{\"x\":0.05},\"xaxis\":{\"automargin\":true,\"gridcolor\":\"white\",\"linecolor\":\"white\",\"ticks\":\"\",\"title\":{\"standoff\":15},\"zerolinecolor\":\"white\",\"zerolinewidth\":2},\"yaxis\":{\"automargin\":true,\"gridcolor\":\"white\",\"linecolor\":\"white\",\"ticks\":\"\",\"title\":{\"standoff\":15},\"zerolinecolor\":\"white\",\"zerolinewidth\":2}}},\"title\":{\"font\":{\"color\":\"#4D5663\"}},\"xaxis\":{\"gridcolor\":\"#E1E5ED\",\"showgrid\":true,\"tickfont\":{\"color\":\"#4D5663\"},\"title\":{\"font\":{\"color\":\"#4D5663\"},\"text\":\"\"},\"zerolinecolor\":\"#E1E5ED\"},\"yaxis\":{\"gridcolor\":\"#E1E5ED\",\"showgrid\":true,\"tickfont\":{\"color\":\"#4D5663\"},\"title\":{\"font\":{\"color\":\"#4D5663\"},\"text\":\"\"},\"zerolinecolor\":\"#E1E5ED\"}},                        {\"showLink\": true, \"linkText\": \"Export to plot.ly\", \"plotlyServerURL\": \"https://plot.ly\", \"responsive\": true}                    ).then(function(){\n",
       "                            \n",
       "var gd = document.getElementById('356eef27-ea6a-495b-b77d-56ca0ea534d7');\n",
       "var x = new MutationObserver(function (mutations, observer) {{\n",
       "        var display = window.getComputedStyle(gd).display;\n",
       "        if (!display || display === 'none') {{\n",
       "            console.log([gd, 'removed!']);\n",
       "            Plotly.purge(gd);\n",
       "            observer.disconnect();\n",
       "        }}\n",
       "}});\n",
       "\n",
       "// Listen for the removal of the full notebook cells\n",
       "var notebookContainer = gd.closest('#notebook-container');\n",
       "if (notebookContainer) {{\n",
       "    x.observe(notebookContainer, {childList: true});\n",
       "}}\n",
       "\n",
       "// Listen for the clearing of the current output cell\n",
       "var outputEl = gd.closest('.output');\n",
       "if (outputEl) {{\n",
       "    x.observe(outputEl, {childList: true});\n",
       "}}\n",
       "\n",
       "                        })                };                });            </script>        </div>"
      ]
     },
     "metadata": {},
     "output_type": "display_data"
    }
   ],
   "source": [
    "df.mean().iplot(kind='bar')"
   ]
  },
  {
   "cell_type": "markdown",
   "metadata": {},
   "source": [
    "## Boxplots"
   ]
  },
  {
   "cell_type": "code",
   "execution_count": 14,
   "metadata": {
    "collapsed": false
   },
   "outputs": [
    {
     "data": {
      "application/vnd.plotly.v1+json": {
       "config": {
        "linkText": "Export to plot.ly",
        "plotlyServerURL": "https://plot.ly",
        "showLink": true
       },
       "data": [
        {
         "boxpoints": false,
         "line": {
          "width": 1.3
         },
         "marker": {
          "color": "rgba(255, 153, 51, 1.0)"
         },
         "name": "A",
         "orientation": "v",
         "type": "box",
         "y": [
          1.130845712492262,
          0.29090858090579896,
          0.5443418728942426,
          1.7358613670957141,
          1.7858674247097013,
          2.239975091911653,
          -0.7258104422253708,
          -1.0083890734141534,
          1.5671072793927034,
          0.44368330163022857,
          1.4279437217482005,
          -0.19542847134855418,
          0.6495783250837226,
          -1.8525564479053875,
          -1.8317013210206905,
          0.2688055302097464,
          0.2241950646506555,
          -1.8512490625481963,
          -1.1789628154054355,
          -0.08447607823617174,
          1.8018710662549284,
          1.8638550192237273,
          -1.457619281449165,
          1.5023701046244833,
          0.15875083642391546,
          -1.2825745413625762,
          -0.36700370220642653,
          2.009438965755136,
          -0.35082956816632654,
          -2.5264442806015586,
          0.4520506026011699,
          1.053349796415361,
          -1.337921393086797,
          -1.703217926693494,
          -0.5638501489270755,
          -0.5954567092321331,
          -1.1099136610575517,
          -0.19191541317466335,
          0.7134426170015831,
          0.32410150358419915,
          -0.8094846242122693,
          -0.435180360760021,
          -1.114638346861693,
          0.44571517085451096,
          0.30105291567425035,
          1.126243453943223,
          -0.9854677281986305,
          -1.0740181122904842,
          0.8642449490267092,
          -0.6725524001753558,
          0.12937375046529564,
          -0.17861160381311486,
          0.6961674848289248,
          1.316540903055389,
          -1.642167714865581,
          0.021768851197594506,
          1.7564636931586772,
          -0.15510375128640047,
          0.37343207162224173,
          0.7067302336508653,
          -0.485082071234198,
          1.0057499990835328,
          -0.2815905462716364,
          -1.0211374845105965,
          1.4231487770717495,
          -0.418150530680779,
          -0.7941733598799346,
          0.6000971931560366,
          -1.486031394891415,
          0.6780356295432848,
          -0.850647084609868,
          -0.7909191763481986,
          -0.23213141692519007,
          0.30254579507114543,
          -0.25774803703821814,
          -0.864806103269127,
          0.9779307982259109,
          1.4997270271887482,
          0.38576071910364457,
          -0.15343101110894364,
          -0.17807514552491768,
          0.16753974472337407,
          2.7810643074164694,
          -0.2545877505673127,
          -2.06568839120565,
          0.0793872328286146,
          0.9840975443541982,
          0.010028484286677585,
          1.3588599556571423,
          0.9033906035503909,
          1.7397538308092018,
          -1.6505904365544575,
          -0.9104665692355621,
          -0.5842429898924218,
          -0.6052634377101391,
          -1.4601558788592213,
          0.4803915127520965,
          1.5593320695837987,
          -1.4698367553340614,
          1.4330013471054899
         ]
        },
        {
         "boxpoints": false,
         "line": {
          "width": 1.3
         },
         "marker": {
          "color": "rgba(55, 128, 191, 1.0)"
         },
         "name": "B",
         "orientation": "v",
         "type": "box",
         "y": [
          0.23652795715850095,
          0.9786252446269585,
          -0.056640727346602984,
          -0.4349614120408051,
          -1.1743745916427208,
          -1.7620572065461984,
          0.7325959124175713,
          0.1436936439226743,
          -0.27555908546868524,
          -0.6004006655887814,
          2.2159144648890776,
          0.08608978276712356,
          0.787950574108897,
          1.8106167453268054,
          2.4071514142948183,
          2.33367917977407,
          -0.17043217921907472,
          -0.559544769568131,
          -0.3178320644256901,
          2.509342474661557,
          1.6186307486022546,
          0.8786467053313886,
          -2.4577734110446294,
          -1.723113261937718,
          1.0630824675324746,
          1.0158760542547436,
          1.0189349600993107,
          -0.3817479819618662,
          0.41427726947199267,
          0.8214587697950845,
          1.0961179004626964,
          -0.02395423145642322,
          2.453520862724082,
          -0.7487812489224189,
          0.3484817423218347,
          1.338685675875985,
          0.609700505772461,
          0.23042070231077016,
          0.16547523004146747,
          -0.007048318221612886,
          0.04377525645156575,
          -1.2254831762534104,
          -1.2716014700390135,
          1.1854902788751958,
          1.0204780867900345,
          -0.2797897504487051,
          0.5751999998812791,
          1.6316023675903262,
          0.241498202612012,
          -1.2747224650227431,
          1.2306792456818112,
          0.04918728639549364,
          -0.6267357295715503,
          -1.0328247251819862,
          -0.21390591230657377,
          -2.1024897464833634,
          0.7228779583486531,
          0.5302717891134512,
          -1.5775394290688414,
          -0.415429850639412,
          0.5300885926311383,
          2.3249698282209206,
          -0.5302853090578974,
          -0.1607185484274797,
          -1.8503104351340782,
          0.10131805939089251,
          -0.7016834707334093,
          -0.3825560695099959,
          0.7376388884807465,
          -2.0494397850365798,
          -0.19660738375712236,
          -0.8254237463636193,
          1.7437396924983983,
          -1.5808309939799807,
          -1.0801497191966087,
          -1.004795523337831,
          0.19520188171432185,
          -2.1505906126573042,
          -1.1388250512228844,
          0.30377275412624555,
          0.9654030967031015,
          -0.6904492808008851,
          -1.2394975127933738,
          1.688538507633855,
          -0.36937543766446557,
          0.10375780520719564,
          -1.3632005282097133,
          0.6048151613707982,
          1.4876719169952275,
          0.40539115031188144,
          0.44834205032416385,
          1.2619773103140894,
          0.04662622163307223,
          1.4178646602998692,
          -0.34837797827909456,
          -0.5825818391151043,
          -0.6417193383973584,
          0.5770926164852495,
          -0.2713554315778967,
          0.9846044901362248
         ]
        },
        {
         "boxpoints": false,
         "line": {
          "width": 1.3
         },
         "marker": {
          "color": "rgba(50, 171, 96, 1.0)"
         },
         "name": "C",
         "orientation": "v",
         "type": "box",
         "y": [
          -0.21311246950304963,
          -1.529560530346163,
          -0.04382339405540149,
          1.7120032347526841,
          -0.5052871728050125,
          1.3481306829335056,
          -0.10229400738107963,
          -0.7909277687807327,
          -0.13573531994964114,
          -0.7722606859392372,
          -0.1207427189013049,
          0.8377161381427785,
          0.5452904579479728,
          -2.167400272482735,
          0.30042720370197507,
          -0.23527331426232284,
          -0.13253340097047567,
          0.42977275187718267,
          -1.0623325313950225,
          0.48921669855275135,
          -0.781679686062041,
          0.3749447719814966,
          0.38052933568895425,
          0.9301651941714983,
          -0.8289096572939771,
          -0.6871148266891447,
          -0.019644830569319885,
          0.282102101624757,
          0.013039083541873003,
          1.8177994255525676,
          1.7531283316553863,
          0.8749113202296902,
          0.2967474888602414,
          -0.9537224391394447,
          0.9856497274001167,
          1.1710435051912944,
          -0.4630654928584813,
          2.4194939093898657,
          0.9425119594143709,
          0.1649564183898731,
          1.8151450938840725,
          0.5904571955385716,
          0.24872657299419806,
          -1.5487329028028218,
          0.398555443258038,
          -0.34160478208023676,
          0.6977703426430761,
          0.972554661537134,
          -1.399207243781892,
          0.9612176236133417,
          0.08618194123064749,
          -1.9073851377811182,
          -1.4005215816957075,
          0.37902959543592274,
          -0.004721074693959253,
          -0.5031899230246994,
          -1.3718084041585845,
          -0.1909366029729316,
          0.3157921086958649,
          0.3556339465695189,
          -0.5470017149654753,
          -0.8533711658007316,
          -0.4320044471220337,
          0.3613069238282116,
          1.1802824843302182,
          0.5632028509598241,
          0.45115452963018016,
          -1.3536524054345758,
          0.9729641136947345,
          1.0274602826700567,
          -0.6833826563430853,
          0.7163163276488466,
          -0.818003102749678,
          0.347711004323119,
          -0.5389095631279465,
          -0.7685333033162957,
          1.0139021177845278,
          0.19701541086934685,
          1.658024335299792,
          0.2416289980993996,
          0.7300223266625182,
          -0.7754806070939958,
          0.14830514892469085,
          0.7703181348561166,
          -0.6097366402493314,
          0.4110699608590679,
          1.6954397429713661,
          -0.5097652036455229,
          -2.043725864436495,
          0.2300920304204776,
          0.3108918032329613,
          -1.9763287655093127,
          -2.7172603434406697,
          0.49375245257546374,
          -0.29904843679404947,
          0.037310998044508166,
          0.8399062735487826,
          1.1692830451259553,
          0.2842201799764509,
          -0.5850754702007915
         ]
        },
        {
         "boxpoints": false,
         "line": {
          "width": 1.3
         },
         "marker": {
          "color": "rgba(128, 0, 128, 1.0)"
         },
         "name": "D",
         "orientation": "v",
         "type": "box",
         "y": [
          -0.9263421858354252,
          1.0089605092736589,
          -1.4126288069950836,
          -0.3128180524264982,
          0.5759813388780815,
          0.5865047780916537,
          -0.18010073782437808,
          0.2902163636378381,
          -0.3341486581264862,
          0.15126807326324673,
          1.2407539381226094,
          0.2712024147330501,
          -1.5173914346086523,
          0.5428102661504568,
          2.50855518644812,
          -1.3741523190793863,
          -2.545099978976458,
          1.6854998436569686,
          0.34174704848438364,
          -1.6141508826698137,
          0.31236979166037354,
          2.769412610519902,
          0.5046646813328352,
          0.5053015674869329,
          0.9274909000401901,
          -0.5019083981889986,
          0.7087355516473482,
          0.11806280356943424,
          -0.8452471428033387,
          0.5769894059191689,
          -0.6813838390607431,
          -1.1583036579886195,
          -0.6505244116741078,
          2.023584343361356,
          -0.25235082101857387,
          1.395031132171996,
          0.07132390676869711,
          0.2275997019586433,
          -0.08808844458835065,
          0.8666395624624843,
          -0.005651046525600137,
          -0.8653021271277517,
          1.7431423471332843,
          0.5968060309100391,
          0.4391154161742208,
          0.7700360003189158,
          -0.4678612669403774,
          -2.5440479930785096,
          0.12364447176750859,
          -2.013235045544761,
          0.48826325036844737,
          -0.20241628194011885,
          1.4078212665030982,
          0.0022331587754811392,
          -0.4363694167240868,
          0.7293335211058297,
          -2.66390387356197,
          0.3138419244279987,
          0.1993735498987132,
          2.2997449025116055,
          -0.9473420202353887,
          0.6146860915137558,
          0.847097685466464,
          0.6937577786868215,
          -0.8772763160975026,
          -0.14820203955806494,
          -0.2542666176505652,
          1.163358145460446,
          0.3447303434241479,
          -0.3713394743415375,
          -0.4967739249970844,
          -1.5930817595972415,
          -0.7548379291418051,
          0.04233763630469865,
          0.9765980497675307,
          0.5139565100686533,
          0.5549093050500333,
          -0.10864092609421092,
          0.48411594860869195,
          1.064533904839239,
          0.787163681660531,
          1.416264320581946,
          -1.5467365370333777,
          -0.9382483777776369,
          0.9401444902950655,
          -1.2098782814514695,
          1.7131672315036837,
          -0.2704015746928047,
          0.7743242672167366,
          0.5855268469018194,
          -0.3693224781195801,
          0.7195773860987406,
          0.3818210369456319,
          -0.2397280528350369,
          0.13177623835449803,
          0.2584201082081484,
          0.7678786952185552,
          0.08363024535437466,
          -1.7418187305046389,
          1.2200571727812781
         ]
        }
       ],
       "layout": {
        "legend": {
         "bgcolor": "#F5F6F9",
         "font": {
          "color": "#4D5663"
         }
        },
        "paper_bgcolor": "#F5F6F9",
        "plot_bgcolor": "#F5F6F9",
        "template": {
         "data": {
          "bar": [
           {
            "error_x": {
             "color": "#2a3f5f"
            },
            "error_y": {
             "color": "#2a3f5f"
            },
            "marker": {
             "line": {
              "color": "#E5ECF6",
              "width": 0.5
             },
             "pattern": {
              "fillmode": "overlay",
              "size": 10,
              "solidity": 0.2
             }
            },
            "type": "bar"
           }
          ],
          "barpolar": [
           {
            "marker": {
             "line": {
              "color": "#E5ECF6",
              "width": 0.5
             },
             "pattern": {
              "fillmode": "overlay",
              "size": 10,
              "solidity": 0.2
             }
            },
            "type": "barpolar"
           }
          ],
          "carpet": [
           {
            "aaxis": {
             "endlinecolor": "#2a3f5f",
             "gridcolor": "white",
             "linecolor": "white",
             "minorgridcolor": "white",
             "startlinecolor": "#2a3f5f"
            },
            "baxis": {
             "endlinecolor": "#2a3f5f",
             "gridcolor": "white",
             "linecolor": "white",
             "minorgridcolor": "white",
             "startlinecolor": "#2a3f5f"
            },
            "type": "carpet"
           }
          ],
          "choropleth": [
           {
            "colorbar": {
             "outlinewidth": 0,
             "ticks": ""
            },
            "type": "choropleth"
           }
          ],
          "contour": [
           {
            "colorbar": {
             "outlinewidth": 0,
             "ticks": ""
            },
            "colorscale": [
             [
              0,
              "#0d0887"
             ],
             [
              0.1111111111111111,
              "#46039f"
             ],
             [
              0.2222222222222222,
              "#7201a8"
             ],
             [
              0.3333333333333333,
              "#9c179e"
             ],
             [
              0.4444444444444444,
              "#bd3786"
             ],
             [
              0.5555555555555556,
              "#d8576b"
             ],
             [
              0.6666666666666666,
              "#ed7953"
             ],
             [
              0.7777777777777778,
              "#fb9f3a"
             ],
             [
              0.8888888888888888,
              "#fdca26"
             ],
             [
              1,
              "#f0f921"
             ]
            ],
            "type": "contour"
           }
          ],
          "contourcarpet": [
           {
            "colorbar": {
             "outlinewidth": 0,
             "ticks": ""
            },
            "type": "contourcarpet"
           }
          ],
          "heatmap": [
           {
            "colorbar": {
             "outlinewidth": 0,
             "ticks": ""
            },
            "colorscale": [
             [
              0,
              "#0d0887"
             ],
             [
              0.1111111111111111,
              "#46039f"
             ],
             [
              0.2222222222222222,
              "#7201a8"
             ],
             [
              0.3333333333333333,
              "#9c179e"
             ],
             [
              0.4444444444444444,
              "#bd3786"
             ],
             [
              0.5555555555555556,
              "#d8576b"
             ],
             [
              0.6666666666666666,
              "#ed7953"
             ],
             [
              0.7777777777777778,
              "#fb9f3a"
             ],
             [
              0.8888888888888888,
              "#fdca26"
             ],
             [
              1,
              "#f0f921"
             ]
            ],
            "type": "heatmap"
           }
          ],
          "heatmapgl": [
           {
            "colorbar": {
             "outlinewidth": 0,
             "ticks": ""
            },
            "colorscale": [
             [
              0,
              "#0d0887"
             ],
             [
              0.1111111111111111,
              "#46039f"
             ],
             [
              0.2222222222222222,
              "#7201a8"
             ],
             [
              0.3333333333333333,
              "#9c179e"
             ],
             [
              0.4444444444444444,
              "#bd3786"
             ],
             [
              0.5555555555555556,
              "#d8576b"
             ],
             [
              0.6666666666666666,
              "#ed7953"
             ],
             [
              0.7777777777777778,
              "#fb9f3a"
             ],
             [
              0.8888888888888888,
              "#fdca26"
             ],
             [
              1,
              "#f0f921"
             ]
            ],
            "type": "heatmapgl"
           }
          ],
          "histogram": [
           {
            "marker": {
             "pattern": {
              "fillmode": "overlay",
              "size": 10,
              "solidity": 0.2
             }
            },
            "type": "histogram"
           }
          ],
          "histogram2d": [
           {
            "colorbar": {
             "outlinewidth": 0,
             "ticks": ""
            },
            "colorscale": [
             [
              0,
              "#0d0887"
             ],
             [
              0.1111111111111111,
              "#46039f"
             ],
             [
              0.2222222222222222,
              "#7201a8"
             ],
             [
              0.3333333333333333,
              "#9c179e"
             ],
             [
              0.4444444444444444,
              "#bd3786"
             ],
             [
              0.5555555555555556,
              "#d8576b"
             ],
             [
              0.6666666666666666,
              "#ed7953"
             ],
             [
              0.7777777777777778,
              "#fb9f3a"
             ],
             [
              0.8888888888888888,
              "#fdca26"
             ],
             [
              1,
              "#f0f921"
             ]
            ],
            "type": "histogram2d"
           }
          ],
          "histogram2dcontour": [
           {
            "colorbar": {
             "outlinewidth": 0,
             "ticks": ""
            },
            "colorscale": [
             [
              0,
              "#0d0887"
             ],
             [
              0.1111111111111111,
              "#46039f"
             ],
             [
              0.2222222222222222,
              "#7201a8"
             ],
             [
              0.3333333333333333,
              "#9c179e"
             ],
             [
              0.4444444444444444,
              "#bd3786"
             ],
             [
              0.5555555555555556,
              "#d8576b"
             ],
             [
              0.6666666666666666,
              "#ed7953"
             ],
             [
              0.7777777777777778,
              "#fb9f3a"
             ],
             [
              0.8888888888888888,
              "#fdca26"
             ],
             [
              1,
              "#f0f921"
             ]
            ],
            "type": "histogram2dcontour"
           }
          ],
          "mesh3d": [
           {
            "colorbar": {
             "outlinewidth": 0,
             "ticks": ""
            },
            "type": "mesh3d"
           }
          ],
          "parcoords": [
           {
            "line": {
             "colorbar": {
              "outlinewidth": 0,
              "ticks": ""
             }
            },
            "type": "parcoords"
           }
          ],
          "pie": [
           {
            "automargin": true,
            "type": "pie"
           }
          ],
          "scatter": [
           {
            "fillpattern": {
             "fillmode": "overlay",
             "size": 10,
             "solidity": 0.2
            },
            "type": "scatter"
           }
          ],
          "scatter3d": [
           {
            "line": {
             "colorbar": {
              "outlinewidth": 0,
              "ticks": ""
             }
            },
            "marker": {
             "colorbar": {
              "outlinewidth": 0,
              "ticks": ""
             }
            },
            "type": "scatter3d"
           }
          ],
          "scattercarpet": [
           {
            "marker": {
             "colorbar": {
              "outlinewidth": 0,
              "ticks": ""
             }
            },
            "type": "scattercarpet"
           }
          ],
          "scattergeo": [
           {
            "marker": {
             "colorbar": {
              "outlinewidth": 0,
              "ticks": ""
             }
            },
            "type": "scattergeo"
           }
          ],
          "scattergl": [
           {
            "marker": {
             "colorbar": {
              "outlinewidth": 0,
              "ticks": ""
             }
            },
            "type": "scattergl"
           }
          ],
          "scattermapbox": [
           {
            "marker": {
             "colorbar": {
              "outlinewidth": 0,
              "ticks": ""
             }
            },
            "type": "scattermapbox"
           }
          ],
          "scatterpolar": [
           {
            "marker": {
             "colorbar": {
              "outlinewidth": 0,
              "ticks": ""
             }
            },
            "type": "scatterpolar"
           }
          ],
          "scatterpolargl": [
           {
            "marker": {
             "colorbar": {
              "outlinewidth": 0,
              "ticks": ""
             }
            },
            "type": "scatterpolargl"
           }
          ],
          "scatterternary": [
           {
            "marker": {
             "colorbar": {
              "outlinewidth": 0,
              "ticks": ""
             }
            },
            "type": "scatterternary"
           }
          ],
          "surface": [
           {
            "colorbar": {
             "outlinewidth": 0,
             "ticks": ""
            },
            "colorscale": [
             [
              0,
              "#0d0887"
             ],
             [
              0.1111111111111111,
              "#46039f"
             ],
             [
              0.2222222222222222,
              "#7201a8"
             ],
             [
              0.3333333333333333,
              "#9c179e"
             ],
             [
              0.4444444444444444,
              "#bd3786"
             ],
             [
              0.5555555555555556,
              "#d8576b"
             ],
             [
              0.6666666666666666,
              "#ed7953"
             ],
             [
              0.7777777777777778,
              "#fb9f3a"
             ],
             [
              0.8888888888888888,
              "#fdca26"
             ],
             [
              1,
              "#f0f921"
             ]
            ],
            "type": "surface"
           }
          ],
          "table": [
           {
            "cells": {
             "fill": {
              "color": "#EBF0F8"
             },
             "line": {
              "color": "white"
             }
            },
            "header": {
             "fill": {
              "color": "#C8D4E3"
             },
             "line": {
              "color": "white"
             }
            },
            "type": "table"
           }
          ]
         },
         "layout": {
          "annotationdefaults": {
           "arrowcolor": "#2a3f5f",
           "arrowhead": 0,
           "arrowwidth": 1
          },
          "autotypenumbers": "strict",
          "coloraxis": {
           "colorbar": {
            "outlinewidth": 0,
            "ticks": ""
           }
          },
          "colorscale": {
           "diverging": [
            [
             0,
             "#8e0152"
            ],
            [
             0.1,
             "#c51b7d"
            ],
            [
             0.2,
             "#de77ae"
            ],
            [
             0.3,
             "#f1b6da"
            ],
            [
             0.4,
             "#fde0ef"
            ],
            [
             0.5,
             "#f7f7f7"
            ],
            [
             0.6,
             "#e6f5d0"
            ],
            [
             0.7,
             "#b8e186"
            ],
            [
             0.8,
             "#7fbc41"
            ],
            [
             0.9,
             "#4d9221"
            ],
            [
             1,
             "#276419"
            ]
           ],
           "sequential": [
            [
             0,
             "#0d0887"
            ],
            [
             0.1111111111111111,
             "#46039f"
            ],
            [
             0.2222222222222222,
             "#7201a8"
            ],
            [
             0.3333333333333333,
             "#9c179e"
            ],
            [
             0.4444444444444444,
             "#bd3786"
            ],
            [
             0.5555555555555556,
             "#d8576b"
            ],
            [
             0.6666666666666666,
             "#ed7953"
            ],
            [
             0.7777777777777778,
             "#fb9f3a"
            ],
            [
             0.8888888888888888,
             "#fdca26"
            ],
            [
             1,
             "#f0f921"
            ]
           ],
           "sequentialminus": [
            [
             0,
             "#0d0887"
            ],
            [
             0.1111111111111111,
             "#46039f"
            ],
            [
             0.2222222222222222,
             "#7201a8"
            ],
            [
             0.3333333333333333,
             "#9c179e"
            ],
            [
             0.4444444444444444,
             "#bd3786"
            ],
            [
             0.5555555555555556,
             "#d8576b"
            ],
            [
             0.6666666666666666,
             "#ed7953"
            ],
            [
             0.7777777777777778,
             "#fb9f3a"
            ],
            [
             0.8888888888888888,
             "#fdca26"
            ],
            [
             1,
             "#f0f921"
            ]
           ]
          },
          "colorway": [
           "#636efa",
           "#EF553B",
           "#00cc96",
           "#ab63fa",
           "#FFA15A",
           "#19d3f3",
           "#FF6692",
           "#B6E880",
           "#FF97FF",
           "#FECB52"
          ],
          "font": {
           "color": "#2a3f5f"
          },
          "geo": {
           "bgcolor": "white",
           "lakecolor": "white",
           "landcolor": "#E5ECF6",
           "showlakes": true,
           "showland": true,
           "subunitcolor": "white"
          },
          "hoverlabel": {
           "align": "left"
          },
          "hovermode": "closest",
          "mapbox": {
           "style": "light"
          },
          "paper_bgcolor": "white",
          "plot_bgcolor": "#E5ECF6",
          "polar": {
           "angularaxis": {
            "gridcolor": "white",
            "linecolor": "white",
            "ticks": ""
           },
           "bgcolor": "#E5ECF6",
           "radialaxis": {
            "gridcolor": "white",
            "linecolor": "white",
            "ticks": ""
           }
          },
          "scene": {
           "xaxis": {
            "backgroundcolor": "#E5ECF6",
            "gridcolor": "white",
            "gridwidth": 2,
            "linecolor": "white",
            "showbackground": true,
            "ticks": "",
            "zerolinecolor": "white"
           },
           "yaxis": {
            "backgroundcolor": "#E5ECF6",
            "gridcolor": "white",
            "gridwidth": 2,
            "linecolor": "white",
            "showbackground": true,
            "ticks": "",
            "zerolinecolor": "white"
           },
           "zaxis": {
            "backgroundcolor": "#E5ECF6",
            "gridcolor": "white",
            "gridwidth": 2,
            "linecolor": "white",
            "showbackground": true,
            "ticks": "",
            "zerolinecolor": "white"
           }
          },
          "shapedefaults": {
           "line": {
            "color": "#2a3f5f"
           }
          },
          "ternary": {
           "aaxis": {
            "gridcolor": "white",
            "linecolor": "white",
            "ticks": ""
           },
           "baxis": {
            "gridcolor": "white",
            "linecolor": "white",
            "ticks": ""
           },
           "bgcolor": "#E5ECF6",
           "caxis": {
            "gridcolor": "white",
            "linecolor": "white",
            "ticks": ""
           }
          },
          "title": {
           "x": 0.05
          },
          "xaxis": {
           "automargin": true,
           "gridcolor": "white",
           "linecolor": "white",
           "ticks": "",
           "title": {
            "standoff": 15
           },
           "zerolinecolor": "white",
           "zerolinewidth": 2
          },
          "yaxis": {
           "automargin": true,
           "gridcolor": "white",
           "linecolor": "white",
           "ticks": "",
           "title": {
            "standoff": 15
           },
           "zerolinecolor": "white",
           "zerolinewidth": 2
          }
         }
        },
        "title": {
         "font": {
          "color": "#4D5663"
         }
        },
        "xaxis": {
         "gridcolor": "#E1E5ED",
         "showgrid": true,
         "tickfont": {
          "color": "#4D5663"
         },
         "title": {
          "font": {
           "color": "#4D5663"
          },
          "text": ""
         },
         "zerolinecolor": "#E1E5ED"
        },
        "yaxis": {
         "gridcolor": "#E1E5ED",
         "showgrid": true,
         "tickfont": {
          "color": "#4D5663"
         },
         "title": {
          "font": {
           "color": "#4D5663"
          },
          "text": ""
         },
         "zerolinecolor": "#E1E5ED"
        }
       }
      },
      "text/html": [
       "<div>                            <div id=\"52c58ba2-14b8-4fea-9c48-7911e68050fc\" class=\"plotly-graph-div\" style=\"height:525px; width:100%;\"></div>            <script type=\"text/javascript\">                require([\"plotly\"], function(Plotly) {                    window.PLOTLYENV=window.PLOTLYENV || {};\n",
       "                    window.PLOTLYENV.BASE_URL='https://plot.ly';                                    if (document.getElementById(\"52c58ba2-14b8-4fea-9c48-7911e68050fc\")) {                    Plotly.newPlot(                        \"52c58ba2-14b8-4fea-9c48-7911e68050fc\",                        [{\"boxpoints\":false,\"line\":{\"width\":1.3},\"marker\":{\"color\":\"rgba(255, 153, 51, 1.0)\"},\"name\":\"A\",\"orientation\":\"v\",\"y\":[1.130845712492262,0.29090858090579896,0.5443418728942426,1.7358613670957141,1.7858674247097013,2.239975091911653,-0.7258104422253708,-1.0083890734141534,1.5671072793927034,0.44368330163022857,1.4279437217482005,-0.19542847134855418,0.6495783250837226,-1.8525564479053875,-1.8317013210206905,0.2688055302097464,0.2241950646506555,-1.8512490625481963,-1.1789628154054355,-0.08447607823617174,1.8018710662549284,1.8638550192237273,-1.457619281449165,1.5023701046244833,0.15875083642391546,-1.2825745413625762,-0.36700370220642653,2.009438965755136,-0.35082956816632654,-2.5264442806015586,0.4520506026011699,1.053349796415361,-1.337921393086797,-1.703217926693494,-0.5638501489270755,-0.5954567092321331,-1.1099136610575517,-0.19191541317466335,0.7134426170015831,0.32410150358419915,-0.8094846242122693,-0.435180360760021,-1.114638346861693,0.44571517085451096,0.30105291567425035,1.126243453943223,-0.9854677281986305,-1.0740181122904842,0.8642449490267092,-0.6725524001753558,0.12937375046529564,-0.17861160381311486,0.6961674848289248,1.316540903055389,-1.642167714865581,0.021768851197594506,1.7564636931586772,-0.15510375128640047,0.37343207162224173,0.7067302336508653,-0.485082071234198,1.0057499990835328,-0.2815905462716364,-1.0211374845105965,1.4231487770717495,-0.418150530680779,-0.7941733598799346,0.6000971931560366,-1.486031394891415,0.6780356295432848,-0.850647084609868,-0.7909191763481986,-0.23213141692519007,0.30254579507114543,-0.25774803703821814,-0.864806103269127,0.9779307982259109,1.4997270271887482,0.38576071910364457,-0.15343101110894364,-0.17807514552491768,0.16753974472337407,2.7810643074164694,-0.2545877505673127,-2.06568839120565,0.0793872328286146,0.9840975443541982,0.010028484286677585,1.3588599556571423,0.9033906035503909,1.7397538308092018,-1.6505904365544575,-0.9104665692355621,-0.5842429898924218,-0.6052634377101391,-1.4601558788592213,0.4803915127520965,1.5593320695837987,-1.4698367553340614,1.4330013471054899],\"type\":\"box\"},{\"boxpoints\":false,\"line\":{\"width\":1.3},\"marker\":{\"color\":\"rgba(55, 128, 191, 1.0)\"},\"name\":\"B\",\"orientation\":\"v\",\"y\":[0.23652795715850095,0.9786252446269585,-0.056640727346602984,-0.4349614120408051,-1.1743745916427208,-1.7620572065461984,0.7325959124175713,0.1436936439226743,-0.27555908546868524,-0.6004006655887814,2.2159144648890776,0.08608978276712356,0.787950574108897,1.8106167453268054,2.4071514142948183,2.33367917977407,-0.17043217921907472,-0.559544769568131,-0.3178320644256901,2.509342474661557,1.6186307486022546,0.8786467053313886,-2.4577734110446294,-1.723113261937718,1.0630824675324746,1.0158760542547436,1.0189349600993107,-0.3817479819618662,0.41427726947199267,0.8214587697950845,1.0961179004626964,-0.02395423145642322,2.453520862724082,-0.7487812489224189,0.3484817423218347,1.338685675875985,0.609700505772461,0.23042070231077016,0.16547523004146747,-0.007048318221612886,0.04377525645156575,-1.2254831762534104,-1.2716014700390135,1.1854902788751958,1.0204780867900345,-0.2797897504487051,0.5751999998812791,1.6316023675903262,0.241498202612012,-1.2747224650227431,1.2306792456818112,0.04918728639549364,-0.6267357295715503,-1.0328247251819862,-0.21390591230657377,-2.1024897464833634,0.7228779583486531,0.5302717891134512,-1.5775394290688414,-0.415429850639412,0.5300885926311383,2.3249698282209206,-0.5302853090578974,-0.1607185484274797,-1.8503104351340782,0.10131805939089251,-0.7016834707334093,-0.3825560695099959,0.7376388884807465,-2.0494397850365798,-0.19660738375712236,-0.8254237463636193,1.7437396924983983,-1.5808309939799807,-1.0801497191966087,-1.004795523337831,0.19520188171432185,-2.1505906126573042,-1.1388250512228844,0.30377275412624555,0.9654030967031015,-0.6904492808008851,-1.2394975127933738,1.688538507633855,-0.36937543766446557,0.10375780520719564,-1.3632005282097133,0.6048151613707982,1.4876719169952275,0.40539115031188144,0.44834205032416385,1.2619773103140894,0.04662622163307223,1.4178646602998692,-0.34837797827909456,-0.5825818391151043,-0.6417193383973584,0.5770926164852495,-0.2713554315778967,0.9846044901362248],\"type\":\"box\"},{\"boxpoints\":false,\"line\":{\"width\":1.3},\"marker\":{\"color\":\"rgba(50, 171, 96, 1.0)\"},\"name\":\"C\",\"orientation\":\"v\",\"y\":[-0.21311246950304963,-1.529560530346163,-0.04382339405540149,1.7120032347526841,-0.5052871728050125,1.3481306829335056,-0.10229400738107963,-0.7909277687807327,-0.13573531994964114,-0.7722606859392372,-0.1207427189013049,0.8377161381427785,0.5452904579479728,-2.167400272482735,0.30042720370197507,-0.23527331426232284,-0.13253340097047567,0.42977275187718267,-1.0623325313950225,0.48921669855275135,-0.781679686062041,0.3749447719814966,0.38052933568895425,0.9301651941714983,-0.8289096572939771,-0.6871148266891447,-0.019644830569319885,0.282102101624757,0.013039083541873003,1.8177994255525676,1.7531283316553863,0.8749113202296902,0.2967474888602414,-0.9537224391394447,0.9856497274001167,1.1710435051912944,-0.4630654928584813,2.4194939093898657,0.9425119594143709,0.1649564183898731,1.8151450938840725,0.5904571955385716,0.24872657299419806,-1.5487329028028218,0.398555443258038,-0.34160478208023676,0.6977703426430761,0.972554661537134,-1.399207243781892,0.9612176236133417,0.08618194123064749,-1.9073851377811182,-1.4005215816957075,0.37902959543592274,-0.004721074693959253,-0.5031899230246994,-1.3718084041585845,-0.1909366029729316,0.3157921086958649,0.3556339465695189,-0.5470017149654753,-0.8533711658007316,-0.4320044471220337,0.3613069238282116,1.1802824843302182,0.5632028509598241,0.45115452963018016,-1.3536524054345758,0.9729641136947345,1.0274602826700567,-0.6833826563430853,0.7163163276488466,-0.818003102749678,0.347711004323119,-0.5389095631279465,-0.7685333033162957,1.0139021177845278,0.19701541086934685,1.658024335299792,0.2416289980993996,0.7300223266625182,-0.7754806070939958,0.14830514892469085,0.7703181348561166,-0.6097366402493314,0.4110699608590679,1.6954397429713661,-0.5097652036455229,-2.043725864436495,0.2300920304204776,0.3108918032329613,-1.9763287655093127,-2.7172603434406697,0.49375245257546374,-0.29904843679404947,0.037310998044508166,0.8399062735487826,1.1692830451259553,0.2842201799764509,-0.5850754702007915],\"type\":\"box\"},{\"boxpoints\":false,\"line\":{\"width\":1.3},\"marker\":{\"color\":\"rgba(128, 0, 128, 1.0)\"},\"name\":\"D\",\"orientation\":\"v\",\"y\":[-0.9263421858354252,1.0089605092736589,-1.4126288069950836,-0.3128180524264982,0.5759813388780815,0.5865047780916537,-0.18010073782437808,0.2902163636378381,-0.3341486581264862,0.15126807326324673,1.2407539381226094,0.2712024147330501,-1.5173914346086523,0.5428102661504568,2.50855518644812,-1.3741523190793863,-2.545099978976458,1.6854998436569686,0.34174704848438364,-1.6141508826698137,0.31236979166037354,2.769412610519902,0.5046646813328352,0.5053015674869329,0.9274909000401901,-0.5019083981889986,0.7087355516473482,0.11806280356943424,-0.8452471428033387,0.5769894059191689,-0.6813838390607431,-1.1583036579886195,-0.6505244116741078,2.023584343361356,-0.25235082101857387,1.395031132171996,0.07132390676869711,0.2275997019586433,-0.08808844458835065,0.8666395624624843,-0.005651046525600137,-0.8653021271277517,1.7431423471332843,0.5968060309100391,0.4391154161742208,0.7700360003189158,-0.4678612669403774,-2.5440479930785096,0.12364447176750859,-2.013235045544761,0.48826325036844737,-0.20241628194011885,1.4078212665030982,0.0022331587754811392,-0.4363694167240868,0.7293335211058297,-2.66390387356197,0.3138419244279987,0.1993735498987132,2.2997449025116055,-0.9473420202353887,0.6146860915137558,0.847097685466464,0.6937577786868215,-0.8772763160975026,-0.14820203955806494,-0.2542666176505652,1.163358145460446,0.3447303434241479,-0.3713394743415375,-0.4967739249970844,-1.5930817595972415,-0.7548379291418051,0.04233763630469865,0.9765980497675307,0.5139565100686533,0.5549093050500333,-0.10864092609421092,0.48411594860869195,1.064533904839239,0.787163681660531,1.416264320581946,-1.5467365370333777,-0.9382483777776369,0.9401444902950655,-1.2098782814514695,1.7131672315036837,-0.2704015746928047,0.7743242672167366,0.5855268469018194,-0.3693224781195801,0.7195773860987406,0.3818210369456319,-0.2397280528350369,0.13177623835449803,0.2584201082081484,0.7678786952185552,0.08363024535437466,-1.7418187305046389,1.2200571727812781],\"type\":\"box\"}],                        {\"legend\":{\"bgcolor\":\"#F5F6F9\",\"font\":{\"color\":\"#4D5663\"}},\"paper_bgcolor\":\"#F5F6F9\",\"plot_bgcolor\":\"#F5F6F9\",\"template\":{\"data\":{\"barpolar\":[{\"marker\":{\"line\":{\"color\":\"#E5ECF6\",\"width\":0.5},\"pattern\":{\"fillmode\":\"overlay\",\"size\":10,\"solidity\":0.2}},\"type\":\"barpolar\"}],\"bar\":[{\"error_x\":{\"color\":\"#2a3f5f\"},\"error_y\":{\"color\":\"#2a3f5f\"},\"marker\":{\"line\":{\"color\":\"#E5ECF6\",\"width\":0.5},\"pattern\":{\"fillmode\":\"overlay\",\"size\":10,\"solidity\":0.2}},\"type\":\"bar\"}],\"carpet\":[{\"aaxis\":{\"endlinecolor\":\"#2a3f5f\",\"gridcolor\":\"white\",\"linecolor\":\"white\",\"minorgridcolor\":\"white\",\"startlinecolor\":\"#2a3f5f\"},\"baxis\":{\"endlinecolor\":\"#2a3f5f\",\"gridcolor\":\"white\",\"linecolor\":\"white\",\"minorgridcolor\":\"white\",\"startlinecolor\":\"#2a3f5f\"},\"type\":\"carpet\"}],\"choropleth\":[{\"colorbar\":{\"outlinewidth\":0,\"ticks\":\"\"},\"type\":\"choropleth\"}],\"contourcarpet\":[{\"colorbar\":{\"outlinewidth\":0,\"ticks\":\"\"},\"type\":\"contourcarpet\"}],\"contour\":[{\"colorbar\":{\"outlinewidth\":0,\"ticks\":\"\"},\"colorscale\":[[0.0,\"#0d0887\"],[0.1111111111111111,\"#46039f\"],[0.2222222222222222,\"#7201a8\"],[0.3333333333333333,\"#9c179e\"],[0.4444444444444444,\"#bd3786\"],[0.5555555555555556,\"#d8576b\"],[0.6666666666666666,\"#ed7953\"],[0.7777777777777778,\"#fb9f3a\"],[0.8888888888888888,\"#fdca26\"],[1.0,\"#f0f921\"]],\"type\":\"contour\"}],\"heatmapgl\":[{\"colorbar\":{\"outlinewidth\":0,\"ticks\":\"\"},\"colorscale\":[[0.0,\"#0d0887\"],[0.1111111111111111,\"#46039f\"],[0.2222222222222222,\"#7201a8\"],[0.3333333333333333,\"#9c179e\"],[0.4444444444444444,\"#bd3786\"],[0.5555555555555556,\"#d8576b\"],[0.6666666666666666,\"#ed7953\"],[0.7777777777777778,\"#fb9f3a\"],[0.8888888888888888,\"#fdca26\"],[1.0,\"#f0f921\"]],\"type\":\"heatmapgl\"}],\"heatmap\":[{\"colorbar\":{\"outlinewidth\":0,\"ticks\":\"\"},\"colorscale\":[[0.0,\"#0d0887\"],[0.1111111111111111,\"#46039f\"],[0.2222222222222222,\"#7201a8\"],[0.3333333333333333,\"#9c179e\"],[0.4444444444444444,\"#bd3786\"],[0.5555555555555556,\"#d8576b\"],[0.6666666666666666,\"#ed7953\"],[0.7777777777777778,\"#fb9f3a\"],[0.8888888888888888,\"#fdca26\"],[1.0,\"#f0f921\"]],\"type\":\"heatmap\"}],\"histogram2dcontour\":[{\"colorbar\":{\"outlinewidth\":0,\"ticks\":\"\"},\"colorscale\":[[0.0,\"#0d0887\"],[0.1111111111111111,\"#46039f\"],[0.2222222222222222,\"#7201a8\"],[0.3333333333333333,\"#9c179e\"],[0.4444444444444444,\"#bd3786\"],[0.5555555555555556,\"#d8576b\"],[0.6666666666666666,\"#ed7953\"],[0.7777777777777778,\"#fb9f3a\"],[0.8888888888888888,\"#fdca26\"],[1.0,\"#f0f921\"]],\"type\":\"histogram2dcontour\"}],\"histogram2d\":[{\"colorbar\":{\"outlinewidth\":0,\"ticks\":\"\"},\"colorscale\":[[0.0,\"#0d0887\"],[0.1111111111111111,\"#46039f\"],[0.2222222222222222,\"#7201a8\"],[0.3333333333333333,\"#9c179e\"],[0.4444444444444444,\"#bd3786\"],[0.5555555555555556,\"#d8576b\"],[0.6666666666666666,\"#ed7953\"],[0.7777777777777778,\"#fb9f3a\"],[0.8888888888888888,\"#fdca26\"],[1.0,\"#f0f921\"]],\"type\":\"histogram2d\"}],\"histogram\":[{\"marker\":{\"pattern\":{\"fillmode\":\"overlay\",\"size\":10,\"solidity\":0.2}},\"type\":\"histogram\"}],\"mesh3d\":[{\"colorbar\":{\"outlinewidth\":0,\"ticks\":\"\"},\"type\":\"mesh3d\"}],\"parcoords\":[{\"line\":{\"colorbar\":{\"outlinewidth\":0,\"ticks\":\"\"}},\"type\":\"parcoords\"}],\"pie\":[{\"automargin\":true,\"type\":\"pie\"}],\"scatter3d\":[{\"line\":{\"colorbar\":{\"outlinewidth\":0,\"ticks\":\"\"}},\"marker\":{\"colorbar\":{\"outlinewidth\":0,\"ticks\":\"\"}},\"type\":\"scatter3d\"}],\"scattercarpet\":[{\"marker\":{\"colorbar\":{\"outlinewidth\":0,\"ticks\":\"\"}},\"type\":\"scattercarpet\"}],\"scattergeo\":[{\"marker\":{\"colorbar\":{\"outlinewidth\":0,\"ticks\":\"\"}},\"type\":\"scattergeo\"}],\"scattergl\":[{\"marker\":{\"colorbar\":{\"outlinewidth\":0,\"ticks\":\"\"}},\"type\":\"scattergl\"}],\"scattermapbox\":[{\"marker\":{\"colorbar\":{\"outlinewidth\":0,\"ticks\":\"\"}},\"type\":\"scattermapbox\"}],\"scatterpolargl\":[{\"marker\":{\"colorbar\":{\"outlinewidth\":0,\"ticks\":\"\"}},\"type\":\"scatterpolargl\"}],\"scatterpolar\":[{\"marker\":{\"colorbar\":{\"outlinewidth\":0,\"ticks\":\"\"}},\"type\":\"scatterpolar\"}],\"scatter\":[{\"fillpattern\":{\"fillmode\":\"overlay\",\"size\":10,\"solidity\":0.2},\"type\":\"scatter\"}],\"scatterternary\":[{\"marker\":{\"colorbar\":{\"outlinewidth\":0,\"ticks\":\"\"}},\"type\":\"scatterternary\"}],\"surface\":[{\"colorbar\":{\"outlinewidth\":0,\"ticks\":\"\"},\"colorscale\":[[0.0,\"#0d0887\"],[0.1111111111111111,\"#46039f\"],[0.2222222222222222,\"#7201a8\"],[0.3333333333333333,\"#9c179e\"],[0.4444444444444444,\"#bd3786\"],[0.5555555555555556,\"#d8576b\"],[0.6666666666666666,\"#ed7953\"],[0.7777777777777778,\"#fb9f3a\"],[0.8888888888888888,\"#fdca26\"],[1.0,\"#f0f921\"]],\"type\":\"surface\"}],\"table\":[{\"cells\":{\"fill\":{\"color\":\"#EBF0F8\"},\"line\":{\"color\":\"white\"}},\"header\":{\"fill\":{\"color\":\"#C8D4E3\"},\"line\":{\"color\":\"white\"}},\"type\":\"table\"}]},\"layout\":{\"annotationdefaults\":{\"arrowcolor\":\"#2a3f5f\",\"arrowhead\":0,\"arrowwidth\":1},\"autotypenumbers\":\"strict\",\"coloraxis\":{\"colorbar\":{\"outlinewidth\":0,\"ticks\":\"\"}},\"colorscale\":{\"diverging\":[[0,\"#8e0152\"],[0.1,\"#c51b7d\"],[0.2,\"#de77ae\"],[0.3,\"#f1b6da\"],[0.4,\"#fde0ef\"],[0.5,\"#f7f7f7\"],[0.6,\"#e6f5d0\"],[0.7,\"#b8e186\"],[0.8,\"#7fbc41\"],[0.9,\"#4d9221\"],[1,\"#276419\"]],\"sequential\":[[0.0,\"#0d0887\"],[0.1111111111111111,\"#46039f\"],[0.2222222222222222,\"#7201a8\"],[0.3333333333333333,\"#9c179e\"],[0.4444444444444444,\"#bd3786\"],[0.5555555555555556,\"#d8576b\"],[0.6666666666666666,\"#ed7953\"],[0.7777777777777778,\"#fb9f3a\"],[0.8888888888888888,\"#fdca26\"],[1.0,\"#f0f921\"]],\"sequentialminus\":[[0.0,\"#0d0887\"],[0.1111111111111111,\"#46039f\"],[0.2222222222222222,\"#7201a8\"],[0.3333333333333333,\"#9c179e\"],[0.4444444444444444,\"#bd3786\"],[0.5555555555555556,\"#d8576b\"],[0.6666666666666666,\"#ed7953\"],[0.7777777777777778,\"#fb9f3a\"],[0.8888888888888888,\"#fdca26\"],[1.0,\"#f0f921\"]]},\"colorway\":[\"#636efa\",\"#EF553B\",\"#00cc96\",\"#ab63fa\",\"#FFA15A\",\"#19d3f3\",\"#FF6692\",\"#B6E880\",\"#FF97FF\",\"#FECB52\"],\"font\":{\"color\":\"#2a3f5f\"},\"geo\":{\"bgcolor\":\"white\",\"lakecolor\":\"white\",\"landcolor\":\"#E5ECF6\",\"showlakes\":true,\"showland\":true,\"subunitcolor\":\"white\"},\"hoverlabel\":{\"align\":\"left\"},\"hovermode\":\"closest\",\"mapbox\":{\"style\":\"light\"},\"paper_bgcolor\":\"white\",\"plot_bgcolor\":\"#E5ECF6\",\"polar\":{\"angularaxis\":{\"gridcolor\":\"white\",\"linecolor\":\"white\",\"ticks\":\"\"},\"bgcolor\":\"#E5ECF6\",\"radialaxis\":{\"gridcolor\":\"white\",\"linecolor\":\"white\",\"ticks\":\"\"}},\"scene\":{\"xaxis\":{\"backgroundcolor\":\"#E5ECF6\",\"gridcolor\":\"white\",\"gridwidth\":2,\"linecolor\":\"white\",\"showbackground\":true,\"ticks\":\"\",\"zerolinecolor\":\"white\"},\"yaxis\":{\"backgroundcolor\":\"#E5ECF6\",\"gridcolor\":\"white\",\"gridwidth\":2,\"linecolor\":\"white\",\"showbackground\":true,\"ticks\":\"\",\"zerolinecolor\":\"white\"},\"zaxis\":{\"backgroundcolor\":\"#E5ECF6\",\"gridcolor\":\"white\",\"gridwidth\":2,\"linecolor\":\"white\",\"showbackground\":true,\"ticks\":\"\",\"zerolinecolor\":\"white\"}},\"shapedefaults\":{\"line\":{\"color\":\"#2a3f5f\"}},\"ternary\":{\"aaxis\":{\"gridcolor\":\"white\",\"linecolor\":\"white\",\"ticks\":\"\"},\"baxis\":{\"gridcolor\":\"white\",\"linecolor\":\"white\",\"ticks\":\"\"},\"bgcolor\":\"#E5ECF6\",\"caxis\":{\"gridcolor\":\"white\",\"linecolor\":\"white\",\"ticks\":\"\"}},\"title\":{\"x\":0.05},\"xaxis\":{\"automargin\":true,\"gridcolor\":\"white\",\"linecolor\":\"white\",\"ticks\":\"\",\"title\":{\"standoff\":15},\"zerolinecolor\":\"white\",\"zerolinewidth\":2},\"yaxis\":{\"automargin\":true,\"gridcolor\":\"white\",\"linecolor\":\"white\",\"ticks\":\"\",\"title\":{\"standoff\":15},\"zerolinecolor\":\"white\",\"zerolinewidth\":2}}},\"title\":{\"font\":{\"color\":\"#4D5663\"}},\"xaxis\":{\"gridcolor\":\"#E1E5ED\",\"showgrid\":true,\"tickfont\":{\"color\":\"#4D5663\"},\"title\":{\"font\":{\"color\":\"#4D5663\"},\"text\":\"\"},\"zerolinecolor\":\"#E1E5ED\"},\"yaxis\":{\"gridcolor\":\"#E1E5ED\",\"showgrid\":true,\"tickfont\":{\"color\":\"#4D5663\"},\"title\":{\"font\":{\"color\":\"#4D5663\"},\"text\":\"\"},\"zerolinecolor\":\"#E1E5ED\"}},                        {\"showLink\": true, \"linkText\": \"Export to plot.ly\", \"plotlyServerURL\": \"https://plot.ly\", \"responsive\": true}                    ).then(function(){\n",
       "                            \n",
       "var gd = document.getElementById('52c58ba2-14b8-4fea-9c48-7911e68050fc');\n",
       "var x = new MutationObserver(function (mutations, observer) {{\n",
       "        var display = window.getComputedStyle(gd).display;\n",
       "        if (!display || display === 'none') {{\n",
       "            console.log([gd, 'removed!']);\n",
       "            Plotly.purge(gd);\n",
       "            observer.disconnect();\n",
       "        }}\n",
       "}});\n",
       "\n",
       "// Listen for the removal of the full notebook cells\n",
       "var notebookContainer = gd.closest('#notebook-container');\n",
       "if (notebookContainer) {{\n",
       "    x.observe(notebookContainer, {childList: true});\n",
       "}}\n",
       "\n",
       "// Listen for the clearing of the current output cell\n",
       "var outputEl = gd.closest('.output');\n",
       "if (outputEl) {{\n",
       "    x.observe(outputEl, {childList: true});\n",
       "}}\n",
       "\n",
       "                        })                };                });            </script>        </div>"
      ]
     },
     "metadata": {},
     "output_type": "display_data"
    }
   ],
   "source": [
    "df.iplot(kind='box')"
   ]
  },
  {
   "cell_type": "markdown",
   "metadata": {},
   "source": [
    "## 3d Surface"
   ]
  },
  {
   "cell_type": "code",
   "execution_count": 15,
   "metadata": {
    "collapsed": false
   },
   "outputs": [
    {
     "data": {
      "application/vnd.plotly.v1+json": {
       "config": {
        "linkText": "Export to plot.ly",
        "plotlyServerURL": "https://plot.ly",
        "showLink": true
       },
       "data": [
        {
         "colorscale": [
          [
           0,
           "rgb(165,0,38)"
          ],
          [
           0.1,
           "rgb(215,48,39)"
          ],
          [
           0.2,
           "rgb(244,109,67)"
          ],
          [
           0.3,
           "rgb(253,174,97)"
          ],
          [
           0.4,
           "rgb(254,224,144)"
          ],
          [
           0.5,
           "rgb(255,255,191)"
          ],
          [
           0.6,
           "rgb(224,243,248)"
          ],
          [
           0.7,
           "rgb(171,217,233)"
          ],
          [
           0.8,
           "rgb(116,173,209)"
          ],
          [
           0.9,
           "rgb(69,117,180)"
          ],
          [
           1,
           "rgb(49,54,149)"
          ]
         ],
         "type": "surface",
         "x": [
          0,
          1,
          2,
          3,
          4
         ],
         "y": [
          "x",
          "y",
          "z"
         ],
         "z": [
          [
           1,
           2,
           3,
           4,
           5
          ],
          [
           10,
           20,
           30,
           20,
           10
          ],
          [
           5,
           4,
           3,
           2,
           1
          ]
         ]
        }
       ],
       "layout": {
        "legend": {
         "bgcolor": "#F5F6F9",
         "font": {
          "color": "#4D5663"
         }
        },
        "paper_bgcolor": "#F5F6F9",
        "plot_bgcolor": "#F5F6F9",
        "template": {
         "data": {
          "bar": [
           {
            "error_x": {
             "color": "#2a3f5f"
            },
            "error_y": {
             "color": "#2a3f5f"
            },
            "marker": {
             "line": {
              "color": "#E5ECF6",
              "width": 0.5
             },
             "pattern": {
              "fillmode": "overlay",
              "size": 10,
              "solidity": 0.2
             }
            },
            "type": "bar"
           }
          ],
          "barpolar": [
           {
            "marker": {
             "line": {
              "color": "#E5ECF6",
              "width": 0.5
             },
             "pattern": {
              "fillmode": "overlay",
              "size": 10,
              "solidity": 0.2
             }
            },
            "type": "barpolar"
           }
          ],
          "carpet": [
           {
            "aaxis": {
             "endlinecolor": "#2a3f5f",
             "gridcolor": "white",
             "linecolor": "white",
             "minorgridcolor": "white",
             "startlinecolor": "#2a3f5f"
            },
            "baxis": {
             "endlinecolor": "#2a3f5f",
             "gridcolor": "white",
             "linecolor": "white",
             "minorgridcolor": "white",
             "startlinecolor": "#2a3f5f"
            },
            "type": "carpet"
           }
          ],
          "choropleth": [
           {
            "colorbar": {
             "outlinewidth": 0,
             "ticks": ""
            },
            "type": "choropleth"
           }
          ],
          "contour": [
           {
            "colorbar": {
             "outlinewidth": 0,
             "ticks": ""
            },
            "colorscale": [
             [
              0,
              "#0d0887"
             ],
             [
              0.1111111111111111,
              "#46039f"
             ],
             [
              0.2222222222222222,
              "#7201a8"
             ],
             [
              0.3333333333333333,
              "#9c179e"
             ],
             [
              0.4444444444444444,
              "#bd3786"
             ],
             [
              0.5555555555555556,
              "#d8576b"
             ],
             [
              0.6666666666666666,
              "#ed7953"
             ],
             [
              0.7777777777777778,
              "#fb9f3a"
             ],
             [
              0.8888888888888888,
              "#fdca26"
             ],
             [
              1,
              "#f0f921"
             ]
            ],
            "type": "contour"
           }
          ],
          "contourcarpet": [
           {
            "colorbar": {
             "outlinewidth": 0,
             "ticks": ""
            },
            "type": "contourcarpet"
           }
          ],
          "heatmap": [
           {
            "colorbar": {
             "outlinewidth": 0,
             "ticks": ""
            },
            "colorscale": [
             [
              0,
              "#0d0887"
             ],
             [
              0.1111111111111111,
              "#46039f"
             ],
             [
              0.2222222222222222,
              "#7201a8"
             ],
             [
              0.3333333333333333,
              "#9c179e"
             ],
             [
              0.4444444444444444,
              "#bd3786"
             ],
             [
              0.5555555555555556,
              "#d8576b"
             ],
             [
              0.6666666666666666,
              "#ed7953"
             ],
             [
              0.7777777777777778,
              "#fb9f3a"
             ],
             [
              0.8888888888888888,
              "#fdca26"
             ],
             [
              1,
              "#f0f921"
             ]
            ],
            "type": "heatmap"
           }
          ],
          "heatmapgl": [
           {
            "colorbar": {
             "outlinewidth": 0,
             "ticks": ""
            },
            "colorscale": [
             [
              0,
              "#0d0887"
             ],
             [
              0.1111111111111111,
              "#46039f"
             ],
             [
              0.2222222222222222,
              "#7201a8"
             ],
             [
              0.3333333333333333,
              "#9c179e"
             ],
             [
              0.4444444444444444,
              "#bd3786"
             ],
             [
              0.5555555555555556,
              "#d8576b"
             ],
             [
              0.6666666666666666,
              "#ed7953"
             ],
             [
              0.7777777777777778,
              "#fb9f3a"
             ],
             [
              0.8888888888888888,
              "#fdca26"
             ],
             [
              1,
              "#f0f921"
             ]
            ],
            "type": "heatmapgl"
           }
          ],
          "histogram": [
           {
            "marker": {
             "pattern": {
              "fillmode": "overlay",
              "size": 10,
              "solidity": 0.2
             }
            },
            "type": "histogram"
           }
          ],
          "histogram2d": [
           {
            "colorbar": {
             "outlinewidth": 0,
             "ticks": ""
            },
            "colorscale": [
             [
              0,
              "#0d0887"
             ],
             [
              0.1111111111111111,
              "#46039f"
             ],
             [
              0.2222222222222222,
              "#7201a8"
             ],
             [
              0.3333333333333333,
              "#9c179e"
             ],
             [
              0.4444444444444444,
              "#bd3786"
             ],
             [
              0.5555555555555556,
              "#d8576b"
             ],
             [
              0.6666666666666666,
              "#ed7953"
             ],
             [
              0.7777777777777778,
              "#fb9f3a"
             ],
             [
              0.8888888888888888,
              "#fdca26"
             ],
             [
              1,
              "#f0f921"
             ]
            ],
            "type": "histogram2d"
           }
          ],
          "histogram2dcontour": [
           {
            "colorbar": {
             "outlinewidth": 0,
             "ticks": ""
            },
            "colorscale": [
             [
              0,
              "#0d0887"
             ],
             [
              0.1111111111111111,
              "#46039f"
             ],
             [
              0.2222222222222222,
              "#7201a8"
             ],
             [
              0.3333333333333333,
              "#9c179e"
             ],
             [
              0.4444444444444444,
              "#bd3786"
             ],
             [
              0.5555555555555556,
              "#d8576b"
             ],
             [
              0.6666666666666666,
              "#ed7953"
             ],
             [
              0.7777777777777778,
              "#fb9f3a"
             ],
             [
              0.8888888888888888,
              "#fdca26"
             ],
             [
              1,
              "#f0f921"
             ]
            ],
            "type": "histogram2dcontour"
           }
          ],
          "mesh3d": [
           {
            "colorbar": {
             "outlinewidth": 0,
             "ticks": ""
            },
            "type": "mesh3d"
           }
          ],
          "parcoords": [
           {
            "line": {
             "colorbar": {
              "outlinewidth": 0,
              "ticks": ""
             }
            },
            "type": "parcoords"
           }
          ],
          "pie": [
           {
            "automargin": true,
            "type": "pie"
           }
          ],
          "scatter": [
           {
            "fillpattern": {
             "fillmode": "overlay",
             "size": 10,
             "solidity": 0.2
            },
            "type": "scatter"
           }
          ],
          "scatter3d": [
           {
            "line": {
             "colorbar": {
              "outlinewidth": 0,
              "ticks": ""
             }
            },
            "marker": {
             "colorbar": {
              "outlinewidth": 0,
              "ticks": ""
             }
            },
            "type": "scatter3d"
           }
          ],
          "scattercarpet": [
           {
            "marker": {
             "colorbar": {
              "outlinewidth": 0,
              "ticks": ""
             }
            },
            "type": "scattercarpet"
           }
          ],
          "scattergeo": [
           {
            "marker": {
             "colorbar": {
              "outlinewidth": 0,
              "ticks": ""
             }
            },
            "type": "scattergeo"
           }
          ],
          "scattergl": [
           {
            "marker": {
             "colorbar": {
              "outlinewidth": 0,
              "ticks": ""
             }
            },
            "type": "scattergl"
           }
          ],
          "scattermapbox": [
           {
            "marker": {
             "colorbar": {
              "outlinewidth": 0,
              "ticks": ""
             }
            },
            "type": "scattermapbox"
           }
          ],
          "scatterpolar": [
           {
            "marker": {
             "colorbar": {
              "outlinewidth": 0,
              "ticks": ""
             }
            },
            "type": "scatterpolar"
           }
          ],
          "scatterpolargl": [
           {
            "marker": {
             "colorbar": {
              "outlinewidth": 0,
              "ticks": ""
             }
            },
            "type": "scatterpolargl"
           }
          ],
          "scatterternary": [
           {
            "marker": {
             "colorbar": {
              "outlinewidth": 0,
              "ticks": ""
             }
            },
            "type": "scatterternary"
           }
          ],
          "surface": [
           {
            "colorbar": {
             "outlinewidth": 0,
             "ticks": ""
            },
            "colorscale": [
             [
              0,
              "#0d0887"
             ],
             [
              0.1111111111111111,
              "#46039f"
             ],
             [
              0.2222222222222222,
              "#7201a8"
             ],
             [
              0.3333333333333333,
              "#9c179e"
             ],
             [
              0.4444444444444444,
              "#bd3786"
             ],
             [
              0.5555555555555556,
              "#d8576b"
             ],
             [
              0.6666666666666666,
              "#ed7953"
             ],
             [
              0.7777777777777778,
              "#fb9f3a"
             ],
             [
              0.8888888888888888,
              "#fdca26"
             ],
             [
              1,
              "#f0f921"
             ]
            ],
            "type": "surface"
           }
          ],
          "table": [
           {
            "cells": {
             "fill": {
              "color": "#EBF0F8"
             },
             "line": {
              "color": "white"
             }
            },
            "header": {
             "fill": {
              "color": "#C8D4E3"
             },
             "line": {
              "color": "white"
             }
            },
            "type": "table"
           }
          ]
         },
         "layout": {
          "annotationdefaults": {
           "arrowcolor": "#2a3f5f",
           "arrowhead": 0,
           "arrowwidth": 1
          },
          "autotypenumbers": "strict",
          "coloraxis": {
           "colorbar": {
            "outlinewidth": 0,
            "ticks": ""
           }
          },
          "colorscale": {
           "diverging": [
            [
             0,
             "#8e0152"
            ],
            [
             0.1,
             "#c51b7d"
            ],
            [
             0.2,
             "#de77ae"
            ],
            [
             0.3,
             "#f1b6da"
            ],
            [
             0.4,
             "#fde0ef"
            ],
            [
             0.5,
             "#f7f7f7"
            ],
            [
             0.6,
             "#e6f5d0"
            ],
            [
             0.7,
             "#b8e186"
            ],
            [
             0.8,
             "#7fbc41"
            ],
            [
             0.9,
             "#4d9221"
            ],
            [
             1,
             "#276419"
            ]
           ],
           "sequential": [
            [
             0,
             "#0d0887"
            ],
            [
             0.1111111111111111,
             "#46039f"
            ],
            [
             0.2222222222222222,
             "#7201a8"
            ],
            [
             0.3333333333333333,
             "#9c179e"
            ],
            [
             0.4444444444444444,
             "#bd3786"
            ],
            [
             0.5555555555555556,
             "#d8576b"
            ],
            [
             0.6666666666666666,
             "#ed7953"
            ],
            [
             0.7777777777777778,
             "#fb9f3a"
            ],
            [
             0.8888888888888888,
             "#fdca26"
            ],
            [
             1,
             "#f0f921"
            ]
           ],
           "sequentialminus": [
            [
             0,
             "#0d0887"
            ],
            [
             0.1111111111111111,
             "#46039f"
            ],
            [
             0.2222222222222222,
             "#7201a8"
            ],
            [
             0.3333333333333333,
             "#9c179e"
            ],
            [
             0.4444444444444444,
             "#bd3786"
            ],
            [
             0.5555555555555556,
             "#d8576b"
            ],
            [
             0.6666666666666666,
             "#ed7953"
            ],
            [
             0.7777777777777778,
             "#fb9f3a"
            ],
            [
             0.8888888888888888,
             "#fdca26"
            ],
            [
             1,
             "#f0f921"
            ]
           ]
          },
          "colorway": [
           "#636efa",
           "#EF553B",
           "#00cc96",
           "#ab63fa",
           "#FFA15A",
           "#19d3f3",
           "#FF6692",
           "#B6E880",
           "#FF97FF",
           "#FECB52"
          ],
          "font": {
           "color": "#2a3f5f"
          },
          "geo": {
           "bgcolor": "white",
           "lakecolor": "white",
           "landcolor": "#E5ECF6",
           "showlakes": true,
           "showland": true,
           "subunitcolor": "white"
          },
          "hoverlabel": {
           "align": "left"
          },
          "hovermode": "closest",
          "mapbox": {
           "style": "light"
          },
          "paper_bgcolor": "white",
          "plot_bgcolor": "#E5ECF6",
          "polar": {
           "angularaxis": {
            "gridcolor": "white",
            "linecolor": "white",
            "ticks": ""
           },
           "bgcolor": "#E5ECF6",
           "radialaxis": {
            "gridcolor": "white",
            "linecolor": "white",
            "ticks": ""
           }
          },
          "scene": {
           "xaxis": {
            "backgroundcolor": "#E5ECF6",
            "gridcolor": "white",
            "gridwidth": 2,
            "linecolor": "white",
            "showbackground": true,
            "ticks": "",
            "zerolinecolor": "white"
           },
           "yaxis": {
            "backgroundcolor": "#E5ECF6",
            "gridcolor": "white",
            "gridwidth": 2,
            "linecolor": "white",
            "showbackground": true,
            "ticks": "",
            "zerolinecolor": "white"
           },
           "zaxis": {
            "backgroundcolor": "#E5ECF6",
            "gridcolor": "white",
            "gridwidth": 2,
            "linecolor": "white",
            "showbackground": true,
            "ticks": "",
            "zerolinecolor": "white"
           }
          },
          "shapedefaults": {
           "line": {
            "color": "#2a3f5f"
           }
          },
          "ternary": {
           "aaxis": {
            "gridcolor": "white",
            "linecolor": "white",
            "ticks": ""
           },
           "baxis": {
            "gridcolor": "white",
            "linecolor": "white",
            "ticks": ""
           },
           "bgcolor": "#E5ECF6",
           "caxis": {
            "gridcolor": "white",
            "linecolor": "white",
            "ticks": ""
           }
          },
          "title": {
           "x": 0.05
          },
          "xaxis": {
           "automargin": true,
           "gridcolor": "white",
           "linecolor": "white",
           "ticks": "",
           "title": {
            "standoff": 15
           },
           "zerolinecolor": "white",
           "zerolinewidth": 2
          },
          "yaxis": {
           "automargin": true,
           "gridcolor": "white",
           "linecolor": "white",
           "ticks": "",
           "title": {
            "standoff": 15
           },
           "zerolinecolor": "white",
           "zerolinewidth": 2
          }
         }
        },
        "title": {
         "font": {
          "color": "#4D5663"
         }
        },
        "xaxis": {
         "gridcolor": "#E1E5ED",
         "showgrid": true,
         "tickfont": {
          "color": "#4D5663"
         },
         "title": {
          "font": {
           "color": "#4D5663"
          },
          "text": ""
         },
         "zerolinecolor": "#E1E5ED"
        },
        "yaxis": {
         "gridcolor": "#E1E5ED",
         "showgrid": true,
         "tickfont": {
          "color": "#4D5663"
         },
         "title": {
          "font": {
           "color": "#4D5663"
          },
          "text": ""
         },
         "zerolinecolor": "#E1E5ED"
        }
       }
      },
      "text/html": [
       "<div>                            <div id=\"e6287282-32b2-496c-9af0-0ace5d0113f0\" class=\"plotly-graph-div\" style=\"height:525px; width:100%;\"></div>            <script type=\"text/javascript\">                require([\"plotly\"], function(Plotly) {                    window.PLOTLYENV=window.PLOTLYENV || {};\n",
       "                    window.PLOTLYENV.BASE_URL='https://plot.ly';                                    if (document.getElementById(\"e6287282-32b2-496c-9af0-0ace5d0113f0\")) {                    Plotly.newPlot(                        \"e6287282-32b2-496c-9af0-0ace5d0113f0\",                        [{\"colorscale\":[[0.0,\"rgb(165,0,38)\"],[0.1,\"rgb(215,48,39)\"],[0.2,\"rgb(244,109,67)\"],[0.3,\"rgb(253,174,97)\"],[0.4,\"rgb(254,224,144)\"],[0.5,\"rgb(255,255,191)\"],[0.6,\"rgb(224,243,248)\"],[0.7,\"rgb(171,217,233)\"],[0.8,\"rgb(116,173,209)\"],[0.9,\"rgb(69,117,180)\"],[1.0,\"rgb(49,54,149)\"]],\"x\":[0,1,2,3,4],\"y\":[\"x\",\"y\",\"z\"],\"z\":[[1,2,3,4,5],[10,20,30,20,10],[5,4,3,2,1]],\"type\":\"surface\"}],                        {\"legend\":{\"bgcolor\":\"#F5F6F9\",\"font\":{\"color\":\"#4D5663\"}},\"paper_bgcolor\":\"#F5F6F9\",\"plot_bgcolor\":\"#F5F6F9\",\"template\":{\"data\":{\"barpolar\":[{\"marker\":{\"line\":{\"color\":\"#E5ECF6\",\"width\":0.5},\"pattern\":{\"fillmode\":\"overlay\",\"size\":10,\"solidity\":0.2}},\"type\":\"barpolar\"}],\"bar\":[{\"error_x\":{\"color\":\"#2a3f5f\"},\"error_y\":{\"color\":\"#2a3f5f\"},\"marker\":{\"line\":{\"color\":\"#E5ECF6\",\"width\":0.5},\"pattern\":{\"fillmode\":\"overlay\",\"size\":10,\"solidity\":0.2}},\"type\":\"bar\"}],\"carpet\":[{\"aaxis\":{\"endlinecolor\":\"#2a3f5f\",\"gridcolor\":\"white\",\"linecolor\":\"white\",\"minorgridcolor\":\"white\",\"startlinecolor\":\"#2a3f5f\"},\"baxis\":{\"endlinecolor\":\"#2a3f5f\",\"gridcolor\":\"white\",\"linecolor\":\"white\",\"minorgridcolor\":\"white\",\"startlinecolor\":\"#2a3f5f\"},\"type\":\"carpet\"}],\"choropleth\":[{\"colorbar\":{\"outlinewidth\":0,\"ticks\":\"\"},\"type\":\"choropleth\"}],\"contourcarpet\":[{\"colorbar\":{\"outlinewidth\":0,\"ticks\":\"\"},\"type\":\"contourcarpet\"}],\"contour\":[{\"colorbar\":{\"outlinewidth\":0,\"ticks\":\"\"},\"colorscale\":[[0.0,\"#0d0887\"],[0.1111111111111111,\"#46039f\"],[0.2222222222222222,\"#7201a8\"],[0.3333333333333333,\"#9c179e\"],[0.4444444444444444,\"#bd3786\"],[0.5555555555555556,\"#d8576b\"],[0.6666666666666666,\"#ed7953\"],[0.7777777777777778,\"#fb9f3a\"],[0.8888888888888888,\"#fdca26\"],[1.0,\"#f0f921\"]],\"type\":\"contour\"}],\"heatmapgl\":[{\"colorbar\":{\"outlinewidth\":0,\"ticks\":\"\"},\"colorscale\":[[0.0,\"#0d0887\"],[0.1111111111111111,\"#46039f\"],[0.2222222222222222,\"#7201a8\"],[0.3333333333333333,\"#9c179e\"],[0.4444444444444444,\"#bd3786\"],[0.5555555555555556,\"#d8576b\"],[0.6666666666666666,\"#ed7953\"],[0.7777777777777778,\"#fb9f3a\"],[0.8888888888888888,\"#fdca26\"],[1.0,\"#f0f921\"]],\"type\":\"heatmapgl\"}],\"heatmap\":[{\"colorbar\":{\"outlinewidth\":0,\"ticks\":\"\"},\"colorscale\":[[0.0,\"#0d0887\"],[0.1111111111111111,\"#46039f\"],[0.2222222222222222,\"#7201a8\"],[0.3333333333333333,\"#9c179e\"],[0.4444444444444444,\"#bd3786\"],[0.5555555555555556,\"#d8576b\"],[0.6666666666666666,\"#ed7953\"],[0.7777777777777778,\"#fb9f3a\"],[0.8888888888888888,\"#fdca26\"],[1.0,\"#f0f921\"]],\"type\":\"heatmap\"}],\"histogram2dcontour\":[{\"colorbar\":{\"outlinewidth\":0,\"ticks\":\"\"},\"colorscale\":[[0.0,\"#0d0887\"],[0.1111111111111111,\"#46039f\"],[0.2222222222222222,\"#7201a8\"],[0.3333333333333333,\"#9c179e\"],[0.4444444444444444,\"#bd3786\"],[0.5555555555555556,\"#d8576b\"],[0.6666666666666666,\"#ed7953\"],[0.7777777777777778,\"#fb9f3a\"],[0.8888888888888888,\"#fdca26\"],[1.0,\"#f0f921\"]],\"type\":\"histogram2dcontour\"}],\"histogram2d\":[{\"colorbar\":{\"outlinewidth\":0,\"ticks\":\"\"},\"colorscale\":[[0.0,\"#0d0887\"],[0.1111111111111111,\"#46039f\"],[0.2222222222222222,\"#7201a8\"],[0.3333333333333333,\"#9c179e\"],[0.4444444444444444,\"#bd3786\"],[0.5555555555555556,\"#d8576b\"],[0.6666666666666666,\"#ed7953\"],[0.7777777777777778,\"#fb9f3a\"],[0.8888888888888888,\"#fdca26\"],[1.0,\"#f0f921\"]],\"type\":\"histogram2d\"}],\"histogram\":[{\"marker\":{\"pattern\":{\"fillmode\":\"overlay\",\"size\":10,\"solidity\":0.2}},\"type\":\"histogram\"}],\"mesh3d\":[{\"colorbar\":{\"outlinewidth\":0,\"ticks\":\"\"},\"type\":\"mesh3d\"}],\"parcoords\":[{\"line\":{\"colorbar\":{\"outlinewidth\":0,\"ticks\":\"\"}},\"type\":\"parcoords\"}],\"pie\":[{\"automargin\":true,\"type\":\"pie\"}],\"scatter3d\":[{\"line\":{\"colorbar\":{\"outlinewidth\":0,\"ticks\":\"\"}},\"marker\":{\"colorbar\":{\"outlinewidth\":0,\"ticks\":\"\"}},\"type\":\"scatter3d\"}],\"scattercarpet\":[{\"marker\":{\"colorbar\":{\"outlinewidth\":0,\"ticks\":\"\"}},\"type\":\"scattercarpet\"}],\"scattergeo\":[{\"marker\":{\"colorbar\":{\"outlinewidth\":0,\"ticks\":\"\"}},\"type\":\"scattergeo\"}],\"scattergl\":[{\"marker\":{\"colorbar\":{\"outlinewidth\":0,\"ticks\":\"\"}},\"type\":\"scattergl\"}],\"scattermapbox\":[{\"marker\":{\"colorbar\":{\"outlinewidth\":0,\"ticks\":\"\"}},\"type\":\"scattermapbox\"}],\"scatterpolargl\":[{\"marker\":{\"colorbar\":{\"outlinewidth\":0,\"ticks\":\"\"}},\"type\":\"scatterpolargl\"}],\"scatterpolar\":[{\"marker\":{\"colorbar\":{\"outlinewidth\":0,\"ticks\":\"\"}},\"type\":\"scatterpolar\"}],\"scatter\":[{\"fillpattern\":{\"fillmode\":\"overlay\",\"size\":10,\"solidity\":0.2},\"type\":\"scatter\"}],\"scatterternary\":[{\"marker\":{\"colorbar\":{\"outlinewidth\":0,\"ticks\":\"\"}},\"type\":\"scatterternary\"}],\"surface\":[{\"colorbar\":{\"outlinewidth\":0,\"ticks\":\"\"},\"colorscale\":[[0.0,\"#0d0887\"],[0.1111111111111111,\"#46039f\"],[0.2222222222222222,\"#7201a8\"],[0.3333333333333333,\"#9c179e\"],[0.4444444444444444,\"#bd3786\"],[0.5555555555555556,\"#d8576b\"],[0.6666666666666666,\"#ed7953\"],[0.7777777777777778,\"#fb9f3a\"],[0.8888888888888888,\"#fdca26\"],[1.0,\"#f0f921\"]],\"type\":\"surface\"}],\"table\":[{\"cells\":{\"fill\":{\"color\":\"#EBF0F8\"},\"line\":{\"color\":\"white\"}},\"header\":{\"fill\":{\"color\":\"#C8D4E3\"},\"line\":{\"color\":\"white\"}},\"type\":\"table\"}]},\"layout\":{\"annotationdefaults\":{\"arrowcolor\":\"#2a3f5f\",\"arrowhead\":0,\"arrowwidth\":1},\"autotypenumbers\":\"strict\",\"coloraxis\":{\"colorbar\":{\"outlinewidth\":0,\"ticks\":\"\"}},\"colorscale\":{\"diverging\":[[0,\"#8e0152\"],[0.1,\"#c51b7d\"],[0.2,\"#de77ae\"],[0.3,\"#f1b6da\"],[0.4,\"#fde0ef\"],[0.5,\"#f7f7f7\"],[0.6,\"#e6f5d0\"],[0.7,\"#b8e186\"],[0.8,\"#7fbc41\"],[0.9,\"#4d9221\"],[1,\"#276419\"]],\"sequential\":[[0.0,\"#0d0887\"],[0.1111111111111111,\"#46039f\"],[0.2222222222222222,\"#7201a8\"],[0.3333333333333333,\"#9c179e\"],[0.4444444444444444,\"#bd3786\"],[0.5555555555555556,\"#d8576b\"],[0.6666666666666666,\"#ed7953\"],[0.7777777777777778,\"#fb9f3a\"],[0.8888888888888888,\"#fdca26\"],[1.0,\"#f0f921\"]],\"sequentialminus\":[[0.0,\"#0d0887\"],[0.1111111111111111,\"#46039f\"],[0.2222222222222222,\"#7201a8\"],[0.3333333333333333,\"#9c179e\"],[0.4444444444444444,\"#bd3786\"],[0.5555555555555556,\"#d8576b\"],[0.6666666666666666,\"#ed7953\"],[0.7777777777777778,\"#fb9f3a\"],[0.8888888888888888,\"#fdca26\"],[1.0,\"#f0f921\"]]},\"colorway\":[\"#636efa\",\"#EF553B\",\"#00cc96\",\"#ab63fa\",\"#FFA15A\",\"#19d3f3\",\"#FF6692\",\"#B6E880\",\"#FF97FF\",\"#FECB52\"],\"font\":{\"color\":\"#2a3f5f\"},\"geo\":{\"bgcolor\":\"white\",\"lakecolor\":\"white\",\"landcolor\":\"#E5ECF6\",\"showlakes\":true,\"showland\":true,\"subunitcolor\":\"white\"},\"hoverlabel\":{\"align\":\"left\"},\"hovermode\":\"closest\",\"mapbox\":{\"style\":\"light\"},\"paper_bgcolor\":\"white\",\"plot_bgcolor\":\"#E5ECF6\",\"polar\":{\"angularaxis\":{\"gridcolor\":\"white\",\"linecolor\":\"white\",\"ticks\":\"\"},\"bgcolor\":\"#E5ECF6\",\"radialaxis\":{\"gridcolor\":\"white\",\"linecolor\":\"white\",\"ticks\":\"\"}},\"scene\":{\"xaxis\":{\"backgroundcolor\":\"#E5ECF6\",\"gridcolor\":\"white\",\"gridwidth\":2,\"linecolor\":\"white\",\"showbackground\":true,\"ticks\":\"\",\"zerolinecolor\":\"white\"},\"yaxis\":{\"backgroundcolor\":\"#E5ECF6\",\"gridcolor\":\"white\",\"gridwidth\":2,\"linecolor\":\"white\",\"showbackground\":true,\"ticks\":\"\",\"zerolinecolor\":\"white\"},\"zaxis\":{\"backgroundcolor\":\"#E5ECF6\",\"gridcolor\":\"white\",\"gridwidth\":2,\"linecolor\":\"white\",\"showbackground\":true,\"ticks\":\"\",\"zerolinecolor\":\"white\"}},\"shapedefaults\":{\"line\":{\"color\":\"#2a3f5f\"}},\"ternary\":{\"aaxis\":{\"gridcolor\":\"white\",\"linecolor\":\"white\",\"ticks\":\"\"},\"baxis\":{\"gridcolor\":\"white\",\"linecolor\":\"white\",\"ticks\":\"\"},\"bgcolor\":\"#E5ECF6\",\"caxis\":{\"gridcolor\":\"white\",\"linecolor\":\"white\",\"ticks\":\"\"}},\"title\":{\"x\":0.05},\"xaxis\":{\"automargin\":true,\"gridcolor\":\"white\",\"linecolor\":\"white\",\"ticks\":\"\",\"title\":{\"standoff\":15},\"zerolinecolor\":\"white\",\"zerolinewidth\":2},\"yaxis\":{\"automargin\":true,\"gridcolor\":\"white\",\"linecolor\":\"white\",\"ticks\":\"\",\"title\":{\"standoff\":15},\"zerolinecolor\":\"white\",\"zerolinewidth\":2}}},\"title\":{\"font\":{\"color\":\"#4D5663\"}},\"xaxis\":{\"gridcolor\":\"#E1E5ED\",\"showgrid\":true,\"tickfont\":{\"color\":\"#4D5663\"},\"title\":{\"font\":{\"color\":\"#4D5663\"},\"text\":\"\"},\"zerolinecolor\":\"#E1E5ED\"},\"yaxis\":{\"gridcolor\":\"#E1E5ED\",\"showgrid\":true,\"tickfont\":{\"color\":\"#4D5663\"},\"title\":{\"font\":{\"color\":\"#4D5663\"},\"text\":\"\"},\"zerolinecolor\":\"#E1E5ED\"}},                        {\"showLink\": true, \"linkText\": \"Export to plot.ly\", \"plotlyServerURL\": \"https://plot.ly\", \"responsive\": true}                    ).then(function(){\n",
       "                            \n",
       "var gd = document.getElementById('e6287282-32b2-496c-9af0-0ace5d0113f0');\n",
       "var x = new MutationObserver(function (mutations, observer) {{\n",
       "        var display = window.getComputedStyle(gd).display;\n",
       "        if (!display || display === 'none') {{\n",
       "            console.log([gd, 'removed!']);\n",
       "            Plotly.purge(gd);\n",
       "            observer.disconnect();\n",
       "        }}\n",
       "}});\n",
       "\n",
       "// Listen for the removal of the full notebook cells\n",
       "var notebookContainer = gd.closest('#notebook-container');\n",
       "if (notebookContainer) {{\n",
       "    x.observe(notebookContainer, {childList: true});\n",
       "}}\n",
       "\n",
       "// Listen for the clearing of the current output cell\n",
       "var outputEl = gd.closest('.output');\n",
       "if (outputEl) {{\n",
       "    x.observe(outputEl, {childList: true});\n",
       "}}\n",
       "\n",
       "                        })                };                });            </script>        </div>"
      ]
     },
     "metadata": {},
     "output_type": "display_data"
    }
   ],
   "source": [
    "df3 = pd.DataFrame({'x':[1,2,3,4,5],'y':[10,20,30,20,10],'z':[5,4,3,2,1]})\n",
    "df3.iplot(kind='surface',colorscale='rdylbu')"
   ]
  },
  {
   "cell_type": "markdown",
   "metadata": {},
   "source": [
    "## Spread"
   ]
  },
  {
   "cell_type": "code",
   "execution_count": 16,
   "metadata": {
    "collapsed": false
   },
   "outputs": [
    {
     "name": "stderr",
     "output_type": "stream",
     "text": [
      "C:\\Users\\964864\\AppData\\Roaming\\Python\\Python39\\site-packages\\cufflinks\\plotlytools.py:849: FutureWarning:\n",
      "\n",
      "Series.__getitem__ treating keys as positions is deprecated. In a future version, integer keys will always be treated as labels (consistent with DataFrame behavior). To access a value by position, use `ser.iloc[pos]`\n",
      "\n"
     ]
    },
    {
     "data": {
      "application/vnd.plotly.v1+json": {
       "config": {
        "linkText": "Export to plot.ly",
        "plotlyServerURL": "https://plot.ly",
        "showLink": true
       },
       "data": [
        {
         "line": {
          "color": "rgba(255, 153, 51, 1.0)",
          "dash": "solid",
          "shape": "linear",
          "width": 1.3
         },
         "mode": "lines",
         "name": "A",
         "text": "",
         "type": "scatter",
         "x": [
          0,
          1,
          2,
          3,
          4,
          5,
          6,
          7,
          8,
          9,
          10,
          11,
          12,
          13,
          14,
          15,
          16,
          17,
          18,
          19,
          20,
          21,
          22,
          23,
          24,
          25,
          26,
          27,
          28,
          29,
          30,
          31,
          32,
          33,
          34,
          35,
          36,
          37,
          38,
          39,
          40,
          41,
          42,
          43,
          44,
          45,
          46,
          47,
          48,
          49,
          50,
          51,
          52,
          53,
          54,
          55,
          56,
          57,
          58,
          59,
          60,
          61,
          62,
          63,
          64,
          65,
          66,
          67,
          68,
          69,
          70,
          71,
          72,
          73,
          74,
          75,
          76,
          77,
          78,
          79,
          80,
          81,
          82,
          83,
          84,
          85,
          86,
          87,
          88,
          89,
          90,
          91,
          92,
          93,
          94,
          95,
          96,
          97,
          98,
          99
         ],
         "y": [
          1.130845712492262,
          0.29090858090579896,
          0.5443418728942426,
          1.7358613670957141,
          1.7858674247097013,
          2.239975091911653,
          -0.7258104422253708,
          -1.0083890734141534,
          1.5671072793927034,
          0.44368330163022857,
          1.4279437217482005,
          -0.19542847134855418,
          0.6495783250837226,
          -1.8525564479053875,
          -1.8317013210206905,
          0.2688055302097464,
          0.2241950646506555,
          -1.8512490625481963,
          -1.1789628154054355,
          -0.08447607823617174,
          1.8018710662549284,
          1.8638550192237273,
          -1.457619281449165,
          1.5023701046244833,
          0.15875083642391546,
          -1.2825745413625762,
          -0.36700370220642653,
          2.009438965755136,
          -0.35082956816632654,
          -2.5264442806015586,
          0.4520506026011699,
          1.053349796415361,
          -1.337921393086797,
          -1.703217926693494,
          -0.5638501489270755,
          -0.5954567092321331,
          -1.1099136610575517,
          -0.19191541317466335,
          0.7134426170015831,
          0.32410150358419915,
          -0.8094846242122693,
          -0.435180360760021,
          -1.114638346861693,
          0.44571517085451096,
          0.30105291567425035,
          1.126243453943223,
          -0.9854677281986305,
          -1.0740181122904842,
          0.8642449490267092,
          -0.6725524001753558,
          0.12937375046529564,
          -0.17861160381311486,
          0.6961674848289248,
          1.316540903055389,
          -1.642167714865581,
          0.021768851197594506,
          1.7564636931586772,
          -0.15510375128640047,
          0.37343207162224173,
          0.7067302336508653,
          -0.485082071234198,
          1.0057499990835328,
          -0.2815905462716364,
          -1.0211374845105965,
          1.4231487770717495,
          -0.418150530680779,
          -0.7941733598799346,
          0.6000971931560366,
          -1.486031394891415,
          0.6780356295432848,
          -0.850647084609868,
          -0.7909191763481986,
          -0.23213141692519007,
          0.30254579507114543,
          -0.25774803703821814,
          -0.864806103269127,
          0.9779307982259109,
          1.4997270271887482,
          0.38576071910364457,
          -0.15343101110894364,
          -0.17807514552491768,
          0.16753974472337407,
          2.7810643074164694,
          -0.2545877505673127,
          -2.06568839120565,
          0.0793872328286146,
          0.9840975443541982,
          0.010028484286677585,
          1.3588599556571423,
          0.9033906035503909,
          1.7397538308092018,
          -1.6505904365544575,
          -0.9104665692355621,
          -0.5842429898924218,
          -0.6052634377101391,
          -1.4601558788592213,
          0.4803915127520965,
          1.5593320695837987,
          -1.4698367553340614,
          1.4330013471054899
         ]
        },
        {
         "line": {
          "color": "rgba(55, 128, 191, 1.0)",
          "dash": "solid",
          "shape": "linear",
          "width": 1.3
         },
         "mode": "lines",
         "name": "B",
         "text": "",
         "type": "scatter",
         "x": [
          0,
          1,
          2,
          3,
          4,
          5,
          6,
          7,
          8,
          9,
          10,
          11,
          12,
          13,
          14,
          15,
          16,
          17,
          18,
          19,
          20,
          21,
          22,
          23,
          24,
          25,
          26,
          27,
          28,
          29,
          30,
          31,
          32,
          33,
          34,
          35,
          36,
          37,
          38,
          39,
          40,
          41,
          42,
          43,
          44,
          45,
          46,
          47,
          48,
          49,
          50,
          51,
          52,
          53,
          54,
          55,
          56,
          57,
          58,
          59,
          60,
          61,
          62,
          63,
          64,
          65,
          66,
          67,
          68,
          69,
          70,
          71,
          72,
          73,
          74,
          75,
          76,
          77,
          78,
          79,
          80,
          81,
          82,
          83,
          84,
          85,
          86,
          87,
          88,
          89,
          90,
          91,
          92,
          93,
          94,
          95,
          96,
          97,
          98,
          99
         ],
         "y": [
          0.23652795715850095,
          0.9786252446269585,
          -0.056640727346602984,
          -0.4349614120408051,
          -1.1743745916427208,
          -1.7620572065461984,
          0.7325959124175713,
          0.1436936439226743,
          -0.27555908546868524,
          -0.6004006655887814,
          2.2159144648890776,
          0.08608978276712356,
          0.787950574108897,
          1.8106167453268054,
          2.4071514142948183,
          2.33367917977407,
          -0.17043217921907472,
          -0.559544769568131,
          -0.3178320644256901,
          2.509342474661557,
          1.6186307486022546,
          0.8786467053313886,
          -2.4577734110446294,
          -1.723113261937718,
          1.0630824675324746,
          1.0158760542547436,
          1.0189349600993107,
          -0.3817479819618662,
          0.41427726947199267,
          0.8214587697950845,
          1.0961179004626964,
          -0.02395423145642322,
          2.453520862724082,
          -0.7487812489224189,
          0.3484817423218347,
          1.338685675875985,
          0.609700505772461,
          0.23042070231077016,
          0.16547523004146747,
          -0.007048318221612886,
          0.04377525645156575,
          -1.2254831762534104,
          -1.2716014700390135,
          1.1854902788751958,
          1.0204780867900345,
          -0.2797897504487051,
          0.5751999998812791,
          1.6316023675903262,
          0.241498202612012,
          -1.2747224650227431,
          1.2306792456818112,
          0.04918728639549364,
          -0.6267357295715503,
          -1.0328247251819862,
          -0.21390591230657377,
          -2.1024897464833634,
          0.7228779583486531,
          0.5302717891134512,
          -1.5775394290688414,
          -0.415429850639412,
          0.5300885926311383,
          2.3249698282209206,
          -0.5302853090578974,
          -0.1607185484274797,
          -1.8503104351340782,
          0.10131805939089251,
          -0.7016834707334093,
          -0.3825560695099959,
          0.7376388884807465,
          -2.0494397850365798,
          -0.19660738375712236,
          -0.8254237463636193,
          1.7437396924983983,
          -1.5808309939799807,
          -1.0801497191966087,
          -1.004795523337831,
          0.19520188171432185,
          -2.1505906126573042,
          -1.1388250512228844,
          0.30377275412624555,
          0.9654030967031015,
          -0.6904492808008851,
          -1.2394975127933738,
          1.688538507633855,
          -0.36937543766446557,
          0.10375780520719564,
          -1.3632005282097133,
          0.6048151613707982,
          1.4876719169952275,
          0.40539115031188144,
          0.44834205032416385,
          1.2619773103140894,
          0.04662622163307223,
          1.4178646602998692,
          -0.34837797827909456,
          -0.5825818391151043,
          -0.6417193383973584,
          0.5770926164852495,
          -0.2713554315778967,
          0.9846044901362248
         ]
        },
        {
         "connectgaps": false,
         "fill": "tozeroy",
         "line": {
          "color": "green",
          "dash": "solid",
          "shape": "linear",
          "width": 0.5
         },
         "mode": "lines",
         "name": "Spread",
         "showlegend": false,
         "type": "scatter",
         "x": [
          0,
          1,
          2,
          3,
          4,
          5,
          6,
          7,
          8,
          9,
          10,
          11,
          12,
          13,
          14,
          15,
          16,
          17,
          18,
          19,
          20,
          21,
          22,
          23,
          24,
          25,
          26,
          27,
          28,
          29,
          30,
          31,
          32,
          33,
          34,
          35,
          36,
          37,
          38,
          39,
          40,
          41,
          42,
          43,
          44,
          45,
          46,
          47,
          48,
          49,
          50,
          51,
          52,
          53,
          54,
          55,
          56,
          57,
          58,
          59,
          60,
          61,
          62,
          63,
          64,
          65,
          66,
          67,
          68,
          69,
          70,
          71,
          72,
          73,
          74,
          75,
          76,
          77,
          78,
          79,
          80,
          81,
          82,
          83,
          84,
          85,
          86,
          87,
          88,
          89,
          90,
          91,
          92,
          93,
          94,
          95,
          96,
          97,
          98,
          99
         ],
         "xaxis": "x2",
         "y": [
          0.894317755333761,
          "",
          0.6009826002408456,
          2.170822779136519,
          2.960242016352422,
          4.002032298457851,
          "",
          "",
          1.8426663648613886,
          1.0440839672190099,
          "",
          "",
          "",
          "",
          "",
          "",
          0.39462724386973025,
          "",
          "",
          "",
          0.1832403176526738,
          0.9852083138923388,
          1.0001541295954643,
          3.2254833665622016,
          "",
          "",
          "",
          2.3911869477170025,
          "",
          "",
          "",
          1.0773040278717843,
          "",
          "",
          "",
          "",
          "",
          "",
          0.5479673869601156,
          0.33114982180581204,
          "",
          0.7903028154933894,
          0.15696312317732053,
          "",
          "",
          1.406033204391928,
          "",
          "",
          0.6227467464146972,
          0.6021700648473873,
          "",
          "",
          1.322903214400475,
          2.349365628237375,
          "",
          2.124258597680958,
          1.0335857348100241,
          "",
          1.950971500691083,
          1.1221600842902772,
          "",
          "",
          0.24869476278626101,
          "",
          3.273459212205828,
          "",
          "",
          0.9826532626660325,
          "",
          2.7274754145798648,
          "",
          0.03450457001542062,
          "",
          1.8833767890511262,
          0.8224016821583906,
          0.13998942006870396,
          0.782728916511589,
          3.6503176398460524,
          1.5245857703265289,
          "",
          "",
          0.8579890255242592,
          4.020561820209843,
          "",
          "",
          "",
          2.3472980725639117,
          "",
          "",
          0.49799945323850947,
          1.291411780485038,
          "",
          "",
          "",
          "",
          "",
          1.1221108511494549,
          0.9822394530985492,
          "",
          0.4483968569692651
         ],
         "yaxis": "y2"
        },
        {
         "connectgaps": false,
         "fill": "tozeroy",
         "line": {
          "color": "red",
          "dash": "solid",
          "shape": "linear",
          "width": 0.5
         },
         "mode": "lines",
         "name": "Spread",
         "showlegend": false,
         "type": "scatter",
         "x": [
          0,
          1,
          2,
          3,
          4,
          5,
          6,
          7,
          8,
          9,
          10,
          11,
          12,
          13,
          14,
          15,
          16,
          17,
          18,
          19,
          20,
          21,
          22,
          23,
          24,
          25,
          26,
          27,
          28,
          29,
          30,
          31,
          32,
          33,
          34,
          35,
          36,
          37,
          38,
          39,
          40,
          41,
          42,
          43,
          44,
          45,
          46,
          47,
          48,
          49,
          50,
          51,
          52,
          53,
          54,
          55,
          56,
          57,
          58,
          59,
          60,
          61,
          62,
          63,
          64,
          65,
          66,
          67,
          68,
          69,
          70,
          71,
          72,
          73,
          74,
          75,
          76,
          77,
          78,
          79,
          80,
          81,
          82,
          83,
          84,
          85,
          86,
          87,
          88,
          89,
          90,
          91,
          92,
          93,
          94,
          95,
          96,
          97,
          98,
          99
         ],
         "xaxis": "x2",
         "y": [
          "",
          -0.6877166637211596,
          "",
          "",
          "",
          "",
          -1.4584063546429422,
          -1.1520827173368278,
          "",
          "",
          -0.7879707431408771,
          -0.28151825411567777,
          -0.13837224902517442,
          -3.663173193232193,
          -4.2388527353155085,
          -2.0648736495643236,
          "",
          -1.2917042929800653,
          -0.8611307509797453,
          -2.5938185528977287,
          "",
          "",
          "",
          "",
          -0.9043316311085592,
          -2.29845059561732,
          -1.3859386623057373,
          "",
          -0.7651068376383192,
          -3.347903050396643,
          -0.6440672978615265,
          "",
          -3.791442255810879,
          -0.954436677771075,
          -0.9123318912489102,
          -1.9341423851081183,
          -1.719614166830013,
          -0.4223361154854335,
          "",
          "",
          -0.8532598806638351,
          "",
          "",
          -0.7397751080206848,
          -0.7194251711157842,
          "",
          -1.5606677280799097,
          -2.7056204798808103,
          "",
          "",
          -1.1013054952165156,
          -0.2277988902086085,
          "",
          "",
          -1.4282618025590073,
          "",
          "",
          -0.6853755403998516,
          "",
          "",
          -1.0151706638653364,
          -1.3192198291373878,
          "",
          -0.8604189360831168,
          "",
          -0.5194685900716716,
          -0.09248988914652534,
          "",
          -2.2236702833721615,
          "",
          -0.6540397008527457,
          "",
          -1.9758711094235883,
          "",
          "",
          "",
          "",
          "",
          "",
          -0.4572037652351892,
          -1.1434782422280192,
          "",
          "",
          -1.9431262582011677,
          -1.6963129535411843,
          -0.02437057237858105,
          "",
          -0.5947866770841206,
          -0.12881196133808515,
          "",
          "",
          -2.9125677468685467,
          -0.9570927908686344,
          -2.002107650192291,
          -0.25688545943104457,
          -0.877574039744117,
          "",
          "",
          -1.1984813237561647,
          ""
         ],
         "yaxis": "y2"
        }
       ],
       "layout": {
        "hovermode": "x",
        "legend": {
         "bgcolor": "#F5F6F9",
         "font": {
          "color": "#4D5663"
         }
        },
        "paper_bgcolor": "#F5F6F9",
        "plot_bgcolor": "#F5F6F9",
        "template": {
         "data": {
          "bar": [
           {
            "error_x": {
             "color": "#2a3f5f"
            },
            "error_y": {
             "color": "#2a3f5f"
            },
            "marker": {
             "line": {
              "color": "#E5ECF6",
              "width": 0.5
             },
             "pattern": {
              "fillmode": "overlay",
              "size": 10,
              "solidity": 0.2
             }
            },
            "type": "bar"
           }
          ],
          "barpolar": [
           {
            "marker": {
             "line": {
              "color": "#E5ECF6",
              "width": 0.5
             },
             "pattern": {
              "fillmode": "overlay",
              "size": 10,
              "solidity": 0.2
             }
            },
            "type": "barpolar"
           }
          ],
          "carpet": [
           {
            "aaxis": {
             "endlinecolor": "#2a3f5f",
             "gridcolor": "white",
             "linecolor": "white",
             "minorgridcolor": "white",
             "startlinecolor": "#2a3f5f"
            },
            "baxis": {
             "endlinecolor": "#2a3f5f",
             "gridcolor": "white",
             "linecolor": "white",
             "minorgridcolor": "white",
             "startlinecolor": "#2a3f5f"
            },
            "type": "carpet"
           }
          ],
          "choropleth": [
           {
            "colorbar": {
             "outlinewidth": 0,
             "ticks": ""
            },
            "type": "choropleth"
           }
          ],
          "contour": [
           {
            "colorbar": {
             "outlinewidth": 0,
             "ticks": ""
            },
            "colorscale": [
             [
              0,
              "#0d0887"
             ],
             [
              0.1111111111111111,
              "#46039f"
             ],
             [
              0.2222222222222222,
              "#7201a8"
             ],
             [
              0.3333333333333333,
              "#9c179e"
             ],
             [
              0.4444444444444444,
              "#bd3786"
             ],
             [
              0.5555555555555556,
              "#d8576b"
             ],
             [
              0.6666666666666666,
              "#ed7953"
             ],
             [
              0.7777777777777778,
              "#fb9f3a"
             ],
             [
              0.8888888888888888,
              "#fdca26"
             ],
             [
              1,
              "#f0f921"
             ]
            ],
            "type": "contour"
           }
          ],
          "contourcarpet": [
           {
            "colorbar": {
             "outlinewidth": 0,
             "ticks": ""
            },
            "type": "contourcarpet"
           }
          ],
          "heatmap": [
           {
            "colorbar": {
             "outlinewidth": 0,
             "ticks": ""
            },
            "colorscale": [
             [
              0,
              "#0d0887"
             ],
             [
              0.1111111111111111,
              "#46039f"
             ],
             [
              0.2222222222222222,
              "#7201a8"
             ],
             [
              0.3333333333333333,
              "#9c179e"
             ],
             [
              0.4444444444444444,
              "#bd3786"
             ],
             [
              0.5555555555555556,
              "#d8576b"
             ],
             [
              0.6666666666666666,
              "#ed7953"
             ],
             [
              0.7777777777777778,
              "#fb9f3a"
             ],
             [
              0.8888888888888888,
              "#fdca26"
             ],
             [
              1,
              "#f0f921"
             ]
            ],
            "type": "heatmap"
           }
          ],
          "heatmapgl": [
           {
            "colorbar": {
             "outlinewidth": 0,
             "ticks": ""
            },
            "colorscale": [
             [
              0,
              "#0d0887"
             ],
             [
              0.1111111111111111,
              "#46039f"
             ],
             [
              0.2222222222222222,
              "#7201a8"
             ],
             [
              0.3333333333333333,
              "#9c179e"
             ],
             [
              0.4444444444444444,
              "#bd3786"
             ],
             [
              0.5555555555555556,
              "#d8576b"
             ],
             [
              0.6666666666666666,
              "#ed7953"
             ],
             [
              0.7777777777777778,
              "#fb9f3a"
             ],
             [
              0.8888888888888888,
              "#fdca26"
             ],
             [
              1,
              "#f0f921"
             ]
            ],
            "type": "heatmapgl"
           }
          ],
          "histogram": [
           {
            "marker": {
             "pattern": {
              "fillmode": "overlay",
              "size": 10,
              "solidity": 0.2
             }
            },
            "type": "histogram"
           }
          ],
          "histogram2d": [
           {
            "colorbar": {
             "outlinewidth": 0,
             "ticks": ""
            },
            "colorscale": [
             [
              0,
              "#0d0887"
             ],
             [
              0.1111111111111111,
              "#46039f"
             ],
             [
              0.2222222222222222,
              "#7201a8"
             ],
             [
              0.3333333333333333,
              "#9c179e"
             ],
             [
              0.4444444444444444,
              "#bd3786"
             ],
             [
              0.5555555555555556,
              "#d8576b"
             ],
             [
              0.6666666666666666,
              "#ed7953"
             ],
             [
              0.7777777777777778,
              "#fb9f3a"
             ],
             [
              0.8888888888888888,
              "#fdca26"
             ],
             [
              1,
              "#f0f921"
             ]
            ],
            "type": "histogram2d"
           }
          ],
          "histogram2dcontour": [
           {
            "colorbar": {
             "outlinewidth": 0,
             "ticks": ""
            },
            "colorscale": [
             [
              0,
              "#0d0887"
             ],
             [
              0.1111111111111111,
              "#46039f"
             ],
             [
              0.2222222222222222,
              "#7201a8"
             ],
             [
              0.3333333333333333,
              "#9c179e"
             ],
             [
              0.4444444444444444,
              "#bd3786"
             ],
             [
              0.5555555555555556,
              "#d8576b"
             ],
             [
              0.6666666666666666,
              "#ed7953"
             ],
             [
              0.7777777777777778,
              "#fb9f3a"
             ],
             [
              0.8888888888888888,
              "#fdca26"
             ],
             [
              1,
              "#f0f921"
             ]
            ],
            "type": "histogram2dcontour"
           }
          ],
          "mesh3d": [
           {
            "colorbar": {
             "outlinewidth": 0,
             "ticks": ""
            },
            "type": "mesh3d"
           }
          ],
          "parcoords": [
           {
            "line": {
             "colorbar": {
              "outlinewidth": 0,
              "ticks": ""
             }
            },
            "type": "parcoords"
           }
          ],
          "pie": [
           {
            "automargin": true,
            "type": "pie"
           }
          ],
          "scatter": [
           {
            "fillpattern": {
             "fillmode": "overlay",
             "size": 10,
             "solidity": 0.2
            },
            "type": "scatter"
           }
          ],
          "scatter3d": [
           {
            "line": {
             "colorbar": {
              "outlinewidth": 0,
              "ticks": ""
             }
            },
            "marker": {
             "colorbar": {
              "outlinewidth": 0,
              "ticks": ""
             }
            },
            "type": "scatter3d"
           }
          ],
          "scattercarpet": [
           {
            "marker": {
             "colorbar": {
              "outlinewidth": 0,
              "ticks": ""
             }
            },
            "type": "scattercarpet"
           }
          ],
          "scattergeo": [
           {
            "marker": {
             "colorbar": {
              "outlinewidth": 0,
              "ticks": ""
             }
            },
            "type": "scattergeo"
           }
          ],
          "scattergl": [
           {
            "marker": {
             "colorbar": {
              "outlinewidth": 0,
              "ticks": ""
             }
            },
            "type": "scattergl"
           }
          ],
          "scattermapbox": [
           {
            "marker": {
             "colorbar": {
              "outlinewidth": 0,
              "ticks": ""
             }
            },
            "type": "scattermapbox"
           }
          ],
          "scatterpolar": [
           {
            "marker": {
             "colorbar": {
              "outlinewidth": 0,
              "ticks": ""
             }
            },
            "type": "scatterpolar"
           }
          ],
          "scatterpolargl": [
           {
            "marker": {
             "colorbar": {
              "outlinewidth": 0,
              "ticks": ""
             }
            },
            "type": "scatterpolargl"
           }
          ],
          "scatterternary": [
           {
            "marker": {
             "colorbar": {
              "outlinewidth": 0,
              "ticks": ""
             }
            },
            "type": "scatterternary"
           }
          ],
          "surface": [
           {
            "colorbar": {
             "outlinewidth": 0,
             "ticks": ""
            },
            "colorscale": [
             [
              0,
              "#0d0887"
             ],
             [
              0.1111111111111111,
              "#46039f"
             ],
             [
              0.2222222222222222,
              "#7201a8"
             ],
             [
              0.3333333333333333,
              "#9c179e"
             ],
             [
              0.4444444444444444,
              "#bd3786"
             ],
             [
              0.5555555555555556,
              "#d8576b"
             ],
             [
              0.6666666666666666,
              "#ed7953"
             ],
             [
              0.7777777777777778,
              "#fb9f3a"
             ],
             [
              0.8888888888888888,
              "#fdca26"
             ],
             [
              1,
              "#f0f921"
             ]
            ],
            "type": "surface"
           }
          ],
          "table": [
           {
            "cells": {
             "fill": {
              "color": "#EBF0F8"
             },
             "line": {
              "color": "white"
             }
            },
            "header": {
             "fill": {
              "color": "#C8D4E3"
             },
             "line": {
              "color": "white"
             }
            },
            "type": "table"
           }
          ]
         },
         "layout": {
          "annotationdefaults": {
           "arrowcolor": "#2a3f5f",
           "arrowhead": 0,
           "arrowwidth": 1
          },
          "autotypenumbers": "strict",
          "coloraxis": {
           "colorbar": {
            "outlinewidth": 0,
            "ticks": ""
           }
          },
          "colorscale": {
           "diverging": [
            [
             0,
             "#8e0152"
            ],
            [
             0.1,
             "#c51b7d"
            ],
            [
             0.2,
             "#de77ae"
            ],
            [
             0.3,
             "#f1b6da"
            ],
            [
             0.4,
             "#fde0ef"
            ],
            [
             0.5,
             "#f7f7f7"
            ],
            [
             0.6,
             "#e6f5d0"
            ],
            [
             0.7,
             "#b8e186"
            ],
            [
             0.8,
             "#7fbc41"
            ],
            [
             0.9,
             "#4d9221"
            ],
            [
             1,
             "#276419"
            ]
           ],
           "sequential": [
            [
             0,
             "#0d0887"
            ],
            [
             0.1111111111111111,
             "#46039f"
            ],
            [
             0.2222222222222222,
             "#7201a8"
            ],
            [
             0.3333333333333333,
             "#9c179e"
            ],
            [
             0.4444444444444444,
             "#bd3786"
            ],
            [
             0.5555555555555556,
             "#d8576b"
            ],
            [
             0.6666666666666666,
             "#ed7953"
            ],
            [
             0.7777777777777778,
             "#fb9f3a"
            ],
            [
             0.8888888888888888,
             "#fdca26"
            ],
            [
             1,
             "#f0f921"
            ]
           ],
           "sequentialminus": [
            [
             0,
             "#0d0887"
            ],
            [
             0.1111111111111111,
             "#46039f"
            ],
            [
             0.2222222222222222,
             "#7201a8"
            ],
            [
             0.3333333333333333,
             "#9c179e"
            ],
            [
             0.4444444444444444,
             "#bd3786"
            ],
            [
             0.5555555555555556,
             "#d8576b"
            ],
            [
             0.6666666666666666,
             "#ed7953"
            ],
            [
             0.7777777777777778,
             "#fb9f3a"
            ],
            [
             0.8888888888888888,
             "#fdca26"
            ],
            [
             1,
             "#f0f921"
            ]
           ]
          },
          "colorway": [
           "#636efa",
           "#EF553B",
           "#00cc96",
           "#ab63fa",
           "#FFA15A",
           "#19d3f3",
           "#FF6692",
           "#B6E880",
           "#FF97FF",
           "#FECB52"
          ],
          "font": {
           "color": "#2a3f5f"
          },
          "geo": {
           "bgcolor": "white",
           "lakecolor": "white",
           "landcolor": "#E5ECF6",
           "showlakes": true,
           "showland": true,
           "subunitcolor": "white"
          },
          "hoverlabel": {
           "align": "left"
          },
          "hovermode": "closest",
          "mapbox": {
           "style": "light"
          },
          "paper_bgcolor": "white",
          "plot_bgcolor": "#E5ECF6",
          "polar": {
           "angularaxis": {
            "gridcolor": "white",
            "linecolor": "white",
            "ticks": ""
           },
           "bgcolor": "#E5ECF6",
           "radialaxis": {
            "gridcolor": "white",
            "linecolor": "white",
            "ticks": ""
           }
          },
          "scene": {
           "xaxis": {
            "backgroundcolor": "#E5ECF6",
            "gridcolor": "white",
            "gridwidth": 2,
            "linecolor": "white",
            "showbackground": true,
            "ticks": "",
            "zerolinecolor": "white"
           },
           "yaxis": {
            "backgroundcolor": "#E5ECF6",
            "gridcolor": "white",
            "gridwidth": 2,
            "linecolor": "white",
            "showbackground": true,
            "ticks": "",
            "zerolinecolor": "white"
           },
           "zaxis": {
            "backgroundcolor": "#E5ECF6",
            "gridcolor": "white",
            "gridwidth": 2,
            "linecolor": "white",
            "showbackground": true,
            "ticks": "",
            "zerolinecolor": "white"
           }
          },
          "shapedefaults": {
           "line": {
            "color": "#2a3f5f"
           }
          },
          "ternary": {
           "aaxis": {
            "gridcolor": "white",
            "linecolor": "white",
            "ticks": ""
           },
           "baxis": {
            "gridcolor": "white",
            "linecolor": "white",
            "ticks": ""
           },
           "bgcolor": "#E5ECF6",
           "caxis": {
            "gridcolor": "white",
            "linecolor": "white",
            "ticks": ""
           }
          },
          "title": {
           "x": 0.05
          },
          "xaxis": {
           "automargin": true,
           "gridcolor": "white",
           "linecolor": "white",
           "ticks": "",
           "title": {
            "standoff": 15
           },
           "zerolinecolor": "white",
           "zerolinewidth": 2
          },
          "yaxis": {
           "automargin": true,
           "gridcolor": "white",
           "linecolor": "white",
           "ticks": "",
           "title": {
            "standoff": 15
           },
           "zerolinecolor": "white",
           "zerolinewidth": 2
          }
         }
        },
        "title": {
         "font": {
          "color": "#4D5663"
         }
        },
        "xaxis": {
         "gridcolor": "#E1E5ED",
         "showgrid": true,
         "tickfont": {
          "color": "#4D5663"
         },
         "title": {
          "font": {
           "color": "#4D5663"
          },
          "text": ""
         },
         "zerolinecolor": "#E1E5ED"
        },
        "xaxis2": {
         "anchor": "y2",
         "gridcolor": "#E1E5ED",
         "showgrid": true,
         "showticklabels": false,
         "tickfont": {
          "color": "#4D5663"
         },
         "title": {
          "font": {
           "color": "#4D5663"
          },
          "text": ""
         },
         "zerolinecolor": "#E1E5ED"
        },
        "yaxis": {
         "domain": [
          0.3,
          1
         ],
         "gridcolor": "#E1E5ED",
         "showgrid": true,
         "tickfont": {
          "color": "#4D5663"
         },
         "title": {
          "font": {
           "color": "#4D5663"
          },
          "text": ""
         },
         "zerolinecolor": "#E1E5ED"
        },
        "yaxis2": {
         "domain": [
          0,
          0.25
         ],
         "gridcolor": "#E1E5ED",
         "showgrid": true,
         "tickfont": {
          "color": "#4D5663"
         },
         "title": {
          "font": {
           "color": "#4D5663"
          },
          "text": "Spread"
         },
         "zerolinecolor": "#E1E5ED"
        }
       }
      },
      "text/html": [
       "<div>                            <div id=\"4f61ccc2-b7ab-4efb-8076-1f7b6f58c965\" class=\"plotly-graph-div\" style=\"height:525px; width:100%;\"></div>            <script type=\"text/javascript\">                require([\"plotly\"], function(Plotly) {                    window.PLOTLYENV=window.PLOTLYENV || {};\n",
       "                    window.PLOTLYENV.BASE_URL='https://plot.ly';                                    if (document.getElementById(\"4f61ccc2-b7ab-4efb-8076-1f7b6f58c965\")) {                    Plotly.newPlot(                        \"4f61ccc2-b7ab-4efb-8076-1f7b6f58c965\",                        [{\"line\":{\"color\":\"rgba(255, 153, 51, 1.0)\",\"dash\":\"solid\",\"shape\":\"linear\",\"width\":1.3},\"mode\":\"lines\",\"name\":\"A\",\"text\":\"\",\"x\":[0,1,2,3,4,5,6,7,8,9,10,11,12,13,14,15,16,17,18,19,20,21,22,23,24,25,26,27,28,29,30,31,32,33,34,35,36,37,38,39,40,41,42,43,44,45,46,47,48,49,50,51,52,53,54,55,56,57,58,59,60,61,62,63,64,65,66,67,68,69,70,71,72,73,74,75,76,77,78,79,80,81,82,83,84,85,86,87,88,89,90,91,92,93,94,95,96,97,98,99],\"y\":[1.130845712492262,0.29090858090579896,0.5443418728942426,1.7358613670957141,1.7858674247097013,2.239975091911653,-0.7258104422253708,-1.0083890734141534,1.5671072793927034,0.44368330163022857,1.4279437217482005,-0.19542847134855418,0.6495783250837226,-1.8525564479053875,-1.8317013210206905,0.2688055302097464,0.2241950646506555,-1.8512490625481963,-1.1789628154054355,-0.08447607823617174,1.8018710662549284,1.8638550192237273,-1.457619281449165,1.5023701046244833,0.15875083642391546,-1.2825745413625762,-0.36700370220642653,2.009438965755136,-0.35082956816632654,-2.5264442806015586,0.4520506026011699,1.053349796415361,-1.337921393086797,-1.703217926693494,-0.5638501489270755,-0.5954567092321331,-1.1099136610575517,-0.19191541317466335,0.7134426170015831,0.32410150358419915,-0.8094846242122693,-0.435180360760021,-1.114638346861693,0.44571517085451096,0.30105291567425035,1.126243453943223,-0.9854677281986305,-1.0740181122904842,0.8642449490267092,-0.6725524001753558,0.12937375046529564,-0.17861160381311486,0.6961674848289248,1.316540903055389,-1.642167714865581,0.021768851197594506,1.7564636931586772,-0.15510375128640047,0.37343207162224173,0.7067302336508653,-0.485082071234198,1.0057499990835328,-0.2815905462716364,-1.0211374845105965,1.4231487770717495,-0.418150530680779,-0.7941733598799346,0.6000971931560366,-1.486031394891415,0.6780356295432848,-0.850647084609868,-0.7909191763481986,-0.23213141692519007,0.30254579507114543,-0.25774803703821814,-0.864806103269127,0.9779307982259109,1.4997270271887482,0.38576071910364457,-0.15343101110894364,-0.17807514552491768,0.16753974472337407,2.7810643074164694,-0.2545877505673127,-2.06568839120565,0.0793872328286146,0.9840975443541982,0.010028484286677585,1.3588599556571423,0.9033906035503909,1.7397538308092018,-1.6505904365544575,-0.9104665692355621,-0.5842429898924218,-0.6052634377101391,-1.4601558788592213,0.4803915127520965,1.5593320695837987,-1.4698367553340614,1.4330013471054899],\"type\":\"scatter\"},{\"line\":{\"color\":\"rgba(55, 128, 191, 1.0)\",\"dash\":\"solid\",\"shape\":\"linear\",\"width\":1.3},\"mode\":\"lines\",\"name\":\"B\",\"text\":\"\",\"x\":[0,1,2,3,4,5,6,7,8,9,10,11,12,13,14,15,16,17,18,19,20,21,22,23,24,25,26,27,28,29,30,31,32,33,34,35,36,37,38,39,40,41,42,43,44,45,46,47,48,49,50,51,52,53,54,55,56,57,58,59,60,61,62,63,64,65,66,67,68,69,70,71,72,73,74,75,76,77,78,79,80,81,82,83,84,85,86,87,88,89,90,91,92,93,94,95,96,97,98,99],\"y\":[0.23652795715850095,0.9786252446269585,-0.056640727346602984,-0.4349614120408051,-1.1743745916427208,-1.7620572065461984,0.7325959124175713,0.1436936439226743,-0.27555908546868524,-0.6004006655887814,2.2159144648890776,0.08608978276712356,0.787950574108897,1.8106167453268054,2.4071514142948183,2.33367917977407,-0.17043217921907472,-0.559544769568131,-0.3178320644256901,2.509342474661557,1.6186307486022546,0.8786467053313886,-2.4577734110446294,-1.723113261937718,1.0630824675324746,1.0158760542547436,1.0189349600993107,-0.3817479819618662,0.41427726947199267,0.8214587697950845,1.0961179004626964,-0.02395423145642322,2.453520862724082,-0.7487812489224189,0.3484817423218347,1.338685675875985,0.609700505772461,0.23042070231077016,0.16547523004146747,-0.007048318221612886,0.04377525645156575,-1.2254831762534104,-1.2716014700390135,1.1854902788751958,1.0204780867900345,-0.2797897504487051,0.5751999998812791,1.6316023675903262,0.241498202612012,-1.2747224650227431,1.2306792456818112,0.04918728639549364,-0.6267357295715503,-1.0328247251819862,-0.21390591230657377,-2.1024897464833634,0.7228779583486531,0.5302717891134512,-1.5775394290688414,-0.415429850639412,0.5300885926311383,2.3249698282209206,-0.5302853090578974,-0.1607185484274797,-1.8503104351340782,0.10131805939089251,-0.7016834707334093,-0.3825560695099959,0.7376388884807465,-2.0494397850365798,-0.19660738375712236,-0.8254237463636193,1.7437396924983983,-1.5808309939799807,-1.0801497191966087,-1.004795523337831,0.19520188171432185,-2.1505906126573042,-1.1388250512228844,0.30377275412624555,0.9654030967031015,-0.6904492808008851,-1.2394975127933738,1.688538507633855,-0.36937543766446557,0.10375780520719564,-1.3632005282097133,0.6048151613707982,1.4876719169952275,0.40539115031188144,0.44834205032416385,1.2619773103140894,0.04662622163307223,1.4178646602998692,-0.34837797827909456,-0.5825818391151043,-0.6417193383973584,0.5770926164852495,-0.2713554315778967,0.9846044901362248],\"type\":\"scatter\"},{\"connectgaps\":false,\"fill\":\"tozeroy\",\"line\":{\"color\":\"green\",\"dash\":\"solid\",\"shape\":\"linear\",\"width\":0.5},\"mode\":\"lines\",\"name\":\"Spread\",\"showlegend\":false,\"x\":[0,1,2,3,4,5,6,7,8,9,10,11,12,13,14,15,16,17,18,19,20,21,22,23,24,25,26,27,28,29,30,31,32,33,34,35,36,37,38,39,40,41,42,43,44,45,46,47,48,49,50,51,52,53,54,55,56,57,58,59,60,61,62,63,64,65,66,67,68,69,70,71,72,73,74,75,76,77,78,79,80,81,82,83,84,85,86,87,88,89,90,91,92,93,94,95,96,97,98,99],\"xaxis\":\"x2\",\"y\":[0.894317755333761,\"\",0.6009826002408456,2.170822779136519,2.960242016352422,4.002032298457851,\"\",\"\",1.8426663648613886,1.0440839672190099,\"\",\"\",\"\",\"\",\"\",\"\",0.39462724386973025,\"\",\"\",\"\",0.1832403176526738,0.9852083138923388,1.0001541295954643,3.2254833665622016,\"\",\"\",\"\",2.3911869477170025,\"\",\"\",\"\",1.0773040278717843,\"\",\"\",\"\",\"\",\"\",\"\",0.5479673869601156,0.33114982180581204,\"\",0.7903028154933894,0.15696312317732053,\"\",\"\",1.406033204391928,\"\",\"\",0.6227467464146972,0.6021700648473873,\"\",\"\",1.322903214400475,2.349365628237375,\"\",2.124258597680958,1.0335857348100241,\"\",1.950971500691083,1.1221600842902772,\"\",\"\",0.24869476278626101,\"\",3.273459212205828,\"\",\"\",0.9826532626660325,\"\",2.7274754145798648,\"\",0.03450457001542062,\"\",1.8833767890511262,0.8224016821583906,0.13998942006870396,0.782728916511589,3.6503176398460524,1.5245857703265289,\"\",\"\",0.8579890255242592,4.020561820209843,\"\",\"\",\"\",2.3472980725639117,\"\",\"\",0.49799945323850947,1.291411780485038,\"\",\"\",\"\",\"\",\"\",1.1221108511494549,0.9822394530985492,\"\",0.4483968569692651],\"yaxis\":\"y2\",\"type\":\"scatter\"},{\"connectgaps\":false,\"fill\":\"tozeroy\",\"line\":{\"color\":\"red\",\"dash\":\"solid\",\"shape\":\"linear\",\"width\":0.5},\"mode\":\"lines\",\"name\":\"Spread\",\"showlegend\":false,\"x\":[0,1,2,3,4,5,6,7,8,9,10,11,12,13,14,15,16,17,18,19,20,21,22,23,24,25,26,27,28,29,30,31,32,33,34,35,36,37,38,39,40,41,42,43,44,45,46,47,48,49,50,51,52,53,54,55,56,57,58,59,60,61,62,63,64,65,66,67,68,69,70,71,72,73,74,75,76,77,78,79,80,81,82,83,84,85,86,87,88,89,90,91,92,93,94,95,96,97,98,99],\"xaxis\":\"x2\",\"y\":[\"\",-0.6877166637211596,\"\",\"\",\"\",\"\",-1.4584063546429422,-1.1520827173368278,\"\",\"\",-0.7879707431408771,-0.28151825411567777,-0.13837224902517442,-3.663173193232193,-4.2388527353155085,-2.0648736495643236,\"\",-1.2917042929800653,-0.8611307509797453,-2.5938185528977287,\"\",\"\",\"\",\"\",-0.9043316311085592,-2.29845059561732,-1.3859386623057373,\"\",-0.7651068376383192,-3.347903050396643,-0.6440672978615265,\"\",-3.791442255810879,-0.954436677771075,-0.9123318912489102,-1.9341423851081183,-1.719614166830013,-0.4223361154854335,\"\",\"\",-0.8532598806638351,\"\",\"\",-0.7397751080206848,-0.7194251711157842,\"\",-1.5606677280799097,-2.7056204798808103,\"\",\"\",-1.1013054952165156,-0.2277988902086085,\"\",\"\",-1.4282618025590073,\"\",\"\",-0.6853755403998516,\"\",\"\",-1.0151706638653364,-1.3192198291373878,\"\",-0.8604189360831168,\"\",-0.5194685900716716,-0.09248988914652534,\"\",-2.2236702833721615,\"\",-0.6540397008527457,\"\",-1.9758711094235883,\"\",\"\",\"\",\"\",\"\",\"\",-0.4572037652351892,-1.1434782422280192,\"\",\"\",-1.9431262582011677,-1.6963129535411843,-0.02437057237858105,\"\",-0.5947866770841206,-0.12881196133808515,\"\",\"\",-2.9125677468685467,-0.9570927908686344,-2.002107650192291,-0.25688545943104457,-0.877574039744117,\"\",\"\",-1.1984813237561647,\"\"],\"yaxis\":\"y2\",\"type\":\"scatter\"}],                        {\"hovermode\":\"x\",\"legend\":{\"bgcolor\":\"#F5F6F9\",\"font\":{\"color\":\"#4D5663\"}},\"paper_bgcolor\":\"#F5F6F9\",\"plot_bgcolor\":\"#F5F6F9\",\"template\":{\"data\":{\"barpolar\":[{\"marker\":{\"line\":{\"color\":\"#E5ECF6\",\"width\":0.5},\"pattern\":{\"fillmode\":\"overlay\",\"size\":10,\"solidity\":0.2}},\"type\":\"barpolar\"}],\"bar\":[{\"error_x\":{\"color\":\"#2a3f5f\"},\"error_y\":{\"color\":\"#2a3f5f\"},\"marker\":{\"line\":{\"color\":\"#E5ECF6\",\"width\":0.5},\"pattern\":{\"fillmode\":\"overlay\",\"size\":10,\"solidity\":0.2}},\"type\":\"bar\"}],\"carpet\":[{\"aaxis\":{\"endlinecolor\":\"#2a3f5f\",\"gridcolor\":\"white\",\"linecolor\":\"white\",\"minorgridcolor\":\"white\",\"startlinecolor\":\"#2a3f5f\"},\"baxis\":{\"endlinecolor\":\"#2a3f5f\",\"gridcolor\":\"white\",\"linecolor\":\"white\",\"minorgridcolor\":\"white\",\"startlinecolor\":\"#2a3f5f\"},\"type\":\"carpet\"}],\"choropleth\":[{\"colorbar\":{\"outlinewidth\":0,\"ticks\":\"\"},\"type\":\"choropleth\"}],\"contourcarpet\":[{\"colorbar\":{\"outlinewidth\":0,\"ticks\":\"\"},\"type\":\"contourcarpet\"}],\"contour\":[{\"colorbar\":{\"outlinewidth\":0,\"ticks\":\"\"},\"colorscale\":[[0.0,\"#0d0887\"],[0.1111111111111111,\"#46039f\"],[0.2222222222222222,\"#7201a8\"],[0.3333333333333333,\"#9c179e\"],[0.4444444444444444,\"#bd3786\"],[0.5555555555555556,\"#d8576b\"],[0.6666666666666666,\"#ed7953\"],[0.7777777777777778,\"#fb9f3a\"],[0.8888888888888888,\"#fdca26\"],[1.0,\"#f0f921\"]],\"type\":\"contour\"}],\"heatmapgl\":[{\"colorbar\":{\"outlinewidth\":0,\"ticks\":\"\"},\"colorscale\":[[0.0,\"#0d0887\"],[0.1111111111111111,\"#46039f\"],[0.2222222222222222,\"#7201a8\"],[0.3333333333333333,\"#9c179e\"],[0.4444444444444444,\"#bd3786\"],[0.5555555555555556,\"#d8576b\"],[0.6666666666666666,\"#ed7953\"],[0.7777777777777778,\"#fb9f3a\"],[0.8888888888888888,\"#fdca26\"],[1.0,\"#f0f921\"]],\"type\":\"heatmapgl\"}],\"heatmap\":[{\"colorbar\":{\"outlinewidth\":0,\"ticks\":\"\"},\"colorscale\":[[0.0,\"#0d0887\"],[0.1111111111111111,\"#46039f\"],[0.2222222222222222,\"#7201a8\"],[0.3333333333333333,\"#9c179e\"],[0.4444444444444444,\"#bd3786\"],[0.5555555555555556,\"#d8576b\"],[0.6666666666666666,\"#ed7953\"],[0.7777777777777778,\"#fb9f3a\"],[0.8888888888888888,\"#fdca26\"],[1.0,\"#f0f921\"]],\"type\":\"heatmap\"}],\"histogram2dcontour\":[{\"colorbar\":{\"outlinewidth\":0,\"ticks\":\"\"},\"colorscale\":[[0.0,\"#0d0887\"],[0.1111111111111111,\"#46039f\"],[0.2222222222222222,\"#7201a8\"],[0.3333333333333333,\"#9c179e\"],[0.4444444444444444,\"#bd3786\"],[0.5555555555555556,\"#d8576b\"],[0.6666666666666666,\"#ed7953\"],[0.7777777777777778,\"#fb9f3a\"],[0.8888888888888888,\"#fdca26\"],[1.0,\"#f0f921\"]],\"type\":\"histogram2dcontour\"}],\"histogram2d\":[{\"colorbar\":{\"outlinewidth\":0,\"ticks\":\"\"},\"colorscale\":[[0.0,\"#0d0887\"],[0.1111111111111111,\"#46039f\"],[0.2222222222222222,\"#7201a8\"],[0.3333333333333333,\"#9c179e\"],[0.4444444444444444,\"#bd3786\"],[0.5555555555555556,\"#d8576b\"],[0.6666666666666666,\"#ed7953\"],[0.7777777777777778,\"#fb9f3a\"],[0.8888888888888888,\"#fdca26\"],[1.0,\"#f0f921\"]],\"type\":\"histogram2d\"}],\"histogram\":[{\"marker\":{\"pattern\":{\"fillmode\":\"overlay\",\"size\":10,\"solidity\":0.2}},\"type\":\"histogram\"}],\"mesh3d\":[{\"colorbar\":{\"outlinewidth\":0,\"ticks\":\"\"},\"type\":\"mesh3d\"}],\"parcoords\":[{\"line\":{\"colorbar\":{\"outlinewidth\":0,\"ticks\":\"\"}},\"type\":\"parcoords\"}],\"pie\":[{\"automargin\":true,\"type\":\"pie\"}],\"scatter3d\":[{\"line\":{\"colorbar\":{\"outlinewidth\":0,\"ticks\":\"\"}},\"marker\":{\"colorbar\":{\"outlinewidth\":0,\"ticks\":\"\"}},\"type\":\"scatter3d\"}],\"scattercarpet\":[{\"marker\":{\"colorbar\":{\"outlinewidth\":0,\"ticks\":\"\"}},\"type\":\"scattercarpet\"}],\"scattergeo\":[{\"marker\":{\"colorbar\":{\"outlinewidth\":0,\"ticks\":\"\"}},\"type\":\"scattergeo\"}],\"scattergl\":[{\"marker\":{\"colorbar\":{\"outlinewidth\":0,\"ticks\":\"\"}},\"type\":\"scattergl\"}],\"scattermapbox\":[{\"marker\":{\"colorbar\":{\"outlinewidth\":0,\"ticks\":\"\"}},\"type\":\"scattermapbox\"}],\"scatterpolargl\":[{\"marker\":{\"colorbar\":{\"outlinewidth\":0,\"ticks\":\"\"}},\"type\":\"scatterpolargl\"}],\"scatterpolar\":[{\"marker\":{\"colorbar\":{\"outlinewidth\":0,\"ticks\":\"\"}},\"type\":\"scatterpolar\"}],\"scatter\":[{\"fillpattern\":{\"fillmode\":\"overlay\",\"size\":10,\"solidity\":0.2},\"type\":\"scatter\"}],\"scatterternary\":[{\"marker\":{\"colorbar\":{\"outlinewidth\":0,\"ticks\":\"\"}},\"type\":\"scatterternary\"}],\"surface\":[{\"colorbar\":{\"outlinewidth\":0,\"ticks\":\"\"},\"colorscale\":[[0.0,\"#0d0887\"],[0.1111111111111111,\"#46039f\"],[0.2222222222222222,\"#7201a8\"],[0.3333333333333333,\"#9c179e\"],[0.4444444444444444,\"#bd3786\"],[0.5555555555555556,\"#d8576b\"],[0.6666666666666666,\"#ed7953\"],[0.7777777777777778,\"#fb9f3a\"],[0.8888888888888888,\"#fdca26\"],[1.0,\"#f0f921\"]],\"type\":\"surface\"}],\"table\":[{\"cells\":{\"fill\":{\"color\":\"#EBF0F8\"},\"line\":{\"color\":\"white\"}},\"header\":{\"fill\":{\"color\":\"#C8D4E3\"},\"line\":{\"color\":\"white\"}},\"type\":\"table\"}]},\"layout\":{\"annotationdefaults\":{\"arrowcolor\":\"#2a3f5f\",\"arrowhead\":0,\"arrowwidth\":1},\"autotypenumbers\":\"strict\",\"coloraxis\":{\"colorbar\":{\"outlinewidth\":0,\"ticks\":\"\"}},\"colorscale\":{\"diverging\":[[0,\"#8e0152\"],[0.1,\"#c51b7d\"],[0.2,\"#de77ae\"],[0.3,\"#f1b6da\"],[0.4,\"#fde0ef\"],[0.5,\"#f7f7f7\"],[0.6,\"#e6f5d0\"],[0.7,\"#b8e186\"],[0.8,\"#7fbc41\"],[0.9,\"#4d9221\"],[1,\"#276419\"]],\"sequential\":[[0.0,\"#0d0887\"],[0.1111111111111111,\"#46039f\"],[0.2222222222222222,\"#7201a8\"],[0.3333333333333333,\"#9c179e\"],[0.4444444444444444,\"#bd3786\"],[0.5555555555555556,\"#d8576b\"],[0.6666666666666666,\"#ed7953\"],[0.7777777777777778,\"#fb9f3a\"],[0.8888888888888888,\"#fdca26\"],[1.0,\"#f0f921\"]],\"sequentialminus\":[[0.0,\"#0d0887\"],[0.1111111111111111,\"#46039f\"],[0.2222222222222222,\"#7201a8\"],[0.3333333333333333,\"#9c179e\"],[0.4444444444444444,\"#bd3786\"],[0.5555555555555556,\"#d8576b\"],[0.6666666666666666,\"#ed7953\"],[0.7777777777777778,\"#fb9f3a\"],[0.8888888888888888,\"#fdca26\"],[1.0,\"#f0f921\"]]},\"colorway\":[\"#636efa\",\"#EF553B\",\"#00cc96\",\"#ab63fa\",\"#FFA15A\",\"#19d3f3\",\"#FF6692\",\"#B6E880\",\"#FF97FF\",\"#FECB52\"],\"font\":{\"color\":\"#2a3f5f\"},\"geo\":{\"bgcolor\":\"white\",\"lakecolor\":\"white\",\"landcolor\":\"#E5ECF6\",\"showlakes\":true,\"showland\":true,\"subunitcolor\":\"white\"},\"hoverlabel\":{\"align\":\"left\"},\"hovermode\":\"closest\",\"mapbox\":{\"style\":\"light\"},\"paper_bgcolor\":\"white\",\"plot_bgcolor\":\"#E5ECF6\",\"polar\":{\"angularaxis\":{\"gridcolor\":\"white\",\"linecolor\":\"white\",\"ticks\":\"\"},\"bgcolor\":\"#E5ECF6\",\"radialaxis\":{\"gridcolor\":\"white\",\"linecolor\":\"white\",\"ticks\":\"\"}},\"scene\":{\"xaxis\":{\"backgroundcolor\":\"#E5ECF6\",\"gridcolor\":\"white\",\"gridwidth\":2,\"linecolor\":\"white\",\"showbackground\":true,\"ticks\":\"\",\"zerolinecolor\":\"white\"},\"yaxis\":{\"backgroundcolor\":\"#E5ECF6\",\"gridcolor\":\"white\",\"gridwidth\":2,\"linecolor\":\"white\",\"showbackground\":true,\"ticks\":\"\",\"zerolinecolor\":\"white\"},\"zaxis\":{\"backgroundcolor\":\"#E5ECF6\",\"gridcolor\":\"white\",\"gridwidth\":2,\"linecolor\":\"white\",\"showbackground\":true,\"ticks\":\"\",\"zerolinecolor\":\"white\"}},\"shapedefaults\":{\"line\":{\"color\":\"#2a3f5f\"}},\"ternary\":{\"aaxis\":{\"gridcolor\":\"white\",\"linecolor\":\"white\",\"ticks\":\"\"},\"baxis\":{\"gridcolor\":\"white\",\"linecolor\":\"white\",\"ticks\":\"\"},\"bgcolor\":\"#E5ECF6\",\"caxis\":{\"gridcolor\":\"white\",\"linecolor\":\"white\",\"ticks\":\"\"}},\"title\":{\"x\":0.05},\"xaxis\":{\"automargin\":true,\"gridcolor\":\"white\",\"linecolor\":\"white\",\"ticks\":\"\",\"title\":{\"standoff\":15},\"zerolinecolor\":\"white\",\"zerolinewidth\":2},\"yaxis\":{\"automargin\":true,\"gridcolor\":\"white\",\"linecolor\":\"white\",\"ticks\":\"\",\"title\":{\"standoff\":15},\"zerolinecolor\":\"white\",\"zerolinewidth\":2}}},\"title\":{\"font\":{\"color\":\"#4D5663\"}},\"xaxis\":{\"gridcolor\":\"#E1E5ED\",\"showgrid\":true,\"tickfont\":{\"color\":\"#4D5663\"},\"title\":{\"font\":{\"color\":\"#4D5663\"},\"text\":\"\"},\"zerolinecolor\":\"#E1E5ED\"},\"yaxis\":{\"domain\":[0.3,1],\"gridcolor\":\"#E1E5ED\",\"showgrid\":true,\"tickfont\":{\"color\":\"#4D5663\"},\"title\":{\"font\":{\"color\":\"#4D5663\"},\"text\":\"\"},\"zerolinecolor\":\"#E1E5ED\"},\"yaxis2\":{\"domain\":[0,0.25],\"gridcolor\":\"#E1E5ED\",\"showgrid\":true,\"tickfont\":{\"color\":\"#4D5663\"},\"title\":{\"font\":{\"color\":\"#4D5663\"},\"text\":\"Spread\"},\"zerolinecolor\":\"#E1E5ED\"},\"xaxis2\":{\"anchor\":\"y2\",\"gridcolor\":\"#E1E5ED\",\"showgrid\":true,\"showticklabels\":false,\"tickfont\":{\"color\":\"#4D5663\"},\"title\":{\"font\":{\"color\":\"#4D5663\"},\"text\":\"\"},\"zerolinecolor\":\"#E1E5ED\"}},                        {\"showLink\": true, \"linkText\": \"Export to plot.ly\", \"plotlyServerURL\": \"https://plot.ly\", \"responsive\": true}                    ).then(function(){\n",
       "                            \n",
       "var gd = document.getElementById('4f61ccc2-b7ab-4efb-8076-1f7b6f58c965');\n",
       "var x = new MutationObserver(function (mutations, observer) {{\n",
       "        var display = window.getComputedStyle(gd).display;\n",
       "        if (!display || display === 'none') {{\n",
       "            console.log([gd, 'removed!']);\n",
       "            Plotly.purge(gd);\n",
       "            observer.disconnect();\n",
       "        }}\n",
       "}});\n",
       "\n",
       "// Listen for the removal of the full notebook cells\n",
       "var notebookContainer = gd.closest('#notebook-container');\n",
       "if (notebookContainer) {{\n",
       "    x.observe(notebookContainer, {childList: true});\n",
       "}}\n",
       "\n",
       "// Listen for the clearing of the current output cell\n",
       "var outputEl = gd.closest('.output');\n",
       "if (outputEl) {{\n",
       "    x.observe(outputEl, {childList: true});\n",
       "}}\n",
       "\n",
       "                        })                };                });            </script>        </div>"
      ]
     },
     "metadata": {},
     "output_type": "display_data"
    }
   ],
   "source": [
    "df[['A','B']].iplot(kind='spread')"
   ]
  },
  {
   "cell_type": "markdown",
   "metadata": {},
   "source": [
    "## histogram"
   ]
  },
  {
   "cell_type": "code",
   "execution_count": 17,
   "metadata": {
    "collapsed": false
   },
   "outputs": [
    {
     "data": {
      "application/vnd.plotly.v1+json": {
       "config": {
        "linkText": "Export to plot.ly",
        "plotlyServerURL": "https://plot.ly",
        "showLink": true
       },
       "data": [
        {
         "histfunc": "count",
         "histnorm": "",
         "marker": {
          "color": "rgba(255, 153, 51, 1.0)",
          "line": {
           "color": "#4D5663",
           "width": 1.3
          }
         },
         "name": "A",
         "nbinsx": 25,
         "opacity": 0.8,
         "orientation": "v",
         "type": "histogram",
         "x": [
          1.130845712492262,
          0.29090858090579896,
          0.5443418728942426,
          1.7358613670957141,
          1.7858674247097013,
          2.239975091911653,
          -0.7258104422253708,
          -1.0083890734141534,
          1.5671072793927034,
          0.44368330163022857,
          1.4279437217482005,
          -0.19542847134855418,
          0.6495783250837226,
          -1.8525564479053875,
          -1.8317013210206905,
          0.2688055302097464,
          0.2241950646506555,
          -1.8512490625481963,
          -1.1789628154054355,
          -0.08447607823617174,
          1.8018710662549284,
          1.8638550192237273,
          -1.457619281449165,
          1.5023701046244833,
          0.15875083642391546,
          -1.2825745413625762,
          -0.36700370220642653,
          2.009438965755136,
          -0.35082956816632654,
          -2.5264442806015586,
          0.4520506026011699,
          1.053349796415361,
          -1.337921393086797,
          -1.703217926693494,
          -0.5638501489270755,
          -0.5954567092321331,
          -1.1099136610575517,
          -0.19191541317466335,
          0.7134426170015831,
          0.32410150358419915,
          -0.8094846242122693,
          -0.435180360760021,
          -1.114638346861693,
          0.44571517085451096,
          0.30105291567425035,
          1.126243453943223,
          -0.9854677281986305,
          -1.0740181122904842,
          0.8642449490267092,
          -0.6725524001753558,
          0.12937375046529564,
          -0.17861160381311486,
          0.6961674848289248,
          1.316540903055389,
          -1.642167714865581,
          0.021768851197594506,
          1.7564636931586772,
          -0.15510375128640047,
          0.37343207162224173,
          0.7067302336508653,
          -0.485082071234198,
          1.0057499990835328,
          -0.2815905462716364,
          -1.0211374845105965,
          1.4231487770717495,
          -0.418150530680779,
          -0.7941733598799346,
          0.6000971931560366,
          -1.486031394891415,
          0.6780356295432848,
          -0.850647084609868,
          -0.7909191763481986,
          -0.23213141692519007,
          0.30254579507114543,
          -0.25774803703821814,
          -0.864806103269127,
          0.9779307982259109,
          1.4997270271887482,
          0.38576071910364457,
          -0.15343101110894364,
          -0.17807514552491768,
          0.16753974472337407,
          2.7810643074164694,
          -0.2545877505673127,
          -2.06568839120565,
          0.0793872328286146,
          0.9840975443541982,
          0.010028484286677585,
          1.3588599556571423,
          0.9033906035503909,
          1.7397538308092018,
          -1.6505904365544575,
          -0.9104665692355621,
          -0.5842429898924218,
          -0.6052634377101391,
          -1.4601558788592213,
          0.4803915127520965,
          1.5593320695837987,
          -1.4698367553340614,
          1.4330013471054899
         ]
        }
       ],
       "layout": {
        "barmode": "overlay",
        "legend": {
         "bgcolor": "#F5F6F9",
         "font": {
          "color": "#4D5663"
         }
        },
        "paper_bgcolor": "#F5F6F9",
        "plot_bgcolor": "#F5F6F9",
        "template": {
         "data": {
          "bar": [
           {
            "error_x": {
             "color": "#2a3f5f"
            },
            "error_y": {
             "color": "#2a3f5f"
            },
            "marker": {
             "line": {
              "color": "#E5ECF6",
              "width": 0.5
             },
             "pattern": {
              "fillmode": "overlay",
              "size": 10,
              "solidity": 0.2
             }
            },
            "type": "bar"
           }
          ],
          "barpolar": [
           {
            "marker": {
             "line": {
              "color": "#E5ECF6",
              "width": 0.5
             },
             "pattern": {
              "fillmode": "overlay",
              "size": 10,
              "solidity": 0.2
             }
            },
            "type": "barpolar"
           }
          ],
          "carpet": [
           {
            "aaxis": {
             "endlinecolor": "#2a3f5f",
             "gridcolor": "white",
             "linecolor": "white",
             "minorgridcolor": "white",
             "startlinecolor": "#2a3f5f"
            },
            "baxis": {
             "endlinecolor": "#2a3f5f",
             "gridcolor": "white",
             "linecolor": "white",
             "minorgridcolor": "white",
             "startlinecolor": "#2a3f5f"
            },
            "type": "carpet"
           }
          ],
          "choropleth": [
           {
            "colorbar": {
             "outlinewidth": 0,
             "ticks": ""
            },
            "type": "choropleth"
           }
          ],
          "contour": [
           {
            "colorbar": {
             "outlinewidth": 0,
             "ticks": ""
            },
            "colorscale": [
             [
              0,
              "#0d0887"
             ],
             [
              0.1111111111111111,
              "#46039f"
             ],
             [
              0.2222222222222222,
              "#7201a8"
             ],
             [
              0.3333333333333333,
              "#9c179e"
             ],
             [
              0.4444444444444444,
              "#bd3786"
             ],
             [
              0.5555555555555556,
              "#d8576b"
             ],
             [
              0.6666666666666666,
              "#ed7953"
             ],
             [
              0.7777777777777778,
              "#fb9f3a"
             ],
             [
              0.8888888888888888,
              "#fdca26"
             ],
             [
              1,
              "#f0f921"
             ]
            ],
            "type": "contour"
           }
          ],
          "contourcarpet": [
           {
            "colorbar": {
             "outlinewidth": 0,
             "ticks": ""
            },
            "type": "contourcarpet"
           }
          ],
          "heatmap": [
           {
            "colorbar": {
             "outlinewidth": 0,
             "ticks": ""
            },
            "colorscale": [
             [
              0,
              "#0d0887"
             ],
             [
              0.1111111111111111,
              "#46039f"
             ],
             [
              0.2222222222222222,
              "#7201a8"
             ],
             [
              0.3333333333333333,
              "#9c179e"
             ],
             [
              0.4444444444444444,
              "#bd3786"
             ],
             [
              0.5555555555555556,
              "#d8576b"
             ],
             [
              0.6666666666666666,
              "#ed7953"
             ],
             [
              0.7777777777777778,
              "#fb9f3a"
             ],
             [
              0.8888888888888888,
              "#fdca26"
             ],
             [
              1,
              "#f0f921"
             ]
            ],
            "type": "heatmap"
           }
          ],
          "heatmapgl": [
           {
            "colorbar": {
             "outlinewidth": 0,
             "ticks": ""
            },
            "colorscale": [
             [
              0,
              "#0d0887"
             ],
             [
              0.1111111111111111,
              "#46039f"
             ],
             [
              0.2222222222222222,
              "#7201a8"
             ],
             [
              0.3333333333333333,
              "#9c179e"
             ],
             [
              0.4444444444444444,
              "#bd3786"
             ],
             [
              0.5555555555555556,
              "#d8576b"
             ],
             [
              0.6666666666666666,
              "#ed7953"
             ],
             [
              0.7777777777777778,
              "#fb9f3a"
             ],
             [
              0.8888888888888888,
              "#fdca26"
             ],
             [
              1,
              "#f0f921"
             ]
            ],
            "type": "heatmapgl"
           }
          ],
          "histogram": [
           {
            "marker": {
             "pattern": {
              "fillmode": "overlay",
              "size": 10,
              "solidity": 0.2
             }
            },
            "type": "histogram"
           }
          ],
          "histogram2d": [
           {
            "colorbar": {
             "outlinewidth": 0,
             "ticks": ""
            },
            "colorscale": [
             [
              0,
              "#0d0887"
             ],
             [
              0.1111111111111111,
              "#46039f"
             ],
             [
              0.2222222222222222,
              "#7201a8"
             ],
             [
              0.3333333333333333,
              "#9c179e"
             ],
             [
              0.4444444444444444,
              "#bd3786"
             ],
             [
              0.5555555555555556,
              "#d8576b"
             ],
             [
              0.6666666666666666,
              "#ed7953"
             ],
             [
              0.7777777777777778,
              "#fb9f3a"
             ],
             [
              0.8888888888888888,
              "#fdca26"
             ],
             [
              1,
              "#f0f921"
             ]
            ],
            "type": "histogram2d"
           }
          ],
          "histogram2dcontour": [
           {
            "colorbar": {
             "outlinewidth": 0,
             "ticks": ""
            },
            "colorscale": [
             [
              0,
              "#0d0887"
             ],
             [
              0.1111111111111111,
              "#46039f"
             ],
             [
              0.2222222222222222,
              "#7201a8"
             ],
             [
              0.3333333333333333,
              "#9c179e"
             ],
             [
              0.4444444444444444,
              "#bd3786"
             ],
             [
              0.5555555555555556,
              "#d8576b"
             ],
             [
              0.6666666666666666,
              "#ed7953"
             ],
             [
              0.7777777777777778,
              "#fb9f3a"
             ],
             [
              0.8888888888888888,
              "#fdca26"
             ],
             [
              1,
              "#f0f921"
             ]
            ],
            "type": "histogram2dcontour"
           }
          ],
          "mesh3d": [
           {
            "colorbar": {
             "outlinewidth": 0,
             "ticks": ""
            },
            "type": "mesh3d"
           }
          ],
          "parcoords": [
           {
            "line": {
             "colorbar": {
              "outlinewidth": 0,
              "ticks": ""
             }
            },
            "type": "parcoords"
           }
          ],
          "pie": [
           {
            "automargin": true,
            "type": "pie"
           }
          ],
          "scatter": [
           {
            "fillpattern": {
             "fillmode": "overlay",
             "size": 10,
             "solidity": 0.2
            },
            "type": "scatter"
           }
          ],
          "scatter3d": [
           {
            "line": {
             "colorbar": {
              "outlinewidth": 0,
              "ticks": ""
             }
            },
            "marker": {
             "colorbar": {
              "outlinewidth": 0,
              "ticks": ""
             }
            },
            "type": "scatter3d"
           }
          ],
          "scattercarpet": [
           {
            "marker": {
             "colorbar": {
              "outlinewidth": 0,
              "ticks": ""
             }
            },
            "type": "scattercarpet"
           }
          ],
          "scattergeo": [
           {
            "marker": {
             "colorbar": {
              "outlinewidth": 0,
              "ticks": ""
             }
            },
            "type": "scattergeo"
           }
          ],
          "scattergl": [
           {
            "marker": {
             "colorbar": {
              "outlinewidth": 0,
              "ticks": ""
             }
            },
            "type": "scattergl"
           }
          ],
          "scattermapbox": [
           {
            "marker": {
             "colorbar": {
              "outlinewidth": 0,
              "ticks": ""
             }
            },
            "type": "scattermapbox"
           }
          ],
          "scatterpolar": [
           {
            "marker": {
             "colorbar": {
              "outlinewidth": 0,
              "ticks": ""
             }
            },
            "type": "scatterpolar"
           }
          ],
          "scatterpolargl": [
           {
            "marker": {
             "colorbar": {
              "outlinewidth": 0,
              "ticks": ""
             }
            },
            "type": "scatterpolargl"
           }
          ],
          "scatterternary": [
           {
            "marker": {
             "colorbar": {
              "outlinewidth": 0,
              "ticks": ""
             }
            },
            "type": "scatterternary"
           }
          ],
          "surface": [
           {
            "colorbar": {
             "outlinewidth": 0,
             "ticks": ""
            },
            "colorscale": [
             [
              0,
              "#0d0887"
             ],
             [
              0.1111111111111111,
              "#46039f"
             ],
             [
              0.2222222222222222,
              "#7201a8"
             ],
             [
              0.3333333333333333,
              "#9c179e"
             ],
             [
              0.4444444444444444,
              "#bd3786"
             ],
             [
              0.5555555555555556,
              "#d8576b"
             ],
             [
              0.6666666666666666,
              "#ed7953"
             ],
             [
              0.7777777777777778,
              "#fb9f3a"
             ],
             [
              0.8888888888888888,
              "#fdca26"
             ],
             [
              1,
              "#f0f921"
             ]
            ],
            "type": "surface"
           }
          ],
          "table": [
           {
            "cells": {
             "fill": {
              "color": "#EBF0F8"
             },
             "line": {
              "color": "white"
             }
            },
            "header": {
             "fill": {
              "color": "#C8D4E3"
             },
             "line": {
              "color": "white"
             }
            },
            "type": "table"
           }
          ]
         },
         "layout": {
          "annotationdefaults": {
           "arrowcolor": "#2a3f5f",
           "arrowhead": 0,
           "arrowwidth": 1
          },
          "autotypenumbers": "strict",
          "coloraxis": {
           "colorbar": {
            "outlinewidth": 0,
            "ticks": ""
           }
          },
          "colorscale": {
           "diverging": [
            [
             0,
             "#8e0152"
            ],
            [
             0.1,
             "#c51b7d"
            ],
            [
             0.2,
             "#de77ae"
            ],
            [
             0.3,
             "#f1b6da"
            ],
            [
             0.4,
             "#fde0ef"
            ],
            [
             0.5,
             "#f7f7f7"
            ],
            [
             0.6,
             "#e6f5d0"
            ],
            [
             0.7,
             "#b8e186"
            ],
            [
             0.8,
             "#7fbc41"
            ],
            [
             0.9,
             "#4d9221"
            ],
            [
             1,
             "#276419"
            ]
           ],
           "sequential": [
            [
             0,
             "#0d0887"
            ],
            [
             0.1111111111111111,
             "#46039f"
            ],
            [
             0.2222222222222222,
             "#7201a8"
            ],
            [
             0.3333333333333333,
             "#9c179e"
            ],
            [
             0.4444444444444444,
             "#bd3786"
            ],
            [
             0.5555555555555556,
             "#d8576b"
            ],
            [
             0.6666666666666666,
             "#ed7953"
            ],
            [
             0.7777777777777778,
             "#fb9f3a"
            ],
            [
             0.8888888888888888,
             "#fdca26"
            ],
            [
             1,
             "#f0f921"
            ]
           ],
           "sequentialminus": [
            [
             0,
             "#0d0887"
            ],
            [
             0.1111111111111111,
             "#46039f"
            ],
            [
             0.2222222222222222,
             "#7201a8"
            ],
            [
             0.3333333333333333,
             "#9c179e"
            ],
            [
             0.4444444444444444,
             "#bd3786"
            ],
            [
             0.5555555555555556,
             "#d8576b"
            ],
            [
             0.6666666666666666,
             "#ed7953"
            ],
            [
             0.7777777777777778,
             "#fb9f3a"
            ],
            [
             0.8888888888888888,
             "#fdca26"
            ],
            [
             1,
             "#f0f921"
            ]
           ]
          },
          "colorway": [
           "#636efa",
           "#EF553B",
           "#00cc96",
           "#ab63fa",
           "#FFA15A",
           "#19d3f3",
           "#FF6692",
           "#B6E880",
           "#FF97FF",
           "#FECB52"
          ],
          "font": {
           "color": "#2a3f5f"
          },
          "geo": {
           "bgcolor": "white",
           "lakecolor": "white",
           "landcolor": "#E5ECF6",
           "showlakes": true,
           "showland": true,
           "subunitcolor": "white"
          },
          "hoverlabel": {
           "align": "left"
          },
          "hovermode": "closest",
          "mapbox": {
           "style": "light"
          },
          "paper_bgcolor": "white",
          "plot_bgcolor": "#E5ECF6",
          "polar": {
           "angularaxis": {
            "gridcolor": "white",
            "linecolor": "white",
            "ticks": ""
           },
           "bgcolor": "#E5ECF6",
           "radialaxis": {
            "gridcolor": "white",
            "linecolor": "white",
            "ticks": ""
           }
          },
          "scene": {
           "xaxis": {
            "backgroundcolor": "#E5ECF6",
            "gridcolor": "white",
            "gridwidth": 2,
            "linecolor": "white",
            "showbackground": true,
            "ticks": "",
            "zerolinecolor": "white"
           },
           "yaxis": {
            "backgroundcolor": "#E5ECF6",
            "gridcolor": "white",
            "gridwidth": 2,
            "linecolor": "white",
            "showbackground": true,
            "ticks": "",
            "zerolinecolor": "white"
           },
           "zaxis": {
            "backgroundcolor": "#E5ECF6",
            "gridcolor": "white",
            "gridwidth": 2,
            "linecolor": "white",
            "showbackground": true,
            "ticks": "",
            "zerolinecolor": "white"
           }
          },
          "shapedefaults": {
           "line": {
            "color": "#2a3f5f"
           }
          },
          "ternary": {
           "aaxis": {
            "gridcolor": "white",
            "linecolor": "white",
            "ticks": ""
           },
           "baxis": {
            "gridcolor": "white",
            "linecolor": "white",
            "ticks": ""
           },
           "bgcolor": "#E5ECF6",
           "caxis": {
            "gridcolor": "white",
            "linecolor": "white",
            "ticks": ""
           }
          },
          "title": {
           "x": 0.05
          },
          "xaxis": {
           "automargin": true,
           "gridcolor": "white",
           "linecolor": "white",
           "ticks": "",
           "title": {
            "standoff": 15
           },
           "zerolinecolor": "white",
           "zerolinewidth": 2
          },
          "yaxis": {
           "automargin": true,
           "gridcolor": "white",
           "linecolor": "white",
           "ticks": "",
           "title": {
            "standoff": 15
           },
           "zerolinecolor": "white",
           "zerolinewidth": 2
          }
         }
        },
        "title": {
         "font": {
          "color": "#4D5663"
         }
        },
        "xaxis": {
         "gridcolor": "#E1E5ED",
         "showgrid": true,
         "tickfont": {
          "color": "#4D5663"
         },
         "title": {
          "font": {
           "color": "#4D5663"
          },
          "text": ""
         },
         "zerolinecolor": "#E1E5ED"
        },
        "yaxis": {
         "gridcolor": "#E1E5ED",
         "showgrid": true,
         "tickfont": {
          "color": "#4D5663"
         },
         "title": {
          "font": {
           "color": "#4D5663"
          },
          "text": ""
         },
         "zerolinecolor": "#E1E5ED"
        }
       }
      },
      "text/html": [
       "<div>                            <div id=\"d93bdf07-cacd-4be3-9b9e-0de99ee629ab\" class=\"plotly-graph-div\" style=\"height:525px; width:100%;\"></div>            <script type=\"text/javascript\">                require([\"plotly\"], function(Plotly) {                    window.PLOTLYENV=window.PLOTLYENV || {};\n",
       "                    window.PLOTLYENV.BASE_URL='https://plot.ly';                                    if (document.getElementById(\"d93bdf07-cacd-4be3-9b9e-0de99ee629ab\")) {                    Plotly.newPlot(                        \"d93bdf07-cacd-4be3-9b9e-0de99ee629ab\",                        [{\"histfunc\":\"count\",\"histnorm\":\"\",\"marker\":{\"color\":\"rgba(255, 153, 51, 1.0)\",\"line\":{\"color\":\"#4D5663\",\"width\":1.3}},\"name\":\"A\",\"nbinsx\":25,\"opacity\":0.8,\"orientation\":\"v\",\"x\":[1.130845712492262,0.29090858090579896,0.5443418728942426,1.7358613670957141,1.7858674247097013,2.239975091911653,-0.7258104422253708,-1.0083890734141534,1.5671072793927034,0.44368330163022857,1.4279437217482005,-0.19542847134855418,0.6495783250837226,-1.8525564479053875,-1.8317013210206905,0.2688055302097464,0.2241950646506555,-1.8512490625481963,-1.1789628154054355,-0.08447607823617174,1.8018710662549284,1.8638550192237273,-1.457619281449165,1.5023701046244833,0.15875083642391546,-1.2825745413625762,-0.36700370220642653,2.009438965755136,-0.35082956816632654,-2.5264442806015586,0.4520506026011699,1.053349796415361,-1.337921393086797,-1.703217926693494,-0.5638501489270755,-0.5954567092321331,-1.1099136610575517,-0.19191541317466335,0.7134426170015831,0.32410150358419915,-0.8094846242122693,-0.435180360760021,-1.114638346861693,0.44571517085451096,0.30105291567425035,1.126243453943223,-0.9854677281986305,-1.0740181122904842,0.8642449490267092,-0.6725524001753558,0.12937375046529564,-0.17861160381311486,0.6961674848289248,1.316540903055389,-1.642167714865581,0.021768851197594506,1.7564636931586772,-0.15510375128640047,0.37343207162224173,0.7067302336508653,-0.485082071234198,1.0057499990835328,-0.2815905462716364,-1.0211374845105965,1.4231487770717495,-0.418150530680779,-0.7941733598799346,0.6000971931560366,-1.486031394891415,0.6780356295432848,-0.850647084609868,-0.7909191763481986,-0.23213141692519007,0.30254579507114543,-0.25774803703821814,-0.864806103269127,0.9779307982259109,1.4997270271887482,0.38576071910364457,-0.15343101110894364,-0.17807514552491768,0.16753974472337407,2.7810643074164694,-0.2545877505673127,-2.06568839120565,0.0793872328286146,0.9840975443541982,0.010028484286677585,1.3588599556571423,0.9033906035503909,1.7397538308092018,-1.6505904365544575,-0.9104665692355621,-0.5842429898924218,-0.6052634377101391,-1.4601558788592213,0.4803915127520965,1.5593320695837987,-1.4698367553340614,1.4330013471054899],\"type\":\"histogram\"}],                        {\"barmode\":\"overlay\",\"legend\":{\"bgcolor\":\"#F5F6F9\",\"font\":{\"color\":\"#4D5663\"}},\"paper_bgcolor\":\"#F5F6F9\",\"plot_bgcolor\":\"#F5F6F9\",\"template\":{\"data\":{\"barpolar\":[{\"marker\":{\"line\":{\"color\":\"#E5ECF6\",\"width\":0.5},\"pattern\":{\"fillmode\":\"overlay\",\"size\":10,\"solidity\":0.2}},\"type\":\"barpolar\"}],\"bar\":[{\"error_x\":{\"color\":\"#2a3f5f\"},\"error_y\":{\"color\":\"#2a3f5f\"},\"marker\":{\"line\":{\"color\":\"#E5ECF6\",\"width\":0.5},\"pattern\":{\"fillmode\":\"overlay\",\"size\":10,\"solidity\":0.2}},\"type\":\"bar\"}],\"carpet\":[{\"aaxis\":{\"endlinecolor\":\"#2a3f5f\",\"gridcolor\":\"white\",\"linecolor\":\"white\",\"minorgridcolor\":\"white\",\"startlinecolor\":\"#2a3f5f\"},\"baxis\":{\"endlinecolor\":\"#2a3f5f\",\"gridcolor\":\"white\",\"linecolor\":\"white\",\"minorgridcolor\":\"white\",\"startlinecolor\":\"#2a3f5f\"},\"type\":\"carpet\"}],\"choropleth\":[{\"colorbar\":{\"outlinewidth\":0,\"ticks\":\"\"},\"type\":\"choropleth\"}],\"contourcarpet\":[{\"colorbar\":{\"outlinewidth\":0,\"ticks\":\"\"},\"type\":\"contourcarpet\"}],\"contour\":[{\"colorbar\":{\"outlinewidth\":0,\"ticks\":\"\"},\"colorscale\":[[0.0,\"#0d0887\"],[0.1111111111111111,\"#46039f\"],[0.2222222222222222,\"#7201a8\"],[0.3333333333333333,\"#9c179e\"],[0.4444444444444444,\"#bd3786\"],[0.5555555555555556,\"#d8576b\"],[0.6666666666666666,\"#ed7953\"],[0.7777777777777778,\"#fb9f3a\"],[0.8888888888888888,\"#fdca26\"],[1.0,\"#f0f921\"]],\"type\":\"contour\"}],\"heatmapgl\":[{\"colorbar\":{\"outlinewidth\":0,\"ticks\":\"\"},\"colorscale\":[[0.0,\"#0d0887\"],[0.1111111111111111,\"#46039f\"],[0.2222222222222222,\"#7201a8\"],[0.3333333333333333,\"#9c179e\"],[0.4444444444444444,\"#bd3786\"],[0.5555555555555556,\"#d8576b\"],[0.6666666666666666,\"#ed7953\"],[0.7777777777777778,\"#fb9f3a\"],[0.8888888888888888,\"#fdca26\"],[1.0,\"#f0f921\"]],\"type\":\"heatmapgl\"}],\"heatmap\":[{\"colorbar\":{\"outlinewidth\":0,\"ticks\":\"\"},\"colorscale\":[[0.0,\"#0d0887\"],[0.1111111111111111,\"#46039f\"],[0.2222222222222222,\"#7201a8\"],[0.3333333333333333,\"#9c179e\"],[0.4444444444444444,\"#bd3786\"],[0.5555555555555556,\"#d8576b\"],[0.6666666666666666,\"#ed7953\"],[0.7777777777777778,\"#fb9f3a\"],[0.8888888888888888,\"#fdca26\"],[1.0,\"#f0f921\"]],\"type\":\"heatmap\"}],\"histogram2dcontour\":[{\"colorbar\":{\"outlinewidth\":0,\"ticks\":\"\"},\"colorscale\":[[0.0,\"#0d0887\"],[0.1111111111111111,\"#46039f\"],[0.2222222222222222,\"#7201a8\"],[0.3333333333333333,\"#9c179e\"],[0.4444444444444444,\"#bd3786\"],[0.5555555555555556,\"#d8576b\"],[0.6666666666666666,\"#ed7953\"],[0.7777777777777778,\"#fb9f3a\"],[0.8888888888888888,\"#fdca26\"],[1.0,\"#f0f921\"]],\"type\":\"histogram2dcontour\"}],\"histogram2d\":[{\"colorbar\":{\"outlinewidth\":0,\"ticks\":\"\"},\"colorscale\":[[0.0,\"#0d0887\"],[0.1111111111111111,\"#46039f\"],[0.2222222222222222,\"#7201a8\"],[0.3333333333333333,\"#9c179e\"],[0.4444444444444444,\"#bd3786\"],[0.5555555555555556,\"#d8576b\"],[0.6666666666666666,\"#ed7953\"],[0.7777777777777778,\"#fb9f3a\"],[0.8888888888888888,\"#fdca26\"],[1.0,\"#f0f921\"]],\"type\":\"histogram2d\"}],\"histogram\":[{\"marker\":{\"pattern\":{\"fillmode\":\"overlay\",\"size\":10,\"solidity\":0.2}},\"type\":\"histogram\"}],\"mesh3d\":[{\"colorbar\":{\"outlinewidth\":0,\"ticks\":\"\"},\"type\":\"mesh3d\"}],\"parcoords\":[{\"line\":{\"colorbar\":{\"outlinewidth\":0,\"ticks\":\"\"}},\"type\":\"parcoords\"}],\"pie\":[{\"automargin\":true,\"type\":\"pie\"}],\"scatter3d\":[{\"line\":{\"colorbar\":{\"outlinewidth\":0,\"ticks\":\"\"}},\"marker\":{\"colorbar\":{\"outlinewidth\":0,\"ticks\":\"\"}},\"type\":\"scatter3d\"}],\"scattercarpet\":[{\"marker\":{\"colorbar\":{\"outlinewidth\":0,\"ticks\":\"\"}},\"type\":\"scattercarpet\"}],\"scattergeo\":[{\"marker\":{\"colorbar\":{\"outlinewidth\":0,\"ticks\":\"\"}},\"type\":\"scattergeo\"}],\"scattergl\":[{\"marker\":{\"colorbar\":{\"outlinewidth\":0,\"ticks\":\"\"}},\"type\":\"scattergl\"}],\"scattermapbox\":[{\"marker\":{\"colorbar\":{\"outlinewidth\":0,\"ticks\":\"\"}},\"type\":\"scattermapbox\"}],\"scatterpolargl\":[{\"marker\":{\"colorbar\":{\"outlinewidth\":0,\"ticks\":\"\"}},\"type\":\"scatterpolargl\"}],\"scatterpolar\":[{\"marker\":{\"colorbar\":{\"outlinewidth\":0,\"ticks\":\"\"}},\"type\":\"scatterpolar\"}],\"scatter\":[{\"fillpattern\":{\"fillmode\":\"overlay\",\"size\":10,\"solidity\":0.2},\"type\":\"scatter\"}],\"scatterternary\":[{\"marker\":{\"colorbar\":{\"outlinewidth\":0,\"ticks\":\"\"}},\"type\":\"scatterternary\"}],\"surface\":[{\"colorbar\":{\"outlinewidth\":0,\"ticks\":\"\"},\"colorscale\":[[0.0,\"#0d0887\"],[0.1111111111111111,\"#46039f\"],[0.2222222222222222,\"#7201a8\"],[0.3333333333333333,\"#9c179e\"],[0.4444444444444444,\"#bd3786\"],[0.5555555555555556,\"#d8576b\"],[0.6666666666666666,\"#ed7953\"],[0.7777777777777778,\"#fb9f3a\"],[0.8888888888888888,\"#fdca26\"],[1.0,\"#f0f921\"]],\"type\":\"surface\"}],\"table\":[{\"cells\":{\"fill\":{\"color\":\"#EBF0F8\"},\"line\":{\"color\":\"white\"}},\"header\":{\"fill\":{\"color\":\"#C8D4E3\"},\"line\":{\"color\":\"white\"}},\"type\":\"table\"}]},\"layout\":{\"annotationdefaults\":{\"arrowcolor\":\"#2a3f5f\",\"arrowhead\":0,\"arrowwidth\":1},\"autotypenumbers\":\"strict\",\"coloraxis\":{\"colorbar\":{\"outlinewidth\":0,\"ticks\":\"\"}},\"colorscale\":{\"diverging\":[[0,\"#8e0152\"],[0.1,\"#c51b7d\"],[0.2,\"#de77ae\"],[0.3,\"#f1b6da\"],[0.4,\"#fde0ef\"],[0.5,\"#f7f7f7\"],[0.6,\"#e6f5d0\"],[0.7,\"#b8e186\"],[0.8,\"#7fbc41\"],[0.9,\"#4d9221\"],[1,\"#276419\"]],\"sequential\":[[0.0,\"#0d0887\"],[0.1111111111111111,\"#46039f\"],[0.2222222222222222,\"#7201a8\"],[0.3333333333333333,\"#9c179e\"],[0.4444444444444444,\"#bd3786\"],[0.5555555555555556,\"#d8576b\"],[0.6666666666666666,\"#ed7953\"],[0.7777777777777778,\"#fb9f3a\"],[0.8888888888888888,\"#fdca26\"],[1.0,\"#f0f921\"]],\"sequentialminus\":[[0.0,\"#0d0887\"],[0.1111111111111111,\"#46039f\"],[0.2222222222222222,\"#7201a8\"],[0.3333333333333333,\"#9c179e\"],[0.4444444444444444,\"#bd3786\"],[0.5555555555555556,\"#d8576b\"],[0.6666666666666666,\"#ed7953\"],[0.7777777777777778,\"#fb9f3a\"],[0.8888888888888888,\"#fdca26\"],[1.0,\"#f0f921\"]]},\"colorway\":[\"#636efa\",\"#EF553B\",\"#00cc96\",\"#ab63fa\",\"#FFA15A\",\"#19d3f3\",\"#FF6692\",\"#B6E880\",\"#FF97FF\",\"#FECB52\"],\"font\":{\"color\":\"#2a3f5f\"},\"geo\":{\"bgcolor\":\"white\",\"lakecolor\":\"white\",\"landcolor\":\"#E5ECF6\",\"showlakes\":true,\"showland\":true,\"subunitcolor\":\"white\"},\"hoverlabel\":{\"align\":\"left\"},\"hovermode\":\"closest\",\"mapbox\":{\"style\":\"light\"},\"paper_bgcolor\":\"white\",\"plot_bgcolor\":\"#E5ECF6\",\"polar\":{\"angularaxis\":{\"gridcolor\":\"white\",\"linecolor\":\"white\",\"ticks\":\"\"},\"bgcolor\":\"#E5ECF6\",\"radialaxis\":{\"gridcolor\":\"white\",\"linecolor\":\"white\",\"ticks\":\"\"}},\"scene\":{\"xaxis\":{\"backgroundcolor\":\"#E5ECF6\",\"gridcolor\":\"white\",\"gridwidth\":2,\"linecolor\":\"white\",\"showbackground\":true,\"ticks\":\"\",\"zerolinecolor\":\"white\"},\"yaxis\":{\"backgroundcolor\":\"#E5ECF6\",\"gridcolor\":\"white\",\"gridwidth\":2,\"linecolor\":\"white\",\"showbackground\":true,\"ticks\":\"\",\"zerolinecolor\":\"white\"},\"zaxis\":{\"backgroundcolor\":\"#E5ECF6\",\"gridcolor\":\"white\",\"gridwidth\":2,\"linecolor\":\"white\",\"showbackground\":true,\"ticks\":\"\",\"zerolinecolor\":\"white\"}},\"shapedefaults\":{\"line\":{\"color\":\"#2a3f5f\"}},\"ternary\":{\"aaxis\":{\"gridcolor\":\"white\",\"linecolor\":\"white\",\"ticks\":\"\"},\"baxis\":{\"gridcolor\":\"white\",\"linecolor\":\"white\",\"ticks\":\"\"},\"bgcolor\":\"#E5ECF6\",\"caxis\":{\"gridcolor\":\"white\",\"linecolor\":\"white\",\"ticks\":\"\"}},\"title\":{\"x\":0.05},\"xaxis\":{\"automargin\":true,\"gridcolor\":\"white\",\"linecolor\":\"white\",\"ticks\":\"\",\"title\":{\"standoff\":15},\"zerolinecolor\":\"white\",\"zerolinewidth\":2},\"yaxis\":{\"automargin\":true,\"gridcolor\":\"white\",\"linecolor\":\"white\",\"ticks\":\"\",\"title\":{\"standoff\":15},\"zerolinecolor\":\"white\",\"zerolinewidth\":2}}},\"title\":{\"font\":{\"color\":\"#4D5663\"}},\"xaxis\":{\"gridcolor\":\"#E1E5ED\",\"showgrid\":true,\"tickfont\":{\"color\":\"#4D5663\"},\"title\":{\"font\":{\"color\":\"#4D5663\"},\"text\":\"\"},\"zerolinecolor\":\"#E1E5ED\"},\"yaxis\":{\"gridcolor\":\"#E1E5ED\",\"showgrid\":true,\"tickfont\":{\"color\":\"#4D5663\"},\"title\":{\"font\":{\"color\":\"#4D5663\"},\"text\":\"\"},\"zerolinecolor\":\"#E1E5ED\"}},                        {\"showLink\": true, \"linkText\": \"Export to plot.ly\", \"plotlyServerURL\": \"https://plot.ly\", \"responsive\": true}                    ).then(function(){\n",
       "                            \n",
       "var gd = document.getElementById('d93bdf07-cacd-4be3-9b9e-0de99ee629ab');\n",
       "var x = new MutationObserver(function (mutations, observer) {{\n",
       "        var display = window.getComputedStyle(gd).display;\n",
       "        if (!display || display === 'none') {{\n",
       "            console.log([gd, 'removed!']);\n",
       "            Plotly.purge(gd);\n",
       "            observer.disconnect();\n",
       "        }}\n",
       "}});\n",
       "\n",
       "// Listen for the removal of the full notebook cells\n",
       "var notebookContainer = gd.closest('#notebook-container');\n",
       "if (notebookContainer) {{\n",
       "    x.observe(notebookContainer, {childList: true});\n",
       "}}\n",
       "\n",
       "// Listen for the clearing of the current output cell\n",
       "var outputEl = gd.closest('.output');\n",
       "if (outputEl) {{\n",
       "    x.observe(outputEl, {childList: true});\n",
       "}}\n",
       "\n",
       "                        })                };                });            </script>        </div>"
      ]
     },
     "metadata": {},
     "output_type": "display_data"
    }
   ],
   "source": [
    "df['A'].iplot(kind='hist',bins=25)"
   ]
  },
  {
   "cell_type": "code",
   "execution_count": 18,
   "metadata": {
    "collapsed": false
   },
   "outputs": [
    {
     "data": {
      "application/vnd.plotly.v1+json": {
       "config": {
        "linkText": "Export to plot.ly",
        "plotlyServerURL": "https://plot.ly",
        "showLink": true
       },
       "data": [
        {
         "marker": {
          "color": [
           "rgb(255, 153, 51)",
           "rgb(55, 128, 191)",
           "rgb(50, 171, 96)",
           "rgb(128, 0, 128)",
           "rgb(219, 64, 82)",
           "rgb(0, 128, 128)",
           "rgb(255, 255, 51)",
           "rgb(128, 128, 0)",
           "rgb(251, 128, 114)",
           "rgb(128, 177, 211)"
          ],
          "line": {
           "width": 1.3
          },
          "size": [
           60,
           35,
           64,
           98,
           55,
           91,
           62,
           49,
           62,
           49,
           62,
           81,
           75,
           22,
           70,
           60,
           62,
           73,
           44,
           74,
           49,
           72,
           72,
           83,
           48,
           51,
           64,
           70,
           65,
           100,
           99,
           81,
           70,
           46,
           84,
           87,
           55,
           112,
           83,
           68,
           100,
           76,
           69,
           34,
           72,
           58,
           78,
           83,
           37,
           83,
           66,
           27,
           37,
           72,
           64,
           55,
           38,
           61,
           71,
           71,
           54,
           48,
           56,
           71,
           87,
           75,
           73,
           38,
           83,
           84,
           51,
           78,
           48,
           71,
           54,
           49,
           84,
           68,
           97,
           69,
           79,
           49,
           67,
           79,
           53,
           72,
           97,
           54,
           25,
           69,
           70,
           26,
           12,
           74,
           59,
           65,
           81,
           87,
           70,
           53
          ],
          "symbol": "circle"
         },
         "mode": "markers",
         "text": "",
         "type": "scatter",
         "x": [
          1.130845712492262,
          0.29090858090579896,
          0.5443418728942426,
          1.7358613670957141,
          1.7858674247097013,
          2.239975091911653,
          -0.7258104422253708,
          -1.0083890734141534,
          1.5671072793927034,
          0.44368330163022857,
          1.4279437217482005,
          -0.19542847134855418,
          0.6495783250837226,
          -1.8525564479053875,
          -1.8317013210206905,
          0.2688055302097464,
          0.2241950646506555,
          -1.8512490625481963,
          -1.1789628154054355,
          -0.08447607823617174,
          1.8018710662549284,
          1.8638550192237273,
          -1.457619281449165,
          1.5023701046244833,
          0.15875083642391546,
          -1.2825745413625762,
          -0.36700370220642653,
          2.009438965755136,
          -0.35082956816632654,
          -2.5264442806015586,
          0.4520506026011699,
          1.053349796415361,
          -1.337921393086797,
          -1.703217926693494,
          -0.5638501489270755,
          -0.5954567092321331,
          -1.1099136610575517,
          -0.19191541317466335,
          0.7134426170015831,
          0.32410150358419915,
          -0.8094846242122693,
          -0.435180360760021,
          -1.114638346861693,
          0.44571517085451096,
          0.30105291567425035,
          1.126243453943223,
          -0.9854677281986305,
          -1.0740181122904842,
          0.8642449490267092,
          -0.6725524001753558,
          0.12937375046529564,
          -0.17861160381311486,
          0.6961674848289248,
          1.316540903055389,
          -1.642167714865581,
          0.021768851197594506,
          1.7564636931586772,
          -0.15510375128640047,
          0.37343207162224173,
          0.7067302336508653,
          -0.485082071234198,
          1.0057499990835328,
          -0.2815905462716364,
          -1.0211374845105965,
          1.4231487770717495,
          -0.418150530680779,
          -0.7941733598799346,
          0.6000971931560366,
          -1.486031394891415,
          0.6780356295432848,
          -0.850647084609868,
          -0.7909191763481986,
          -0.23213141692519007,
          0.30254579507114543,
          -0.25774803703821814,
          -0.864806103269127,
          0.9779307982259109,
          1.4997270271887482,
          0.38576071910364457,
          -0.15343101110894364,
          -0.17807514552491768,
          0.16753974472337407,
          2.7810643074164694,
          -0.2545877505673127,
          -2.06568839120565,
          0.0793872328286146,
          0.9840975443541982,
          0.010028484286677585,
          1.3588599556571423,
          0.9033906035503909,
          1.7397538308092018,
          -1.6505904365544575,
          -0.9104665692355621,
          -0.5842429898924218,
          -0.6052634377101391,
          -1.4601558788592213,
          0.4803915127520965,
          1.5593320695837987,
          -1.4698367553340614,
          1.4330013471054899
         ],
         "y": [
          0.23652795715850095,
          0.9786252446269585,
          -0.056640727346602984,
          -0.4349614120408051,
          -1.1743745916427208,
          -1.7620572065461984,
          0.7325959124175713,
          0.1436936439226743,
          -0.27555908546868524,
          -0.6004006655887814,
          2.2159144648890776,
          0.08608978276712356,
          0.787950574108897,
          1.8106167453268054,
          2.4071514142948183,
          2.33367917977407,
          -0.17043217921907472,
          -0.559544769568131,
          -0.3178320644256901,
          2.509342474661557,
          1.6186307486022546,
          0.8786467053313886,
          -2.4577734110446294,
          -1.723113261937718,
          1.0630824675324746,
          1.0158760542547436,
          1.0189349600993107,
          -0.3817479819618662,
          0.41427726947199267,
          0.8214587697950845,
          1.0961179004626964,
          -0.02395423145642322,
          2.453520862724082,
          -0.7487812489224189,
          0.3484817423218347,
          1.338685675875985,
          0.609700505772461,
          0.23042070231077016,
          0.16547523004146747,
          -0.007048318221612886,
          0.04377525645156575,
          -1.2254831762534104,
          -1.2716014700390135,
          1.1854902788751958,
          1.0204780867900345,
          -0.2797897504487051,
          0.5751999998812791,
          1.6316023675903262,
          0.241498202612012,
          -1.2747224650227431,
          1.2306792456818112,
          0.04918728639549364,
          -0.6267357295715503,
          -1.0328247251819862,
          -0.21390591230657377,
          -2.1024897464833634,
          0.7228779583486531,
          0.5302717891134512,
          -1.5775394290688414,
          -0.415429850639412,
          0.5300885926311383,
          2.3249698282209206,
          -0.5302853090578974,
          -0.1607185484274797,
          -1.8503104351340782,
          0.10131805939089251,
          -0.7016834707334093,
          -0.3825560695099959,
          0.7376388884807465,
          -2.0494397850365798,
          -0.19660738375712236,
          -0.8254237463636193,
          1.7437396924983983,
          -1.5808309939799807,
          -1.0801497191966087,
          -1.004795523337831,
          0.19520188171432185,
          -2.1505906126573042,
          -1.1388250512228844,
          0.30377275412624555,
          0.9654030967031015,
          -0.6904492808008851,
          -1.2394975127933738,
          1.688538507633855,
          -0.36937543766446557,
          0.10375780520719564,
          -1.3632005282097133,
          0.6048151613707982,
          1.4876719169952275,
          0.40539115031188144,
          0.44834205032416385,
          1.2619773103140894,
          0.04662622163307223,
          1.4178646602998692,
          -0.34837797827909456,
          -0.5825818391151043,
          -0.6417193383973584,
          0.5770926164852495,
          -0.2713554315778967,
          0.9846044901362248
         ]
        }
       ],
       "layout": {
        "legend": {
         "bgcolor": "#F5F6F9",
         "font": {
          "color": "#4D5663"
         }
        },
        "paper_bgcolor": "#F5F6F9",
        "plot_bgcolor": "#F5F6F9",
        "template": {
         "data": {
          "bar": [
           {
            "error_x": {
             "color": "#2a3f5f"
            },
            "error_y": {
             "color": "#2a3f5f"
            },
            "marker": {
             "line": {
              "color": "#E5ECF6",
              "width": 0.5
             },
             "pattern": {
              "fillmode": "overlay",
              "size": 10,
              "solidity": 0.2
             }
            },
            "type": "bar"
           }
          ],
          "barpolar": [
           {
            "marker": {
             "line": {
              "color": "#E5ECF6",
              "width": 0.5
             },
             "pattern": {
              "fillmode": "overlay",
              "size": 10,
              "solidity": 0.2
             }
            },
            "type": "barpolar"
           }
          ],
          "carpet": [
           {
            "aaxis": {
             "endlinecolor": "#2a3f5f",
             "gridcolor": "white",
             "linecolor": "white",
             "minorgridcolor": "white",
             "startlinecolor": "#2a3f5f"
            },
            "baxis": {
             "endlinecolor": "#2a3f5f",
             "gridcolor": "white",
             "linecolor": "white",
             "minorgridcolor": "white",
             "startlinecolor": "#2a3f5f"
            },
            "type": "carpet"
           }
          ],
          "choropleth": [
           {
            "colorbar": {
             "outlinewidth": 0,
             "ticks": ""
            },
            "type": "choropleth"
           }
          ],
          "contour": [
           {
            "colorbar": {
             "outlinewidth": 0,
             "ticks": ""
            },
            "colorscale": [
             [
              0,
              "#0d0887"
             ],
             [
              0.1111111111111111,
              "#46039f"
             ],
             [
              0.2222222222222222,
              "#7201a8"
             ],
             [
              0.3333333333333333,
              "#9c179e"
             ],
             [
              0.4444444444444444,
              "#bd3786"
             ],
             [
              0.5555555555555556,
              "#d8576b"
             ],
             [
              0.6666666666666666,
              "#ed7953"
             ],
             [
              0.7777777777777778,
              "#fb9f3a"
             ],
             [
              0.8888888888888888,
              "#fdca26"
             ],
             [
              1,
              "#f0f921"
             ]
            ],
            "type": "contour"
           }
          ],
          "contourcarpet": [
           {
            "colorbar": {
             "outlinewidth": 0,
             "ticks": ""
            },
            "type": "contourcarpet"
           }
          ],
          "heatmap": [
           {
            "colorbar": {
             "outlinewidth": 0,
             "ticks": ""
            },
            "colorscale": [
             [
              0,
              "#0d0887"
             ],
             [
              0.1111111111111111,
              "#46039f"
             ],
             [
              0.2222222222222222,
              "#7201a8"
             ],
             [
              0.3333333333333333,
              "#9c179e"
             ],
             [
              0.4444444444444444,
              "#bd3786"
             ],
             [
              0.5555555555555556,
              "#d8576b"
             ],
             [
              0.6666666666666666,
              "#ed7953"
             ],
             [
              0.7777777777777778,
              "#fb9f3a"
             ],
             [
              0.8888888888888888,
              "#fdca26"
             ],
             [
              1,
              "#f0f921"
             ]
            ],
            "type": "heatmap"
           }
          ],
          "heatmapgl": [
           {
            "colorbar": {
             "outlinewidth": 0,
             "ticks": ""
            },
            "colorscale": [
             [
              0,
              "#0d0887"
             ],
             [
              0.1111111111111111,
              "#46039f"
             ],
             [
              0.2222222222222222,
              "#7201a8"
             ],
             [
              0.3333333333333333,
              "#9c179e"
             ],
             [
              0.4444444444444444,
              "#bd3786"
             ],
             [
              0.5555555555555556,
              "#d8576b"
             ],
             [
              0.6666666666666666,
              "#ed7953"
             ],
             [
              0.7777777777777778,
              "#fb9f3a"
             ],
             [
              0.8888888888888888,
              "#fdca26"
             ],
             [
              1,
              "#f0f921"
             ]
            ],
            "type": "heatmapgl"
           }
          ],
          "histogram": [
           {
            "marker": {
             "pattern": {
              "fillmode": "overlay",
              "size": 10,
              "solidity": 0.2
             }
            },
            "type": "histogram"
           }
          ],
          "histogram2d": [
           {
            "colorbar": {
             "outlinewidth": 0,
             "ticks": ""
            },
            "colorscale": [
             [
              0,
              "#0d0887"
             ],
             [
              0.1111111111111111,
              "#46039f"
             ],
             [
              0.2222222222222222,
              "#7201a8"
             ],
             [
              0.3333333333333333,
              "#9c179e"
             ],
             [
              0.4444444444444444,
              "#bd3786"
             ],
             [
              0.5555555555555556,
              "#d8576b"
             ],
             [
              0.6666666666666666,
              "#ed7953"
             ],
             [
              0.7777777777777778,
              "#fb9f3a"
             ],
             [
              0.8888888888888888,
              "#fdca26"
             ],
             [
              1,
              "#f0f921"
             ]
            ],
            "type": "histogram2d"
           }
          ],
          "histogram2dcontour": [
           {
            "colorbar": {
             "outlinewidth": 0,
             "ticks": ""
            },
            "colorscale": [
             [
              0,
              "#0d0887"
             ],
             [
              0.1111111111111111,
              "#46039f"
             ],
             [
              0.2222222222222222,
              "#7201a8"
             ],
             [
              0.3333333333333333,
              "#9c179e"
             ],
             [
              0.4444444444444444,
              "#bd3786"
             ],
             [
              0.5555555555555556,
              "#d8576b"
             ],
             [
              0.6666666666666666,
              "#ed7953"
             ],
             [
              0.7777777777777778,
              "#fb9f3a"
             ],
             [
              0.8888888888888888,
              "#fdca26"
             ],
             [
              1,
              "#f0f921"
             ]
            ],
            "type": "histogram2dcontour"
           }
          ],
          "mesh3d": [
           {
            "colorbar": {
             "outlinewidth": 0,
             "ticks": ""
            },
            "type": "mesh3d"
           }
          ],
          "parcoords": [
           {
            "line": {
             "colorbar": {
              "outlinewidth": 0,
              "ticks": ""
             }
            },
            "type": "parcoords"
           }
          ],
          "pie": [
           {
            "automargin": true,
            "type": "pie"
           }
          ],
          "scatter": [
           {
            "fillpattern": {
             "fillmode": "overlay",
             "size": 10,
             "solidity": 0.2
            },
            "type": "scatter"
           }
          ],
          "scatter3d": [
           {
            "line": {
             "colorbar": {
              "outlinewidth": 0,
              "ticks": ""
             }
            },
            "marker": {
             "colorbar": {
              "outlinewidth": 0,
              "ticks": ""
             }
            },
            "type": "scatter3d"
           }
          ],
          "scattercarpet": [
           {
            "marker": {
             "colorbar": {
              "outlinewidth": 0,
              "ticks": ""
             }
            },
            "type": "scattercarpet"
           }
          ],
          "scattergeo": [
           {
            "marker": {
             "colorbar": {
              "outlinewidth": 0,
              "ticks": ""
             }
            },
            "type": "scattergeo"
           }
          ],
          "scattergl": [
           {
            "marker": {
             "colorbar": {
              "outlinewidth": 0,
              "ticks": ""
             }
            },
            "type": "scattergl"
           }
          ],
          "scattermapbox": [
           {
            "marker": {
             "colorbar": {
              "outlinewidth": 0,
              "ticks": ""
             }
            },
            "type": "scattermapbox"
           }
          ],
          "scatterpolar": [
           {
            "marker": {
             "colorbar": {
              "outlinewidth": 0,
              "ticks": ""
             }
            },
            "type": "scatterpolar"
           }
          ],
          "scatterpolargl": [
           {
            "marker": {
             "colorbar": {
              "outlinewidth": 0,
              "ticks": ""
             }
            },
            "type": "scatterpolargl"
           }
          ],
          "scatterternary": [
           {
            "marker": {
             "colorbar": {
              "outlinewidth": 0,
              "ticks": ""
             }
            },
            "type": "scatterternary"
           }
          ],
          "surface": [
           {
            "colorbar": {
             "outlinewidth": 0,
             "ticks": ""
            },
            "colorscale": [
             [
              0,
              "#0d0887"
             ],
             [
              0.1111111111111111,
              "#46039f"
             ],
             [
              0.2222222222222222,
              "#7201a8"
             ],
             [
              0.3333333333333333,
              "#9c179e"
             ],
             [
              0.4444444444444444,
              "#bd3786"
             ],
             [
              0.5555555555555556,
              "#d8576b"
             ],
             [
              0.6666666666666666,
              "#ed7953"
             ],
             [
              0.7777777777777778,
              "#fb9f3a"
             ],
             [
              0.8888888888888888,
              "#fdca26"
             ],
             [
              1,
              "#f0f921"
             ]
            ],
            "type": "surface"
           }
          ],
          "table": [
           {
            "cells": {
             "fill": {
              "color": "#EBF0F8"
             },
             "line": {
              "color": "white"
             }
            },
            "header": {
             "fill": {
              "color": "#C8D4E3"
             },
             "line": {
              "color": "white"
             }
            },
            "type": "table"
           }
          ]
         },
         "layout": {
          "annotationdefaults": {
           "arrowcolor": "#2a3f5f",
           "arrowhead": 0,
           "arrowwidth": 1
          },
          "autotypenumbers": "strict",
          "coloraxis": {
           "colorbar": {
            "outlinewidth": 0,
            "ticks": ""
           }
          },
          "colorscale": {
           "diverging": [
            [
             0,
             "#8e0152"
            ],
            [
             0.1,
             "#c51b7d"
            ],
            [
             0.2,
             "#de77ae"
            ],
            [
             0.3,
             "#f1b6da"
            ],
            [
             0.4,
             "#fde0ef"
            ],
            [
             0.5,
             "#f7f7f7"
            ],
            [
             0.6,
             "#e6f5d0"
            ],
            [
             0.7,
             "#b8e186"
            ],
            [
             0.8,
             "#7fbc41"
            ],
            [
             0.9,
             "#4d9221"
            ],
            [
             1,
             "#276419"
            ]
           ],
           "sequential": [
            [
             0,
             "#0d0887"
            ],
            [
             0.1111111111111111,
             "#46039f"
            ],
            [
             0.2222222222222222,
             "#7201a8"
            ],
            [
             0.3333333333333333,
             "#9c179e"
            ],
            [
             0.4444444444444444,
             "#bd3786"
            ],
            [
             0.5555555555555556,
             "#d8576b"
            ],
            [
             0.6666666666666666,
             "#ed7953"
            ],
            [
             0.7777777777777778,
             "#fb9f3a"
            ],
            [
             0.8888888888888888,
             "#fdca26"
            ],
            [
             1,
             "#f0f921"
            ]
           ],
           "sequentialminus": [
            [
             0,
             "#0d0887"
            ],
            [
             0.1111111111111111,
             "#46039f"
            ],
            [
             0.2222222222222222,
             "#7201a8"
            ],
            [
             0.3333333333333333,
             "#9c179e"
            ],
            [
             0.4444444444444444,
             "#bd3786"
            ],
            [
             0.5555555555555556,
             "#d8576b"
            ],
            [
             0.6666666666666666,
             "#ed7953"
            ],
            [
             0.7777777777777778,
             "#fb9f3a"
            ],
            [
             0.8888888888888888,
             "#fdca26"
            ],
            [
             1,
             "#f0f921"
            ]
           ]
          },
          "colorway": [
           "#636efa",
           "#EF553B",
           "#00cc96",
           "#ab63fa",
           "#FFA15A",
           "#19d3f3",
           "#FF6692",
           "#B6E880",
           "#FF97FF",
           "#FECB52"
          ],
          "font": {
           "color": "#2a3f5f"
          },
          "geo": {
           "bgcolor": "white",
           "lakecolor": "white",
           "landcolor": "#E5ECF6",
           "showlakes": true,
           "showland": true,
           "subunitcolor": "white"
          },
          "hoverlabel": {
           "align": "left"
          },
          "hovermode": "closest",
          "mapbox": {
           "style": "light"
          },
          "paper_bgcolor": "white",
          "plot_bgcolor": "#E5ECF6",
          "polar": {
           "angularaxis": {
            "gridcolor": "white",
            "linecolor": "white",
            "ticks": ""
           },
           "bgcolor": "#E5ECF6",
           "radialaxis": {
            "gridcolor": "white",
            "linecolor": "white",
            "ticks": ""
           }
          },
          "scene": {
           "xaxis": {
            "backgroundcolor": "#E5ECF6",
            "gridcolor": "white",
            "gridwidth": 2,
            "linecolor": "white",
            "showbackground": true,
            "ticks": "",
            "zerolinecolor": "white"
           },
           "yaxis": {
            "backgroundcolor": "#E5ECF6",
            "gridcolor": "white",
            "gridwidth": 2,
            "linecolor": "white",
            "showbackground": true,
            "ticks": "",
            "zerolinecolor": "white"
           },
           "zaxis": {
            "backgroundcolor": "#E5ECF6",
            "gridcolor": "white",
            "gridwidth": 2,
            "linecolor": "white",
            "showbackground": true,
            "ticks": "",
            "zerolinecolor": "white"
           }
          },
          "shapedefaults": {
           "line": {
            "color": "#2a3f5f"
           }
          },
          "ternary": {
           "aaxis": {
            "gridcolor": "white",
            "linecolor": "white",
            "ticks": ""
           },
           "baxis": {
            "gridcolor": "white",
            "linecolor": "white",
            "ticks": ""
           },
           "bgcolor": "#E5ECF6",
           "caxis": {
            "gridcolor": "white",
            "linecolor": "white",
            "ticks": ""
           }
          },
          "title": {
           "x": 0.05
          },
          "xaxis": {
           "automargin": true,
           "gridcolor": "white",
           "linecolor": "white",
           "ticks": "",
           "title": {
            "standoff": 15
           },
           "zerolinecolor": "white",
           "zerolinewidth": 2
          },
          "yaxis": {
           "automargin": true,
           "gridcolor": "white",
           "linecolor": "white",
           "ticks": "",
           "title": {
            "standoff": 15
           },
           "zerolinecolor": "white",
           "zerolinewidth": 2
          }
         }
        },
        "title": {
         "font": {
          "color": "#4D5663"
         }
        },
        "xaxis": {
         "gridcolor": "#E1E5ED",
         "showgrid": true,
         "tickfont": {
          "color": "#4D5663"
         },
         "title": {
          "font": {
           "color": "#4D5663"
          },
          "text": ""
         },
         "zerolinecolor": "#E1E5ED"
        },
        "yaxis": {
         "gridcolor": "#E1E5ED",
         "showgrid": true,
         "tickfont": {
          "color": "#4D5663"
         },
         "title": {
          "font": {
           "color": "#4D5663"
          },
          "text": ""
         },
         "zerolinecolor": "#E1E5ED"
        }
       }
      },
      "text/html": [
       "<div>                            <div id=\"4db24fdc-5355-409d-99f6-458f1dd0238d\" class=\"plotly-graph-div\" style=\"height:525px; width:100%;\"></div>            <script type=\"text/javascript\">                require([\"plotly\"], function(Plotly) {                    window.PLOTLYENV=window.PLOTLYENV || {};\n",
       "                    window.PLOTLYENV.BASE_URL='https://plot.ly';                                    if (document.getElementById(\"4db24fdc-5355-409d-99f6-458f1dd0238d\")) {                    Plotly.newPlot(                        \"4db24fdc-5355-409d-99f6-458f1dd0238d\",                        [{\"marker\":{\"color\":[\"rgb(255, 153, 51)\",\"rgb(55, 128, 191)\",\"rgb(50, 171, 96)\",\"rgb(128, 0, 128)\",\"rgb(219, 64, 82)\",\"rgb(0, 128, 128)\",\"rgb(255, 255, 51)\",\"rgb(128, 128, 0)\",\"rgb(251, 128, 114)\",\"rgb(128, 177, 211)\"],\"line\":{\"width\":1.3},\"size\":[60,35,64,98,55,91,62,49,62,49,62,81,75,22,70,60,62,73,44,74,49,72,72,83,48,51,64,70,65,100,99,81,70,46,84,87,55,112,83,68,100,76,69,34,72,58,78,83,37,83,66,27,37,72,64,55,38,61,71,71,54,48,56,71,87,75,73,38,83,84,51,78,48,71,54,49,84,68,97,69,79,49,67,79,53,72,97,54,25,69,70,26,12,74,59,65,81,87,70,53],\"symbol\":\"circle\"},\"mode\":\"markers\",\"text\":\"\",\"x\":[1.130845712492262,0.29090858090579896,0.5443418728942426,1.7358613670957141,1.7858674247097013,2.239975091911653,-0.7258104422253708,-1.0083890734141534,1.5671072793927034,0.44368330163022857,1.4279437217482005,-0.19542847134855418,0.6495783250837226,-1.8525564479053875,-1.8317013210206905,0.2688055302097464,0.2241950646506555,-1.8512490625481963,-1.1789628154054355,-0.08447607823617174,1.8018710662549284,1.8638550192237273,-1.457619281449165,1.5023701046244833,0.15875083642391546,-1.2825745413625762,-0.36700370220642653,2.009438965755136,-0.35082956816632654,-2.5264442806015586,0.4520506026011699,1.053349796415361,-1.337921393086797,-1.703217926693494,-0.5638501489270755,-0.5954567092321331,-1.1099136610575517,-0.19191541317466335,0.7134426170015831,0.32410150358419915,-0.8094846242122693,-0.435180360760021,-1.114638346861693,0.44571517085451096,0.30105291567425035,1.126243453943223,-0.9854677281986305,-1.0740181122904842,0.8642449490267092,-0.6725524001753558,0.12937375046529564,-0.17861160381311486,0.6961674848289248,1.316540903055389,-1.642167714865581,0.021768851197594506,1.7564636931586772,-0.15510375128640047,0.37343207162224173,0.7067302336508653,-0.485082071234198,1.0057499990835328,-0.2815905462716364,-1.0211374845105965,1.4231487770717495,-0.418150530680779,-0.7941733598799346,0.6000971931560366,-1.486031394891415,0.6780356295432848,-0.850647084609868,-0.7909191763481986,-0.23213141692519007,0.30254579507114543,-0.25774803703821814,-0.864806103269127,0.9779307982259109,1.4997270271887482,0.38576071910364457,-0.15343101110894364,-0.17807514552491768,0.16753974472337407,2.7810643074164694,-0.2545877505673127,-2.06568839120565,0.0793872328286146,0.9840975443541982,0.010028484286677585,1.3588599556571423,0.9033906035503909,1.7397538308092018,-1.6505904365544575,-0.9104665692355621,-0.5842429898924218,-0.6052634377101391,-1.4601558788592213,0.4803915127520965,1.5593320695837987,-1.4698367553340614,1.4330013471054899],\"y\":[0.23652795715850095,0.9786252446269585,-0.056640727346602984,-0.4349614120408051,-1.1743745916427208,-1.7620572065461984,0.7325959124175713,0.1436936439226743,-0.27555908546868524,-0.6004006655887814,2.2159144648890776,0.08608978276712356,0.787950574108897,1.8106167453268054,2.4071514142948183,2.33367917977407,-0.17043217921907472,-0.559544769568131,-0.3178320644256901,2.509342474661557,1.6186307486022546,0.8786467053313886,-2.4577734110446294,-1.723113261937718,1.0630824675324746,1.0158760542547436,1.0189349600993107,-0.3817479819618662,0.41427726947199267,0.8214587697950845,1.0961179004626964,-0.02395423145642322,2.453520862724082,-0.7487812489224189,0.3484817423218347,1.338685675875985,0.609700505772461,0.23042070231077016,0.16547523004146747,-0.007048318221612886,0.04377525645156575,-1.2254831762534104,-1.2716014700390135,1.1854902788751958,1.0204780867900345,-0.2797897504487051,0.5751999998812791,1.6316023675903262,0.241498202612012,-1.2747224650227431,1.2306792456818112,0.04918728639549364,-0.6267357295715503,-1.0328247251819862,-0.21390591230657377,-2.1024897464833634,0.7228779583486531,0.5302717891134512,-1.5775394290688414,-0.415429850639412,0.5300885926311383,2.3249698282209206,-0.5302853090578974,-0.1607185484274797,-1.8503104351340782,0.10131805939089251,-0.7016834707334093,-0.3825560695099959,0.7376388884807465,-2.0494397850365798,-0.19660738375712236,-0.8254237463636193,1.7437396924983983,-1.5808309939799807,-1.0801497191966087,-1.004795523337831,0.19520188171432185,-2.1505906126573042,-1.1388250512228844,0.30377275412624555,0.9654030967031015,-0.6904492808008851,-1.2394975127933738,1.688538507633855,-0.36937543766446557,0.10375780520719564,-1.3632005282097133,0.6048151613707982,1.4876719169952275,0.40539115031188144,0.44834205032416385,1.2619773103140894,0.04662622163307223,1.4178646602998692,-0.34837797827909456,-0.5825818391151043,-0.6417193383973584,0.5770926164852495,-0.2713554315778967,0.9846044901362248],\"type\":\"scatter\"}],                        {\"legend\":{\"bgcolor\":\"#F5F6F9\",\"font\":{\"color\":\"#4D5663\"}},\"paper_bgcolor\":\"#F5F6F9\",\"plot_bgcolor\":\"#F5F6F9\",\"template\":{\"data\":{\"barpolar\":[{\"marker\":{\"line\":{\"color\":\"#E5ECF6\",\"width\":0.5},\"pattern\":{\"fillmode\":\"overlay\",\"size\":10,\"solidity\":0.2}},\"type\":\"barpolar\"}],\"bar\":[{\"error_x\":{\"color\":\"#2a3f5f\"},\"error_y\":{\"color\":\"#2a3f5f\"},\"marker\":{\"line\":{\"color\":\"#E5ECF6\",\"width\":0.5},\"pattern\":{\"fillmode\":\"overlay\",\"size\":10,\"solidity\":0.2}},\"type\":\"bar\"}],\"carpet\":[{\"aaxis\":{\"endlinecolor\":\"#2a3f5f\",\"gridcolor\":\"white\",\"linecolor\":\"white\",\"minorgridcolor\":\"white\",\"startlinecolor\":\"#2a3f5f\"},\"baxis\":{\"endlinecolor\":\"#2a3f5f\",\"gridcolor\":\"white\",\"linecolor\":\"white\",\"minorgridcolor\":\"white\",\"startlinecolor\":\"#2a3f5f\"},\"type\":\"carpet\"}],\"choropleth\":[{\"colorbar\":{\"outlinewidth\":0,\"ticks\":\"\"},\"type\":\"choropleth\"}],\"contourcarpet\":[{\"colorbar\":{\"outlinewidth\":0,\"ticks\":\"\"},\"type\":\"contourcarpet\"}],\"contour\":[{\"colorbar\":{\"outlinewidth\":0,\"ticks\":\"\"},\"colorscale\":[[0.0,\"#0d0887\"],[0.1111111111111111,\"#46039f\"],[0.2222222222222222,\"#7201a8\"],[0.3333333333333333,\"#9c179e\"],[0.4444444444444444,\"#bd3786\"],[0.5555555555555556,\"#d8576b\"],[0.6666666666666666,\"#ed7953\"],[0.7777777777777778,\"#fb9f3a\"],[0.8888888888888888,\"#fdca26\"],[1.0,\"#f0f921\"]],\"type\":\"contour\"}],\"heatmapgl\":[{\"colorbar\":{\"outlinewidth\":0,\"ticks\":\"\"},\"colorscale\":[[0.0,\"#0d0887\"],[0.1111111111111111,\"#46039f\"],[0.2222222222222222,\"#7201a8\"],[0.3333333333333333,\"#9c179e\"],[0.4444444444444444,\"#bd3786\"],[0.5555555555555556,\"#d8576b\"],[0.6666666666666666,\"#ed7953\"],[0.7777777777777778,\"#fb9f3a\"],[0.8888888888888888,\"#fdca26\"],[1.0,\"#f0f921\"]],\"type\":\"heatmapgl\"}],\"heatmap\":[{\"colorbar\":{\"outlinewidth\":0,\"ticks\":\"\"},\"colorscale\":[[0.0,\"#0d0887\"],[0.1111111111111111,\"#46039f\"],[0.2222222222222222,\"#7201a8\"],[0.3333333333333333,\"#9c179e\"],[0.4444444444444444,\"#bd3786\"],[0.5555555555555556,\"#d8576b\"],[0.6666666666666666,\"#ed7953\"],[0.7777777777777778,\"#fb9f3a\"],[0.8888888888888888,\"#fdca26\"],[1.0,\"#f0f921\"]],\"type\":\"heatmap\"}],\"histogram2dcontour\":[{\"colorbar\":{\"outlinewidth\":0,\"ticks\":\"\"},\"colorscale\":[[0.0,\"#0d0887\"],[0.1111111111111111,\"#46039f\"],[0.2222222222222222,\"#7201a8\"],[0.3333333333333333,\"#9c179e\"],[0.4444444444444444,\"#bd3786\"],[0.5555555555555556,\"#d8576b\"],[0.6666666666666666,\"#ed7953\"],[0.7777777777777778,\"#fb9f3a\"],[0.8888888888888888,\"#fdca26\"],[1.0,\"#f0f921\"]],\"type\":\"histogram2dcontour\"}],\"histogram2d\":[{\"colorbar\":{\"outlinewidth\":0,\"ticks\":\"\"},\"colorscale\":[[0.0,\"#0d0887\"],[0.1111111111111111,\"#46039f\"],[0.2222222222222222,\"#7201a8\"],[0.3333333333333333,\"#9c179e\"],[0.4444444444444444,\"#bd3786\"],[0.5555555555555556,\"#d8576b\"],[0.6666666666666666,\"#ed7953\"],[0.7777777777777778,\"#fb9f3a\"],[0.8888888888888888,\"#fdca26\"],[1.0,\"#f0f921\"]],\"type\":\"histogram2d\"}],\"histogram\":[{\"marker\":{\"pattern\":{\"fillmode\":\"overlay\",\"size\":10,\"solidity\":0.2}},\"type\":\"histogram\"}],\"mesh3d\":[{\"colorbar\":{\"outlinewidth\":0,\"ticks\":\"\"},\"type\":\"mesh3d\"}],\"parcoords\":[{\"line\":{\"colorbar\":{\"outlinewidth\":0,\"ticks\":\"\"}},\"type\":\"parcoords\"}],\"pie\":[{\"automargin\":true,\"type\":\"pie\"}],\"scatter3d\":[{\"line\":{\"colorbar\":{\"outlinewidth\":0,\"ticks\":\"\"}},\"marker\":{\"colorbar\":{\"outlinewidth\":0,\"ticks\":\"\"}},\"type\":\"scatter3d\"}],\"scattercarpet\":[{\"marker\":{\"colorbar\":{\"outlinewidth\":0,\"ticks\":\"\"}},\"type\":\"scattercarpet\"}],\"scattergeo\":[{\"marker\":{\"colorbar\":{\"outlinewidth\":0,\"ticks\":\"\"}},\"type\":\"scattergeo\"}],\"scattergl\":[{\"marker\":{\"colorbar\":{\"outlinewidth\":0,\"ticks\":\"\"}},\"type\":\"scattergl\"}],\"scattermapbox\":[{\"marker\":{\"colorbar\":{\"outlinewidth\":0,\"ticks\":\"\"}},\"type\":\"scattermapbox\"}],\"scatterpolargl\":[{\"marker\":{\"colorbar\":{\"outlinewidth\":0,\"ticks\":\"\"}},\"type\":\"scatterpolargl\"}],\"scatterpolar\":[{\"marker\":{\"colorbar\":{\"outlinewidth\":0,\"ticks\":\"\"}},\"type\":\"scatterpolar\"}],\"scatter\":[{\"fillpattern\":{\"fillmode\":\"overlay\",\"size\":10,\"solidity\":0.2},\"type\":\"scatter\"}],\"scatterternary\":[{\"marker\":{\"colorbar\":{\"outlinewidth\":0,\"ticks\":\"\"}},\"type\":\"scatterternary\"}],\"surface\":[{\"colorbar\":{\"outlinewidth\":0,\"ticks\":\"\"},\"colorscale\":[[0.0,\"#0d0887\"],[0.1111111111111111,\"#46039f\"],[0.2222222222222222,\"#7201a8\"],[0.3333333333333333,\"#9c179e\"],[0.4444444444444444,\"#bd3786\"],[0.5555555555555556,\"#d8576b\"],[0.6666666666666666,\"#ed7953\"],[0.7777777777777778,\"#fb9f3a\"],[0.8888888888888888,\"#fdca26\"],[1.0,\"#f0f921\"]],\"type\":\"surface\"}],\"table\":[{\"cells\":{\"fill\":{\"color\":\"#EBF0F8\"},\"line\":{\"color\":\"white\"}},\"header\":{\"fill\":{\"color\":\"#C8D4E3\"},\"line\":{\"color\":\"white\"}},\"type\":\"table\"}]},\"layout\":{\"annotationdefaults\":{\"arrowcolor\":\"#2a3f5f\",\"arrowhead\":0,\"arrowwidth\":1},\"autotypenumbers\":\"strict\",\"coloraxis\":{\"colorbar\":{\"outlinewidth\":0,\"ticks\":\"\"}},\"colorscale\":{\"diverging\":[[0,\"#8e0152\"],[0.1,\"#c51b7d\"],[0.2,\"#de77ae\"],[0.3,\"#f1b6da\"],[0.4,\"#fde0ef\"],[0.5,\"#f7f7f7\"],[0.6,\"#e6f5d0\"],[0.7,\"#b8e186\"],[0.8,\"#7fbc41\"],[0.9,\"#4d9221\"],[1,\"#276419\"]],\"sequential\":[[0.0,\"#0d0887\"],[0.1111111111111111,\"#46039f\"],[0.2222222222222222,\"#7201a8\"],[0.3333333333333333,\"#9c179e\"],[0.4444444444444444,\"#bd3786\"],[0.5555555555555556,\"#d8576b\"],[0.6666666666666666,\"#ed7953\"],[0.7777777777777778,\"#fb9f3a\"],[0.8888888888888888,\"#fdca26\"],[1.0,\"#f0f921\"]],\"sequentialminus\":[[0.0,\"#0d0887\"],[0.1111111111111111,\"#46039f\"],[0.2222222222222222,\"#7201a8\"],[0.3333333333333333,\"#9c179e\"],[0.4444444444444444,\"#bd3786\"],[0.5555555555555556,\"#d8576b\"],[0.6666666666666666,\"#ed7953\"],[0.7777777777777778,\"#fb9f3a\"],[0.8888888888888888,\"#fdca26\"],[1.0,\"#f0f921\"]]},\"colorway\":[\"#636efa\",\"#EF553B\",\"#00cc96\",\"#ab63fa\",\"#FFA15A\",\"#19d3f3\",\"#FF6692\",\"#B6E880\",\"#FF97FF\",\"#FECB52\"],\"font\":{\"color\":\"#2a3f5f\"},\"geo\":{\"bgcolor\":\"white\",\"lakecolor\":\"white\",\"landcolor\":\"#E5ECF6\",\"showlakes\":true,\"showland\":true,\"subunitcolor\":\"white\"},\"hoverlabel\":{\"align\":\"left\"},\"hovermode\":\"closest\",\"mapbox\":{\"style\":\"light\"},\"paper_bgcolor\":\"white\",\"plot_bgcolor\":\"#E5ECF6\",\"polar\":{\"angularaxis\":{\"gridcolor\":\"white\",\"linecolor\":\"white\",\"ticks\":\"\"},\"bgcolor\":\"#E5ECF6\",\"radialaxis\":{\"gridcolor\":\"white\",\"linecolor\":\"white\",\"ticks\":\"\"}},\"scene\":{\"xaxis\":{\"backgroundcolor\":\"#E5ECF6\",\"gridcolor\":\"white\",\"gridwidth\":2,\"linecolor\":\"white\",\"showbackground\":true,\"ticks\":\"\",\"zerolinecolor\":\"white\"},\"yaxis\":{\"backgroundcolor\":\"#E5ECF6\",\"gridcolor\":\"white\",\"gridwidth\":2,\"linecolor\":\"white\",\"showbackground\":true,\"ticks\":\"\",\"zerolinecolor\":\"white\"},\"zaxis\":{\"backgroundcolor\":\"#E5ECF6\",\"gridcolor\":\"white\",\"gridwidth\":2,\"linecolor\":\"white\",\"showbackground\":true,\"ticks\":\"\",\"zerolinecolor\":\"white\"}},\"shapedefaults\":{\"line\":{\"color\":\"#2a3f5f\"}},\"ternary\":{\"aaxis\":{\"gridcolor\":\"white\",\"linecolor\":\"white\",\"ticks\":\"\"},\"baxis\":{\"gridcolor\":\"white\",\"linecolor\":\"white\",\"ticks\":\"\"},\"bgcolor\":\"#E5ECF6\",\"caxis\":{\"gridcolor\":\"white\",\"linecolor\":\"white\",\"ticks\":\"\"}},\"title\":{\"x\":0.05},\"xaxis\":{\"automargin\":true,\"gridcolor\":\"white\",\"linecolor\":\"white\",\"ticks\":\"\",\"title\":{\"standoff\":15},\"zerolinecolor\":\"white\",\"zerolinewidth\":2},\"yaxis\":{\"automargin\":true,\"gridcolor\":\"white\",\"linecolor\":\"white\",\"ticks\":\"\",\"title\":{\"standoff\":15},\"zerolinecolor\":\"white\",\"zerolinewidth\":2}}},\"title\":{\"font\":{\"color\":\"#4D5663\"}},\"xaxis\":{\"gridcolor\":\"#E1E5ED\",\"showgrid\":true,\"tickfont\":{\"color\":\"#4D5663\"},\"title\":{\"font\":{\"color\":\"#4D5663\"},\"text\":\"\"},\"zerolinecolor\":\"#E1E5ED\"},\"yaxis\":{\"gridcolor\":\"#E1E5ED\",\"showgrid\":true,\"tickfont\":{\"color\":\"#4D5663\"},\"title\":{\"font\":{\"color\":\"#4D5663\"},\"text\":\"\"},\"zerolinecolor\":\"#E1E5ED\"}},                        {\"showLink\": true, \"linkText\": \"Export to plot.ly\", \"plotlyServerURL\": \"https://plot.ly\", \"responsive\": true}                    ).then(function(){\n",
       "                            \n",
       "var gd = document.getElementById('4db24fdc-5355-409d-99f6-458f1dd0238d');\n",
       "var x = new MutationObserver(function (mutations, observer) {{\n",
       "        var display = window.getComputedStyle(gd).display;\n",
       "        if (!display || display === 'none') {{\n",
       "            console.log([gd, 'removed!']);\n",
       "            Plotly.purge(gd);\n",
       "            observer.disconnect();\n",
       "        }}\n",
       "}});\n",
       "\n",
       "// Listen for the removal of the full notebook cells\n",
       "var notebookContainer = gd.closest('#notebook-container');\n",
       "if (notebookContainer) {{\n",
       "    x.observe(notebookContainer, {childList: true});\n",
       "}}\n",
       "\n",
       "// Listen for the clearing of the current output cell\n",
       "var outputEl = gd.closest('.output');\n",
       "if (outputEl) {{\n",
       "    x.observe(outputEl, {childList: true});\n",
       "}}\n",
       "\n",
       "                        })                };                });            </script>        </div>"
      ]
     },
     "metadata": {},
     "output_type": "display_data"
    }
   ],
   "source": [
    "df.iplot(kind='bubble',x='A',y='B',size='C')"
   ]
  },
  {
   "cell_type": "markdown",
   "metadata": {},
   "source": [
    "## scatter_matrix()\n",
    "\n",
    "Similar to sns.pairplot()"
   ]
  },
  {
   "cell_type": "code",
   "execution_count": 19,
   "metadata": {
    "collapsed": false
   },
   "outputs": [
    {
     "data": {
      "application/vnd.plotly.v1+json": {
       "config": {
        "linkText": "Export to plot.ly",
        "plotlyServerURL": "https://plot.ly",
        "showLink": true
       },
       "data": [
        {
         "histfunc": "count",
         "histnorm": "",
         "marker": {
          "color": "rgba(255, 153, 51, 1.0)",
          "line": {
           "color": "#4D5663",
           "width": 1.3
          }
         },
         "name": "A",
         "nbinsx": 10,
         "opacity": 0.8,
         "orientation": "v",
         "type": "histogram",
         "x": [
          1.130845712492262,
          0.29090858090579896,
          0.5443418728942426,
          1.7358613670957141,
          1.7858674247097013,
          2.239975091911653,
          -0.7258104422253708,
          -1.0083890734141534,
          1.5671072793927034,
          0.44368330163022857,
          1.4279437217482005,
          -0.19542847134855418,
          0.6495783250837226,
          -1.8525564479053875,
          -1.8317013210206905,
          0.2688055302097464,
          0.2241950646506555,
          -1.8512490625481963,
          -1.1789628154054355,
          -0.08447607823617174,
          1.8018710662549284,
          1.8638550192237273,
          -1.457619281449165,
          1.5023701046244833,
          0.15875083642391546,
          -1.2825745413625762,
          -0.36700370220642653,
          2.009438965755136,
          -0.35082956816632654,
          -2.5264442806015586,
          0.4520506026011699,
          1.053349796415361,
          -1.337921393086797,
          -1.703217926693494,
          -0.5638501489270755,
          -0.5954567092321331,
          -1.1099136610575517,
          -0.19191541317466335,
          0.7134426170015831,
          0.32410150358419915,
          -0.8094846242122693,
          -0.435180360760021,
          -1.114638346861693,
          0.44571517085451096,
          0.30105291567425035,
          1.126243453943223,
          -0.9854677281986305,
          -1.0740181122904842,
          0.8642449490267092,
          -0.6725524001753558,
          0.12937375046529564,
          -0.17861160381311486,
          0.6961674848289248,
          1.316540903055389,
          -1.642167714865581,
          0.021768851197594506,
          1.7564636931586772,
          -0.15510375128640047,
          0.37343207162224173,
          0.7067302336508653,
          -0.485082071234198,
          1.0057499990835328,
          -0.2815905462716364,
          -1.0211374845105965,
          1.4231487770717495,
          -0.418150530680779,
          -0.7941733598799346,
          0.6000971931560366,
          -1.486031394891415,
          0.6780356295432848,
          -0.850647084609868,
          -0.7909191763481986,
          -0.23213141692519007,
          0.30254579507114543,
          -0.25774803703821814,
          -0.864806103269127,
          0.9779307982259109,
          1.4997270271887482,
          0.38576071910364457,
          -0.15343101110894364,
          -0.17807514552491768,
          0.16753974472337407,
          2.7810643074164694,
          -0.2545877505673127,
          -2.06568839120565,
          0.0793872328286146,
          0.9840975443541982,
          0.010028484286677585,
          1.3588599556571423,
          0.9033906035503909,
          1.7397538308092018,
          -1.6505904365544575,
          -0.9104665692355621,
          -0.5842429898924218,
          -0.6052634377101391,
          -1.4601558788592213,
          0.4803915127520965,
          1.5593320695837987,
          -1.4698367553340614,
          1.4330013471054899
         ],
         "xaxis": "x",
         "yaxis": "y"
        },
        {
         "line": {
          "color": "rgba(128, 128, 128, 1.0)",
          "dash": "solid",
          "shape": "linear",
          "width": 1.3
         },
         "marker": {
          "size": 2,
          "symbol": "circle"
         },
         "mode": "markers",
         "name": "A",
         "text": "",
         "type": "scatter",
         "x": [
          0.23652795715850095,
          0.9786252446269585,
          -0.056640727346602984,
          -0.4349614120408051,
          -1.1743745916427208,
          -1.7620572065461984,
          0.7325959124175713,
          0.1436936439226743,
          -0.27555908546868524,
          -0.6004006655887814,
          2.2159144648890776,
          0.08608978276712356,
          0.787950574108897,
          1.8106167453268054,
          2.4071514142948183,
          2.33367917977407,
          -0.17043217921907472,
          -0.559544769568131,
          -0.3178320644256901,
          2.509342474661557,
          1.6186307486022546,
          0.8786467053313886,
          -2.4577734110446294,
          -1.723113261937718,
          1.0630824675324746,
          1.0158760542547436,
          1.0189349600993107,
          -0.3817479819618662,
          0.41427726947199267,
          0.8214587697950845,
          1.0961179004626964,
          -0.02395423145642322,
          2.453520862724082,
          -0.7487812489224189,
          0.3484817423218347,
          1.338685675875985,
          0.609700505772461,
          0.23042070231077016,
          0.16547523004146747,
          -0.007048318221612886,
          0.04377525645156575,
          -1.2254831762534104,
          -1.2716014700390135,
          1.1854902788751958,
          1.0204780867900345,
          -0.2797897504487051,
          0.5751999998812791,
          1.6316023675903262,
          0.241498202612012,
          -1.2747224650227431,
          1.2306792456818112,
          0.04918728639549364,
          -0.6267357295715503,
          -1.0328247251819862,
          -0.21390591230657377,
          -2.1024897464833634,
          0.7228779583486531,
          0.5302717891134512,
          -1.5775394290688414,
          -0.415429850639412,
          0.5300885926311383,
          2.3249698282209206,
          -0.5302853090578974,
          -0.1607185484274797,
          -1.8503104351340782,
          0.10131805939089251,
          -0.7016834707334093,
          -0.3825560695099959,
          0.7376388884807465,
          -2.0494397850365798,
          -0.19660738375712236,
          -0.8254237463636193,
          1.7437396924983983,
          -1.5808309939799807,
          -1.0801497191966087,
          -1.004795523337831,
          0.19520188171432185,
          -2.1505906126573042,
          -1.1388250512228844,
          0.30377275412624555,
          0.9654030967031015,
          -0.6904492808008851,
          -1.2394975127933738,
          1.688538507633855,
          -0.36937543766446557,
          0.10375780520719564,
          -1.3632005282097133,
          0.6048151613707982,
          1.4876719169952275,
          0.40539115031188144,
          0.44834205032416385,
          1.2619773103140894,
          0.04662622163307223,
          1.4178646602998692,
          -0.34837797827909456,
          -0.5825818391151043,
          -0.6417193383973584,
          0.5770926164852495,
          -0.2713554315778967,
          0.9846044901362248
         ],
         "xaxis": "x2",
         "y": [
          1.130845712492262,
          0.29090858090579896,
          0.5443418728942426,
          1.7358613670957141,
          1.7858674247097013,
          2.239975091911653,
          -0.7258104422253708,
          -1.0083890734141534,
          1.5671072793927034,
          0.44368330163022857,
          1.4279437217482005,
          -0.19542847134855418,
          0.6495783250837226,
          -1.8525564479053875,
          -1.8317013210206905,
          0.2688055302097464,
          0.2241950646506555,
          -1.8512490625481963,
          -1.1789628154054355,
          -0.08447607823617174,
          1.8018710662549284,
          1.8638550192237273,
          -1.457619281449165,
          1.5023701046244833,
          0.15875083642391546,
          -1.2825745413625762,
          -0.36700370220642653,
          2.009438965755136,
          -0.35082956816632654,
          -2.5264442806015586,
          0.4520506026011699,
          1.053349796415361,
          -1.337921393086797,
          -1.703217926693494,
          -0.5638501489270755,
          -0.5954567092321331,
          -1.1099136610575517,
          -0.19191541317466335,
          0.7134426170015831,
          0.32410150358419915,
          -0.8094846242122693,
          -0.435180360760021,
          -1.114638346861693,
          0.44571517085451096,
          0.30105291567425035,
          1.126243453943223,
          -0.9854677281986305,
          -1.0740181122904842,
          0.8642449490267092,
          -0.6725524001753558,
          0.12937375046529564,
          -0.17861160381311486,
          0.6961674848289248,
          1.316540903055389,
          -1.642167714865581,
          0.021768851197594506,
          1.7564636931586772,
          -0.15510375128640047,
          0.37343207162224173,
          0.7067302336508653,
          -0.485082071234198,
          1.0057499990835328,
          -0.2815905462716364,
          -1.0211374845105965,
          1.4231487770717495,
          -0.418150530680779,
          -0.7941733598799346,
          0.6000971931560366,
          -1.486031394891415,
          0.6780356295432848,
          -0.850647084609868,
          -0.7909191763481986,
          -0.23213141692519007,
          0.30254579507114543,
          -0.25774803703821814,
          -0.864806103269127,
          0.9779307982259109,
          1.4997270271887482,
          0.38576071910364457,
          -0.15343101110894364,
          -0.17807514552491768,
          0.16753974472337407,
          2.7810643074164694,
          -0.2545877505673127,
          -2.06568839120565,
          0.0793872328286146,
          0.9840975443541982,
          0.010028484286677585,
          1.3588599556571423,
          0.9033906035503909,
          1.7397538308092018,
          -1.6505904365544575,
          -0.9104665692355621,
          -0.5842429898924218,
          -0.6052634377101391,
          -1.4601558788592213,
          0.4803915127520965,
          1.5593320695837987,
          -1.4698367553340614,
          1.4330013471054899
         ],
         "yaxis": "y2"
        },
        {
         "line": {
          "color": "rgba(128, 128, 128, 1.0)",
          "dash": "solid",
          "shape": "linear",
          "width": 1.3
         },
         "marker": {
          "size": 2,
          "symbol": "circle"
         },
         "mode": "markers",
         "name": "A",
         "text": "",
         "type": "scatter",
         "x": [
          -0.21311246950304963,
          -1.529560530346163,
          -0.04382339405540149,
          1.7120032347526841,
          -0.5052871728050125,
          1.3481306829335056,
          -0.10229400738107963,
          -0.7909277687807327,
          -0.13573531994964114,
          -0.7722606859392372,
          -0.1207427189013049,
          0.8377161381427785,
          0.5452904579479728,
          -2.167400272482735,
          0.30042720370197507,
          -0.23527331426232284,
          -0.13253340097047567,
          0.42977275187718267,
          -1.0623325313950225,
          0.48921669855275135,
          -0.781679686062041,
          0.3749447719814966,
          0.38052933568895425,
          0.9301651941714983,
          -0.8289096572939771,
          -0.6871148266891447,
          -0.019644830569319885,
          0.282102101624757,
          0.013039083541873003,
          1.8177994255525676,
          1.7531283316553863,
          0.8749113202296902,
          0.2967474888602414,
          -0.9537224391394447,
          0.9856497274001167,
          1.1710435051912944,
          -0.4630654928584813,
          2.4194939093898657,
          0.9425119594143709,
          0.1649564183898731,
          1.8151450938840725,
          0.5904571955385716,
          0.24872657299419806,
          -1.5487329028028218,
          0.398555443258038,
          -0.34160478208023676,
          0.6977703426430761,
          0.972554661537134,
          -1.399207243781892,
          0.9612176236133417,
          0.08618194123064749,
          -1.9073851377811182,
          -1.4005215816957075,
          0.37902959543592274,
          -0.004721074693959253,
          -0.5031899230246994,
          -1.3718084041585845,
          -0.1909366029729316,
          0.3157921086958649,
          0.3556339465695189,
          -0.5470017149654753,
          -0.8533711658007316,
          -0.4320044471220337,
          0.3613069238282116,
          1.1802824843302182,
          0.5632028509598241,
          0.45115452963018016,
          -1.3536524054345758,
          0.9729641136947345,
          1.0274602826700567,
          -0.6833826563430853,
          0.7163163276488466,
          -0.818003102749678,
          0.347711004323119,
          -0.5389095631279465,
          -0.7685333033162957,
          1.0139021177845278,
          0.19701541086934685,
          1.658024335299792,
          0.2416289980993996,
          0.7300223266625182,
          -0.7754806070939958,
          0.14830514892469085,
          0.7703181348561166,
          -0.6097366402493314,
          0.4110699608590679,
          1.6954397429713661,
          -0.5097652036455229,
          -2.043725864436495,
          0.2300920304204776,
          0.3108918032329613,
          -1.9763287655093127,
          -2.7172603434406697,
          0.49375245257546374,
          -0.29904843679404947,
          0.037310998044508166,
          0.8399062735487826,
          1.1692830451259553,
          0.2842201799764509,
          -0.5850754702007915
         ],
         "xaxis": "x3",
         "y": [
          1.130845712492262,
          0.29090858090579896,
          0.5443418728942426,
          1.7358613670957141,
          1.7858674247097013,
          2.239975091911653,
          -0.7258104422253708,
          -1.0083890734141534,
          1.5671072793927034,
          0.44368330163022857,
          1.4279437217482005,
          -0.19542847134855418,
          0.6495783250837226,
          -1.8525564479053875,
          -1.8317013210206905,
          0.2688055302097464,
          0.2241950646506555,
          -1.8512490625481963,
          -1.1789628154054355,
          -0.08447607823617174,
          1.8018710662549284,
          1.8638550192237273,
          -1.457619281449165,
          1.5023701046244833,
          0.15875083642391546,
          -1.2825745413625762,
          -0.36700370220642653,
          2.009438965755136,
          -0.35082956816632654,
          -2.5264442806015586,
          0.4520506026011699,
          1.053349796415361,
          -1.337921393086797,
          -1.703217926693494,
          -0.5638501489270755,
          -0.5954567092321331,
          -1.1099136610575517,
          -0.19191541317466335,
          0.7134426170015831,
          0.32410150358419915,
          -0.8094846242122693,
          -0.435180360760021,
          -1.114638346861693,
          0.44571517085451096,
          0.30105291567425035,
          1.126243453943223,
          -0.9854677281986305,
          -1.0740181122904842,
          0.8642449490267092,
          -0.6725524001753558,
          0.12937375046529564,
          -0.17861160381311486,
          0.6961674848289248,
          1.316540903055389,
          -1.642167714865581,
          0.021768851197594506,
          1.7564636931586772,
          -0.15510375128640047,
          0.37343207162224173,
          0.7067302336508653,
          -0.485082071234198,
          1.0057499990835328,
          -0.2815905462716364,
          -1.0211374845105965,
          1.4231487770717495,
          -0.418150530680779,
          -0.7941733598799346,
          0.6000971931560366,
          -1.486031394891415,
          0.6780356295432848,
          -0.850647084609868,
          -0.7909191763481986,
          -0.23213141692519007,
          0.30254579507114543,
          -0.25774803703821814,
          -0.864806103269127,
          0.9779307982259109,
          1.4997270271887482,
          0.38576071910364457,
          -0.15343101110894364,
          -0.17807514552491768,
          0.16753974472337407,
          2.7810643074164694,
          -0.2545877505673127,
          -2.06568839120565,
          0.0793872328286146,
          0.9840975443541982,
          0.010028484286677585,
          1.3588599556571423,
          0.9033906035503909,
          1.7397538308092018,
          -1.6505904365544575,
          -0.9104665692355621,
          -0.5842429898924218,
          -0.6052634377101391,
          -1.4601558788592213,
          0.4803915127520965,
          1.5593320695837987,
          -1.4698367553340614,
          1.4330013471054899
         ],
         "yaxis": "y3"
        },
        {
         "line": {
          "color": "rgba(128, 128, 128, 1.0)",
          "dash": "solid",
          "shape": "linear",
          "width": 1.3
         },
         "marker": {
          "size": 2,
          "symbol": "circle"
         },
         "mode": "markers",
         "name": "A",
         "text": "",
         "type": "scatter",
         "x": [
          -0.9263421858354252,
          1.0089605092736589,
          -1.4126288069950836,
          -0.3128180524264982,
          0.5759813388780815,
          0.5865047780916537,
          -0.18010073782437808,
          0.2902163636378381,
          -0.3341486581264862,
          0.15126807326324673,
          1.2407539381226094,
          0.2712024147330501,
          -1.5173914346086523,
          0.5428102661504568,
          2.50855518644812,
          -1.3741523190793863,
          -2.545099978976458,
          1.6854998436569686,
          0.34174704848438364,
          -1.6141508826698137,
          0.31236979166037354,
          2.769412610519902,
          0.5046646813328352,
          0.5053015674869329,
          0.9274909000401901,
          -0.5019083981889986,
          0.7087355516473482,
          0.11806280356943424,
          -0.8452471428033387,
          0.5769894059191689,
          -0.6813838390607431,
          -1.1583036579886195,
          -0.6505244116741078,
          2.023584343361356,
          -0.25235082101857387,
          1.395031132171996,
          0.07132390676869711,
          0.2275997019586433,
          -0.08808844458835065,
          0.8666395624624843,
          -0.005651046525600137,
          -0.8653021271277517,
          1.7431423471332843,
          0.5968060309100391,
          0.4391154161742208,
          0.7700360003189158,
          -0.4678612669403774,
          -2.5440479930785096,
          0.12364447176750859,
          -2.013235045544761,
          0.48826325036844737,
          -0.20241628194011885,
          1.4078212665030982,
          0.0022331587754811392,
          -0.4363694167240868,
          0.7293335211058297,
          -2.66390387356197,
          0.3138419244279987,
          0.1993735498987132,
          2.2997449025116055,
          -0.9473420202353887,
          0.6146860915137558,
          0.847097685466464,
          0.6937577786868215,
          -0.8772763160975026,
          -0.14820203955806494,
          -0.2542666176505652,
          1.163358145460446,
          0.3447303434241479,
          -0.3713394743415375,
          -0.4967739249970844,
          -1.5930817595972415,
          -0.7548379291418051,
          0.04233763630469865,
          0.9765980497675307,
          0.5139565100686533,
          0.5549093050500333,
          -0.10864092609421092,
          0.48411594860869195,
          1.064533904839239,
          0.787163681660531,
          1.416264320581946,
          -1.5467365370333777,
          -0.9382483777776369,
          0.9401444902950655,
          -1.2098782814514695,
          1.7131672315036837,
          -0.2704015746928047,
          0.7743242672167366,
          0.5855268469018194,
          -0.3693224781195801,
          0.7195773860987406,
          0.3818210369456319,
          -0.2397280528350369,
          0.13177623835449803,
          0.2584201082081484,
          0.7678786952185552,
          0.08363024535437466,
          -1.7418187305046389,
          1.2200571727812781
         ],
         "xaxis": "x4",
         "y": [
          1.130845712492262,
          0.29090858090579896,
          0.5443418728942426,
          1.7358613670957141,
          1.7858674247097013,
          2.239975091911653,
          -0.7258104422253708,
          -1.0083890734141534,
          1.5671072793927034,
          0.44368330163022857,
          1.4279437217482005,
          -0.19542847134855418,
          0.6495783250837226,
          -1.8525564479053875,
          -1.8317013210206905,
          0.2688055302097464,
          0.2241950646506555,
          -1.8512490625481963,
          -1.1789628154054355,
          -0.08447607823617174,
          1.8018710662549284,
          1.8638550192237273,
          -1.457619281449165,
          1.5023701046244833,
          0.15875083642391546,
          -1.2825745413625762,
          -0.36700370220642653,
          2.009438965755136,
          -0.35082956816632654,
          -2.5264442806015586,
          0.4520506026011699,
          1.053349796415361,
          -1.337921393086797,
          -1.703217926693494,
          -0.5638501489270755,
          -0.5954567092321331,
          -1.1099136610575517,
          -0.19191541317466335,
          0.7134426170015831,
          0.32410150358419915,
          -0.8094846242122693,
          -0.435180360760021,
          -1.114638346861693,
          0.44571517085451096,
          0.30105291567425035,
          1.126243453943223,
          -0.9854677281986305,
          -1.0740181122904842,
          0.8642449490267092,
          -0.6725524001753558,
          0.12937375046529564,
          -0.17861160381311486,
          0.6961674848289248,
          1.316540903055389,
          -1.642167714865581,
          0.021768851197594506,
          1.7564636931586772,
          -0.15510375128640047,
          0.37343207162224173,
          0.7067302336508653,
          -0.485082071234198,
          1.0057499990835328,
          -0.2815905462716364,
          -1.0211374845105965,
          1.4231487770717495,
          -0.418150530680779,
          -0.7941733598799346,
          0.6000971931560366,
          -1.486031394891415,
          0.6780356295432848,
          -0.850647084609868,
          -0.7909191763481986,
          -0.23213141692519007,
          0.30254579507114543,
          -0.25774803703821814,
          -0.864806103269127,
          0.9779307982259109,
          1.4997270271887482,
          0.38576071910364457,
          -0.15343101110894364,
          -0.17807514552491768,
          0.16753974472337407,
          2.7810643074164694,
          -0.2545877505673127,
          -2.06568839120565,
          0.0793872328286146,
          0.9840975443541982,
          0.010028484286677585,
          1.3588599556571423,
          0.9033906035503909,
          1.7397538308092018,
          -1.6505904365544575,
          -0.9104665692355621,
          -0.5842429898924218,
          -0.6052634377101391,
          -1.4601558788592213,
          0.4803915127520965,
          1.5593320695837987,
          -1.4698367553340614,
          1.4330013471054899
         ],
         "yaxis": "y4"
        },
        {
         "line": {
          "color": "rgba(128, 128, 128, 1.0)",
          "dash": "solid",
          "shape": "linear",
          "width": 1.3
         },
         "marker": {
          "size": 2,
          "symbol": "circle"
         },
         "mode": "markers",
         "name": "B",
         "text": "",
         "type": "scatter",
         "x": [
          1.130845712492262,
          0.29090858090579896,
          0.5443418728942426,
          1.7358613670957141,
          1.7858674247097013,
          2.239975091911653,
          -0.7258104422253708,
          -1.0083890734141534,
          1.5671072793927034,
          0.44368330163022857,
          1.4279437217482005,
          -0.19542847134855418,
          0.6495783250837226,
          -1.8525564479053875,
          -1.8317013210206905,
          0.2688055302097464,
          0.2241950646506555,
          -1.8512490625481963,
          -1.1789628154054355,
          -0.08447607823617174,
          1.8018710662549284,
          1.8638550192237273,
          -1.457619281449165,
          1.5023701046244833,
          0.15875083642391546,
          -1.2825745413625762,
          -0.36700370220642653,
          2.009438965755136,
          -0.35082956816632654,
          -2.5264442806015586,
          0.4520506026011699,
          1.053349796415361,
          -1.337921393086797,
          -1.703217926693494,
          -0.5638501489270755,
          -0.5954567092321331,
          -1.1099136610575517,
          -0.19191541317466335,
          0.7134426170015831,
          0.32410150358419915,
          -0.8094846242122693,
          -0.435180360760021,
          -1.114638346861693,
          0.44571517085451096,
          0.30105291567425035,
          1.126243453943223,
          -0.9854677281986305,
          -1.0740181122904842,
          0.8642449490267092,
          -0.6725524001753558,
          0.12937375046529564,
          -0.17861160381311486,
          0.6961674848289248,
          1.316540903055389,
          -1.642167714865581,
          0.021768851197594506,
          1.7564636931586772,
          -0.15510375128640047,
          0.37343207162224173,
          0.7067302336508653,
          -0.485082071234198,
          1.0057499990835328,
          -0.2815905462716364,
          -1.0211374845105965,
          1.4231487770717495,
          -0.418150530680779,
          -0.7941733598799346,
          0.6000971931560366,
          -1.486031394891415,
          0.6780356295432848,
          -0.850647084609868,
          -0.7909191763481986,
          -0.23213141692519007,
          0.30254579507114543,
          -0.25774803703821814,
          -0.864806103269127,
          0.9779307982259109,
          1.4997270271887482,
          0.38576071910364457,
          -0.15343101110894364,
          -0.17807514552491768,
          0.16753974472337407,
          2.7810643074164694,
          -0.2545877505673127,
          -2.06568839120565,
          0.0793872328286146,
          0.9840975443541982,
          0.010028484286677585,
          1.3588599556571423,
          0.9033906035503909,
          1.7397538308092018,
          -1.6505904365544575,
          -0.9104665692355621,
          -0.5842429898924218,
          -0.6052634377101391,
          -1.4601558788592213,
          0.4803915127520965,
          1.5593320695837987,
          -1.4698367553340614,
          1.4330013471054899
         ],
         "xaxis": "x5",
         "y": [
          0.23652795715850095,
          0.9786252446269585,
          -0.056640727346602984,
          -0.4349614120408051,
          -1.1743745916427208,
          -1.7620572065461984,
          0.7325959124175713,
          0.1436936439226743,
          -0.27555908546868524,
          -0.6004006655887814,
          2.2159144648890776,
          0.08608978276712356,
          0.787950574108897,
          1.8106167453268054,
          2.4071514142948183,
          2.33367917977407,
          -0.17043217921907472,
          -0.559544769568131,
          -0.3178320644256901,
          2.509342474661557,
          1.6186307486022546,
          0.8786467053313886,
          -2.4577734110446294,
          -1.723113261937718,
          1.0630824675324746,
          1.0158760542547436,
          1.0189349600993107,
          -0.3817479819618662,
          0.41427726947199267,
          0.8214587697950845,
          1.0961179004626964,
          -0.02395423145642322,
          2.453520862724082,
          -0.7487812489224189,
          0.3484817423218347,
          1.338685675875985,
          0.609700505772461,
          0.23042070231077016,
          0.16547523004146747,
          -0.007048318221612886,
          0.04377525645156575,
          -1.2254831762534104,
          -1.2716014700390135,
          1.1854902788751958,
          1.0204780867900345,
          -0.2797897504487051,
          0.5751999998812791,
          1.6316023675903262,
          0.241498202612012,
          -1.2747224650227431,
          1.2306792456818112,
          0.04918728639549364,
          -0.6267357295715503,
          -1.0328247251819862,
          -0.21390591230657377,
          -2.1024897464833634,
          0.7228779583486531,
          0.5302717891134512,
          -1.5775394290688414,
          -0.415429850639412,
          0.5300885926311383,
          2.3249698282209206,
          -0.5302853090578974,
          -0.1607185484274797,
          -1.8503104351340782,
          0.10131805939089251,
          -0.7016834707334093,
          -0.3825560695099959,
          0.7376388884807465,
          -2.0494397850365798,
          -0.19660738375712236,
          -0.8254237463636193,
          1.7437396924983983,
          -1.5808309939799807,
          -1.0801497191966087,
          -1.004795523337831,
          0.19520188171432185,
          -2.1505906126573042,
          -1.1388250512228844,
          0.30377275412624555,
          0.9654030967031015,
          -0.6904492808008851,
          -1.2394975127933738,
          1.688538507633855,
          -0.36937543766446557,
          0.10375780520719564,
          -1.3632005282097133,
          0.6048151613707982,
          1.4876719169952275,
          0.40539115031188144,
          0.44834205032416385,
          1.2619773103140894,
          0.04662622163307223,
          1.4178646602998692,
          -0.34837797827909456,
          -0.5825818391151043,
          -0.6417193383973584,
          0.5770926164852495,
          -0.2713554315778967,
          0.9846044901362248
         ],
         "yaxis": "y5"
        },
        {
         "histfunc": "count",
         "histnorm": "",
         "marker": {
          "color": "rgba(55, 128, 191, 1.0)",
          "line": {
           "color": "#4D5663",
           "width": 1.3
          }
         },
         "name": "B",
         "nbinsx": 10,
         "opacity": 0.8,
         "orientation": "v",
         "type": "histogram",
         "x": [
          0.23652795715850095,
          0.9786252446269585,
          -0.056640727346602984,
          -0.4349614120408051,
          -1.1743745916427208,
          -1.7620572065461984,
          0.7325959124175713,
          0.1436936439226743,
          -0.27555908546868524,
          -0.6004006655887814,
          2.2159144648890776,
          0.08608978276712356,
          0.787950574108897,
          1.8106167453268054,
          2.4071514142948183,
          2.33367917977407,
          -0.17043217921907472,
          -0.559544769568131,
          -0.3178320644256901,
          2.509342474661557,
          1.6186307486022546,
          0.8786467053313886,
          -2.4577734110446294,
          -1.723113261937718,
          1.0630824675324746,
          1.0158760542547436,
          1.0189349600993107,
          -0.3817479819618662,
          0.41427726947199267,
          0.8214587697950845,
          1.0961179004626964,
          -0.02395423145642322,
          2.453520862724082,
          -0.7487812489224189,
          0.3484817423218347,
          1.338685675875985,
          0.609700505772461,
          0.23042070231077016,
          0.16547523004146747,
          -0.007048318221612886,
          0.04377525645156575,
          -1.2254831762534104,
          -1.2716014700390135,
          1.1854902788751958,
          1.0204780867900345,
          -0.2797897504487051,
          0.5751999998812791,
          1.6316023675903262,
          0.241498202612012,
          -1.2747224650227431,
          1.2306792456818112,
          0.04918728639549364,
          -0.6267357295715503,
          -1.0328247251819862,
          -0.21390591230657377,
          -2.1024897464833634,
          0.7228779583486531,
          0.5302717891134512,
          -1.5775394290688414,
          -0.415429850639412,
          0.5300885926311383,
          2.3249698282209206,
          -0.5302853090578974,
          -0.1607185484274797,
          -1.8503104351340782,
          0.10131805939089251,
          -0.7016834707334093,
          -0.3825560695099959,
          0.7376388884807465,
          -2.0494397850365798,
          -0.19660738375712236,
          -0.8254237463636193,
          1.7437396924983983,
          -1.5808309939799807,
          -1.0801497191966087,
          -1.004795523337831,
          0.19520188171432185,
          -2.1505906126573042,
          -1.1388250512228844,
          0.30377275412624555,
          0.9654030967031015,
          -0.6904492808008851,
          -1.2394975127933738,
          1.688538507633855,
          -0.36937543766446557,
          0.10375780520719564,
          -1.3632005282097133,
          0.6048151613707982,
          1.4876719169952275,
          0.40539115031188144,
          0.44834205032416385,
          1.2619773103140894,
          0.04662622163307223,
          1.4178646602998692,
          -0.34837797827909456,
          -0.5825818391151043,
          -0.6417193383973584,
          0.5770926164852495,
          -0.2713554315778967,
          0.9846044901362248
         ],
         "xaxis": "x6",
         "yaxis": "y6"
        },
        {
         "line": {
          "color": "rgba(128, 128, 128, 1.0)",
          "dash": "solid",
          "shape": "linear",
          "width": 1.3
         },
         "marker": {
          "size": 2,
          "symbol": "circle"
         },
         "mode": "markers",
         "name": "B",
         "text": "",
         "type": "scatter",
         "x": [
          -0.21311246950304963,
          -1.529560530346163,
          -0.04382339405540149,
          1.7120032347526841,
          -0.5052871728050125,
          1.3481306829335056,
          -0.10229400738107963,
          -0.7909277687807327,
          -0.13573531994964114,
          -0.7722606859392372,
          -0.1207427189013049,
          0.8377161381427785,
          0.5452904579479728,
          -2.167400272482735,
          0.30042720370197507,
          -0.23527331426232284,
          -0.13253340097047567,
          0.42977275187718267,
          -1.0623325313950225,
          0.48921669855275135,
          -0.781679686062041,
          0.3749447719814966,
          0.38052933568895425,
          0.9301651941714983,
          -0.8289096572939771,
          -0.6871148266891447,
          -0.019644830569319885,
          0.282102101624757,
          0.013039083541873003,
          1.8177994255525676,
          1.7531283316553863,
          0.8749113202296902,
          0.2967474888602414,
          -0.9537224391394447,
          0.9856497274001167,
          1.1710435051912944,
          -0.4630654928584813,
          2.4194939093898657,
          0.9425119594143709,
          0.1649564183898731,
          1.8151450938840725,
          0.5904571955385716,
          0.24872657299419806,
          -1.5487329028028218,
          0.398555443258038,
          -0.34160478208023676,
          0.6977703426430761,
          0.972554661537134,
          -1.399207243781892,
          0.9612176236133417,
          0.08618194123064749,
          -1.9073851377811182,
          -1.4005215816957075,
          0.37902959543592274,
          -0.004721074693959253,
          -0.5031899230246994,
          -1.3718084041585845,
          -0.1909366029729316,
          0.3157921086958649,
          0.3556339465695189,
          -0.5470017149654753,
          -0.8533711658007316,
          -0.4320044471220337,
          0.3613069238282116,
          1.1802824843302182,
          0.5632028509598241,
          0.45115452963018016,
          -1.3536524054345758,
          0.9729641136947345,
          1.0274602826700567,
          -0.6833826563430853,
          0.7163163276488466,
          -0.818003102749678,
          0.347711004323119,
          -0.5389095631279465,
          -0.7685333033162957,
          1.0139021177845278,
          0.19701541086934685,
          1.658024335299792,
          0.2416289980993996,
          0.7300223266625182,
          -0.7754806070939958,
          0.14830514892469085,
          0.7703181348561166,
          -0.6097366402493314,
          0.4110699608590679,
          1.6954397429713661,
          -0.5097652036455229,
          -2.043725864436495,
          0.2300920304204776,
          0.3108918032329613,
          -1.9763287655093127,
          -2.7172603434406697,
          0.49375245257546374,
          -0.29904843679404947,
          0.037310998044508166,
          0.8399062735487826,
          1.1692830451259553,
          0.2842201799764509,
          -0.5850754702007915
         ],
         "xaxis": "x7",
         "y": [
          0.23652795715850095,
          0.9786252446269585,
          -0.056640727346602984,
          -0.4349614120408051,
          -1.1743745916427208,
          -1.7620572065461984,
          0.7325959124175713,
          0.1436936439226743,
          -0.27555908546868524,
          -0.6004006655887814,
          2.2159144648890776,
          0.08608978276712356,
          0.787950574108897,
          1.8106167453268054,
          2.4071514142948183,
          2.33367917977407,
          -0.17043217921907472,
          -0.559544769568131,
          -0.3178320644256901,
          2.509342474661557,
          1.6186307486022546,
          0.8786467053313886,
          -2.4577734110446294,
          -1.723113261937718,
          1.0630824675324746,
          1.0158760542547436,
          1.0189349600993107,
          -0.3817479819618662,
          0.41427726947199267,
          0.8214587697950845,
          1.0961179004626964,
          -0.02395423145642322,
          2.453520862724082,
          -0.7487812489224189,
          0.3484817423218347,
          1.338685675875985,
          0.609700505772461,
          0.23042070231077016,
          0.16547523004146747,
          -0.007048318221612886,
          0.04377525645156575,
          -1.2254831762534104,
          -1.2716014700390135,
          1.1854902788751958,
          1.0204780867900345,
          -0.2797897504487051,
          0.5751999998812791,
          1.6316023675903262,
          0.241498202612012,
          -1.2747224650227431,
          1.2306792456818112,
          0.04918728639549364,
          -0.6267357295715503,
          -1.0328247251819862,
          -0.21390591230657377,
          -2.1024897464833634,
          0.7228779583486531,
          0.5302717891134512,
          -1.5775394290688414,
          -0.415429850639412,
          0.5300885926311383,
          2.3249698282209206,
          -0.5302853090578974,
          -0.1607185484274797,
          -1.8503104351340782,
          0.10131805939089251,
          -0.7016834707334093,
          -0.3825560695099959,
          0.7376388884807465,
          -2.0494397850365798,
          -0.19660738375712236,
          -0.8254237463636193,
          1.7437396924983983,
          -1.5808309939799807,
          -1.0801497191966087,
          -1.004795523337831,
          0.19520188171432185,
          -2.1505906126573042,
          -1.1388250512228844,
          0.30377275412624555,
          0.9654030967031015,
          -0.6904492808008851,
          -1.2394975127933738,
          1.688538507633855,
          -0.36937543766446557,
          0.10375780520719564,
          -1.3632005282097133,
          0.6048151613707982,
          1.4876719169952275,
          0.40539115031188144,
          0.44834205032416385,
          1.2619773103140894,
          0.04662622163307223,
          1.4178646602998692,
          -0.34837797827909456,
          -0.5825818391151043,
          -0.6417193383973584,
          0.5770926164852495,
          -0.2713554315778967,
          0.9846044901362248
         ],
         "yaxis": "y7"
        },
        {
         "line": {
          "color": "rgba(128, 128, 128, 1.0)",
          "dash": "solid",
          "shape": "linear",
          "width": 1.3
         },
         "marker": {
          "size": 2,
          "symbol": "circle"
         },
         "mode": "markers",
         "name": "B",
         "text": "",
         "type": "scatter",
         "x": [
          -0.9263421858354252,
          1.0089605092736589,
          -1.4126288069950836,
          -0.3128180524264982,
          0.5759813388780815,
          0.5865047780916537,
          -0.18010073782437808,
          0.2902163636378381,
          -0.3341486581264862,
          0.15126807326324673,
          1.2407539381226094,
          0.2712024147330501,
          -1.5173914346086523,
          0.5428102661504568,
          2.50855518644812,
          -1.3741523190793863,
          -2.545099978976458,
          1.6854998436569686,
          0.34174704848438364,
          -1.6141508826698137,
          0.31236979166037354,
          2.769412610519902,
          0.5046646813328352,
          0.5053015674869329,
          0.9274909000401901,
          -0.5019083981889986,
          0.7087355516473482,
          0.11806280356943424,
          -0.8452471428033387,
          0.5769894059191689,
          -0.6813838390607431,
          -1.1583036579886195,
          -0.6505244116741078,
          2.023584343361356,
          -0.25235082101857387,
          1.395031132171996,
          0.07132390676869711,
          0.2275997019586433,
          -0.08808844458835065,
          0.8666395624624843,
          -0.005651046525600137,
          -0.8653021271277517,
          1.7431423471332843,
          0.5968060309100391,
          0.4391154161742208,
          0.7700360003189158,
          -0.4678612669403774,
          -2.5440479930785096,
          0.12364447176750859,
          -2.013235045544761,
          0.48826325036844737,
          -0.20241628194011885,
          1.4078212665030982,
          0.0022331587754811392,
          -0.4363694167240868,
          0.7293335211058297,
          -2.66390387356197,
          0.3138419244279987,
          0.1993735498987132,
          2.2997449025116055,
          -0.9473420202353887,
          0.6146860915137558,
          0.847097685466464,
          0.6937577786868215,
          -0.8772763160975026,
          -0.14820203955806494,
          -0.2542666176505652,
          1.163358145460446,
          0.3447303434241479,
          -0.3713394743415375,
          -0.4967739249970844,
          -1.5930817595972415,
          -0.7548379291418051,
          0.04233763630469865,
          0.9765980497675307,
          0.5139565100686533,
          0.5549093050500333,
          -0.10864092609421092,
          0.48411594860869195,
          1.064533904839239,
          0.787163681660531,
          1.416264320581946,
          -1.5467365370333777,
          -0.9382483777776369,
          0.9401444902950655,
          -1.2098782814514695,
          1.7131672315036837,
          -0.2704015746928047,
          0.7743242672167366,
          0.5855268469018194,
          -0.3693224781195801,
          0.7195773860987406,
          0.3818210369456319,
          -0.2397280528350369,
          0.13177623835449803,
          0.2584201082081484,
          0.7678786952185552,
          0.08363024535437466,
          -1.7418187305046389,
          1.2200571727812781
         ],
         "xaxis": "x8",
         "y": [
          0.23652795715850095,
          0.9786252446269585,
          -0.056640727346602984,
          -0.4349614120408051,
          -1.1743745916427208,
          -1.7620572065461984,
          0.7325959124175713,
          0.1436936439226743,
          -0.27555908546868524,
          -0.6004006655887814,
          2.2159144648890776,
          0.08608978276712356,
          0.787950574108897,
          1.8106167453268054,
          2.4071514142948183,
          2.33367917977407,
          -0.17043217921907472,
          -0.559544769568131,
          -0.3178320644256901,
          2.509342474661557,
          1.6186307486022546,
          0.8786467053313886,
          -2.4577734110446294,
          -1.723113261937718,
          1.0630824675324746,
          1.0158760542547436,
          1.0189349600993107,
          -0.3817479819618662,
          0.41427726947199267,
          0.8214587697950845,
          1.0961179004626964,
          -0.02395423145642322,
          2.453520862724082,
          -0.7487812489224189,
          0.3484817423218347,
          1.338685675875985,
          0.609700505772461,
          0.23042070231077016,
          0.16547523004146747,
          -0.007048318221612886,
          0.04377525645156575,
          -1.2254831762534104,
          -1.2716014700390135,
          1.1854902788751958,
          1.0204780867900345,
          -0.2797897504487051,
          0.5751999998812791,
          1.6316023675903262,
          0.241498202612012,
          -1.2747224650227431,
          1.2306792456818112,
          0.04918728639549364,
          -0.6267357295715503,
          -1.0328247251819862,
          -0.21390591230657377,
          -2.1024897464833634,
          0.7228779583486531,
          0.5302717891134512,
          -1.5775394290688414,
          -0.415429850639412,
          0.5300885926311383,
          2.3249698282209206,
          -0.5302853090578974,
          -0.1607185484274797,
          -1.8503104351340782,
          0.10131805939089251,
          -0.7016834707334093,
          -0.3825560695099959,
          0.7376388884807465,
          -2.0494397850365798,
          -0.19660738375712236,
          -0.8254237463636193,
          1.7437396924983983,
          -1.5808309939799807,
          -1.0801497191966087,
          -1.004795523337831,
          0.19520188171432185,
          -2.1505906126573042,
          -1.1388250512228844,
          0.30377275412624555,
          0.9654030967031015,
          -0.6904492808008851,
          -1.2394975127933738,
          1.688538507633855,
          -0.36937543766446557,
          0.10375780520719564,
          -1.3632005282097133,
          0.6048151613707982,
          1.4876719169952275,
          0.40539115031188144,
          0.44834205032416385,
          1.2619773103140894,
          0.04662622163307223,
          1.4178646602998692,
          -0.34837797827909456,
          -0.5825818391151043,
          -0.6417193383973584,
          0.5770926164852495,
          -0.2713554315778967,
          0.9846044901362248
         ],
         "yaxis": "y8"
        },
        {
         "line": {
          "color": "rgba(128, 128, 128, 1.0)",
          "dash": "solid",
          "shape": "linear",
          "width": 1.3
         },
         "marker": {
          "size": 2,
          "symbol": "circle"
         },
         "mode": "markers",
         "name": "C",
         "text": "",
         "type": "scatter",
         "x": [
          1.130845712492262,
          0.29090858090579896,
          0.5443418728942426,
          1.7358613670957141,
          1.7858674247097013,
          2.239975091911653,
          -0.7258104422253708,
          -1.0083890734141534,
          1.5671072793927034,
          0.44368330163022857,
          1.4279437217482005,
          -0.19542847134855418,
          0.6495783250837226,
          -1.8525564479053875,
          -1.8317013210206905,
          0.2688055302097464,
          0.2241950646506555,
          -1.8512490625481963,
          -1.1789628154054355,
          -0.08447607823617174,
          1.8018710662549284,
          1.8638550192237273,
          -1.457619281449165,
          1.5023701046244833,
          0.15875083642391546,
          -1.2825745413625762,
          -0.36700370220642653,
          2.009438965755136,
          -0.35082956816632654,
          -2.5264442806015586,
          0.4520506026011699,
          1.053349796415361,
          -1.337921393086797,
          -1.703217926693494,
          -0.5638501489270755,
          -0.5954567092321331,
          -1.1099136610575517,
          -0.19191541317466335,
          0.7134426170015831,
          0.32410150358419915,
          -0.8094846242122693,
          -0.435180360760021,
          -1.114638346861693,
          0.44571517085451096,
          0.30105291567425035,
          1.126243453943223,
          -0.9854677281986305,
          -1.0740181122904842,
          0.8642449490267092,
          -0.6725524001753558,
          0.12937375046529564,
          -0.17861160381311486,
          0.6961674848289248,
          1.316540903055389,
          -1.642167714865581,
          0.021768851197594506,
          1.7564636931586772,
          -0.15510375128640047,
          0.37343207162224173,
          0.7067302336508653,
          -0.485082071234198,
          1.0057499990835328,
          -0.2815905462716364,
          -1.0211374845105965,
          1.4231487770717495,
          -0.418150530680779,
          -0.7941733598799346,
          0.6000971931560366,
          -1.486031394891415,
          0.6780356295432848,
          -0.850647084609868,
          -0.7909191763481986,
          -0.23213141692519007,
          0.30254579507114543,
          -0.25774803703821814,
          -0.864806103269127,
          0.9779307982259109,
          1.4997270271887482,
          0.38576071910364457,
          -0.15343101110894364,
          -0.17807514552491768,
          0.16753974472337407,
          2.7810643074164694,
          -0.2545877505673127,
          -2.06568839120565,
          0.0793872328286146,
          0.9840975443541982,
          0.010028484286677585,
          1.3588599556571423,
          0.9033906035503909,
          1.7397538308092018,
          -1.6505904365544575,
          -0.9104665692355621,
          -0.5842429898924218,
          -0.6052634377101391,
          -1.4601558788592213,
          0.4803915127520965,
          1.5593320695837987,
          -1.4698367553340614,
          1.4330013471054899
         ],
         "xaxis": "x9",
         "y": [
          -0.21311246950304963,
          -1.529560530346163,
          -0.04382339405540149,
          1.7120032347526841,
          -0.5052871728050125,
          1.3481306829335056,
          -0.10229400738107963,
          -0.7909277687807327,
          -0.13573531994964114,
          -0.7722606859392372,
          -0.1207427189013049,
          0.8377161381427785,
          0.5452904579479728,
          -2.167400272482735,
          0.30042720370197507,
          -0.23527331426232284,
          -0.13253340097047567,
          0.42977275187718267,
          -1.0623325313950225,
          0.48921669855275135,
          -0.781679686062041,
          0.3749447719814966,
          0.38052933568895425,
          0.9301651941714983,
          -0.8289096572939771,
          -0.6871148266891447,
          -0.019644830569319885,
          0.282102101624757,
          0.013039083541873003,
          1.8177994255525676,
          1.7531283316553863,
          0.8749113202296902,
          0.2967474888602414,
          -0.9537224391394447,
          0.9856497274001167,
          1.1710435051912944,
          -0.4630654928584813,
          2.4194939093898657,
          0.9425119594143709,
          0.1649564183898731,
          1.8151450938840725,
          0.5904571955385716,
          0.24872657299419806,
          -1.5487329028028218,
          0.398555443258038,
          -0.34160478208023676,
          0.6977703426430761,
          0.972554661537134,
          -1.399207243781892,
          0.9612176236133417,
          0.08618194123064749,
          -1.9073851377811182,
          -1.4005215816957075,
          0.37902959543592274,
          -0.004721074693959253,
          -0.5031899230246994,
          -1.3718084041585845,
          -0.1909366029729316,
          0.3157921086958649,
          0.3556339465695189,
          -0.5470017149654753,
          -0.8533711658007316,
          -0.4320044471220337,
          0.3613069238282116,
          1.1802824843302182,
          0.5632028509598241,
          0.45115452963018016,
          -1.3536524054345758,
          0.9729641136947345,
          1.0274602826700567,
          -0.6833826563430853,
          0.7163163276488466,
          -0.818003102749678,
          0.347711004323119,
          -0.5389095631279465,
          -0.7685333033162957,
          1.0139021177845278,
          0.19701541086934685,
          1.658024335299792,
          0.2416289980993996,
          0.7300223266625182,
          -0.7754806070939958,
          0.14830514892469085,
          0.7703181348561166,
          -0.6097366402493314,
          0.4110699608590679,
          1.6954397429713661,
          -0.5097652036455229,
          -2.043725864436495,
          0.2300920304204776,
          0.3108918032329613,
          -1.9763287655093127,
          -2.7172603434406697,
          0.49375245257546374,
          -0.29904843679404947,
          0.037310998044508166,
          0.8399062735487826,
          1.1692830451259553,
          0.2842201799764509,
          -0.5850754702007915
         ],
         "yaxis": "y9"
        },
        {
         "line": {
          "color": "rgba(128, 128, 128, 1.0)",
          "dash": "solid",
          "shape": "linear",
          "width": 1.3
         },
         "marker": {
          "size": 2,
          "symbol": "circle"
         },
         "mode": "markers",
         "name": "C",
         "text": "",
         "type": "scatter",
         "x": [
          0.23652795715850095,
          0.9786252446269585,
          -0.056640727346602984,
          -0.4349614120408051,
          -1.1743745916427208,
          -1.7620572065461984,
          0.7325959124175713,
          0.1436936439226743,
          -0.27555908546868524,
          -0.6004006655887814,
          2.2159144648890776,
          0.08608978276712356,
          0.787950574108897,
          1.8106167453268054,
          2.4071514142948183,
          2.33367917977407,
          -0.17043217921907472,
          -0.559544769568131,
          -0.3178320644256901,
          2.509342474661557,
          1.6186307486022546,
          0.8786467053313886,
          -2.4577734110446294,
          -1.723113261937718,
          1.0630824675324746,
          1.0158760542547436,
          1.0189349600993107,
          -0.3817479819618662,
          0.41427726947199267,
          0.8214587697950845,
          1.0961179004626964,
          -0.02395423145642322,
          2.453520862724082,
          -0.7487812489224189,
          0.3484817423218347,
          1.338685675875985,
          0.609700505772461,
          0.23042070231077016,
          0.16547523004146747,
          -0.007048318221612886,
          0.04377525645156575,
          -1.2254831762534104,
          -1.2716014700390135,
          1.1854902788751958,
          1.0204780867900345,
          -0.2797897504487051,
          0.5751999998812791,
          1.6316023675903262,
          0.241498202612012,
          -1.2747224650227431,
          1.2306792456818112,
          0.04918728639549364,
          -0.6267357295715503,
          -1.0328247251819862,
          -0.21390591230657377,
          -2.1024897464833634,
          0.7228779583486531,
          0.5302717891134512,
          -1.5775394290688414,
          -0.415429850639412,
          0.5300885926311383,
          2.3249698282209206,
          -0.5302853090578974,
          -0.1607185484274797,
          -1.8503104351340782,
          0.10131805939089251,
          -0.7016834707334093,
          -0.3825560695099959,
          0.7376388884807465,
          -2.0494397850365798,
          -0.19660738375712236,
          -0.8254237463636193,
          1.7437396924983983,
          -1.5808309939799807,
          -1.0801497191966087,
          -1.004795523337831,
          0.19520188171432185,
          -2.1505906126573042,
          -1.1388250512228844,
          0.30377275412624555,
          0.9654030967031015,
          -0.6904492808008851,
          -1.2394975127933738,
          1.688538507633855,
          -0.36937543766446557,
          0.10375780520719564,
          -1.3632005282097133,
          0.6048151613707982,
          1.4876719169952275,
          0.40539115031188144,
          0.44834205032416385,
          1.2619773103140894,
          0.04662622163307223,
          1.4178646602998692,
          -0.34837797827909456,
          -0.5825818391151043,
          -0.6417193383973584,
          0.5770926164852495,
          -0.2713554315778967,
          0.9846044901362248
         ],
         "xaxis": "x10",
         "y": [
          -0.21311246950304963,
          -1.529560530346163,
          -0.04382339405540149,
          1.7120032347526841,
          -0.5052871728050125,
          1.3481306829335056,
          -0.10229400738107963,
          -0.7909277687807327,
          -0.13573531994964114,
          -0.7722606859392372,
          -0.1207427189013049,
          0.8377161381427785,
          0.5452904579479728,
          -2.167400272482735,
          0.30042720370197507,
          -0.23527331426232284,
          -0.13253340097047567,
          0.42977275187718267,
          -1.0623325313950225,
          0.48921669855275135,
          -0.781679686062041,
          0.3749447719814966,
          0.38052933568895425,
          0.9301651941714983,
          -0.8289096572939771,
          -0.6871148266891447,
          -0.019644830569319885,
          0.282102101624757,
          0.013039083541873003,
          1.8177994255525676,
          1.7531283316553863,
          0.8749113202296902,
          0.2967474888602414,
          -0.9537224391394447,
          0.9856497274001167,
          1.1710435051912944,
          -0.4630654928584813,
          2.4194939093898657,
          0.9425119594143709,
          0.1649564183898731,
          1.8151450938840725,
          0.5904571955385716,
          0.24872657299419806,
          -1.5487329028028218,
          0.398555443258038,
          -0.34160478208023676,
          0.6977703426430761,
          0.972554661537134,
          -1.399207243781892,
          0.9612176236133417,
          0.08618194123064749,
          -1.9073851377811182,
          -1.4005215816957075,
          0.37902959543592274,
          -0.004721074693959253,
          -0.5031899230246994,
          -1.3718084041585845,
          -0.1909366029729316,
          0.3157921086958649,
          0.3556339465695189,
          -0.5470017149654753,
          -0.8533711658007316,
          -0.4320044471220337,
          0.3613069238282116,
          1.1802824843302182,
          0.5632028509598241,
          0.45115452963018016,
          -1.3536524054345758,
          0.9729641136947345,
          1.0274602826700567,
          -0.6833826563430853,
          0.7163163276488466,
          -0.818003102749678,
          0.347711004323119,
          -0.5389095631279465,
          -0.7685333033162957,
          1.0139021177845278,
          0.19701541086934685,
          1.658024335299792,
          0.2416289980993996,
          0.7300223266625182,
          -0.7754806070939958,
          0.14830514892469085,
          0.7703181348561166,
          -0.6097366402493314,
          0.4110699608590679,
          1.6954397429713661,
          -0.5097652036455229,
          -2.043725864436495,
          0.2300920304204776,
          0.3108918032329613,
          -1.9763287655093127,
          -2.7172603434406697,
          0.49375245257546374,
          -0.29904843679404947,
          0.037310998044508166,
          0.8399062735487826,
          1.1692830451259553,
          0.2842201799764509,
          -0.5850754702007915
         ],
         "yaxis": "y10"
        },
        {
         "histfunc": "count",
         "histnorm": "",
         "marker": {
          "color": "rgba(50, 171, 96, 1.0)",
          "line": {
           "color": "#4D5663",
           "width": 1.3
          }
         },
         "name": "C",
         "nbinsx": 10,
         "opacity": 0.8,
         "orientation": "v",
         "type": "histogram",
         "x": [
          -0.21311246950304963,
          -1.529560530346163,
          -0.04382339405540149,
          1.7120032347526841,
          -0.5052871728050125,
          1.3481306829335056,
          -0.10229400738107963,
          -0.7909277687807327,
          -0.13573531994964114,
          -0.7722606859392372,
          -0.1207427189013049,
          0.8377161381427785,
          0.5452904579479728,
          -2.167400272482735,
          0.30042720370197507,
          -0.23527331426232284,
          -0.13253340097047567,
          0.42977275187718267,
          -1.0623325313950225,
          0.48921669855275135,
          -0.781679686062041,
          0.3749447719814966,
          0.38052933568895425,
          0.9301651941714983,
          -0.8289096572939771,
          -0.6871148266891447,
          -0.019644830569319885,
          0.282102101624757,
          0.013039083541873003,
          1.8177994255525676,
          1.7531283316553863,
          0.8749113202296902,
          0.2967474888602414,
          -0.9537224391394447,
          0.9856497274001167,
          1.1710435051912944,
          -0.4630654928584813,
          2.4194939093898657,
          0.9425119594143709,
          0.1649564183898731,
          1.8151450938840725,
          0.5904571955385716,
          0.24872657299419806,
          -1.5487329028028218,
          0.398555443258038,
          -0.34160478208023676,
          0.6977703426430761,
          0.972554661537134,
          -1.399207243781892,
          0.9612176236133417,
          0.08618194123064749,
          -1.9073851377811182,
          -1.4005215816957075,
          0.37902959543592274,
          -0.004721074693959253,
          -0.5031899230246994,
          -1.3718084041585845,
          -0.1909366029729316,
          0.3157921086958649,
          0.3556339465695189,
          -0.5470017149654753,
          -0.8533711658007316,
          -0.4320044471220337,
          0.3613069238282116,
          1.1802824843302182,
          0.5632028509598241,
          0.45115452963018016,
          -1.3536524054345758,
          0.9729641136947345,
          1.0274602826700567,
          -0.6833826563430853,
          0.7163163276488466,
          -0.818003102749678,
          0.347711004323119,
          -0.5389095631279465,
          -0.7685333033162957,
          1.0139021177845278,
          0.19701541086934685,
          1.658024335299792,
          0.2416289980993996,
          0.7300223266625182,
          -0.7754806070939958,
          0.14830514892469085,
          0.7703181348561166,
          -0.6097366402493314,
          0.4110699608590679,
          1.6954397429713661,
          -0.5097652036455229,
          -2.043725864436495,
          0.2300920304204776,
          0.3108918032329613,
          -1.9763287655093127,
          -2.7172603434406697,
          0.49375245257546374,
          -0.29904843679404947,
          0.037310998044508166,
          0.8399062735487826,
          1.1692830451259553,
          0.2842201799764509,
          -0.5850754702007915
         ],
         "xaxis": "x11",
         "yaxis": "y11"
        },
        {
         "line": {
          "color": "rgba(128, 128, 128, 1.0)",
          "dash": "solid",
          "shape": "linear",
          "width": 1.3
         },
         "marker": {
          "size": 2,
          "symbol": "circle"
         },
         "mode": "markers",
         "name": "C",
         "text": "",
         "type": "scatter",
         "x": [
          -0.9263421858354252,
          1.0089605092736589,
          -1.4126288069950836,
          -0.3128180524264982,
          0.5759813388780815,
          0.5865047780916537,
          -0.18010073782437808,
          0.2902163636378381,
          -0.3341486581264862,
          0.15126807326324673,
          1.2407539381226094,
          0.2712024147330501,
          -1.5173914346086523,
          0.5428102661504568,
          2.50855518644812,
          -1.3741523190793863,
          -2.545099978976458,
          1.6854998436569686,
          0.34174704848438364,
          -1.6141508826698137,
          0.31236979166037354,
          2.769412610519902,
          0.5046646813328352,
          0.5053015674869329,
          0.9274909000401901,
          -0.5019083981889986,
          0.7087355516473482,
          0.11806280356943424,
          -0.8452471428033387,
          0.5769894059191689,
          -0.6813838390607431,
          -1.1583036579886195,
          -0.6505244116741078,
          2.023584343361356,
          -0.25235082101857387,
          1.395031132171996,
          0.07132390676869711,
          0.2275997019586433,
          -0.08808844458835065,
          0.8666395624624843,
          -0.005651046525600137,
          -0.8653021271277517,
          1.7431423471332843,
          0.5968060309100391,
          0.4391154161742208,
          0.7700360003189158,
          -0.4678612669403774,
          -2.5440479930785096,
          0.12364447176750859,
          -2.013235045544761,
          0.48826325036844737,
          -0.20241628194011885,
          1.4078212665030982,
          0.0022331587754811392,
          -0.4363694167240868,
          0.7293335211058297,
          -2.66390387356197,
          0.3138419244279987,
          0.1993735498987132,
          2.2997449025116055,
          -0.9473420202353887,
          0.6146860915137558,
          0.847097685466464,
          0.6937577786868215,
          -0.8772763160975026,
          -0.14820203955806494,
          -0.2542666176505652,
          1.163358145460446,
          0.3447303434241479,
          -0.3713394743415375,
          -0.4967739249970844,
          -1.5930817595972415,
          -0.7548379291418051,
          0.04233763630469865,
          0.9765980497675307,
          0.5139565100686533,
          0.5549093050500333,
          -0.10864092609421092,
          0.48411594860869195,
          1.064533904839239,
          0.787163681660531,
          1.416264320581946,
          -1.5467365370333777,
          -0.9382483777776369,
          0.9401444902950655,
          -1.2098782814514695,
          1.7131672315036837,
          -0.2704015746928047,
          0.7743242672167366,
          0.5855268469018194,
          -0.3693224781195801,
          0.7195773860987406,
          0.3818210369456319,
          -0.2397280528350369,
          0.13177623835449803,
          0.2584201082081484,
          0.7678786952185552,
          0.08363024535437466,
          -1.7418187305046389,
          1.2200571727812781
         ],
         "xaxis": "x12",
         "y": [
          -0.21311246950304963,
          -1.529560530346163,
          -0.04382339405540149,
          1.7120032347526841,
          -0.5052871728050125,
          1.3481306829335056,
          -0.10229400738107963,
          -0.7909277687807327,
          -0.13573531994964114,
          -0.7722606859392372,
          -0.1207427189013049,
          0.8377161381427785,
          0.5452904579479728,
          -2.167400272482735,
          0.30042720370197507,
          -0.23527331426232284,
          -0.13253340097047567,
          0.42977275187718267,
          -1.0623325313950225,
          0.48921669855275135,
          -0.781679686062041,
          0.3749447719814966,
          0.38052933568895425,
          0.9301651941714983,
          -0.8289096572939771,
          -0.6871148266891447,
          -0.019644830569319885,
          0.282102101624757,
          0.013039083541873003,
          1.8177994255525676,
          1.7531283316553863,
          0.8749113202296902,
          0.2967474888602414,
          -0.9537224391394447,
          0.9856497274001167,
          1.1710435051912944,
          -0.4630654928584813,
          2.4194939093898657,
          0.9425119594143709,
          0.1649564183898731,
          1.8151450938840725,
          0.5904571955385716,
          0.24872657299419806,
          -1.5487329028028218,
          0.398555443258038,
          -0.34160478208023676,
          0.6977703426430761,
          0.972554661537134,
          -1.399207243781892,
          0.9612176236133417,
          0.08618194123064749,
          -1.9073851377811182,
          -1.4005215816957075,
          0.37902959543592274,
          -0.004721074693959253,
          -0.5031899230246994,
          -1.3718084041585845,
          -0.1909366029729316,
          0.3157921086958649,
          0.3556339465695189,
          -0.5470017149654753,
          -0.8533711658007316,
          -0.4320044471220337,
          0.3613069238282116,
          1.1802824843302182,
          0.5632028509598241,
          0.45115452963018016,
          -1.3536524054345758,
          0.9729641136947345,
          1.0274602826700567,
          -0.6833826563430853,
          0.7163163276488466,
          -0.818003102749678,
          0.347711004323119,
          -0.5389095631279465,
          -0.7685333033162957,
          1.0139021177845278,
          0.19701541086934685,
          1.658024335299792,
          0.2416289980993996,
          0.7300223266625182,
          -0.7754806070939958,
          0.14830514892469085,
          0.7703181348561166,
          -0.6097366402493314,
          0.4110699608590679,
          1.6954397429713661,
          -0.5097652036455229,
          -2.043725864436495,
          0.2300920304204776,
          0.3108918032329613,
          -1.9763287655093127,
          -2.7172603434406697,
          0.49375245257546374,
          -0.29904843679404947,
          0.037310998044508166,
          0.8399062735487826,
          1.1692830451259553,
          0.2842201799764509,
          -0.5850754702007915
         ],
         "yaxis": "y12"
        },
        {
         "line": {
          "color": "rgba(128, 128, 128, 1.0)",
          "dash": "solid",
          "shape": "linear",
          "width": 1.3
         },
         "marker": {
          "size": 2,
          "symbol": "circle"
         },
         "mode": "markers",
         "name": "D",
         "text": "",
         "type": "scatter",
         "x": [
          1.130845712492262,
          0.29090858090579896,
          0.5443418728942426,
          1.7358613670957141,
          1.7858674247097013,
          2.239975091911653,
          -0.7258104422253708,
          -1.0083890734141534,
          1.5671072793927034,
          0.44368330163022857,
          1.4279437217482005,
          -0.19542847134855418,
          0.6495783250837226,
          -1.8525564479053875,
          -1.8317013210206905,
          0.2688055302097464,
          0.2241950646506555,
          -1.8512490625481963,
          -1.1789628154054355,
          -0.08447607823617174,
          1.8018710662549284,
          1.8638550192237273,
          -1.457619281449165,
          1.5023701046244833,
          0.15875083642391546,
          -1.2825745413625762,
          -0.36700370220642653,
          2.009438965755136,
          -0.35082956816632654,
          -2.5264442806015586,
          0.4520506026011699,
          1.053349796415361,
          -1.337921393086797,
          -1.703217926693494,
          -0.5638501489270755,
          -0.5954567092321331,
          -1.1099136610575517,
          -0.19191541317466335,
          0.7134426170015831,
          0.32410150358419915,
          -0.8094846242122693,
          -0.435180360760021,
          -1.114638346861693,
          0.44571517085451096,
          0.30105291567425035,
          1.126243453943223,
          -0.9854677281986305,
          -1.0740181122904842,
          0.8642449490267092,
          -0.6725524001753558,
          0.12937375046529564,
          -0.17861160381311486,
          0.6961674848289248,
          1.316540903055389,
          -1.642167714865581,
          0.021768851197594506,
          1.7564636931586772,
          -0.15510375128640047,
          0.37343207162224173,
          0.7067302336508653,
          -0.485082071234198,
          1.0057499990835328,
          -0.2815905462716364,
          -1.0211374845105965,
          1.4231487770717495,
          -0.418150530680779,
          -0.7941733598799346,
          0.6000971931560366,
          -1.486031394891415,
          0.6780356295432848,
          -0.850647084609868,
          -0.7909191763481986,
          -0.23213141692519007,
          0.30254579507114543,
          -0.25774803703821814,
          -0.864806103269127,
          0.9779307982259109,
          1.4997270271887482,
          0.38576071910364457,
          -0.15343101110894364,
          -0.17807514552491768,
          0.16753974472337407,
          2.7810643074164694,
          -0.2545877505673127,
          -2.06568839120565,
          0.0793872328286146,
          0.9840975443541982,
          0.010028484286677585,
          1.3588599556571423,
          0.9033906035503909,
          1.7397538308092018,
          -1.6505904365544575,
          -0.9104665692355621,
          -0.5842429898924218,
          -0.6052634377101391,
          -1.4601558788592213,
          0.4803915127520965,
          1.5593320695837987,
          -1.4698367553340614,
          1.4330013471054899
         ],
         "xaxis": "x13",
         "y": [
          -0.9263421858354252,
          1.0089605092736589,
          -1.4126288069950836,
          -0.3128180524264982,
          0.5759813388780815,
          0.5865047780916537,
          -0.18010073782437808,
          0.2902163636378381,
          -0.3341486581264862,
          0.15126807326324673,
          1.2407539381226094,
          0.2712024147330501,
          -1.5173914346086523,
          0.5428102661504568,
          2.50855518644812,
          -1.3741523190793863,
          -2.545099978976458,
          1.6854998436569686,
          0.34174704848438364,
          -1.6141508826698137,
          0.31236979166037354,
          2.769412610519902,
          0.5046646813328352,
          0.5053015674869329,
          0.9274909000401901,
          -0.5019083981889986,
          0.7087355516473482,
          0.11806280356943424,
          -0.8452471428033387,
          0.5769894059191689,
          -0.6813838390607431,
          -1.1583036579886195,
          -0.6505244116741078,
          2.023584343361356,
          -0.25235082101857387,
          1.395031132171996,
          0.07132390676869711,
          0.2275997019586433,
          -0.08808844458835065,
          0.8666395624624843,
          -0.005651046525600137,
          -0.8653021271277517,
          1.7431423471332843,
          0.5968060309100391,
          0.4391154161742208,
          0.7700360003189158,
          -0.4678612669403774,
          -2.5440479930785096,
          0.12364447176750859,
          -2.013235045544761,
          0.48826325036844737,
          -0.20241628194011885,
          1.4078212665030982,
          0.0022331587754811392,
          -0.4363694167240868,
          0.7293335211058297,
          -2.66390387356197,
          0.3138419244279987,
          0.1993735498987132,
          2.2997449025116055,
          -0.9473420202353887,
          0.6146860915137558,
          0.847097685466464,
          0.6937577786868215,
          -0.8772763160975026,
          -0.14820203955806494,
          -0.2542666176505652,
          1.163358145460446,
          0.3447303434241479,
          -0.3713394743415375,
          -0.4967739249970844,
          -1.5930817595972415,
          -0.7548379291418051,
          0.04233763630469865,
          0.9765980497675307,
          0.5139565100686533,
          0.5549093050500333,
          -0.10864092609421092,
          0.48411594860869195,
          1.064533904839239,
          0.787163681660531,
          1.416264320581946,
          -1.5467365370333777,
          -0.9382483777776369,
          0.9401444902950655,
          -1.2098782814514695,
          1.7131672315036837,
          -0.2704015746928047,
          0.7743242672167366,
          0.5855268469018194,
          -0.3693224781195801,
          0.7195773860987406,
          0.3818210369456319,
          -0.2397280528350369,
          0.13177623835449803,
          0.2584201082081484,
          0.7678786952185552,
          0.08363024535437466,
          -1.7418187305046389,
          1.2200571727812781
         ],
         "yaxis": "y13"
        },
        {
         "line": {
          "color": "rgba(128, 128, 128, 1.0)",
          "dash": "solid",
          "shape": "linear",
          "width": 1.3
         },
         "marker": {
          "size": 2,
          "symbol": "circle"
         },
         "mode": "markers",
         "name": "D",
         "text": "",
         "type": "scatter",
         "x": [
          0.23652795715850095,
          0.9786252446269585,
          -0.056640727346602984,
          -0.4349614120408051,
          -1.1743745916427208,
          -1.7620572065461984,
          0.7325959124175713,
          0.1436936439226743,
          -0.27555908546868524,
          -0.6004006655887814,
          2.2159144648890776,
          0.08608978276712356,
          0.787950574108897,
          1.8106167453268054,
          2.4071514142948183,
          2.33367917977407,
          -0.17043217921907472,
          -0.559544769568131,
          -0.3178320644256901,
          2.509342474661557,
          1.6186307486022546,
          0.8786467053313886,
          -2.4577734110446294,
          -1.723113261937718,
          1.0630824675324746,
          1.0158760542547436,
          1.0189349600993107,
          -0.3817479819618662,
          0.41427726947199267,
          0.8214587697950845,
          1.0961179004626964,
          -0.02395423145642322,
          2.453520862724082,
          -0.7487812489224189,
          0.3484817423218347,
          1.338685675875985,
          0.609700505772461,
          0.23042070231077016,
          0.16547523004146747,
          -0.007048318221612886,
          0.04377525645156575,
          -1.2254831762534104,
          -1.2716014700390135,
          1.1854902788751958,
          1.0204780867900345,
          -0.2797897504487051,
          0.5751999998812791,
          1.6316023675903262,
          0.241498202612012,
          -1.2747224650227431,
          1.2306792456818112,
          0.04918728639549364,
          -0.6267357295715503,
          -1.0328247251819862,
          -0.21390591230657377,
          -2.1024897464833634,
          0.7228779583486531,
          0.5302717891134512,
          -1.5775394290688414,
          -0.415429850639412,
          0.5300885926311383,
          2.3249698282209206,
          -0.5302853090578974,
          -0.1607185484274797,
          -1.8503104351340782,
          0.10131805939089251,
          -0.7016834707334093,
          -0.3825560695099959,
          0.7376388884807465,
          -2.0494397850365798,
          -0.19660738375712236,
          -0.8254237463636193,
          1.7437396924983983,
          -1.5808309939799807,
          -1.0801497191966087,
          -1.004795523337831,
          0.19520188171432185,
          -2.1505906126573042,
          -1.1388250512228844,
          0.30377275412624555,
          0.9654030967031015,
          -0.6904492808008851,
          -1.2394975127933738,
          1.688538507633855,
          -0.36937543766446557,
          0.10375780520719564,
          -1.3632005282097133,
          0.6048151613707982,
          1.4876719169952275,
          0.40539115031188144,
          0.44834205032416385,
          1.2619773103140894,
          0.04662622163307223,
          1.4178646602998692,
          -0.34837797827909456,
          -0.5825818391151043,
          -0.6417193383973584,
          0.5770926164852495,
          -0.2713554315778967,
          0.9846044901362248
         ],
         "xaxis": "x14",
         "y": [
          -0.9263421858354252,
          1.0089605092736589,
          -1.4126288069950836,
          -0.3128180524264982,
          0.5759813388780815,
          0.5865047780916537,
          -0.18010073782437808,
          0.2902163636378381,
          -0.3341486581264862,
          0.15126807326324673,
          1.2407539381226094,
          0.2712024147330501,
          -1.5173914346086523,
          0.5428102661504568,
          2.50855518644812,
          -1.3741523190793863,
          -2.545099978976458,
          1.6854998436569686,
          0.34174704848438364,
          -1.6141508826698137,
          0.31236979166037354,
          2.769412610519902,
          0.5046646813328352,
          0.5053015674869329,
          0.9274909000401901,
          -0.5019083981889986,
          0.7087355516473482,
          0.11806280356943424,
          -0.8452471428033387,
          0.5769894059191689,
          -0.6813838390607431,
          -1.1583036579886195,
          -0.6505244116741078,
          2.023584343361356,
          -0.25235082101857387,
          1.395031132171996,
          0.07132390676869711,
          0.2275997019586433,
          -0.08808844458835065,
          0.8666395624624843,
          -0.005651046525600137,
          -0.8653021271277517,
          1.7431423471332843,
          0.5968060309100391,
          0.4391154161742208,
          0.7700360003189158,
          -0.4678612669403774,
          -2.5440479930785096,
          0.12364447176750859,
          -2.013235045544761,
          0.48826325036844737,
          -0.20241628194011885,
          1.4078212665030982,
          0.0022331587754811392,
          -0.4363694167240868,
          0.7293335211058297,
          -2.66390387356197,
          0.3138419244279987,
          0.1993735498987132,
          2.2997449025116055,
          -0.9473420202353887,
          0.6146860915137558,
          0.847097685466464,
          0.6937577786868215,
          -0.8772763160975026,
          -0.14820203955806494,
          -0.2542666176505652,
          1.163358145460446,
          0.3447303434241479,
          -0.3713394743415375,
          -0.4967739249970844,
          -1.5930817595972415,
          -0.7548379291418051,
          0.04233763630469865,
          0.9765980497675307,
          0.5139565100686533,
          0.5549093050500333,
          -0.10864092609421092,
          0.48411594860869195,
          1.064533904839239,
          0.787163681660531,
          1.416264320581946,
          -1.5467365370333777,
          -0.9382483777776369,
          0.9401444902950655,
          -1.2098782814514695,
          1.7131672315036837,
          -0.2704015746928047,
          0.7743242672167366,
          0.5855268469018194,
          -0.3693224781195801,
          0.7195773860987406,
          0.3818210369456319,
          -0.2397280528350369,
          0.13177623835449803,
          0.2584201082081484,
          0.7678786952185552,
          0.08363024535437466,
          -1.7418187305046389,
          1.2200571727812781
         ],
         "yaxis": "y14"
        },
        {
         "line": {
          "color": "rgba(128, 128, 128, 1.0)",
          "dash": "solid",
          "shape": "linear",
          "width": 1.3
         },
         "marker": {
          "size": 2,
          "symbol": "circle"
         },
         "mode": "markers",
         "name": "D",
         "text": "",
         "type": "scatter",
         "x": [
          -0.21311246950304963,
          -1.529560530346163,
          -0.04382339405540149,
          1.7120032347526841,
          -0.5052871728050125,
          1.3481306829335056,
          -0.10229400738107963,
          -0.7909277687807327,
          -0.13573531994964114,
          -0.7722606859392372,
          -0.1207427189013049,
          0.8377161381427785,
          0.5452904579479728,
          -2.167400272482735,
          0.30042720370197507,
          -0.23527331426232284,
          -0.13253340097047567,
          0.42977275187718267,
          -1.0623325313950225,
          0.48921669855275135,
          -0.781679686062041,
          0.3749447719814966,
          0.38052933568895425,
          0.9301651941714983,
          -0.8289096572939771,
          -0.6871148266891447,
          -0.019644830569319885,
          0.282102101624757,
          0.013039083541873003,
          1.8177994255525676,
          1.7531283316553863,
          0.8749113202296902,
          0.2967474888602414,
          -0.9537224391394447,
          0.9856497274001167,
          1.1710435051912944,
          -0.4630654928584813,
          2.4194939093898657,
          0.9425119594143709,
          0.1649564183898731,
          1.8151450938840725,
          0.5904571955385716,
          0.24872657299419806,
          -1.5487329028028218,
          0.398555443258038,
          -0.34160478208023676,
          0.6977703426430761,
          0.972554661537134,
          -1.399207243781892,
          0.9612176236133417,
          0.08618194123064749,
          -1.9073851377811182,
          -1.4005215816957075,
          0.37902959543592274,
          -0.004721074693959253,
          -0.5031899230246994,
          -1.3718084041585845,
          -0.1909366029729316,
          0.3157921086958649,
          0.3556339465695189,
          -0.5470017149654753,
          -0.8533711658007316,
          -0.4320044471220337,
          0.3613069238282116,
          1.1802824843302182,
          0.5632028509598241,
          0.45115452963018016,
          -1.3536524054345758,
          0.9729641136947345,
          1.0274602826700567,
          -0.6833826563430853,
          0.7163163276488466,
          -0.818003102749678,
          0.347711004323119,
          -0.5389095631279465,
          -0.7685333033162957,
          1.0139021177845278,
          0.19701541086934685,
          1.658024335299792,
          0.2416289980993996,
          0.7300223266625182,
          -0.7754806070939958,
          0.14830514892469085,
          0.7703181348561166,
          -0.6097366402493314,
          0.4110699608590679,
          1.6954397429713661,
          -0.5097652036455229,
          -2.043725864436495,
          0.2300920304204776,
          0.3108918032329613,
          -1.9763287655093127,
          -2.7172603434406697,
          0.49375245257546374,
          -0.29904843679404947,
          0.037310998044508166,
          0.8399062735487826,
          1.1692830451259553,
          0.2842201799764509,
          -0.5850754702007915
         ],
         "xaxis": "x15",
         "y": [
          -0.9263421858354252,
          1.0089605092736589,
          -1.4126288069950836,
          -0.3128180524264982,
          0.5759813388780815,
          0.5865047780916537,
          -0.18010073782437808,
          0.2902163636378381,
          -0.3341486581264862,
          0.15126807326324673,
          1.2407539381226094,
          0.2712024147330501,
          -1.5173914346086523,
          0.5428102661504568,
          2.50855518644812,
          -1.3741523190793863,
          -2.545099978976458,
          1.6854998436569686,
          0.34174704848438364,
          -1.6141508826698137,
          0.31236979166037354,
          2.769412610519902,
          0.5046646813328352,
          0.5053015674869329,
          0.9274909000401901,
          -0.5019083981889986,
          0.7087355516473482,
          0.11806280356943424,
          -0.8452471428033387,
          0.5769894059191689,
          -0.6813838390607431,
          -1.1583036579886195,
          -0.6505244116741078,
          2.023584343361356,
          -0.25235082101857387,
          1.395031132171996,
          0.07132390676869711,
          0.2275997019586433,
          -0.08808844458835065,
          0.8666395624624843,
          -0.005651046525600137,
          -0.8653021271277517,
          1.7431423471332843,
          0.5968060309100391,
          0.4391154161742208,
          0.7700360003189158,
          -0.4678612669403774,
          -2.5440479930785096,
          0.12364447176750859,
          -2.013235045544761,
          0.48826325036844737,
          -0.20241628194011885,
          1.4078212665030982,
          0.0022331587754811392,
          -0.4363694167240868,
          0.7293335211058297,
          -2.66390387356197,
          0.3138419244279987,
          0.1993735498987132,
          2.2997449025116055,
          -0.9473420202353887,
          0.6146860915137558,
          0.847097685466464,
          0.6937577786868215,
          -0.8772763160975026,
          -0.14820203955806494,
          -0.2542666176505652,
          1.163358145460446,
          0.3447303434241479,
          -0.3713394743415375,
          -0.4967739249970844,
          -1.5930817595972415,
          -0.7548379291418051,
          0.04233763630469865,
          0.9765980497675307,
          0.5139565100686533,
          0.5549093050500333,
          -0.10864092609421092,
          0.48411594860869195,
          1.064533904839239,
          0.787163681660531,
          1.416264320581946,
          -1.5467365370333777,
          -0.9382483777776369,
          0.9401444902950655,
          -1.2098782814514695,
          1.7131672315036837,
          -0.2704015746928047,
          0.7743242672167366,
          0.5855268469018194,
          -0.3693224781195801,
          0.7195773860987406,
          0.3818210369456319,
          -0.2397280528350369,
          0.13177623835449803,
          0.2584201082081484,
          0.7678786952185552,
          0.08363024535437466,
          -1.7418187305046389,
          1.2200571727812781
         ],
         "yaxis": "y15"
        },
        {
         "histfunc": "count",
         "histnorm": "",
         "marker": {
          "color": "rgba(128, 0, 128, 1.0)",
          "line": {
           "color": "#4D5663",
           "width": 1.3
          }
         },
         "name": "D",
         "nbinsx": 10,
         "opacity": 0.8,
         "orientation": "v",
         "type": "histogram",
         "x": [
          -0.9263421858354252,
          1.0089605092736589,
          -1.4126288069950836,
          -0.3128180524264982,
          0.5759813388780815,
          0.5865047780916537,
          -0.18010073782437808,
          0.2902163636378381,
          -0.3341486581264862,
          0.15126807326324673,
          1.2407539381226094,
          0.2712024147330501,
          -1.5173914346086523,
          0.5428102661504568,
          2.50855518644812,
          -1.3741523190793863,
          -2.545099978976458,
          1.6854998436569686,
          0.34174704848438364,
          -1.6141508826698137,
          0.31236979166037354,
          2.769412610519902,
          0.5046646813328352,
          0.5053015674869329,
          0.9274909000401901,
          -0.5019083981889986,
          0.7087355516473482,
          0.11806280356943424,
          -0.8452471428033387,
          0.5769894059191689,
          -0.6813838390607431,
          -1.1583036579886195,
          -0.6505244116741078,
          2.023584343361356,
          -0.25235082101857387,
          1.395031132171996,
          0.07132390676869711,
          0.2275997019586433,
          -0.08808844458835065,
          0.8666395624624843,
          -0.005651046525600137,
          -0.8653021271277517,
          1.7431423471332843,
          0.5968060309100391,
          0.4391154161742208,
          0.7700360003189158,
          -0.4678612669403774,
          -2.5440479930785096,
          0.12364447176750859,
          -2.013235045544761,
          0.48826325036844737,
          -0.20241628194011885,
          1.4078212665030982,
          0.0022331587754811392,
          -0.4363694167240868,
          0.7293335211058297,
          -2.66390387356197,
          0.3138419244279987,
          0.1993735498987132,
          2.2997449025116055,
          -0.9473420202353887,
          0.6146860915137558,
          0.847097685466464,
          0.6937577786868215,
          -0.8772763160975026,
          -0.14820203955806494,
          -0.2542666176505652,
          1.163358145460446,
          0.3447303434241479,
          -0.3713394743415375,
          -0.4967739249970844,
          -1.5930817595972415,
          -0.7548379291418051,
          0.04233763630469865,
          0.9765980497675307,
          0.5139565100686533,
          0.5549093050500333,
          -0.10864092609421092,
          0.48411594860869195,
          1.064533904839239,
          0.787163681660531,
          1.416264320581946,
          -1.5467365370333777,
          -0.9382483777776369,
          0.9401444902950655,
          -1.2098782814514695,
          1.7131672315036837,
          -0.2704015746928047,
          0.7743242672167366,
          0.5855268469018194,
          -0.3693224781195801,
          0.7195773860987406,
          0.3818210369456319,
          -0.2397280528350369,
          0.13177623835449803,
          0.2584201082081484,
          0.7678786952185552,
          0.08363024535437466,
          -1.7418187305046389,
          1.2200571727812781
         ],
         "xaxis": "x16",
         "yaxis": "y16"
        }
       ],
       "layout": {
        "bargap": 0.02,
        "legend": {
         "bgcolor": "#F5F6F9",
         "font": {
          "color": "#4D5663"
         }
        },
        "paper_bgcolor": "#F5F6F9",
        "plot_bgcolor": "#F5F6F9",
        "showlegend": false,
        "template": {
         "data": {
          "bar": [
           {
            "error_x": {
             "color": "#2a3f5f"
            },
            "error_y": {
             "color": "#2a3f5f"
            },
            "marker": {
             "line": {
              "color": "#E5ECF6",
              "width": 0.5
             },
             "pattern": {
              "fillmode": "overlay",
              "size": 10,
              "solidity": 0.2
             }
            },
            "type": "bar"
           }
          ],
          "barpolar": [
           {
            "marker": {
             "line": {
              "color": "#E5ECF6",
              "width": 0.5
             },
             "pattern": {
              "fillmode": "overlay",
              "size": 10,
              "solidity": 0.2
             }
            },
            "type": "barpolar"
           }
          ],
          "carpet": [
           {
            "aaxis": {
             "endlinecolor": "#2a3f5f",
             "gridcolor": "white",
             "linecolor": "white",
             "minorgridcolor": "white",
             "startlinecolor": "#2a3f5f"
            },
            "baxis": {
             "endlinecolor": "#2a3f5f",
             "gridcolor": "white",
             "linecolor": "white",
             "minorgridcolor": "white",
             "startlinecolor": "#2a3f5f"
            },
            "type": "carpet"
           }
          ],
          "choropleth": [
           {
            "colorbar": {
             "outlinewidth": 0,
             "ticks": ""
            },
            "type": "choropleth"
           }
          ],
          "contour": [
           {
            "colorbar": {
             "outlinewidth": 0,
             "ticks": ""
            },
            "colorscale": [
             [
              0,
              "#0d0887"
             ],
             [
              0.1111111111111111,
              "#46039f"
             ],
             [
              0.2222222222222222,
              "#7201a8"
             ],
             [
              0.3333333333333333,
              "#9c179e"
             ],
             [
              0.4444444444444444,
              "#bd3786"
             ],
             [
              0.5555555555555556,
              "#d8576b"
             ],
             [
              0.6666666666666666,
              "#ed7953"
             ],
             [
              0.7777777777777778,
              "#fb9f3a"
             ],
             [
              0.8888888888888888,
              "#fdca26"
             ],
             [
              1,
              "#f0f921"
             ]
            ],
            "type": "contour"
           }
          ],
          "contourcarpet": [
           {
            "colorbar": {
             "outlinewidth": 0,
             "ticks": ""
            },
            "type": "contourcarpet"
           }
          ],
          "heatmap": [
           {
            "colorbar": {
             "outlinewidth": 0,
             "ticks": ""
            },
            "colorscale": [
             [
              0,
              "#0d0887"
             ],
             [
              0.1111111111111111,
              "#46039f"
             ],
             [
              0.2222222222222222,
              "#7201a8"
             ],
             [
              0.3333333333333333,
              "#9c179e"
             ],
             [
              0.4444444444444444,
              "#bd3786"
             ],
             [
              0.5555555555555556,
              "#d8576b"
             ],
             [
              0.6666666666666666,
              "#ed7953"
             ],
             [
              0.7777777777777778,
              "#fb9f3a"
             ],
             [
              0.8888888888888888,
              "#fdca26"
             ],
             [
              1,
              "#f0f921"
             ]
            ],
            "type": "heatmap"
           }
          ],
          "heatmapgl": [
           {
            "colorbar": {
             "outlinewidth": 0,
             "ticks": ""
            },
            "colorscale": [
             [
              0,
              "#0d0887"
             ],
             [
              0.1111111111111111,
              "#46039f"
             ],
             [
              0.2222222222222222,
              "#7201a8"
             ],
             [
              0.3333333333333333,
              "#9c179e"
             ],
             [
              0.4444444444444444,
              "#bd3786"
             ],
             [
              0.5555555555555556,
              "#d8576b"
             ],
             [
              0.6666666666666666,
              "#ed7953"
             ],
             [
              0.7777777777777778,
              "#fb9f3a"
             ],
             [
              0.8888888888888888,
              "#fdca26"
             ],
             [
              1,
              "#f0f921"
             ]
            ],
            "type": "heatmapgl"
           }
          ],
          "histogram": [
           {
            "marker": {
             "pattern": {
              "fillmode": "overlay",
              "size": 10,
              "solidity": 0.2
             }
            },
            "type": "histogram"
           }
          ],
          "histogram2d": [
           {
            "colorbar": {
             "outlinewidth": 0,
             "ticks": ""
            },
            "colorscale": [
             [
              0,
              "#0d0887"
             ],
             [
              0.1111111111111111,
              "#46039f"
             ],
             [
              0.2222222222222222,
              "#7201a8"
             ],
             [
              0.3333333333333333,
              "#9c179e"
             ],
             [
              0.4444444444444444,
              "#bd3786"
             ],
             [
              0.5555555555555556,
              "#d8576b"
             ],
             [
              0.6666666666666666,
              "#ed7953"
             ],
             [
              0.7777777777777778,
              "#fb9f3a"
             ],
             [
              0.8888888888888888,
              "#fdca26"
             ],
             [
              1,
              "#f0f921"
             ]
            ],
            "type": "histogram2d"
           }
          ],
          "histogram2dcontour": [
           {
            "colorbar": {
             "outlinewidth": 0,
             "ticks": ""
            },
            "colorscale": [
             [
              0,
              "#0d0887"
             ],
             [
              0.1111111111111111,
              "#46039f"
             ],
             [
              0.2222222222222222,
              "#7201a8"
             ],
             [
              0.3333333333333333,
              "#9c179e"
             ],
             [
              0.4444444444444444,
              "#bd3786"
             ],
             [
              0.5555555555555556,
              "#d8576b"
             ],
             [
              0.6666666666666666,
              "#ed7953"
             ],
             [
              0.7777777777777778,
              "#fb9f3a"
             ],
             [
              0.8888888888888888,
              "#fdca26"
             ],
             [
              1,
              "#f0f921"
             ]
            ],
            "type": "histogram2dcontour"
           }
          ],
          "mesh3d": [
           {
            "colorbar": {
             "outlinewidth": 0,
             "ticks": ""
            },
            "type": "mesh3d"
           }
          ],
          "parcoords": [
           {
            "line": {
             "colorbar": {
              "outlinewidth": 0,
              "ticks": ""
             }
            },
            "type": "parcoords"
           }
          ],
          "pie": [
           {
            "automargin": true,
            "type": "pie"
           }
          ],
          "scatter": [
           {
            "fillpattern": {
             "fillmode": "overlay",
             "size": 10,
             "solidity": 0.2
            },
            "type": "scatter"
           }
          ],
          "scatter3d": [
           {
            "line": {
             "colorbar": {
              "outlinewidth": 0,
              "ticks": ""
             }
            },
            "marker": {
             "colorbar": {
              "outlinewidth": 0,
              "ticks": ""
             }
            },
            "type": "scatter3d"
           }
          ],
          "scattercarpet": [
           {
            "marker": {
             "colorbar": {
              "outlinewidth": 0,
              "ticks": ""
             }
            },
            "type": "scattercarpet"
           }
          ],
          "scattergeo": [
           {
            "marker": {
             "colorbar": {
              "outlinewidth": 0,
              "ticks": ""
             }
            },
            "type": "scattergeo"
           }
          ],
          "scattergl": [
           {
            "marker": {
             "colorbar": {
              "outlinewidth": 0,
              "ticks": ""
             }
            },
            "type": "scattergl"
           }
          ],
          "scattermapbox": [
           {
            "marker": {
             "colorbar": {
              "outlinewidth": 0,
              "ticks": ""
             }
            },
            "type": "scattermapbox"
           }
          ],
          "scatterpolar": [
           {
            "marker": {
             "colorbar": {
              "outlinewidth": 0,
              "ticks": ""
             }
            },
            "type": "scatterpolar"
           }
          ],
          "scatterpolargl": [
           {
            "marker": {
             "colorbar": {
              "outlinewidth": 0,
              "ticks": ""
             }
            },
            "type": "scatterpolargl"
           }
          ],
          "scatterternary": [
           {
            "marker": {
             "colorbar": {
              "outlinewidth": 0,
              "ticks": ""
             }
            },
            "type": "scatterternary"
           }
          ],
          "surface": [
           {
            "colorbar": {
             "outlinewidth": 0,
             "ticks": ""
            },
            "colorscale": [
             [
              0,
              "#0d0887"
             ],
             [
              0.1111111111111111,
              "#46039f"
             ],
             [
              0.2222222222222222,
              "#7201a8"
             ],
             [
              0.3333333333333333,
              "#9c179e"
             ],
             [
              0.4444444444444444,
              "#bd3786"
             ],
             [
              0.5555555555555556,
              "#d8576b"
             ],
             [
              0.6666666666666666,
              "#ed7953"
             ],
             [
              0.7777777777777778,
              "#fb9f3a"
             ],
             [
              0.8888888888888888,
              "#fdca26"
             ],
             [
              1,
              "#f0f921"
             ]
            ],
            "type": "surface"
           }
          ],
          "table": [
           {
            "cells": {
             "fill": {
              "color": "#EBF0F8"
             },
             "line": {
              "color": "white"
             }
            },
            "header": {
             "fill": {
              "color": "#C8D4E3"
             },
             "line": {
              "color": "white"
             }
            },
            "type": "table"
           }
          ]
         },
         "layout": {
          "annotationdefaults": {
           "arrowcolor": "#2a3f5f",
           "arrowhead": 0,
           "arrowwidth": 1
          },
          "autotypenumbers": "strict",
          "coloraxis": {
           "colorbar": {
            "outlinewidth": 0,
            "ticks": ""
           }
          },
          "colorscale": {
           "diverging": [
            [
             0,
             "#8e0152"
            ],
            [
             0.1,
             "#c51b7d"
            ],
            [
             0.2,
             "#de77ae"
            ],
            [
             0.3,
             "#f1b6da"
            ],
            [
             0.4,
             "#fde0ef"
            ],
            [
             0.5,
             "#f7f7f7"
            ],
            [
             0.6,
             "#e6f5d0"
            ],
            [
             0.7,
             "#b8e186"
            ],
            [
             0.8,
             "#7fbc41"
            ],
            [
             0.9,
             "#4d9221"
            ],
            [
             1,
             "#276419"
            ]
           ],
           "sequential": [
            [
             0,
             "#0d0887"
            ],
            [
             0.1111111111111111,
             "#46039f"
            ],
            [
             0.2222222222222222,
             "#7201a8"
            ],
            [
             0.3333333333333333,
             "#9c179e"
            ],
            [
             0.4444444444444444,
             "#bd3786"
            ],
            [
             0.5555555555555556,
             "#d8576b"
            ],
            [
             0.6666666666666666,
             "#ed7953"
            ],
            [
             0.7777777777777778,
             "#fb9f3a"
            ],
            [
             0.8888888888888888,
             "#fdca26"
            ],
            [
             1,
             "#f0f921"
            ]
           ],
           "sequentialminus": [
            [
             0,
             "#0d0887"
            ],
            [
             0.1111111111111111,
             "#46039f"
            ],
            [
             0.2222222222222222,
             "#7201a8"
            ],
            [
             0.3333333333333333,
             "#9c179e"
            ],
            [
             0.4444444444444444,
             "#bd3786"
            ],
            [
             0.5555555555555556,
             "#d8576b"
            ],
            [
             0.6666666666666666,
             "#ed7953"
            ],
            [
             0.7777777777777778,
             "#fb9f3a"
            ],
            [
             0.8888888888888888,
             "#fdca26"
            ],
            [
             1,
             "#f0f921"
            ]
           ]
          },
          "colorway": [
           "#636efa",
           "#EF553B",
           "#00cc96",
           "#ab63fa",
           "#FFA15A",
           "#19d3f3",
           "#FF6692",
           "#B6E880",
           "#FF97FF",
           "#FECB52"
          ],
          "font": {
           "color": "#2a3f5f"
          },
          "geo": {
           "bgcolor": "white",
           "lakecolor": "white",
           "landcolor": "#E5ECF6",
           "showlakes": true,
           "showland": true,
           "subunitcolor": "white"
          },
          "hoverlabel": {
           "align": "left"
          },
          "hovermode": "closest",
          "mapbox": {
           "style": "light"
          },
          "paper_bgcolor": "white",
          "plot_bgcolor": "#E5ECF6",
          "polar": {
           "angularaxis": {
            "gridcolor": "white",
            "linecolor": "white",
            "ticks": ""
           },
           "bgcolor": "#E5ECF6",
           "radialaxis": {
            "gridcolor": "white",
            "linecolor": "white",
            "ticks": ""
           }
          },
          "scene": {
           "xaxis": {
            "backgroundcolor": "#E5ECF6",
            "gridcolor": "white",
            "gridwidth": 2,
            "linecolor": "white",
            "showbackground": true,
            "ticks": "",
            "zerolinecolor": "white"
           },
           "yaxis": {
            "backgroundcolor": "#E5ECF6",
            "gridcolor": "white",
            "gridwidth": 2,
            "linecolor": "white",
            "showbackground": true,
            "ticks": "",
            "zerolinecolor": "white"
           },
           "zaxis": {
            "backgroundcolor": "#E5ECF6",
            "gridcolor": "white",
            "gridwidth": 2,
            "linecolor": "white",
            "showbackground": true,
            "ticks": "",
            "zerolinecolor": "white"
           }
          },
          "shapedefaults": {
           "line": {
            "color": "#2a3f5f"
           }
          },
          "ternary": {
           "aaxis": {
            "gridcolor": "white",
            "linecolor": "white",
            "ticks": ""
           },
           "baxis": {
            "gridcolor": "white",
            "linecolor": "white",
            "ticks": ""
           },
           "bgcolor": "#E5ECF6",
           "caxis": {
            "gridcolor": "white",
            "linecolor": "white",
            "ticks": ""
           }
          },
          "title": {
           "x": 0.05
          },
          "xaxis": {
           "automargin": true,
           "gridcolor": "white",
           "linecolor": "white",
           "ticks": "",
           "title": {
            "standoff": 15
           },
           "zerolinecolor": "white",
           "zerolinewidth": 2
          },
          "yaxis": {
           "automargin": true,
           "gridcolor": "white",
           "linecolor": "white",
           "ticks": "",
           "title": {
            "standoff": 15
           },
           "zerolinecolor": "white",
           "zerolinewidth": 2
          }
         }
        },
        "title": {
         "font": {
          "color": "#4D5663"
         }
        },
        "xaxis": {
         "anchor": "y",
         "domain": [
          0,
          0.2125
         ],
         "gridcolor": "#E1E5ED",
         "showgrid": false,
         "tickfont": {
          "color": "#4D5663"
         },
         "title": {
          "font": {
           "color": "#4D5663"
          },
          "text": ""
         },
         "zerolinecolor": "#E1E5ED"
        },
        "xaxis10": {
         "anchor": "y10",
         "domain": [
          0.2625,
          0.475
         ],
         "gridcolor": "#E1E5ED",
         "showgrid": false,
         "tickfont": {
          "color": "#4D5663"
         },
         "title": {
          "font": {
           "color": "#4D5663"
          },
          "text": ""
         },
         "zerolinecolor": "#E1E5ED"
        },
        "xaxis11": {
         "anchor": "y11",
         "domain": [
          0.525,
          0.7375
         ],
         "gridcolor": "#E1E5ED",
         "showgrid": false,
         "tickfont": {
          "color": "#4D5663"
         },
         "title": {
          "font": {
           "color": "#4D5663"
          },
          "text": ""
         },
         "zerolinecolor": "#E1E5ED"
        },
        "xaxis12": {
         "anchor": "y12",
         "domain": [
          0.7875,
          1
         ],
         "gridcolor": "#E1E5ED",
         "showgrid": false,
         "tickfont": {
          "color": "#4D5663"
         },
         "title": {
          "font": {
           "color": "#4D5663"
          },
          "text": ""
         },
         "zerolinecolor": "#E1E5ED"
        },
        "xaxis13": {
         "anchor": "y13",
         "domain": [
          0,
          0.2125
         ],
         "gridcolor": "#E1E5ED",
         "showgrid": false,
         "tickfont": {
          "color": "#4D5663"
         },
         "title": {
          "font": {
           "color": "#4D5663"
          },
          "text": ""
         },
         "zerolinecolor": "#E1E5ED"
        },
        "xaxis14": {
         "anchor": "y14",
         "domain": [
          0.2625,
          0.475
         ],
         "gridcolor": "#E1E5ED",
         "showgrid": false,
         "tickfont": {
          "color": "#4D5663"
         },
         "title": {
          "font": {
           "color": "#4D5663"
          },
          "text": ""
         },
         "zerolinecolor": "#E1E5ED"
        },
        "xaxis15": {
         "anchor": "y15",
         "domain": [
          0.525,
          0.7375
         ],
         "gridcolor": "#E1E5ED",
         "showgrid": false,
         "tickfont": {
          "color": "#4D5663"
         },
         "title": {
          "font": {
           "color": "#4D5663"
          },
          "text": ""
         },
         "zerolinecolor": "#E1E5ED"
        },
        "xaxis16": {
         "anchor": "y16",
         "domain": [
          0.7875,
          1
         ],
         "gridcolor": "#E1E5ED",
         "showgrid": false,
         "tickfont": {
          "color": "#4D5663"
         },
         "title": {
          "font": {
           "color": "#4D5663"
          },
          "text": ""
         },
         "zerolinecolor": "#E1E5ED"
        },
        "xaxis2": {
         "anchor": "y2",
         "domain": [
          0.2625,
          0.475
         ],
         "gridcolor": "#E1E5ED",
         "showgrid": false,
         "tickfont": {
          "color": "#4D5663"
         },
         "title": {
          "font": {
           "color": "#4D5663"
          },
          "text": ""
         },
         "zerolinecolor": "#E1E5ED"
        },
        "xaxis3": {
         "anchor": "y3",
         "domain": [
          0.525,
          0.7375
         ],
         "gridcolor": "#E1E5ED",
         "showgrid": false,
         "tickfont": {
          "color": "#4D5663"
         },
         "title": {
          "font": {
           "color": "#4D5663"
          },
          "text": ""
         },
         "zerolinecolor": "#E1E5ED"
        },
        "xaxis4": {
         "anchor": "y4",
         "domain": [
          0.7875,
          1
         ],
         "gridcolor": "#E1E5ED",
         "showgrid": false,
         "tickfont": {
          "color": "#4D5663"
         },
         "title": {
          "font": {
           "color": "#4D5663"
          },
          "text": ""
         },
         "zerolinecolor": "#E1E5ED"
        },
        "xaxis5": {
         "anchor": "y5",
         "domain": [
          0,
          0.2125
         ],
         "gridcolor": "#E1E5ED",
         "showgrid": false,
         "tickfont": {
          "color": "#4D5663"
         },
         "title": {
          "font": {
           "color": "#4D5663"
          },
          "text": ""
         },
         "zerolinecolor": "#E1E5ED"
        },
        "xaxis6": {
         "anchor": "y6",
         "domain": [
          0.2625,
          0.475
         ],
         "gridcolor": "#E1E5ED",
         "showgrid": false,
         "tickfont": {
          "color": "#4D5663"
         },
         "title": {
          "font": {
           "color": "#4D5663"
          },
          "text": ""
         },
         "zerolinecolor": "#E1E5ED"
        },
        "xaxis7": {
         "anchor": "y7",
         "domain": [
          0.525,
          0.7375
         ],
         "gridcolor": "#E1E5ED",
         "showgrid": false,
         "tickfont": {
          "color": "#4D5663"
         },
         "title": {
          "font": {
           "color": "#4D5663"
          },
          "text": ""
         },
         "zerolinecolor": "#E1E5ED"
        },
        "xaxis8": {
         "anchor": "y8",
         "domain": [
          0.7875,
          1
         ],
         "gridcolor": "#E1E5ED",
         "showgrid": false,
         "tickfont": {
          "color": "#4D5663"
         },
         "title": {
          "font": {
           "color": "#4D5663"
          },
          "text": ""
         },
         "zerolinecolor": "#E1E5ED"
        },
        "xaxis9": {
         "anchor": "y9",
         "domain": [
          0,
          0.2125
         ],
         "gridcolor": "#E1E5ED",
         "showgrid": false,
         "tickfont": {
          "color": "#4D5663"
         },
         "title": {
          "font": {
           "color": "#4D5663"
          },
          "text": ""
         },
         "zerolinecolor": "#E1E5ED"
        },
        "yaxis": {
         "anchor": "x",
         "domain": [
          0.8025,
          1
         ],
         "gridcolor": "#E1E5ED",
         "showgrid": false,
         "tickfont": {
          "color": "#4D5663"
         },
         "title": {
          "font": {
           "color": "#4D5663"
          },
          "text": ""
         },
         "zerolinecolor": "#E1E5ED"
        },
        "yaxis10": {
         "anchor": "x10",
         "domain": [
          0.2675,
          0.465
         ],
         "gridcolor": "#E1E5ED",
         "showgrid": false,
         "tickfont": {
          "color": "#4D5663"
         },
         "title": {
          "font": {
           "color": "#4D5663"
          },
          "text": ""
         },
         "zerolinecolor": "#E1E5ED"
        },
        "yaxis11": {
         "anchor": "x11",
         "domain": [
          0.2675,
          0.465
         ],
         "gridcolor": "#E1E5ED",
         "showgrid": false,
         "tickfont": {
          "color": "#4D5663"
         },
         "title": {
          "font": {
           "color": "#4D5663"
          },
          "text": ""
         },
         "zerolinecolor": "#E1E5ED"
        },
        "yaxis12": {
         "anchor": "x12",
         "domain": [
          0.2675,
          0.465
         ],
         "gridcolor": "#E1E5ED",
         "showgrid": false,
         "tickfont": {
          "color": "#4D5663"
         },
         "title": {
          "font": {
           "color": "#4D5663"
          },
          "text": ""
         },
         "zerolinecolor": "#E1E5ED"
        },
        "yaxis13": {
         "anchor": "x13",
         "domain": [
          0,
          0.1975
         ],
         "gridcolor": "#E1E5ED",
         "showgrid": false,
         "tickfont": {
          "color": "#4D5663"
         },
         "title": {
          "font": {
           "color": "#4D5663"
          },
          "text": ""
         },
         "zerolinecolor": "#E1E5ED"
        },
        "yaxis14": {
         "anchor": "x14",
         "domain": [
          0,
          0.1975
         ],
         "gridcolor": "#E1E5ED",
         "showgrid": false,
         "tickfont": {
          "color": "#4D5663"
         },
         "title": {
          "font": {
           "color": "#4D5663"
          },
          "text": ""
         },
         "zerolinecolor": "#E1E5ED"
        },
        "yaxis15": {
         "anchor": "x15",
         "domain": [
          0,
          0.1975
         ],
         "gridcolor": "#E1E5ED",
         "showgrid": false,
         "tickfont": {
          "color": "#4D5663"
         },
         "title": {
          "font": {
           "color": "#4D5663"
          },
          "text": ""
         },
         "zerolinecolor": "#E1E5ED"
        },
        "yaxis16": {
         "anchor": "x16",
         "domain": [
          0,
          0.1975
         ],
         "gridcolor": "#E1E5ED",
         "showgrid": false,
         "tickfont": {
          "color": "#4D5663"
         },
         "title": {
          "font": {
           "color": "#4D5663"
          },
          "text": ""
         },
         "zerolinecolor": "#E1E5ED"
        },
        "yaxis2": {
         "anchor": "x2",
         "domain": [
          0.8025,
          1
         ],
         "gridcolor": "#E1E5ED",
         "showgrid": false,
         "tickfont": {
          "color": "#4D5663"
         },
         "title": {
          "font": {
           "color": "#4D5663"
          },
          "text": ""
         },
         "zerolinecolor": "#E1E5ED"
        },
        "yaxis3": {
         "anchor": "x3",
         "domain": [
          0.8025,
          1
         ],
         "gridcolor": "#E1E5ED",
         "showgrid": false,
         "tickfont": {
          "color": "#4D5663"
         },
         "title": {
          "font": {
           "color": "#4D5663"
          },
          "text": ""
         },
         "zerolinecolor": "#E1E5ED"
        },
        "yaxis4": {
         "anchor": "x4",
         "domain": [
          0.8025,
          1
         ],
         "gridcolor": "#E1E5ED",
         "showgrid": false,
         "tickfont": {
          "color": "#4D5663"
         },
         "title": {
          "font": {
           "color": "#4D5663"
          },
          "text": ""
         },
         "zerolinecolor": "#E1E5ED"
        },
        "yaxis5": {
         "anchor": "x5",
         "domain": [
          0.535,
          0.7325
         ],
         "gridcolor": "#E1E5ED",
         "showgrid": false,
         "tickfont": {
          "color": "#4D5663"
         },
         "title": {
          "font": {
           "color": "#4D5663"
          },
          "text": ""
         },
         "zerolinecolor": "#E1E5ED"
        },
        "yaxis6": {
         "anchor": "x6",
         "domain": [
          0.535,
          0.7325
         ],
         "gridcolor": "#E1E5ED",
         "showgrid": false,
         "tickfont": {
          "color": "#4D5663"
         },
         "title": {
          "font": {
           "color": "#4D5663"
          },
          "text": ""
         },
         "zerolinecolor": "#E1E5ED"
        },
        "yaxis7": {
         "anchor": "x7",
         "domain": [
          0.535,
          0.7325
         ],
         "gridcolor": "#E1E5ED",
         "showgrid": false,
         "tickfont": {
          "color": "#4D5663"
         },
         "title": {
          "font": {
           "color": "#4D5663"
          },
          "text": ""
         },
         "zerolinecolor": "#E1E5ED"
        },
        "yaxis8": {
         "anchor": "x8",
         "domain": [
          0.535,
          0.7325
         ],
         "gridcolor": "#E1E5ED",
         "showgrid": false,
         "tickfont": {
          "color": "#4D5663"
         },
         "title": {
          "font": {
           "color": "#4D5663"
          },
          "text": ""
         },
         "zerolinecolor": "#E1E5ED"
        },
        "yaxis9": {
         "anchor": "x9",
         "domain": [
          0.2675,
          0.465
         ],
         "gridcolor": "#E1E5ED",
         "showgrid": false,
         "tickfont": {
          "color": "#4D5663"
         },
         "title": {
          "font": {
           "color": "#4D5663"
          },
          "text": ""
         },
         "zerolinecolor": "#E1E5ED"
        }
       }
      },
      "text/html": [
       "<div>                            <div id=\"0f351d37-aa0c-4f6b-96bf-96d2f422fcd8\" class=\"plotly-graph-div\" style=\"height:525px; width:100%;\"></div>            <script type=\"text/javascript\">                require([\"plotly\"], function(Plotly) {                    window.PLOTLYENV=window.PLOTLYENV || {};\n",
       "                    window.PLOTLYENV.BASE_URL='https://plot.ly';                                    if (document.getElementById(\"0f351d37-aa0c-4f6b-96bf-96d2f422fcd8\")) {                    Plotly.newPlot(                        \"0f351d37-aa0c-4f6b-96bf-96d2f422fcd8\",                        [{\"histfunc\":\"count\",\"histnorm\":\"\",\"marker\":{\"color\":\"rgba(255, 153, 51, 1.0)\",\"line\":{\"color\":\"#4D5663\",\"width\":1.3}},\"name\":\"A\",\"nbinsx\":10,\"opacity\":0.8,\"orientation\":\"v\",\"x\":[1.130845712492262,0.29090858090579896,0.5443418728942426,1.7358613670957141,1.7858674247097013,2.239975091911653,-0.7258104422253708,-1.0083890734141534,1.5671072793927034,0.44368330163022857,1.4279437217482005,-0.19542847134855418,0.6495783250837226,-1.8525564479053875,-1.8317013210206905,0.2688055302097464,0.2241950646506555,-1.8512490625481963,-1.1789628154054355,-0.08447607823617174,1.8018710662549284,1.8638550192237273,-1.457619281449165,1.5023701046244833,0.15875083642391546,-1.2825745413625762,-0.36700370220642653,2.009438965755136,-0.35082956816632654,-2.5264442806015586,0.4520506026011699,1.053349796415361,-1.337921393086797,-1.703217926693494,-0.5638501489270755,-0.5954567092321331,-1.1099136610575517,-0.19191541317466335,0.7134426170015831,0.32410150358419915,-0.8094846242122693,-0.435180360760021,-1.114638346861693,0.44571517085451096,0.30105291567425035,1.126243453943223,-0.9854677281986305,-1.0740181122904842,0.8642449490267092,-0.6725524001753558,0.12937375046529564,-0.17861160381311486,0.6961674848289248,1.316540903055389,-1.642167714865581,0.021768851197594506,1.7564636931586772,-0.15510375128640047,0.37343207162224173,0.7067302336508653,-0.485082071234198,1.0057499990835328,-0.2815905462716364,-1.0211374845105965,1.4231487770717495,-0.418150530680779,-0.7941733598799346,0.6000971931560366,-1.486031394891415,0.6780356295432848,-0.850647084609868,-0.7909191763481986,-0.23213141692519007,0.30254579507114543,-0.25774803703821814,-0.864806103269127,0.9779307982259109,1.4997270271887482,0.38576071910364457,-0.15343101110894364,-0.17807514552491768,0.16753974472337407,2.7810643074164694,-0.2545877505673127,-2.06568839120565,0.0793872328286146,0.9840975443541982,0.010028484286677585,1.3588599556571423,0.9033906035503909,1.7397538308092018,-1.6505904365544575,-0.9104665692355621,-0.5842429898924218,-0.6052634377101391,-1.4601558788592213,0.4803915127520965,1.5593320695837987,-1.4698367553340614,1.4330013471054899],\"xaxis\":\"x\",\"yaxis\":\"y\",\"type\":\"histogram\"},{\"line\":{\"color\":\"rgba(128, 128, 128, 1.0)\",\"dash\":\"solid\",\"shape\":\"linear\",\"width\":1.3},\"marker\":{\"size\":2,\"symbol\":\"circle\"},\"mode\":\"markers\",\"name\":\"A\",\"text\":\"\",\"x\":[0.23652795715850095,0.9786252446269585,-0.056640727346602984,-0.4349614120408051,-1.1743745916427208,-1.7620572065461984,0.7325959124175713,0.1436936439226743,-0.27555908546868524,-0.6004006655887814,2.2159144648890776,0.08608978276712356,0.787950574108897,1.8106167453268054,2.4071514142948183,2.33367917977407,-0.17043217921907472,-0.559544769568131,-0.3178320644256901,2.509342474661557,1.6186307486022546,0.8786467053313886,-2.4577734110446294,-1.723113261937718,1.0630824675324746,1.0158760542547436,1.0189349600993107,-0.3817479819618662,0.41427726947199267,0.8214587697950845,1.0961179004626964,-0.02395423145642322,2.453520862724082,-0.7487812489224189,0.3484817423218347,1.338685675875985,0.609700505772461,0.23042070231077016,0.16547523004146747,-0.007048318221612886,0.04377525645156575,-1.2254831762534104,-1.2716014700390135,1.1854902788751958,1.0204780867900345,-0.2797897504487051,0.5751999998812791,1.6316023675903262,0.241498202612012,-1.2747224650227431,1.2306792456818112,0.04918728639549364,-0.6267357295715503,-1.0328247251819862,-0.21390591230657377,-2.1024897464833634,0.7228779583486531,0.5302717891134512,-1.5775394290688414,-0.415429850639412,0.5300885926311383,2.3249698282209206,-0.5302853090578974,-0.1607185484274797,-1.8503104351340782,0.10131805939089251,-0.7016834707334093,-0.3825560695099959,0.7376388884807465,-2.0494397850365798,-0.19660738375712236,-0.8254237463636193,1.7437396924983983,-1.5808309939799807,-1.0801497191966087,-1.004795523337831,0.19520188171432185,-2.1505906126573042,-1.1388250512228844,0.30377275412624555,0.9654030967031015,-0.6904492808008851,-1.2394975127933738,1.688538507633855,-0.36937543766446557,0.10375780520719564,-1.3632005282097133,0.6048151613707982,1.4876719169952275,0.40539115031188144,0.44834205032416385,1.2619773103140894,0.04662622163307223,1.4178646602998692,-0.34837797827909456,-0.5825818391151043,-0.6417193383973584,0.5770926164852495,-0.2713554315778967,0.9846044901362248],\"xaxis\":\"x2\",\"y\":[1.130845712492262,0.29090858090579896,0.5443418728942426,1.7358613670957141,1.7858674247097013,2.239975091911653,-0.7258104422253708,-1.0083890734141534,1.5671072793927034,0.44368330163022857,1.4279437217482005,-0.19542847134855418,0.6495783250837226,-1.8525564479053875,-1.8317013210206905,0.2688055302097464,0.2241950646506555,-1.8512490625481963,-1.1789628154054355,-0.08447607823617174,1.8018710662549284,1.8638550192237273,-1.457619281449165,1.5023701046244833,0.15875083642391546,-1.2825745413625762,-0.36700370220642653,2.009438965755136,-0.35082956816632654,-2.5264442806015586,0.4520506026011699,1.053349796415361,-1.337921393086797,-1.703217926693494,-0.5638501489270755,-0.5954567092321331,-1.1099136610575517,-0.19191541317466335,0.7134426170015831,0.32410150358419915,-0.8094846242122693,-0.435180360760021,-1.114638346861693,0.44571517085451096,0.30105291567425035,1.126243453943223,-0.9854677281986305,-1.0740181122904842,0.8642449490267092,-0.6725524001753558,0.12937375046529564,-0.17861160381311486,0.6961674848289248,1.316540903055389,-1.642167714865581,0.021768851197594506,1.7564636931586772,-0.15510375128640047,0.37343207162224173,0.7067302336508653,-0.485082071234198,1.0057499990835328,-0.2815905462716364,-1.0211374845105965,1.4231487770717495,-0.418150530680779,-0.7941733598799346,0.6000971931560366,-1.486031394891415,0.6780356295432848,-0.850647084609868,-0.7909191763481986,-0.23213141692519007,0.30254579507114543,-0.25774803703821814,-0.864806103269127,0.9779307982259109,1.4997270271887482,0.38576071910364457,-0.15343101110894364,-0.17807514552491768,0.16753974472337407,2.7810643074164694,-0.2545877505673127,-2.06568839120565,0.0793872328286146,0.9840975443541982,0.010028484286677585,1.3588599556571423,0.9033906035503909,1.7397538308092018,-1.6505904365544575,-0.9104665692355621,-0.5842429898924218,-0.6052634377101391,-1.4601558788592213,0.4803915127520965,1.5593320695837987,-1.4698367553340614,1.4330013471054899],\"yaxis\":\"y2\",\"type\":\"scatter\"},{\"line\":{\"color\":\"rgba(128, 128, 128, 1.0)\",\"dash\":\"solid\",\"shape\":\"linear\",\"width\":1.3},\"marker\":{\"size\":2,\"symbol\":\"circle\"},\"mode\":\"markers\",\"name\":\"A\",\"text\":\"\",\"x\":[-0.21311246950304963,-1.529560530346163,-0.04382339405540149,1.7120032347526841,-0.5052871728050125,1.3481306829335056,-0.10229400738107963,-0.7909277687807327,-0.13573531994964114,-0.7722606859392372,-0.1207427189013049,0.8377161381427785,0.5452904579479728,-2.167400272482735,0.30042720370197507,-0.23527331426232284,-0.13253340097047567,0.42977275187718267,-1.0623325313950225,0.48921669855275135,-0.781679686062041,0.3749447719814966,0.38052933568895425,0.9301651941714983,-0.8289096572939771,-0.6871148266891447,-0.019644830569319885,0.282102101624757,0.013039083541873003,1.8177994255525676,1.7531283316553863,0.8749113202296902,0.2967474888602414,-0.9537224391394447,0.9856497274001167,1.1710435051912944,-0.4630654928584813,2.4194939093898657,0.9425119594143709,0.1649564183898731,1.8151450938840725,0.5904571955385716,0.24872657299419806,-1.5487329028028218,0.398555443258038,-0.34160478208023676,0.6977703426430761,0.972554661537134,-1.399207243781892,0.9612176236133417,0.08618194123064749,-1.9073851377811182,-1.4005215816957075,0.37902959543592274,-0.004721074693959253,-0.5031899230246994,-1.3718084041585845,-0.1909366029729316,0.3157921086958649,0.3556339465695189,-0.5470017149654753,-0.8533711658007316,-0.4320044471220337,0.3613069238282116,1.1802824843302182,0.5632028509598241,0.45115452963018016,-1.3536524054345758,0.9729641136947345,1.0274602826700567,-0.6833826563430853,0.7163163276488466,-0.818003102749678,0.347711004323119,-0.5389095631279465,-0.7685333033162957,1.0139021177845278,0.19701541086934685,1.658024335299792,0.2416289980993996,0.7300223266625182,-0.7754806070939958,0.14830514892469085,0.7703181348561166,-0.6097366402493314,0.4110699608590679,1.6954397429713661,-0.5097652036455229,-2.043725864436495,0.2300920304204776,0.3108918032329613,-1.9763287655093127,-2.7172603434406697,0.49375245257546374,-0.29904843679404947,0.037310998044508166,0.8399062735487826,1.1692830451259553,0.2842201799764509,-0.5850754702007915],\"xaxis\":\"x3\",\"y\":[1.130845712492262,0.29090858090579896,0.5443418728942426,1.7358613670957141,1.7858674247097013,2.239975091911653,-0.7258104422253708,-1.0083890734141534,1.5671072793927034,0.44368330163022857,1.4279437217482005,-0.19542847134855418,0.6495783250837226,-1.8525564479053875,-1.8317013210206905,0.2688055302097464,0.2241950646506555,-1.8512490625481963,-1.1789628154054355,-0.08447607823617174,1.8018710662549284,1.8638550192237273,-1.457619281449165,1.5023701046244833,0.15875083642391546,-1.2825745413625762,-0.36700370220642653,2.009438965755136,-0.35082956816632654,-2.5264442806015586,0.4520506026011699,1.053349796415361,-1.337921393086797,-1.703217926693494,-0.5638501489270755,-0.5954567092321331,-1.1099136610575517,-0.19191541317466335,0.7134426170015831,0.32410150358419915,-0.8094846242122693,-0.435180360760021,-1.114638346861693,0.44571517085451096,0.30105291567425035,1.126243453943223,-0.9854677281986305,-1.0740181122904842,0.8642449490267092,-0.6725524001753558,0.12937375046529564,-0.17861160381311486,0.6961674848289248,1.316540903055389,-1.642167714865581,0.021768851197594506,1.7564636931586772,-0.15510375128640047,0.37343207162224173,0.7067302336508653,-0.485082071234198,1.0057499990835328,-0.2815905462716364,-1.0211374845105965,1.4231487770717495,-0.418150530680779,-0.7941733598799346,0.6000971931560366,-1.486031394891415,0.6780356295432848,-0.850647084609868,-0.7909191763481986,-0.23213141692519007,0.30254579507114543,-0.25774803703821814,-0.864806103269127,0.9779307982259109,1.4997270271887482,0.38576071910364457,-0.15343101110894364,-0.17807514552491768,0.16753974472337407,2.7810643074164694,-0.2545877505673127,-2.06568839120565,0.0793872328286146,0.9840975443541982,0.010028484286677585,1.3588599556571423,0.9033906035503909,1.7397538308092018,-1.6505904365544575,-0.9104665692355621,-0.5842429898924218,-0.6052634377101391,-1.4601558788592213,0.4803915127520965,1.5593320695837987,-1.4698367553340614,1.4330013471054899],\"yaxis\":\"y3\",\"type\":\"scatter\"},{\"line\":{\"color\":\"rgba(128, 128, 128, 1.0)\",\"dash\":\"solid\",\"shape\":\"linear\",\"width\":1.3},\"marker\":{\"size\":2,\"symbol\":\"circle\"},\"mode\":\"markers\",\"name\":\"A\",\"text\":\"\",\"x\":[-0.9263421858354252,1.0089605092736589,-1.4126288069950836,-0.3128180524264982,0.5759813388780815,0.5865047780916537,-0.18010073782437808,0.2902163636378381,-0.3341486581264862,0.15126807326324673,1.2407539381226094,0.2712024147330501,-1.5173914346086523,0.5428102661504568,2.50855518644812,-1.3741523190793863,-2.545099978976458,1.6854998436569686,0.34174704848438364,-1.6141508826698137,0.31236979166037354,2.769412610519902,0.5046646813328352,0.5053015674869329,0.9274909000401901,-0.5019083981889986,0.7087355516473482,0.11806280356943424,-0.8452471428033387,0.5769894059191689,-0.6813838390607431,-1.1583036579886195,-0.6505244116741078,2.023584343361356,-0.25235082101857387,1.395031132171996,0.07132390676869711,0.2275997019586433,-0.08808844458835065,0.8666395624624843,-0.005651046525600137,-0.8653021271277517,1.7431423471332843,0.5968060309100391,0.4391154161742208,0.7700360003189158,-0.4678612669403774,-2.5440479930785096,0.12364447176750859,-2.013235045544761,0.48826325036844737,-0.20241628194011885,1.4078212665030982,0.0022331587754811392,-0.4363694167240868,0.7293335211058297,-2.66390387356197,0.3138419244279987,0.1993735498987132,2.2997449025116055,-0.9473420202353887,0.6146860915137558,0.847097685466464,0.6937577786868215,-0.8772763160975026,-0.14820203955806494,-0.2542666176505652,1.163358145460446,0.3447303434241479,-0.3713394743415375,-0.4967739249970844,-1.5930817595972415,-0.7548379291418051,0.04233763630469865,0.9765980497675307,0.5139565100686533,0.5549093050500333,-0.10864092609421092,0.48411594860869195,1.064533904839239,0.787163681660531,1.416264320581946,-1.5467365370333777,-0.9382483777776369,0.9401444902950655,-1.2098782814514695,1.7131672315036837,-0.2704015746928047,0.7743242672167366,0.5855268469018194,-0.3693224781195801,0.7195773860987406,0.3818210369456319,-0.2397280528350369,0.13177623835449803,0.2584201082081484,0.7678786952185552,0.08363024535437466,-1.7418187305046389,1.2200571727812781],\"xaxis\":\"x4\",\"y\":[1.130845712492262,0.29090858090579896,0.5443418728942426,1.7358613670957141,1.7858674247097013,2.239975091911653,-0.7258104422253708,-1.0083890734141534,1.5671072793927034,0.44368330163022857,1.4279437217482005,-0.19542847134855418,0.6495783250837226,-1.8525564479053875,-1.8317013210206905,0.2688055302097464,0.2241950646506555,-1.8512490625481963,-1.1789628154054355,-0.08447607823617174,1.8018710662549284,1.8638550192237273,-1.457619281449165,1.5023701046244833,0.15875083642391546,-1.2825745413625762,-0.36700370220642653,2.009438965755136,-0.35082956816632654,-2.5264442806015586,0.4520506026011699,1.053349796415361,-1.337921393086797,-1.703217926693494,-0.5638501489270755,-0.5954567092321331,-1.1099136610575517,-0.19191541317466335,0.7134426170015831,0.32410150358419915,-0.8094846242122693,-0.435180360760021,-1.114638346861693,0.44571517085451096,0.30105291567425035,1.126243453943223,-0.9854677281986305,-1.0740181122904842,0.8642449490267092,-0.6725524001753558,0.12937375046529564,-0.17861160381311486,0.6961674848289248,1.316540903055389,-1.642167714865581,0.021768851197594506,1.7564636931586772,-0.15510375128640047,0.37343207162224173,0.7067302336508653,-0.485082071234198,1.0057499990835328,-0.2815905462716364,-1.0211374845105965,1.4231487770717495,-0.418150530680779,-0.7941733598799346,0.6000971931560366,-1.486031394891415,0.6780356295432848,-0.850647084609868,-0.7909191763481986,-0.23213141692519007,0.30254579507114543,-0.25774803703821814,-0.864806103269127,0.9779307982259109,1.4997270271887482,0.38576071910364457,-0.15343101110894364,-0.17807514552491768,0.16753974472337407,2.7810643074164694,-0.2545877505673127,-2.06568839120565,0.0793872328286146,0.9840975443541982,0.010028484286677585,1.3588599556571423,0.9033906035503909,1.7397538308092018,-1.6505904365544575,-0.9104665692355621,-0.5842429898924218,-0.6052634377101391,-1.4601558788592213,0.4803915127520965,1.5593320695837987,-1.4698367553340614,1.4330013471054899],\"yaxis\":\"y4\",\"type\":\"scatter\"},{\"line\":{\"color\":\"rgba(128, 128, 128, 1.0)\",\"dash\":\"solid\",\"shape\":\"linear\",\"width\":1.3},\"marker\":{\"size\":2,\"symbol\":\"circle\"},\"mode\":\"markers\",\"name\":\"B\",\"text\":\"\",\"x\":[1.130845712492262,0.29090858090579896,0.5443418728942426,1.7358613670957141,1.7858674247097013,2.239975091911653,-0.7258104422253708,-1.0083890734141534,1.5671072793927034,0.44368330163022857,1.4279437217482005,-0.19542847134855418,0.6495783250837226,-1.8525564479053875,-1.8317013210206905,0.2688055302097464,0.2241950646506555,-1.8512490625481963,-1.1789628154054355,-0.08447607823617174,1.8018710662549284,1.8638550192237273,-1.457619281449165,1.5023701046244833,0.15875083642391546,-1.2825745413625762,-0.36700370220642653,2.009438965755136,-0.35082956816632654,-2.5264442806015586,0.4520506026011699,1.053349796415361,-1.337921393086797,-1.703217926693494,-0.5638501489270755,-0.5954567092321331,-1.1099136610575517,-0.19191541317466335,0.7134426170015831,0.32410150358419915,-0.8094846242122693,-0.435180360760021,-1.114638346861693,0.44571517085451096,0.30105291567425035,1.126243453943223,-0.9854677281986305,-1.0740181122904842,0.8642449490267092,-0.6725524001753558,0.12937375046529564,-0.17861160381311486,0.6961674848289248,1.316540903055389,-1.642167714865581,0.021768851197594506,1.7564636931586772,-0.15510375128640047,0.37343207162224173,0.7067302336508653,-0.485082071234198,1.0057499990835328,-0.2815905462716364,-1.0211374845105965,1.4231487770717495,-0.418150530680779,-0.7941733598799346,0.6000971931560366,-1.486031394891415,0.6780356295432848,-0.850647084609868,-0.7909191763481986,-0.23213141692519007,0.30254579507114543,-0.25774803703821814,-0.864806103269127,0.9779307982259109,1.4997270271887482,0.38576071910364457,-0.15343101110894364,-0.17807514552491768,0.16753974472337407,2.7810643074164694,-0.2545877505673127,-2.06568839120565,0.0793872328286146,0.9840975443541982,0.010028484286677585,1.3588599556571423,0.9033906035503909,1.7397538308092018,-1.6505904365544575,-0.9104665692355621,-0.5842429898924218,-0.6052634377101391,-1.4601558788592213,0.4803915127520965,1.5593320695837987,-1.4698367553340614,1.4330013471054899],\"xaxis\":\"x5\",\"y\":[0.23652795715850095,0.9786252446269585,-0.056640727346602984,-0.4349614120408051,-1.1743745916427208,-1.7620572065461984,0.7325959124175713,0.1436936439226743,-0.27555908546868524,-0.6004006655887814,2.2159144648890776,0.08608978276712356,0.787950574108897,1.8106167453268054,2.4071514142948183,2.33367917977407,-0.17043217921907472,-0.559544769568131,-0.3178320644256901,2.509342474661557,1.6186307486022546,0.8786467053313886,-2.4577734110446294,-1.723113261937718,1.0630824675324746,1.0158760542547436,1.0189349600993107,-0.3817479819618662,0.41427726947199267,0.8214587697950845,1.0961179004626964,-0.02395423145642322,2.453520862724082,-0.7487812489224189,0.3484817423218347,1.338685675875985,0.609700505772461,0.23042070231077016,0.16547523004146747,-0.007048318221612886,0.04377525645156575,-1.2254831762534104,-1.2716014700390135,1.1854902788751958,1.0204780867900345,-0.2797897504487051,0.5751999998812791,1.6316023675903262,0.241498202612012,-1.2747224650227431,1.2306792456818112,0.04918728639549364,-0.6267357295715503,-1.0328247251819862,-0.21390591230657377,-2.1024897464833634,0.7228779583486531,0.5302717891134512,-1.5775394290688414,-0.415429850639412,0.5300885926311383,2.3249698282209206,-0.5302853090578974,-0.1607185484274797,-1.8503104351340782,0.10131805939089251,-0.7016834707334093,-0.3825560695099959,0.7376388884807465,-2.0494397850365798,-0.19660738375712236,-0.8254237463636193,1.7437396924983983,-1.5808309939799807,-1.0801497191966087,-1.004795523337831,0.19520188171432185,-2.1505906126573042,-1.1388250512228844,0.30377275412624555,0.9654030967031015,-0.6904492808008851,-1.2394975127933738,1.688538507633855,-0.36937543766446557,0.10375780520719564,-1.3632005282097133,0.6048151613707982,1.4876719169952275,0.40539115031188144,0.44834205032416385,1.2619773103140894,0.04662622163307223,1.4178646602998692,-0.34837797827909456,-0.5825818391151043,-0.6417193383973584,0.5770926164852495,-0.2713554315778967,0.9846044901362248],\"yaxis\":\"y5\",\"type\":\"scatter\"},{\"histfunc\":\"count\",\"histnorm\":\"\",\"marker\":{\"color\":\"rgba(55, 128, 191, 1.0)\",\"line\":{\"color\":\"#4D5663\",\"width\":1.3}},\"name\":\"B\",\"nbinsx\":10,\"opacity\":0.8,\"orientation\":\"v\",\"x\":[0.23652795715850095,0.9786252446269585,-0.056640727346602984,-0.4349614120408051,-1.1743745916427208,-1.7620572065461984,0.7325959124175713,0.1436936439226743,-0.27555908546868524,-0.6004006655887814,2.2159144648890776,0.08608978276712356,0.787950574108897,1.8106167453268054,2.4071514142948183,2.33367917977407,-0.17043217921907472,-0.559544769568131,-0.3178320644256901,2.509342474661557,1.6186307486022546,0.8786467053313886,-2.4577734110446294,-1.723113261937718,1.0630824675324746,1.0158760542547436,1.0189349600993107,-0.3817479819618662,0.41427726947199267,0.8214587697950845,1.0961179004626964,-0.02395423145642322,2.453520862724082,-0.7487812489224189,0.3484817423218347,1.338685675875985,0.609700505772461,0.23042070231077016,0.16547523004146747,-0.007048318221612886,0.04377525645156575,-1.2254831762534104,-1.2716014700390135,1.1854902788751958,1.0204780867900345,-0.2797897504487051,0.5751999998812791,1.6316023675903262,0.241498202612012,-1.2747224650227431,1.2306792456818112,0.04918728639549364,-0.6267357295715503,-1.0328247251819862,-0.21390591230657377,-2.1024897464833634,0.7228779583486531,0.5302717891134512,-1.5775394290688414,-0.415429850639412,0.5300885926311383,2.3249698282209206,-0.5302853090578974,-0.1607185484274797,-1.8503104351340782,0.10131805939089251,-0.7016834707334093,-0.3825560695099959,0.7376388884807465,-2.0494397850365798,-0.19660738375712236,-0.8254237463636193,1.7437396924983983,-1.5808309939799807,-1.0801497191966087,-1.004795523337831,0.19520188171432185,-2.1505906126573042,-1.1388250512228844,0.30377275412624555,0.9654030967031015,-0.6904492808008851,-1.2394975127933738,1.688538507633855,-0.36937543766446557,0.10375780520719564,-1.3632005282097133,0.6048151613707982,1.4876719169952275,0.40539115031188144,0.44834205032416385,1.2619773103140894,0.04662622163307223,1.4178646602998692,-0.34837797827909456,-0.5825818391151043,-0.6417193383973584,0.5770926164852495,-0.2713554315778967,0.9846044901362248],\"xaxis\":\"x6\",\"yaxis\":\"y6\",\"type\":\"histogram\"},{\"line\":{\"color\":\"rgba(128, 128, 128, 1.0)\",\"dash\":\"solid\",\"shape\":\"linear\",\"width\":1.3},\"marker\":{\"size\":2,\"symbol\":\"circle\"},\"mode\":\"markers\",\"name\":\"B\",\"text\":\"\",\"x\":[-0.21311246950304963,-1.529560530346163,-0.04382339405540149,1.7120032347526841,-0.5052871728050125,1.3481306829335056,-0.10229400738107963,-0.7909277687807327,-0.13573531994964114,-0.7722606859392372,-0.1207427189013049,0.8377161381427785,0.5452904579479728,-2.167400272482735,0.30042720370197507,-0.23527331426232284,-0.13253340097047567,0.42977275187718267,-1.0623325313950225,0.48921669855275135,-0.781679686062041,0.3749447719814966,0.38052933568895425,0.9301651941714983,-0.8289096572939771,-0.6871148266891447,-0.019644830569319885,0.282102101624757,0.013039083541873003,1.8177994255525676,1.7531283316553863,0.8749113202296902,0.2967474888602414,-0.9537224391394447,0.9856497274001167,1.1710435051912944,-0.4630654928584813,2.4194939093898657,0.9425119594143709,0.1649564183898731,1.8151450938840725,0.5904571955385716,0.24872657299419806,-1.5487329028028218,0.398555443258038,-0.34160478208023676,0.6977703426430761,0.972554661537134,-1.399207243781892,0.9612176236133417,0.08618194123064749,-1.9073851377811182,-1.4005215816957075,0.37902959543592274,-0.004721074693959253,-0.5031899230246994,-1.3718084041585845,-0.1909366029729316,0.3157921086958649,0.3556339465695189,-0.5470017149654753,-0.8533711658007316,-0.4320044471220337,0.3613069238282116,1.1802824843302182,0.5632028509598241,0.45115452963018016,-1.3536524054345758,0.9729641136947345,1.0274602826700567,-0.6833826563430853,0.7163163276488466,-0.818003102749678,0.347711004323119,-0.5389095631279465,-0.7685333033162957,1.0139021177845278,0.19701541086934685,1.658024335299792,0.2416289980993996,0.7300223266625182,-0.7754806070939958,0.14830514892469085,0.7703181348561166,-0.6097366402493314,0.4110699608590679,1.6954397429713661,-0.5097652036455229,-2.043725864436495,0.2300920304204776,0.3108918032329613,-1.9763287655093127,-2.7172603434406697,0.49375245257546374,-0.29904843679404947,0.037310998044508166,0.8399062735487826,1.1692830451259553,0.2842201799764509,-0.5850754702007915],\"xaxis\":\"x7\",\"y\":[0.23652795715850095,0.9786252446269585,-0.056640727346602984,-0.4349614120408051,-1.1743745916427208,-1.7620572065461984,0.7325959124175713,0.1436936439226743,-0.27555908546868524,-0.6004006655887814,2.2159144648890776,0.08608978276712356,0.787950574108897,1.8106167453268054,2.4071514142948183,2.33367917977407,-0.17043217921907472,-0.559544769568131,-0.3178320644256901,2.509342474661557,1.6186307486022546,0.8786467053313886,-2.4577734110446294,-1.723113261937718,1.0630824675324746,1.0158760542547436,1.0189349600993107,-0.3817479819618662,0.41427726947199267,0.8214587697950845,1.0961179004626964,-0.02395423145642322,2.453520862724082,-0.7487812489224189,0.3484817423218347,1.338685675875985,0.609700505772461,0.23042070231077016,0.16547523004146747,-0.007048318221612886,0.04377525645156575,-1.2254831762534104,-1.2716014700390135,1.1854902788751958,1.0204780867900345,-0.2797897504487051,0.5751999998812791,1.6316023675903262,0.241498202612012,-1.2747224650227431,1.2306792456818112,0.04918728639549364,-0.6267357295715503,-1.0328247251819862,-0.21390591230657377,-2.1024897464833634,0.7228779583486531,0.5302717891134512,-1.5775394290688414,-0.415429850639412,0.5300885926311383,2.3249698282209206,-0.5302853090578974,-0.1607185484274797,-1.8503104351340782,0.10131805939089251,-0.7016834707334093,-0.3825560695099959,0.7376388884807465,-2.0494397850365798,-0.19660738375712236,-0.8254237463636193,1.7437396924983983,-1.5808309939799807,-1.0801497191966087,-1.004795523337831,0.19520188171432185,-2.1505906126573042,-1.1388250512228844,0.30377275412624555,0.9654030967031015,-0.6904492808008851,-1.2394975127933738,1.688538507633855,-0.36937543766446557,0.10375780520719564,-1.3632005282097133,0.6048151613707982,1.4876719169952275,0.40539115031188144,0.44834205032416385,1.2619773103140894,0.04662622163307223,1.4178646602998692,-0.34837797827909456,-0.5825818391151043,-0.6417193383973584,0.5770926164852495,-0.2713554315778967,0.9846044901362248],\"yaxis\":\"y7\",\"type\":\"scatter\"},{\"line\":{\"color\":\"rgba(128, 128, 128, 1.0)\",\"dash\":\"solid\",\"shape\":\"linear\",\"width\":1.3},\"marker\":{\"size\":2,\"symbol\":\"circle\"},\"mode\":\"markers\",\"name\":\"B\",\"text\":\"\",\"x\":[-0.9263421858354252,1.0089605092736589,-1.4126288069950836,-0.3128180524264982,0.5759813388780815,0.5865047780916537,-0.18010073782437808,0.2902163636378381,-0.3341486581264862,0.15126807326324673,1.2407539381226094,0.2712024147330501,-1.5173914346086523,0.5428102661504568,2.50855518644812,-1.3741523190793863,-2.545099978976458,1.6854998436569686,0.34174704848438364,-1.6141508826698137,0.31236979166037354,2.769412610519902,0.5046646813328352,0.5053015674869329,0.9274909000401901,-0.5019083981889986,0.7087355516473482,0.11806280356943424,-0.8452471428033387,0.5769894059191689,-0.6813838390607431,-1.1583036579886195,-0.6505244116741078,2.023584343361356,-0.25235082101857387,1.395031132171996,0.07132390676869711,0.2275997019586433,-0.08808844458835065,0.8666395624624843,-0.005651046525600137,-0.8653021271277517,1.7431423471332843,0.5968060309100391,0.4391154161742208,0.7700360003189158,-0.4678612669403774,-2.5440479930785096,0.12364447176750859,-2.013235045544761,0.48826325036844737,-0.20241628194011885,1.4078212665030982,0.0022331587754811392,-0.4363694167240868,0.7293335211058297,-2.66390387356197,0.3138419244279987,0.1993735498987132,2.2997449025116055,-0.9473420202353887,0.6146860915137558,0.847097685466464,0.6937577786868215,-0.8772763160975026,-0.14820203955806494,-0.2542666176505652,1.163358145460446,0.3447303434241479,-0.3713394743415375,-0.4967739249970844,-1.5930817595972415,-0.7548379291418051,0.04233763630469865,0.9765980497675307,0.5139565100686533,0.5549093050500333,-0.10864092609421092,0.48411594860869195,1.064533904839239,0.787163681660531,1.416264320581946,-1.5467365370333777,-0.9382483777776369,0.9401444902950655,-1.2098782814514695,1.7131672315036837,-0.2704015746928047,0.7743242672167366,0.5855268469018194,-0.3693224781195801,0.7195773860987406,0.3818210369456319,-0.2397280528350369,0.13177623835449803,0.2584201082081484,0.7678786952185552,0.08363024535437466,-1.7418187305046389,1.2200571727812781],\"xaxis\":\"x8\",\"y\":[0.23652795715850095,0.9786252446269585,-0.056640727346602984,-0.4349614120408051,-1.1743745916427208,-1.7620572065461984,0.7325959124175713,0.1436936439226743,-0.27555908546868524,-0.6004006655887814,2.2159144648890776,0.08608978276712356,0.787950574108897,1.8106167453268054,2.4071514142948183,2.33367917977407,-0.17043217921907472,-0.559544769568131,-0.3178320644256901,2.509342474661557,1.6186307486022546,0.8786467053313886,-2.4577734110446294,-1.723113261937718,1.0630824675324746,1.0158760542547436,1.0189349600993107,-0.3817479819618662,0.41427726947199267,0.8214587697950845,1.0961179004626964,-0.02395423145642322,2.453520862724082,-0.7487812489224189,0.3484817423218347,1.338685675875985,0.609700505772461,0.23042070231077016,0.16547523004146747,-0.007048318221612886,0.04377525645156575,-1.2254831762534104,-1.2716014700390135,1.1854902788751958,1.0204780867900345,-0.2797897504487051,0.5751999998812791,1.6316023675903262,0.241498202612012,-1.2747224650227431,1.2306792456818112,0.04918728639549364,-0.6267357295715503,-1.0328247251819862,-0.21390591230657377,-2.1024897464833634,0.7228779583486531,0.5302717891134512,-1.5775394290688414,-0.415429850639412,0.5300885926311383,2.3249698282209206,-0.5302853090578974,-0.1607185484274797,-1.8503104351340782,0.10131805939089251,-0.7016834707334093,-0.3825560695099959,0.7376388884807465,-2.0494397850365798,-0.19660738375712236,-0.8254237463636193,1.7437396924983983,-1.5808309939799807,-1.0801497191966087,-1.004795523337831,0.19520188171432185,-2.1505906126573042,-1.1388250512228844,0.30377275412624555,0.9654030967031015,-0.6904492808008851,-1.2394975127933738,1.688538507633855,-0.36937543766446557,0.10375780520719564,-1.3632005282097133,0.6048151613707982,1.4876719169952275,0.40539115031188144,0.44834205032416385,1.2619773103140894,0.04662622163307223,1.4178646602998692,-0.34837797827909456,-0.5825818391151043,-0.6417193383973584,0.5770926164852495,-0.2713554315778967,0.9846044901362248],\"yaxis\":\"y8\",\"type\":\"scatter\"},{\"line\":{\"color\":\"rgba(128, 128, 128, 1.0)\",\"dash\":\"solid\",\"shape\":\"linear\",\"width\":1.3},\"marker\":{\"size\":2,\"symbol\":\"circle\"},\"mode\":\"markers\",\"name\":\"C\",\"text\":\"\",\"x\":[1.130845712492262,0.29090858090579896,0.5443418728942426,1.7358613670957141,1.7858674247097013,2.239975091911653,-0.7258104422253708,-1.0083890734141534,1.5671072793927034,0.44368330163022857,1.4279437217482005,-0.19542847134855418,0.6495783250837226,-1.8525564479053875,-1.8317013210206905,0.2688055302097464,0.2241950646506555,-1.8512490625481963,-1.1789628154054355,-0.08447607823617174,1.8018710662549284,1.8638550192237273,-1.457619281449165,1.5023701046244833,0.15875083642391546,-1.2825745413625762,-0.36700370220642653,2.009438965755136,-0.35082956816632654,-2.5264442806015586,0.4520506026011699,1.053349796415361,-1.337921393086797,-1.703217926693494,-0.5638501489270755,-0.5954567092321331,-1.1099136610575517,-0.19191541317466335,0.7134426170015831,0.32410150358419915,-0.8094846242122693,-0.435180360760021,-1.114638346861693,0.44571517085451096,0.30105291567425035,1.126243453943223,-0.9854677281986305,-1.0740181122904842,0.8642449490267092,-0.6725524001753558,0.12937375046529564,-0.17861160381311486,0.6961674848289248,1.316540903055389,-1.642167714865581,0.021768851197594506,1.7564636931586772,-0.15510375128640047,0.37343207162224173,0.7067302336508653,-0.485082071234198,1.0057499990835328,-0.2815905462716364,-1.0211374845105965,1.4231487770717495,-0.418150530680779,-0.7941733598799346,0.6000971931560366,-1.486031394891415,0.6780356295432848,-0.850647084609868,-0.7909191763481986,-0.23213141692519007,0.30254579507114543,-0.25774803703821814,-0.864806103269127,0.9779307982259109,1.4997270271887482,0.38576071910364457,-0.15343101110894364,-0.17807514552491768,0.16753974472337407,2.7810643074164694,-0.2545877505673127,-2.06568839120565,0.0793872328286146,0.9840975443541982,0.010028484286677585,1.3588599556571423,0.9033906035503909,1.7397538308092018,-1.6505904365544575,-0.9104665692355621,-0.5842429898924218,-0.6052634377101391,-1.4601558788592213,0.4803915127520965,1.5593320695837987,-1.4698367553340614,1.4330013471054899],\"xaxis\":\"x9\",\"y\":[-0.21311246950304963,-1.529560530346163,-0.04382339405540149,1.7120032347526841,-0.5052871728050125,1.3481306829335056,-0.10229400738107963,-0.7909277687807327,-0.13573531994964114,-0.7722606859392372,-0.1207427189013049,0.8377161381427785,0.5452904579479728,-2.167400272482735,0.30042720370197507,-0.23527331426232284,-0.13253340097047567,0.42977275187718267,-1.0623325313950225,0.48921669855275135,-0.781679686062041,0.3749447719814966,0.38052933568895425,0.9301651941714983,-0.8289096572939771,-0.6871148266891447,-0.019644830569319885,0.282102101624757,0.013039083541873003,1.8177994255525676,1.7531283316553863,0.8749113202296902,0.2967474888602414,-0.9537224391394447,0.9856497274001167,1.1710435051912944,-0.4630654928584813,2.4194939093898657,0.9425119594143709,0.1649564183898731,1.8151450938840725,0.5904571955385716,0.24872657299419806,-1.5487329028028218,0.398555443258038,-0.34160478208023676,0.6977703426430761,0.972554661537134,-1.399207243781892,0.9612176236133417,0.08618194123064749,-1.9073851377811182,-1.4005215816957075,0.37902959543592274,-0.004721074693959253,-0.5031899230246994,-1.3718084041585845,-0.1909366029729316,0.3157921086958649,0.3556339465695189,-0.5470017149654753,-0.8533711658007316,-0.4320044471220337,0.3613069238282116,1.1802824843302182,0.5632028509598241,0.45115452963018016,-1.3536524054345758,0.9729641136947345,1.0274602826700567,-0.6833826563430853,0.7163163276488466,-0.818003102749678,0.347711004323119,-0.5389095631279465,-0.7685333033162957,1.0139021177845278,0.19701541086934685,1.658024335299792,0.2416289980993996,0.7300223266625182,-0.7754806070939958,0.14830514892469085,0.7703181348561166,-0.6097366402493314,0.4110699608590679,1.6954397429713661,-0.5097652036455229,-2.043725864436495,0.2300920304204776,0.3108918032329613,-1.9763287655093127,-2.7172603434406697,0.49375245257546374,-0.29904843679404947,0.037310998044508166,0.8399062735487826,1.1692830451259553,0.2842201799764509,-0.5850754702007915],\"yaxis\":\"y9\",\"type\":\"scatter\"},{\"line\":{\"color\":\"rgba(128, 128, 128, 1.0)\",\"dash\":\"solid\",\"shape\":\"linear\",\"width\":1.3},\"marker\":{\"size\":2,\"symbol\":\"circle\"},\"mode\":\"markers\",\"name\":\"C\",\"text\":\"\",\"x\":[0.23652795715850095,0.9786252446269585,-0.056640727346602984,-0.4349614120408051,-1.1743745916427208,-1.7620572065461984,0.7325959124175713,0.1436936439226743,-0.27555908546868524,-0.6004006655887814,2.2159144648890776,0.08608978276712356,0.787950574108897,1.8106167453268054,2.4071514142948183,2.33367917977407,-0.17043217921907472,-0.559544769568131,-0.3178320644256901,2.509342474661557,1.6186307486022546,0.8786467053313886,-2.4577734110446294,-1.723113261937718,1.0630824675324746,1.0158760542547436,1.0189349600993107,-0.3817479819618662,0.41427726947199267,0.8214587697950845,1.0961179004626964,-0.02395423145642322,2.453520862724082,-0.7487812489224189,0.3484817423218347,1.338685675875985,0.609700505772461,0.23042070231077016,0.16547523004146747,-0.007048318221612886,0.04377525645156575,-1.2254831762534104,-1.2716014700390135,1.1854902788751958,1.0204780867900345,-0.2797897504487051,0.5751999998812791,1.6316023675903262,0.241498202612012,-1.2747224650227431,1.2306792456818112,0.04918728639549364,-0.6267357295715503,-1.0328247251819862,-0.21390591230657377,-2.1024897464833634,0.7228779583486531,0.5302717891134512,-1.5775394290688414,-0.415429850639412,0.5300885926311383,2.3249698282209206,-0.5302853090578974,-0.1607185484274797,-1.8503104351340782,0.10131805939089251,-0.7016834707334093,-0.3825560695099959,0.7376388884807465,-2.0494397850365798,-0.19660738375712236,-0.8254237463636193,1.7437396924983983,-1.5808309939799807,-1.0801497191966087,-1.004795523337831,0.19520188171432185,-2.1505906126573042,-1.1388250512228844,0.30377275412624555,0.9654030967031015,-0.6904492808008851,-1.2394975127933738,1.688538507633855,-0.36937543766446557,0.10375780520719564,-1.3632005282097133,0.6048151613707982,1.4876719169952275,0.40539115031188144,0.44834205032416385,1.2619773103140894,0.04662622163307223,1.4178646602998692,-0.34837797827909456,-0.5825818391151043,-0.6417193383973584,0.5770926164852495,-0.2713554315778967,0.9846044901362248],\"xaxis\":\"x10\",\"y\":[-0.21311246950304963,-1.529560530346163,-0.04382339405540149,1.7120032347526841,-0.5052871728050125,1.3481306829335056,-0.10229400738107963,-0.7909277687807327,-0.13573531994964114,-0.7722606859392372,-0.1207427189013049,0.8377161381427785,0.5452904579479728,-2.167400272482735,0.30042720370197507,-0.23527331426232284,-0.13253340097047567,0.42977275187718267,-1.0623325313950225,0.48921669855275135,-0.781679686062041,0.3749447719814966,0.38052933568895425,0.9301651941714983,-0.8289096572939771,-0.6871148266891447,-0.019644830569319885,0.282102101624757,0.013039083541873003,1.8177994255525676,1.7531283316553863,0.8749113202296902,0.2967474888602414,-0.9537224391394447,0.9856497274001167,1.1710435051912944,-0.4630654928584813,2.4194939093898657,0.9425119594143709,0.1649564183898731,1.8151450938840725,0.5904571955385716,0.24872657299419806,-1.5487329028028218,0.398555443258038,-0.34160478208023676,0.6977703426430761,0.972554661537134,-1.399207243781892,0.9612176236133417,0.08618194123064749,-1.9073851377811182,-1.4005215816957075,0.37902959543592274,-0.004721074693959253,-0.5031899230246994,-1.3718084041585845,-0.1909366029729316,0.3157921086958649,0.3556339465695189,-0.5470017149654753,-0.8533711658007316,-0.4320044471220337,0.3613069238282116,1.1802824843302182,0.5632028509598241,0.45115452963018016,-1.3536524054345758,0.9729641136947345,1.0274602826700567,-0.6833826563430853,0.7163163276488466,-0.818003102749678,0.347711004323119,-0.5389095631279465,-0.7685333033162957,1.0139021177845278,0.19701541086934685,1.658024335299792,0.2416289980993996,0.7300223266625182,-0.7754806070939958,0.14830514892469085,0.7703181348561166,-0.6097366402493314,0.4110699608590679,1.6954397429713661,-0.5097652036455229,-2.043725864436495,0.2300920304204776,0.3108918032329613,-1.9763287655093127,-2.7172603434406697,0.49375245257546374,-0.29904843679404947,0.037310998044508166,0.8399062735487826,1.1692830451259553,0.2842201799764509,-0.5850754702007915],\"yaxis\":\"y10\",\"type\":\"scatter\"},{\"histfunc\":\"count\",\"histnorm\":\"\",\"marker\":{\"color\":\"rgba(50, 171, 96, 1.0)\",\"line\":{\"color\":\"#4D5663\",\"width\":1.3}},\"name\":\"C\",\"nbinsx\":10,\"opacity\":0.8,\"orientation\":\"v\",\"x\":[-0.21311246950304963,-1.529560530346163,-0.04382339405540149,1.7120032347526841,-0.5052871728050125,1.3481306829335056,-0.10229400738107963,-0.7909277687807327,-0.13573531994964114,-0.7722606859392372,-0.1207427189013049,0.8377161381427785,0.5452904579479728,-2.167400272482735,0.30042720370197507,-0.23527331426232284,-0.13253340097047567,0.42977275187718267,-1.0623325313950225,0.48921669855275135,-0.781679686062041,0.3749447719814966,0.38052933568895425,0.9301651941714983,-0.8289096572939771,-0.6871148266891447,-0.019644830569319885,0.282102101624757,0.013039083541873003,1.8177994255525676,1.7531283316553863,0.8749113202296902,0.2967474888602414,-0.9537224391394447,0.9856497274001167,1.1710435051912944,-0.4630654928584813,2.4194939093898657,0.9425119594143709,0.1649564183898731,1.8151450938840725,0.5904571955385716,0.24872657299419806,-1.5487329028028218,0.398555443258038,-0.34160478208023676,0.6977703426430761,0.972554661537134,-1.399207243781892,0.9612176236133417,0.08618194123064749,-1.9073851377811182,-1.4005215816957075,0.37902959543592274,-0.004721074693959253,-0.5031899230246994,-1.3718084041585845,-0.1909366029729316,0.3157921086958649,0.3556339465695189,-0.5470017149654753,-0.8533711658007316,-0.4320044471220337,0.3613069238282116,1.1802824843302182,0.5632028509598241,0.45115452963018016,-1.3536524054345758,0.9729641136947345,1.0274602826700567,-0.6833826563430853,0.7163163276488466,-0.818003102749678,0.347711004323119,-0.5389095631279465,-0.7685333033162957,1.0139021177845278,0.19701541086934685,1.658024335299792,0.2416289980993996,0.7300223266625182,-0.7754806070939958,0.14830514892469085,0.7703181348561166,-0.6097366402493314,0.4110699608590679,1.6954397429713661,-0.5097652036455229,-2.043725864436495,0.2300920304204776,0.3108918032329613,-1.9763287655093127,-2.7172603434406697,0.49375245257546374,-0.29904843679404947,0.037310998044508166,0.8399062735487826,1.1692830451259553,0.2842201799764509,-0.5850754702007915],\"xaxis\":\"x11\",\"yaxis\":\"y11\",\"type\":\"histogram\"},{\"line\":{\"color\":\"rgba(128, 128, 128, 1.0)\",\"dash\":\"solid\",\"shape\":\"linear\",\"width\":1.3},\"marker\":{\"size\":2,\"symbol\":\"circle\"},\"mode\":\"markers\",\"name\":\"C\",\"text\":\"\",\"x\":[-0.9263421858354252,1.0089605092736589,-1.4126288069950836,-0.3128180524264982,0.5759813388780815,0.5865047780916537,-0.18010073782437808,0.2902163636378381,-0.3341486581264862,0.15126807326324673,1.2407539381226094,0.2712024147330501,-1.5173914346086523,0.5428102661504568,2.50855518644812,-1.3741523190793863,-2.545099978976458,1.6854998436569686,0.34174704848438364,-1.6141508826698137,0.31236979166037354,2.769412610519902,0.5046646813328352,0.5053015674869329,0.9274909000401901,-0.5019083981889986,0.7087355516473482,0.11806280356943424,-0.8452471428033387,0.5769894059191689,-0.6813838390607431,-1.1583036579886195,-0.6505244116741078,2.023584343361356,-0.25235082101857387,1.395031132171996,0.07132390676869711,0.2275997019586433,-0.08808844458835065,0.8666395624624843,-0.005651046525600137,-0.8653021271277517,1.7431423471332843,0.5968060309100391,0.4391154161742208,0.7700360003189158,-0.4678612669403774,-2.5440479930785096,0.12364447176750859,-2.013235045544761,0.48826325036844737,-0.20241628194011885,1.4078212665030982,0.0022331587754811392,-0.4363694167240868,0.7293335211058297,-2.66390387356197,0.3138419244279987,0.1993735498987132,2.2997449025116055,-0.9473420202353887,0.6146860915137558,0.847097685466464,0.6937577786868215,-0.8772763160975026,-0.14820203955806494,-0.2542666176505652,1.163358145460446,0.3447303434241479,-0.3713394743415375,-0.4967739249970844,-1.5930817595972415,-0.7548379291418051,0.04233763630469865,0.9765980497675307,0.5139565100686533,0.5549093050500333,-0.10864092609421092,0.48411594860869195,1.064533904839239,0.787163681660531,1.416264320581946,-1.5467365370333777,-0.9382483777776369,0.9401444902950655,-1.2098782814514695,1.7131672315036837,-0.2704015746928047,0.7743242672167366,0.5855268469018194,-0.3693224781195801,0.7195773860987406,0.3818210369456319,-0.2397280528350369,0.13177623835449803,0.2584201082081484,0.7678786952185552,0.08363024535437466,-1.7418187305046389,1.2200571727812781],\"xaxis\":\"x12\",\"y\":[-0.21311246950304963,-1.529560530346163,-0.04382339405540149,1.7120032347526841,-0.5052871728050125,1.3481306829335056,-0.10229400738107963,-0.7909277687807327,-0.13573531994964114,-0.7722606859392372,-0.1207427189013049,0.8377161381427785,0.5452904579479728,-2.167400272482735,0.30042720370197507,-0.23527331426232284,-0.13253340097047567,0.42977275187718267,-1.0623325313950225,0.48921669855275135,-0.781679686062041,0.3749447719814966,0.38052933568895425,0.9301651941714983,-0.8289096572939771,-0.6871148266891447,-0.019644830569319885,0.282102101624757,0.013039083541873003,1.8177994255525676,1.7531283316553863,0.8749113202296902,0.2967474888602414,-0.9537224391394447,0.9856497274001167,1.1710435051912944,-0.4630654928584813,2.4194939093898657,0.9425119594143709,0.1649564183898731,1.8151450938840725,0.5904571955385716,0.24872657299419806,-1.5487329028028218,0.398555443258038,-0.34160478208023676,0.6977703426430761,0.972554661537134,-1.399207243781892,0.9612176236133417,0.08618194123064749,-1.9073851377811182,-1.4005215816957075,0.37902959543592274,-0.004721074693959253,-0.5031899230246994,-1.3718084041585845,-0.1909366029729316,0.3157921086958649,0.3556339465695189,-0.5470017149654753,-0.8533711658007316,-0.4320044471220337,0.3613069238282116,1.1802824843302182,0.5632028509598241,0.45115452963018016,-1.3536524054345758,0.9729641136947345,1.0274602826700567,-0.6833826563430853,0.7163163276488466,-0.818003102749678,0.347711004323119,-0.5389095631279465,-0.7685333033162957,1.0139021177845278,0.19701541086934685,1.658024335299792,0.2416289980993996,0.7300223266625182,-0.7754806070939958,0.14830514892469085,0.7703181348561166,-0.6097366402493314,0.4110699608590679,1.6954397429713661,-0.5097652036455229,-2.043725864436495,0.2300920304204776,0.3108918032329613,-1.9763287655093127,-2.7172603434406697,0.49375245257546374,-0.29904843679404947,0.037310998044508166,0.8399062735487826,1.1692830451259553,0.2842201799764509,-0.5850754702007915],\"yaxis\":\"y12\",\"type\":\"scatter\"},{\"line\":{\"color\":\"rgba(128, 128, 128, 1.0)\",\"dash\":\"solid\",\"shape\":\"linear\",\"width\":1.3},\"marker\":{\"size\":2,\"symbol\":\"circle\"},\"mode\":\"markers\",\"name\":\"D\",\"text\":\"\",\"x\":[1.130845712492262,0.29090858090579896,0.5443418728942426,1.7358613670957141,1.7858674247097013,2.239975091911653,-0.7258104422253708,-1.0083890734141534,1.5671072793927034,0.44368330163022857,1.4279437217482005,-0.19542847134855418,0.6495783250837226,-1.8525564479053875,-1.8317013210206905,0.2688055302097464,0.2241950646506555,-1.8512490625481963,-1.1789628154054355,-0.08447607823617174,1.8018710662549284,1.8638550192237273,-1.457619281449165,1.5023701046244833,0.15875083642391546,-1.2825745413625762,-0.36700370220642653,2.009438965755136,-0.35082956816632654,-2.5264442806015586,0.4520506026011699,1.053349796415361,-1.337921393086797,-1.703217926693494,-0.5638501489270755,-0.5954567092321331,-1.1099136610575517,-0.19191541317466335,0.7134426170015831,0.32410150358419915,-0.8094846242122693,-0.435180360760021,-1.114638346861693,0.44571517085451096,0.30105291567425035,1.126243453943223,-0.9854677281986305,-1.0740181122904842,0.8642449490267092,-0.6725524001753558,0.12937375046529564,-0.17861160381311486,0.6961674848289248,1.316540903055389,-1.642167714865581,0.021768851197594506,1.7564636931586772,-0.15510375128640047,0.37343207162224173,0.7067302336508653,-0.485082071234198,1.0057499990835328,-0.2815905462716364,-1.0211374845105965,1.4231487770717495,-0.418150530680779,-0.7941733598799346,0.6000971931560366,-1.486031394891415,0.6780356295432848,-0.850647084609868,-0.7909191763481986,-0.23213141692519007,0.30254579507114543,-0.25774803703821814,-0.864806103269127,0.9779307982259109,1.4997270271887482,0.38576071910364457,-0.15343101110894364,-0.17807514552491768,0.16753974472337407,2.7810643074164694,-0.2545877505673127,-2.06568839120565,0.0793872328286146,0.9840975443541982,0.010028484286677585,1.3588599556571423,0.9033906035503909,1.7397538308092018,-1.6505904365544575,-0.9104665692355621,-0.5842429898924218,-0.6052634377101391,-1.4601558788592213,0.4803915127520965,1.5593320695837987,-1.4698367553340614,1.4330013471054899],\"xaxis\":\"x13\",\"y\":[-0.9263421858354252,1.0089605092736589,-1.4126288069950836,-0.3128180524264982,0.5759813388780815,0.5865047780916537,-0.18010073782437808,0.2902163636378381,-0.3341486581264862,0.15126807326324673,1.2407539381226094,0.2712024147330501,-1.5173914346086523,0.5428102661504568,2.50855518644812,-1.3741523190793863,-2.545099978976458,1.6854998436569686,0.34174704848438364,-1.6141508826698137,0.31236979166037354,2.769412610519902,0.5046646813328352,0.5053015674869329,0.9274909000401901,-0.5019083981889986,0.7087355516473482,0.11806280356943424,-0.8452471428033387,0.5769894059191689,-0.6813838390607431,-1.1583036579886195,-0.6505244116741078,2.023584343361356,-0.25235082101857387,1.395031132171996,0.07132390676869711,0.2275997019586433,-0.08808844458835065,0.8666395624624843,-0.005651046525600137,-0.8653021271277517,1.7431423471332843,0.5968060309100391,0.4391154161742208,0.7700360003189158,-0.4678612669403774,-2.5440479930785096,0.12364447176750859,-2.013235045544761,0.48826325036844737,-0.20241628194011885,1.4078212665030982,0.0022331587754811392,-0.4363694167240868,0.7293335211058297,-2.66390387356197,0.3138419244279987,0.1993735498987132,2.2997449025116055,-0.9473420202353887,0.6146860915137558,0.847097685466464,0.6937577786868215,-0.8772763160975026,-0.14820203955806494,-0.2542666176505652,1.163358145460446,0.3447303434241479,-0.3713394743415375,-0.4967739249970844,-1.5930817595972415,-0.7548379291418051,0.04233763630469865,0.9765980497675307,0.5139565100686533,0.5549093050500333,-0.10864092609421092,0.48411594860869195,1.064533904839239,0.787163681660531,1.416264320581946,-1.5467365370333777,-0.9382483777776369,0.9401444902950655,-1.2098782814514695,1.7131672315036837,-0.2704015746928047,0.7743242672167366,0.5855268469018194,-0.3693224781195801,0.7195773860987406,0.3818210369456319,-0.2397280528350369,0.13177623835449803,0.2584201082081484,0.7678786952185552,0.08363024535437466,-1.7418187305046389,1.2200571727812781],\"yaxis\":\"y13\",\"type\":\"scatter\"},{\"line\":{\"color\":\"rgba(128, 128, 128, 1.0)\",\"dash\":\"solid\",\"shape\":\"linear\",\"width\":1.3},\"marker\":{\"size\":2,\"symbol\":\"circle\"},\"mode\":\"markers\",\"name\":\"D\",\"text\":\"\",\"x\":[0.23652795715850095,0.9786252446269585,-0.056640727346602984,-0.4349614120408051,-1.1743745916427208,-1.7620572065461984,0.7325959124175713,0.1436936439226743,-0.27555908546868524,-0.6004006655887814,2.2159144648890776,0.08608978276712356,0.787950574108897,1.8106167453268054,2.4071514142948183,2.33367917977407,-0.17043217921907472,-0.559544769568131,-0.3178320644256901,2.509342474661557,1.6186307486022546,0.8786467053313886,-2.4577734110446294,-1.723113261937718,1.0630824675324746,1.0158760542547436,1.0189349600993107,-0.3817479819618662,0.41427726947199267,0.8214587697950845,1.0961179004626964,-0.02395423145642322,2.453520862724082,-0.7487812489224189,0.3484817423218347,1.338685675875985,0.609700505772461,0.23042070231077016,0.16547523004146747,-0.007048318221612886,0.04377525645156575,-1.2254831762534104,-1.2716014700390135,1.1854902788751958,1.0204780867900345,-0.2797897504487051,0.5751999998812791,1.6316023675903262,0.241498202612012,-1.2747224650227431,1.2306792456818112,0.04918728639549364,-0.6267357295715503,-1.0328247251819862,-0.21390591230657377,-2.1024897464833634,0.7228779583486531,0.5302717891134512,-1.5775394290688414,-0.415429850639412,0.5300885926311383,2.3249698282209206,-0.5302853090578974,-0.1607185484274797,-1.8503104351340782,0.10131805939089251,-0.7016834707334093,-0.3825560695099959,0.7376388884807465,-2.0494397850365798,-0.19660738375712236,-0.8254237463636193,1.7437396924983983,-1.5808309939799807,-1.0801497191966087,-1.004795523337831,0.19520188171432185,-2.1505906126573042,-1.1388250512228844,0.30377275412624555,0.9654030967031015,-0.6904492808008851,-1.2394975127933738,1.688538507633855,-0.36937543766446557,0.10375780520719564,-1.3632005282097133,0.6048151613707982,1.4876719169952275,0.40539115031188144,0.44834205032416385,1.2619773103140894,0.04662622163307223,1.4178646602998692,-0.34837797827909456,-0.5825818391151043,-0.6417193383973584,0.5770926164852495,-0.2713554315778967,0.9846044901362248],\"xaxis\":\"x14\",\"y\":[-0.9263421858354252,1.0089605092736589,-1.4126288069950836,-0.3128180524264982,0.5759813388780815,0.5865047780916537,-0.18010073782437808,0.2902163636378381,-0.3341486581264862,0.15126807326324673,1.2407539381226094,0.2712024147330501,-1.5173914346086523,0.5428102661504568,2.50855518644812,-1.3741523190793863,-2.545099978976458,1.6854998436569686,0.34174704848438364,-1.6141508826698137,0.31236979166037354,2.769412610519902,0.5046646813328352,0.5053015674869329,0.9274909000401901,-0.5019083981889986,0.7087355516473482,0.11806280356943424,-0.8452471428033387,0.5769894059191689,-0.6813838390607431,-1.1583036579886195,-0.6505244116741078,2.023584343361356,-0.25235082101857387,1.395031132171996,0.07132390676869711,0.2275997019586433,-0.08808844458835065,0.8666395624624843,-0.005651046525600137,-0.8653021271277517,1.7431423471332843,0.5968060309100391,0.4391154161742208,0.7700360003189158,-0.4678612669403774,-2.5440479930785096,0.12364447176750859,-2.013235045544761,0.48826325036844737,-0.20241628194011885,1.4078212665030982,0.0022331587754811392,-0.4363694167240868,0.7293335211058297,-2.66390387356197,0.3138419244279987,0.1993735498987132,2.2997449025116055,-0.9473420202353887,0.6146860915137558,0.847097685466464,0.6937577786868215,-0.8772763160975026,-0.14820203955806494,-0.2542666176505652,1.163358145460446,0.3447303434241479,-0.3713394743415375,-0.4967739249970844,-1.5930817595972415,-0.7548379291418051,0.04233763630469865,0.9765980497675307,0.5139565100686533,0.5549093050500333,-0.10864092609421092,0.48411594860869195,1.064533904839239,0.787163681660531,1.416264320581946,-1.5467365370333777,-0.9382483777776369,0.9401444902950655,-1.2098782814514695,1.7131672315036837,-0.2704015746928047,0.7743242672167366,0.5855268469018194,-0.3693224781195801,0.7195773860987406,0.3818210369456319,-0.2397280528350369,0.13177623835449803,0.2584201082081484,0.7678786952185552,0.08363024535437466,-1.7418187305046389,1.2200571727812781],\"yaxis\":\"y14\",\"type\":\"scatter\"},{\"line\":{\"color\":\"rgba(128, 128, 128, 1.0)\",\"dash\":\"solid\",\"shape\":\"linear\",\"width\":1.3},\"marker\":{\"size\":2,\"symbol\":\"circle\"},\"mode\":\"markers\",\"name\":\"D\",\"text\":\"\",\"x\":[-0.21311246950304963,-1.529560530346163,-0.04382339405540149,1.7120032347526841,-0.5052871728050125,1.3481306829335056,-0.10229400738107963,-0.7909277687807327,-0.13573531994964114,-0.7722606859392372,-0.1207427189013049,0.8377161381427785,0.5452904579479728,-2.167400272482735,0.30042720370197507,-0.23527331426232284,-0.13253340097047567,0.42977275187718267,-1.0623325313950225,0.48921669855275135,-0.781679686062041,0.3749447719814966,0.38052933568895425,0.9301651941714983,-0.8289096572939771,-0.6871148266891447,-0.019644830569319885,0.282102101624757,0.013039083541873003,1.8177994255525676,1.7531283316553863,0.8749113202296902,0.2967474888602414,-0.9537224391394447,0.9856497274001167,1.1710435051912944,-0.4630654928584813,2.4194939093898657,0.9425119594143709,0.1649564183898731,1.8151450938840725,0.5904571955385716,0.24872657299419806,-1.5487329028028218,0.398555443258038,-0.34160478208023676,0.6977703426430761,0.972554661537134,-1.399207243781892,0.9612176236133417,0.08618194123064749,-1.9073851377811182,-1.4005215816957075,0.37902959543592274,-0.004721074693959253,-0.5031899230246994,-1.3718084041585845,-0.1909366029729316,0.3157921086958649,0.3556339465695189,-0.5470017149654753,-0.8533711658007316,-0.4320044471220337,0.3613069238282116,1.1802824843302182,0.5632028509598241,0.45115452963018016,-1.3536524054345758,0.9729641136947345,1.0274602826700567,-0.6833826563430853,0.7163163276488466,-0.818003102749678,0.347711004323119,-0.5389095631279465,-0.7685333033162957,1.0139021177845278,0.19701541086934685,1.658024335299792,0.2416289980993996,0.7300223266625182,-0.7754806070939958,0.14830514892469085,0.7703181348561166,-0.6097366402493314,0.4110699608590679,1.6954397429713661,-0.5097652036455229,-2.043725864436495,0.2300920304204776,0.3108918032329613,-1.9763287655093127,-2.7172603434406697,0.49375245257546374,-0.29904843679404947,0.037310998044508166,0.8399062735487826,1.1692830451259553,0.2842201799764509,-0.5850754702007915],\"xaxis\":\"x15\",\"y\":[-0.9263421858354252,1.0089605092736589,-1.4126288069950836,-0.3128180524264982,0.5759813388780815,0.5865047780916537,-0.18010073782437808,0.2902163636378381,-0.3341486581264862,0.15126807326324673,1.2407539381226094,0.2712024147330501,-1.5173914346086523,0.5428102661504568,2.50855518644812,-1.3741523190793863,-2.545099978976458,1.6854998436569686,0.34174704848438364,-1.6141508826698137,0.31236979166037354,2.769412610519902,0.5046646813328352,0.5053015674869329,0.9274909000401901,-0.5019083981889986,0.7087355516473482,0.11806280356943424,-0.8452471428033387,0.5769894059191689,-0.6813838390607431,-1.1583036579886195,-0.6505244116741078,2.023584343361356,-0.25235082101857387,1.395031132171996,0.07132390676869711,0.2275997019586433,-0.08808844458835065,0.8666395624624843,-0.005651046525600137,-0.8653021271277517,1.7431423471332843,0.5968060309100391,0.4391154161742208,0.7700360003189158,-0.4678612669403774,-2.5440479930785096,0.12364447176750859,-2.013235045544761,0.48826325036844737,-0.20241628194011885,1.4078212665030982,0.0022331587754811392,-0.4363694167240868,0.7293335211058297,-2.66390387356197,0.3138419244279987,0.1993735498987132,2.2997449025116055,-0.9473420202353887,0.6146860915137558,0.847097685466464,0.6937577786868215,-0.8772763160975026,-0.14820203955806494,-0.2542666176505652,1.163358145460446,0.3447303434241479,-0.3713394743415375,-0.4967739249970844,-1.5930817595972415,-0.7548379291418051,0.04233763630469865,0.9765980497675307,0.5139565100686533,0.5549093050500333,-0.10864092609421092,0.48411594860869195,1.064533904839239,0.787163681660531,1.416264320581946,-1.5467365370333777,-0.9382483777776369,0.9401444902950655,-1.2098782814514695,1.7131672315036837,-0.2704015746928047,0.7743242672167366,0.5855268469018194,-0.3693224781195801,0.7195773860987406,0.3818210369456319,-0.2397280528350369,0.13177623835449803,0.2584201082081484,0.7678786952185552,0.08363024535437466,-1.7418187305046389,1.2200571727812781],\"yaxis\":\"y15\",\"type\":\"scatter\"},{\"histfunc\":\"count\",\"histnorm\":\"\",\"marker\":{\"color\":\"rgba(128, 0, 128, 1.0)\",\"line\":{\"color\":\"#4D5663\",\"width\":1.3}},\"name\":\"D\",\"nbinsx\":10,\"opacity\":0.8,\"orientation\":\"v\",\"x\":[-0.9263421858354252,1.0089605092736589,-1.4126288069950836,-0.3128180524264982,0.5759813388780815,0.5865047780916537,-0.18010073782437808,0.2902163636378381,-0.3341486581264862,0.15126807326324673,1.2407539381226094,0.2712024147330501,-1.5173914346086523,0.5428102661504568,2.50855518644812,-1.3741523190793863,-2.545099978976458,1.6854998436569686,0.34174704848438364,-1.6141508826698137,0.31236979166037354,2.769412610519902,0.5046646813328352,0.5053015674869329,0.9274909000401901,-0.5019083981889986,0.7087355516473482,0.11806280356943424,-0.8452471428033387,0.5769894059191689,-0.6813838390607431,-1.1583036579886195,-0.6505244116741078,2.023584343361356,-0.25235082101857387,1.395031132171996,0.07132390676869711,0.2275997019586433,-0.08808844458835065,0.8666395624624843,-0.005651046525600137,-0.8653021271277517,1.7431423471332843,0.5968060309100391,0.4391154161742208,0.7700360003189158,-0.4678612669403774,-2.5440479930785096,0.12364447176750859,-2.013235045544761,0.48826325036844737,-0.20241628194011885,1.4078212665030982,0.0022331587754811392,-0.4363694167240868,0.7293335211058297,-2.66390387356197,0.3138419244279987,0.1993735498987132,2.2997449025116055,-0.9473420202353887,0.6146860915137558,0.847097685466464,0.6937577786868215,-0.8772763160975026,-0.14820203955806494,-0.2542666176505652,1.163358145460446,0.3447303434241479,-0.3713394743415375,-0.4967739249970844,-1.5930817595972415,-0.7548379291418051,0.04233763630469865,0.9765980497675307,0.5139565100686533,0.5549093050500333,-0.10864092609421092,0.48411594860869195,1.064533904839239,0.787163681660531,1.416264320581946,-1.5467365370333777,-0.9382483777776369,0.9401444902950655,-1.2098782814514695,1.7131672315036837,-0.2704015746928047,0.7743242672167366,0.5855268469018194,-0.3693224781195801,0.7195773860987406,0.3818210369456319,-0.2397280528350369,0.13177623835449803,0.2584201082081484,0.7678786952185552,0.08363024535437466,-1.7418187305046389,1.2200571727812781],\"xaxis\":\"x16\",\"yaxis\":\"y16\",\"type\":\"histogram\"}],                        {\"bargap\":0.02,\"legend\":{\"bgcolor\":\"#F5F6F9\",\"font\":{\"color\":\"#4D5663\"}},\"paper_bgcolor\":\"#F5F6F9\",\"plot_bgcolor\":\"#F5F6F9\",\"showlegend\":false,\"template\":{\"data\":{\"barpolar\":[{\"marker\":{\"line\":{\"color\":\"#E5ECF6\",\"width\":0.5},\"pattern\":{\"fillmode\":\"overlay\",\"size\":10,\"solidity\":0.2}},\"type\":\"barpolar\"}],\"bar\":[{\"error_x\":{\"color\":\"#2a3f5f\"},\"error_y\":{\"color\":\"#2a3f5f\"},\"marker\":{\"line\":{\"color\":\"#E5ECF6\",\"width\":0.5},\"pattern\":{\"fillmode\":\"overlay\",\"size\":10,\"solidity\":0.2}},\"type\":\"bar\"}],\"carpet\":[{\"aaxis\":{\"endlinecolor\":\"#2a3f5f\",\"gridcolor\":\"white\",\"linecolor\":\"white\",\"minorgridcolor\":\"white\",\"startlinecolor\":\"#2a3f5f\"},\"baxis\":{\"endlinecolor\":\"#2a3f5f\",\"gridcolor\":\"white\",\"linecolor\":\"white\",\"minorgridcolor\":\"white\",\"startlinecolor\":\"#2a3f5f\"},\"type\":\"carpet\"}],\"choropleth\":[{\"colorbar\":{\"outlinewidth\":0,\"ticks\":\"\"},\"type\":\"choropleth\"}],\"contourcarpet\":[{\"colorbar\":{\"outlinewidth\":0,\"ticks\":\"\"},\"type\":\"contourcarpet\"}],\"contour\":[{\"colorbar\":{\"outlinewidth\":0,\"ticks\":\"\"},\"colorscale\":[[0.0,\"#0d0887\"],[0.1111111111111111,\"#46039f\"],[0.2222222222222222,\"#7201a8\"],[0.3333333333333333,\"#9c179e\"],[0.4444444444444444,\"#bd3786\"],[0.5555555555555556,\"#d8576b\"],[0.6666666666666666,\"#ed7953\"],[0.7777777777777778,\"#fb9f3a\"],[0.8888888888888888,\"#fdca26\"],[1.0,\"#f0f921\"]],\"type\":\"contour\"}],\"heatmapgl\":[{\"colorbar\":{\"outlinewidth\":0,\"ticks\":\"\"},\"colorscale\":[[0.0,\"#0d0887\"],[0.1111111111111111,\"#46039f\"],[0.2222222222222222,\"#7201a8\"],[0.3333333333333333,\"#9c179e\"],[0.4444444444444444,\"#bd3786\"],[0.5555555555555556,\"#d8576b\"],[0.6666666666666666,\"#ed7953\"],[0.7777777777777778,\"#fb9f3a\"],[0.8888888888888888,\"#fdca26\"],[1.0,\"#f0f921\"]],\"type\":\"heatmapgl\"}],\"heatmap\":[{\"colorbar\":{\"outlinewidth\":0,\"ticks\":\"\"},\"colorscale\":[[0.0,\"#0d0887\"],[0.1111111111111111,\"#46039f\"],[0.2222222222222222,\"#7201a8\"],[0.3333333333333333,\"#9c179e\"],[0.4444444444444444,\"#bd3786\"],[0.5555555555555556,\"#d8576b\"],[0.6666666666666666,\"#ed7953\"],[0.7777777777777778,\"#fb9f3a\"],[0.8888888888888888,\"#fdca26\"],[1.0,\"#f0f921\"]],\"type\":\"heatmap\"}],\"histogram2dcontour\":[{\"colorbar\":{\"outlinewidth\":0,\"ticks\":\"\"},\"colorscale\":[[0.0,\"#0d0887\"],[0.1111111111111111,\"#46039f\"],[0.2222222222222222,\"#7201a8\"],[0.3333333333333333,\"#9c179e\"],[0.4444444444444444,\"#bd3786\"],[0.5555555555555556,\"#d8576b\"],[0.6666666666666666,\"#ed7953\"],[0.7777777777777778,\"#fb9f3a\"],[0.8888888888888888,\"#fdca26\"],[1.0,\"#f0f921\"]],\"type\":\"histogram2dcontour\"}],\"histogram2d\":[{\"colorbar\":{\"outlinewidth\":0,\"ticks\":\"\"},\"colorscale\":[[0.0,\"#0d0887\"],[0.1111111111111111,\"#46039f\"],[0.2222222222222222,\"#7201a8\"],[0.3333333333333333,\"#9c179e\"],[0.4444444444444444,\"#bd3786\"],[0.5555555555555556,\"#d8576b\"],[0.6666666666666666,\"#ed7953\"],[0.7777777777777778,\"#fb9f3a\"],[0.8888888888888888,\"#fdca26\"],[1.0,\"#f0f921\"]],\"type\":\"histogram2d\"}],\"histogram\":[{\"marker\":{\"pattern\":{\"fillmode\":\"overlay\",\"size\":10,\"solidity\":0.2}},\"type\":\"histogram\"}],\"mesh3d\":[{\"colorbar\":{\"outlinewidth\":0,\"ticks\":\"\"},\"type\":\"mesh3d\"}],\"parcoords\":[{\"line\":{\"colorbar\":{\"outlinewidth\":0,\"ticks\":\"\"}},\"type\":\"parcoords\"}],\"pie\":[{\"automargin\":true,\"type\":\"pie\"}],\"scatter3d\":[{\"line\":{\"colorbar\":{\"outlinewidth\":0,\"ticks\":\"\"}},\"marker\":{\"colorbar\":{\"outlinewidth\":0,\"ticks\":\"\"}},\"type\":\"scatter3d\"}],\"scattercarpet\":[{\"marker\":{\"colorbar\":{\"outlinewidth\":0,\"ticks\":\"\"}},\"type\":\"scattercarpet\"}],\"scattergeo\":[{\"marker\":{\"colorbar\":{\"outlinewidth\":0,\"ticks\":\"\"}},\"type\":\"scattergeo\"}],\"scattergl\":[{\"marker\":{\"colorbar\":{\"outlinewidth\":0,\"ticks\":\"\"}},\"type\":\"scattergl\"}],\"scattermapbox\":[{\"marker\":{\"colorbar\":{\"outlinewidth\":0,\"ticks\":\"\"}},\"type\":\"scattermapbox\"}],\"scatterpolargl\":[{\"marker\":{\"colorbar\":{\"outlinewidth\":0,\"ticks\":\"\"}},\"type\":\"scatterpolargl\"}],\"scatterpolar\":[{\"marker\":{\"colorbar\":{\"outlinewidth\":0,\"ticks\":\"\"}},\"type\":\"scatterpolar\"}],\"scatter\":[{\"fillpattern\":{\"fillmode\":\"overlay\",\"size\":10,\"solidity\":0.2},\"type\":\"scatter\"}],\"scatterternary\":[{\"marker\":{\"colorbar\":{\"outlinewidth\":0,\"ticks\":\"\"}},\"type\":\"scatterternary\"}],\"surface\":[{\"colorbar\":{\"outlinewidth\":0,\"ticks\":\"\"},\"colorscale\":[[0.0,\"#0d0887\"],[0.1111111111111111,\"#46039f\"],[0.2222222222222222,\"#7201a8\"],[0.3333333333333333,\"#9c179e\"],[0.4444444444444444,\"#bd3786\"],[0.5555555555555556,\"#d8576b\"],[0.6666666666666666,\"#ed7953\"],[0.7777777777777778,\"#fb9f3a\"],[0.8888888888888888,\"#fdca26\"],[1.0,\"#f0f921\"]],\"type\":\"surface\"}],\"table\":[{\"cells\":{\"fill\":{\"color\":\"#EBF0F8\"},\"line\":{\"color\":\"white\"}},\"header\":{\"fill\":{\"color\":\"#C8D4E3\"},\"line\":{\"color\":\"white\"}},\"type\":\"table\"}]},\"layout\":{\"annotationdefaults\":{\"arrowcolor\":\"#2a3f5f\",\"arrowhead\":0,\"arrowwidth\":1},\"autotypenumbers\":\"strict\",\"coloraxis\":{\"colorbar\":{\"outlinewidth\":0,\"ticks\":\"\"}},\"colorscale\":{\"diverging\":[[0,\"#8e0152\"],[0.1,\"#c51b7d\"],[0.2,\"#de77ae\"],[0.3,\"#f1b6da\"],[0.4,\"#fde0ef\"],[0.5,\"#f7f7f7\"],[0.6,\"#e6f5d0\"],[0.7,\"#b8e186\"],[0.8,\"#7fbc41\"],[0.9,\"#4d9221\"],[1,\"#276419\"]],\"sequential\":[[0.0,\"#0d0887\"],[0.1111111111111111,\"#46039f\"],[0.2222222222222222,\"#7201a8\"],[0.3333333333333333,\"#9c179e\"],[0.4444444444444444,\"#bd3786\"],[0.5555555555555556,\"#d8576b\"],[0.6666666666666666,\"#ed7953\"],[0.7777777777777778,\"#fb9f3a\"],[0.8888888888888888,\"#fdca26\"],[1.0,\"#f0f921\"]],\"sequentialminus\":[[0.0,\"#0d0887\"],[0.1111111111111111,\"#46039f\"],[0.2222222222222222,\"#7201a8\"],[0.3333333333333333,\"#9c179e\"],[0.4444444444444444,\"#bd3786\"],[0.5555555555555556,\"#d8576b\"],[0.6666666666666666,\"#ed7953\"],[0.7777777777777778,\"#fb9f3a\"],[0.8888888888888888,\"#fdca26\"],[1.0,\"#f0f921\"]]},\"colorway\":[\"#636efa\",\"#EF553B\",\"#00cc96\",\"#ab63fa\",\"#FFA15A\",\"#19d3f3\",\"#FF6692\",\"#B6E880\",\"#FF97FF\",\"#FECB52\"],\"font\":{\"color\":\"#2a3f5f\"},\"geo\":{\"bgcolor\":\"white\",\"lakecolor\":\"white\",\"landcolor\":\"#E5ECF6\",\"showlakes\":true,\"showland\":true,\"subunitcolor\":\"white\"},\"hoverlabel\":{\"align\":\"left\"},\"hovermode\":\"closest\",\"mapbox\":{\"style\":\"light\"},\"paper_bgcolor\":\"white\",\"plot_bgcolor\":\"#E5ECF6\",\"polar\":{\"angularaxis\":{\"gridcolor\":\"white\",\"linecolor\":\"white\",\"ticks\":\"\"},\"bgcolor\":\"#E5ECF6\",\"radialaxis\":{\"gridcolor\":\"white\",\"linecolor\":\"white\",\"ticks\":\"\"}},\"scene\":{\"xaxis\":{\"backgroundcolor\":\"#E5ECF6\",\"gridcolor\":\"white\",\"gridwidth\":2,\"linecolor\":\"white\",\"showbackground\":true,\"ticks\":\"\",\"zerolinecolor\":\"white\"},\"yaxis\":{\"backgroundcolor\":\"#E5ECF6\",\"gridcolor\":\"white\",\"gridwidth\":2,\"linecolor\":\"white\",\"showbackground\":true,\"ticks\":\"\",\"zerolinecolor\":\"white\"},\"zaxis\":{\"backgroundcolor\":\"#E5ECF6\",\"gridcolor\":\"white\",\"gridwidth\":2,\"linecolor\":\"white\",\"showbackground\":true,\"ticks\":\"\",\"zerolinecolor\":\"white\"}},\"shapedefaults\":{\"line\":{\"color\":\"#2a3f5f\"}},\"ternary\":{\"aaxis\":{\"gridcolor\":\"white\",\"linecolor\":\"white\",\"ticks\":\"\"},\"baxis\":{\"gridcolor\":\"white\",\"linecolor\":\"white\",\"ticks\":\"\"},\"bgcolor\":\"#E5ECF6\",\"caxis\":{\"gridcolor\":\"white\",\"linecolor\":\"white\",\"ticks\":\"\"}},\"title\":{\"x\":0.05},\"xaxis\":{\"automargin\":true,\"gridcolor\":\"white\",\"linecolor\":\"white\",\"ticks\":\"\",\"title\":{\"standoff\":15},\"zerolinecolor\":\"white\",\"zerolinewidth\":2},\"yaxis\":{\"automargin\":true,\"gridcolor\":\"white\",\"linecolor\":\"white\",\"ticks\":\"\",\"title\":{\"standoff\":15},\"zerolinecolor\":\"white\",\"zerolinewidth\":2}}},\"title\":{\"font\":{\"color\":\"#4D5663\"}},\"xaxis\":{\"anchor\":\"y\",\"domain\":[0.0,0.2125],\"gridcolor\":\"#E1E5ED\",\"showgrid\":false,\"tickfont\":{\"color\":\"#4D5663\"},\"title\":{\"font\":{\"color\":\"#4D5663\"},\"text\":\"\"},\"zerolinecolor\":\"#E1E5ED\"},\"yaxis\":{\"anchor\":\"x\",\"domain\":[0.8025,1.0],\"gridcolor\":\"#E1E5ED\",\"showgrid\":false,\"tickfont\":{\"color\":\"#4D5663\"},\"title\":{\"font\":{\"color\":\"#4D5663\"},\"text\":\"\"},\"zerolinecolor\":\"#E1E5ED\"},\"xaxis2\":{\"anchor\":\"y2\",\"domain\":[0.2625,0.475],\"gridcolor\":\"#E1E5ED\",\"showgrid\":false,\"tickfont\":{\"color\":\"#4D5663\"},\"title\":{\"font\":{\"color\":\"#4D5663\"},\"text\":\"\"},\"zerolinecolor\":\"#E1E5ED\"},\"yaxis2\":{\"anchor\":\"x2\",\"domain\":[0.8025,1.0],\"gridcolor\":\"#E1E5ED\",\"showgrid\":false,\"tickfont\":{\"color\":\"#4D5663\"},\"title\":{\"font\":{\"color\":\"#4D5663\"},\"text\":\"\"},\"zerolinecolor\":\"#E1E5ED\"},\"xaxis3\":{\"anchor\":\"y3\",\"domain\":[0.525,0.7375],\"gridcolor\":\"#E1E5ED\",\"showgrid\":false,\"tickfont\":{\"color\":\"#4D5663\"},\"title\":{\"font\":{\"color\":\"#4D5663\"},\"text\":\"\"},\"zerolinecolor\":\"#E1E5ED\"},\"yaxis3\":{\"anchor\":\"x3\",\"domain\":[0.8025,1.0],\"gridcolor\":\"#E1E5ED\",\"showgrid\":false,\"tickfont\":{\"color\":\"#4D5663\"},\"title\":{\"font\":{\"color\":\"#4D5663\"},\"text\":\"\"},\"zerolinecolor\":\"#E1E5ED\"},\"xaxis4\":{\"anchor\":\"y4\",\"domain\":[0.7875,1.0],\"gridcolor\":\"#E1E5ED\",\"showgrid\":false,\"tickfont\":{\"color\":\"#4D5663\"},\"title\":{\"font\":{\"color\":\"#4D5663\"},\"text\":\"\"},\"zerolinecolor\":\"#E1E5ED\"},\"yaxis4\":{\"anchor\":\"x4\",\"domain\":[0.8025,1.0],\"gridcolor\":\"#E1E5ED\",\"showgrid\":false,\"tickfont\":{\"color\":\"#4D5663\"},\"title\":{\"font\":{\"color\":\"#4D5663\"},\"text\":\"\"},\"zerolinecolor\":\"#E1E5ED\"},\"xaxis5\":{\"anchor\":\"y5\",\"domain\":[0.0,0.2125],\"gridcolor\":\"#E1E5ED\",\"showgrid\":false,\"tickfont\":{\"color\":\"#4D5663\"},\"title\":{\"font\":{\"color\":\"#4D5663\"},\"text\":\"\"},\"zerolinecolor\":\"#E1E5ED\"},\"yaxis5\":{\"anchor\":\"x5\",\"domain\":[0.535,0.7325],\"gridcolor\":\"#E1E5ED\",\"showgrid\":false,\"tickfont\":{\"color\":\"#4D5663\"},\"title\":{\"font\":{\"color\":\"#4D5663\"},\"text\":\"\"},\"zerolinecolor\":\"#E1E5ED\"},\"xaxis6\":{\"anchor\":\"y6\",\"domain\":[0.2625,0.475],\"gridcolor\":\"#E1E5ED\",\"showgrid\":false,\"tickfont\":{\"color\":\"#4D5663\"},\"title\":{\"font\":{\"color\":\"#4D5663\"},\"text\":\"\"},\"zerolinecolor\":\"#E1E5ED\"},\"yaxis6\":{\"anchor\":\"x6\",\"domain\":[0.535,0.7325],\"gridcolor\":\"#E1E5ED\",\"showgrid\":false,\"tickfont\":{\"color\":\"#4D5663\"},\"title\":{\"font\":{\"color\":\"#4D5663\"},\"text\":\"\"},\"zerolinecolor\":\"#E1E5ED\"},\"xaxis7\":{\"anchor\":\"y7\",\"domain\":[0.525,0.7375],\"gridcolor\":\"#E1E5ED\",\"showgrid\":false,\"tickfont\":{\"color\":\"#4D5663\"},\"title\":{\"font\":{\"color\":\"#4D5663\"},\"text\":\"\"},\"zerolinecolor\":\"#E1E5ED\"},\"yaxis7\":{\"anchor\":\"x7\",\"domain\":[0.535,0.7325],\"gridcolor\":\"#E1E5ED\",\"showgrid\":false,\"tickfont\":{\"color\":\"#4D5663\"},\"title\":{\"font\":{\"color\":\"#4D5663\"},\"text\":\"\"},\"zerolinecolor\":\"#E1E5ED\"},\"xaxis8\":{\"anchor\":\"y8\",\"domain\":[0.7875,1.0],\"gridcolor\":\"#E1E5ED\",\"showgrid\":false,\"tickfont\":{\"color\":\"#4D5663\"},\"title\":{\"font\":{\"color\":\"#4D5663\"},\"text\":\"\"},\"zerolinecolor\":\"#E1E5ED\"},\"yaxis8\":{\"anchor\":\"x8\",\"domain\":[0.535,0.7325],\"gridcolor\":\"#E1E5ED\",\"showgrid\":false,\"tickfont\":{\"color\":\"#4D5663\"},\"title\":{\"font\":{\"color\":\"#4D5663\"},\"text\":\"\"},\"zerolinecolor\":\"#E1E5ED\"},\"xaxis9\":{\"anchor\":\"y9\",\"domain\":[0.0,0.2125],\"gridcolor\":\"#E1E5ED\",\"showgrid\":false,\"tickfont\":{\"color\":\"#4D5663\"},\"title\":{\"font\":{\"color\":\"#4D5663\"},\"text\":\"\"},\"zerolinecolor\":\"#E1E5ED\"},\"yaxis9\":{\"anchor\":\"x9\",\"domain\":[0.2675,0.465],\"gridcolor\":\"#E1E5ED\",\"showgrid\":false,\"tickfont\":{\"color\":\"#4D5663\"},\"title\":{\"font\":{\"color\":\"#4D5663\"},\"text\":\"\"},\"zerolinecolor\":\"#E1E5ED\"},\"xaxis10\":{\"anchor\":\"y10\",\"domain\":[0.2625,0.475],\"gridcolor\":\"#E1E5ED\",\"showgrid\":false,\"tickfont\":{\"color\":\"#4D5663\"},\"title\":{\"font\":{\"color\":\"#4D5663\"},\"text\":\"\"},\"zerolinecolor\":\"#E1E5ED\"},\"yaxis10\":{\"anchor\":\"x10\",\"domain\":[0.2675,0.465],\"gridcolor\":\"#E1E5ED\",\"showgrid\":false,\"tickfont\":{\"color\":\"#4D5663\"},\"title\":{\"font\":{\"color\":\"#4D5663\"},\"text\":\"\"},\"zerolinecolor\":\"#E1E5ED\"},\"xaxis11\":{\"anchor\":\"y11\",\"domain\":[0.525,0.7375],\"gridcolor\":\"#E1E5ED\",\"showgrid\":false,\"tickfont\":{\"color\":\"#4D5663\"},\"title\":{\"font\":{\"color\":\"#4D5663\"},\"text\":\"\"},\"zerolinecolor\":\"#E1E5ED\"},\"yaxis11\":{\"anchor\":\"x11\",\"domain\":[0.2675,0.465],\"gridcolor\":\"#E1E5ED\",\"showgrid\":false,\"tickfont\":{\"color\":\"#4D5663\"},\"title\":{\"font\":{\"color\":\"#4D5663\"},\"text\":\"\"},\"zerolinecolor\":\"#E1E5ED\"},\"xaxis12\":{\"anchor\":\"y12\",\"domain\":[0.7875,1.0],\"gridcolor\":\"#E1E5ED\",\"showgrid\":false,\"tickfont\":{\"color\":\"#4D5663\"},\"title\":{\"font\":{\"color\":\"#4D5663\"},\"text\":\"\"},\"zerolinecolor\":\"#E1E5ED\"},\"yaxis12\":{\"anchor\":\"x12\",\"domain\":[0.2675,0.465],\"gridcolor\":\"#E1E5ED\",\"showgrid\":false,\"tickfont\":{\"color\":\"#4D5663\"},\"title\":{\"font\":{\"color\":\"#4D5663\"},\"text\":\"\"},\"zerolinecolor\":\"#E1E5ED\"},\"xaxis13\":{\"anchor\":\"y13\",\"domain\":[0.0,0.2125],\"gridcolor\":\"#E1E5ED\",\"showgrid\":false,\"tickfont\":{\"color\":\"#4D5663\"},\"title\":{\"font\":{\"color\":\"#4D5663\"},\"text\":\"\"},\"zerolinecolor\":\"#E1E5ED\"},\"yaxis13\":{\"anchor\":\"x13\",\"domain\":[0.0,0.1975],\"gridcolor\":\"#E1E5ED\",\"showgrid\":false,\"tickfont\":{\"color\":\"#4D5663\"},\"title\":{\"font\":{\"color\":\"#4D5663\"},\"text\":\"\"},\"zerolinecolor\":\"#E1E5ED\"},\"xaxis14\":{\"anchor\":\"y14\",\"domain\":[0.2625,0.475],\"gridcolor\":\"#E1E5ED\",\"showgrid\":false,\"tickfont\":{\"color\":\"#4D5663\"},\"title\":{\"font\":{\"color\":\"#4D5663\"},\"text\":\"\"},\"zerolinecolor\":\"#E1E5ED\"},\"yaxis14\":{\"anchor\":\"x14\",\"domain\":[0.0,0.1975],\"gridcolor\":\"#E1E5ED\",\"showgrid\":false,\"tickfont\":{\"color\":\"#4D5663\"},\"title\":{\"font\":{\"color\":\"#4D5663\"},\"text\":\"\"},\"zerolinecolor\":\"#E1E5ED\"},\"xaxis15\":{\"anchor\":\"y15\",\"domain\":[0.525,0.7375],\"gridcolor\":\"#E1E5ED\",\"showgrid\":false,\"tickfont\":{\"color\":\"#4D5663\"},\"title\":{\"font\":{\"color\":\"#4D5663\"},\"text\":\"\"},\"zerolinecolor\":\"#E1E5ED\"},\"yaxis15\":{\"anchor\":\"x15\",\"domain\":[0.0,0.1975],\"gridcolor\":\"#E1E5ED\",\"showgrid\":false,\"tickfont\":{\"color\":\"#4D5663\"},\"title\":{\"font\":{\"color\":\"#4D5663\"},\"text\":\"\"},\"zerolinecolor\":\"#E1E5ED\"},\"xaxis16\":{\"anchor\":\"y16\",\"domain\":[0.7875,1.0],\"gridcolor\":\"#E1E5ED\",\"showgrid\":false,\"tickfont\":{\"color\":\"#4D5663\"},\"title\":{\"font\":{\"color\":\"#4D5663\"},\"text\":\"\"},\"zerolinecolor\":\"#E1E5ED\"},\"yaxis16\":{\"anchor\":\"x16\",\"domain\":[0.0,0.1975],\"gridcolor\":\"#E1E5ED\",\"showgrid\":false,\"tickfont\":{\"color\":\"#4D5663\"},\"title\":{\"font\":{\"color\":\"#4D5663\"},\"text\":\"\"},\"zerolinecolor\":\"#E1E5ED\"}},                        {\"showLink\": true, \"linkText\": \"Export to plot.ly\", \"plotlyServerURL\": \"https://plot.ly\", \"responsive\": true}                    ).then(function(){\n",
       "                            \n",
       "var gd = document.getElementById('0f351d37-aa0c-4f6b-96bf-96d2f422fcd8');\n",
       "var x = new MutationObserver(function (mutations, observer) {{\n",
       "        var display = window.getComputedStyle(gd).display;\n",
       "        if (!display || display === 'none') {{\n",
       "            console.log([gd, 'removed!']);\n",
       "            Plotly.purge(gd);\n",
       "            observer.disconnect();\n",
       "        }}\n",
       "}});\n",
       "\n",
       "// Listen for the removal of the full notebook cells\n",
       "var notebookContainer = gd.closest('#notebook-container');\n",
       "if (notebookContainer) {{\n",
       "    x.observe(notebookContainer, {childList: true});\n",
       "}}\n",
       "\n",
       "// Listen for the clearing of the current output cell\n",
       "var outputEl = gd.closest('.output');\n",
       "if (outputEl) {{\n",
       "    x.observe(outputEl, {childList: true});\n",
       "}}\n",
       "\n",
       "                        })                };                });            </script>        </div>"
      ]
     },
     "metadata": {},
     "output_type": "display_data"
    }
   ],
   "source": [
    "df.scatter_matrix()"
   ]
  },
  {
   "cell_type": "markdown",
   "metadata": {
    "collapsed": true
   },
   "source": [
    "# Great Job!"
   ]
  }
 ],
 "metadata": {
  "kernelspec": {
   "display_name": "Python 3",
   "language": "python",
   "name": "python3"
  },
  "language_info": {
   "codemirror_mode": {
    "name": "ipython",
    "version": 3
   },
   "file_extension": ".py",
   "mimetype": "text/x-python",
   "name": "python",
   "nbconvert_exporter": "python",
   "pygments_lexer": "ipython3",
   "version": "3.9.5"
  }
 },
 "nbformat": 4,
 "nbformat_minor": 0
}
